{
  "nbformat": 4,
  "nbformat_minor": 0,
  "metadata": {
    "colab": {
      "name": "Cifar_Dataset_Model.ipynb",
      "provenance": [],
      "collapsed_sections": [],
      "toc_visible": true,
      "authorship_tag": "ABX9TyONoFL6h5F5zmSGcbNae856",
      "include_colab_link": true
    },
    "kernelspec": {
      "name": "python3",
      "display_name": "Python 3"
    }
  },
  "cells": [
    {
      "cell_type": "markdown",
      "metadata": {
        "id": "view-in-github",
        "colab_type": "text"
      },
      "source": [
        "<a href=\"https://colab.research.google.com/github/Sunilkumar37/Cifar-10_Dataset/blob/main/Cifar_Dataset_Model.ipynb\" target=\"_parent\"><img src=\"https://colab.research.google.com/assets/colab-badge.svg\" alt=\"Open In Colab\"/></a>"
      ]
    },
    {
      "cell_type": "code",
      "metadata": {
        "id": "MgOQrXAO6oN0"
      },
      "source": [
        "import keras\r\n",
        "from keras.models import Sequential\r\n",
        "from keras import optimizers\r\n",
        "from keras.layers import Dense, Dropout,Activation, Flatten, Conv2D, MaxPooling2D, AveragePooling2D, GlobalMaxPooling2D, ZeroPadding2D, Input\r\n",
        "from keras.models import Model\r\n",
        "from keras.preprocessing import image\r\n",
        "from sklearn.model_selection import train_test_split\r\n",
        "import pandas as pd\r\n",
        "import glob\r\n",
        "import os\r\n",
        "from PIL import Image\r\n",
        "from tqdm import tqdm\r\n",
        "import matplotlib.pyplot as plt\r\n",
        "import numpy as np\r\n",
        "from keras.preprocessing import image\r\n",
        "from keras.preprocessing.image import ImageDataGenerator, array_to_img, img_to_array, load_img\r\n",
        "from keras.utils import to_categorical\r\n",
        "from keras.datasets import cifar10\r\n",
        "import tensorflow as tf\r\n",
        "import pickle\r\n",
        "#from keras"
      ],
      "execution_count": 3,
      "outputs": []
    },
    {
      "cell_type": "code",
      "metadata": {
        "id": "ABooaRFbClMi",
        "colab": {
          "base_uri": "https://localhost:8080/"
        },
        "outputId": "ee405e2b-066d-49af-9b8b-8d0112b40cdc"
      },
      "source": [
        "from urllib.request import urlretrieve\r\n",
        "from os.path import isfile, isdir\r\n",
        "from tqdm import tqdm \r\n",
        "import tarfile\r\n",
        "\r\n",
        "cifar10_dataset_folder_path = 'cifar-10-batches-py'\r\n",
        "\r\n",
        "class DownloadProgress(tqdm):\r\n",
        "    last_block = 0\r\n",
        "\r\n",
        "    def hook(self, block_num=1, block_size=1, total_size=None):\r\n",
        "        self.total = total_size\r\n",
        "        self.update((block_num - self.last_block) * block_size)\r\n",
        "        self.last_block = block_num\r\n",
        "\r\n",
        "\"\"\" \r\n",
        "    check if the data (zip) file is already downloaded\r\n",
        "    if not, download it from \"https://www.cs.toronto.edu/~kriz/cifar-10-python.tar.gz\" and save as cifar-10-python.tar.gz\r\n",
        "\"\"\"\r\n",
        "if not isfile('cifar-10-python.tar.gz'):\r\n",
        "    with DownloadProgress(unit='B', unit_scale=True, miniters=1, desc='CIFAR-10 Dataset') as pbar:\r\n",
        "        urlretrieve(\r\n",
        "            'https://www.cs.toronto.edu/~kriz/cifar-10-python.tar.gz',\r\n",
        "            'cifar-10-python.tar.gz',\r\n",
        "            pbar.hook)\r\n",
        "\r\n",
        "if not isdir(cifar10_dataset_folder_path):\r\n",
        "    with tarfile.open('cifar-10-python.tar.gz') as tar:\r\n",
        "        tar.extractall()\r\n",
        "        tar.close()"
      ],
      "execution_count": 5,
      "outputs": [
        {
          "output_type": "stream",
          "text": [
            "CIFAR-10 Dataset: 171MB [00:04, 39.8MB/s]                           \n"
          ],
          "name": "stderr"
        }
      ]
    },
    {
      "cell_type": "code",
      "metadata": {
        "id": "l2WXOWRoEbcO"
      },
      "source": [
        "def load_cfar10_batch(cifar10_dataset_folder_path, batch_id):\r\n",
        "    with open(cifar10_dataset_folder_path + '/data_batch_' + str(batch_id), mode='rb') as file:\r\n",
        "        # note the encoding type is 'latin1'\r\n",
        "        batch = pickle.load(file, encoding='latin1')\r\n",
        "        \r\n",
        "    features = batch['data'].reshape((len(batch['data']), 3, 32, 32)).transpose(0, 2, 3, 1)\r\n",
        "    labels = batch['labels']\r\n",
        "        \r\n",
        "    return features, labels"
      ],
      "execution_count": 7,
      "outputs": []
    },
    {
      "cell_type": "code",
      "metadata": {
        "id": "zgxSZDL0EQVL"
      },
      "source": [
        "def display_stats(cifar10_dataset_folder_path, batch_id, sample_id):\r\n",
        "    features, labels = load_cfar10_batch(cifar10_dataset_folder_path, batch_id)\r\n",
        "    \r\n",
        "    if not (0 <= sample_id < len(features)):\r\n",
        "        print('{} samples in batch {}.  {} is out of range.'.format(len(features), batch_id, sample_id))\r\n",
        "        return None\r\n",
        "\r\n",
        "    print('\\nStats of batch #{}:'.format(batch_id))\r\n",
        "    print('# of Samples: {}\\n'.format(len(features)))\r\n",
        "    \r\n",
        "    label_names = load_label_names()\r\n",
        "    label_counts = dict(zip(*np.unique(labels, return_counts=True)))\r\n",
        "    for key, value in label_counts.items():\r\n",
        "        print('Label Counts of [{}]({}) : {}'.format(key, label_names[key].upper(), value))\r\n",
        "    \r\n",
        "    sample_image = features[sample_id]\r\n",
        "    sample_label = labels[sample_id]\r\n",
        "    \r\n",
        "    print('\\nExample of Image {}:'.format(sample_id))\r\n",
        "    print('Image - Min Value: {} Max Value: {}'.format(sample_image.min(), sample_image.max()))\r\n",
        "    print('Image - Shape: {}'.format(sample_image.shape))\r\n",
        "    print('Label - Label Id: {} Name: {}'.format(sample_label, label_names[sample_label]))\r\n",
        "    \r\n",
        "    plt.imshow(sample_image)"
      ],
      "execution_count": 8,
      "outputs": []
    },
    {
      "cell_type": "code",
      "metadata": {
        "colab": {
          "base_uri": "https://localhost:8080/",
          "height": 586
        },
        "id": "ob8MG3-2DeXE",
        "outputId": "45e1fd59-3de9-44f4-8470-6eea1636e2e9"
      },
      "source": [
        "batch_id = 3\r\n",
        "sample_id = 9000\r\n",
        "display_stats(cifar10_dataset_folder_path, batch_id, sample_id)"
      ],
      "execution_count": 9,
      "outputs": [
        {
          "output_type": "stream",
          "text": [
            "\n",
            "Stats of batch #3:\n",
            "# of Samples: 10000\n",
            "\n",
            "Label Counts of [0](AIRPLANE) : 994\n",
            "Label Counts of [1](AUTOMOBILE) : 1042\n",
            "Label Counts of [2](BIRD) : 965\n",
            "Label Counts of [3](CAT) : 997\n",
            "Label Counts of [4](DEER) : 990\n",
            "Label Counts of [5](DOG) : 1029\n",
            "Label Counts of [6](FROG) : 978\n",
            "Label Counts of [7](HORSE) : 1015\n",
            "Label Counts of [8](SHIP) : 961\n",
            "Label Counts of [9](TRUCK) : 1029\n",
            "\n",
            "Example of Image 9000:\n",
            "Image - Min Value: 1 Max Value: 250\n",
            "Image - Shape: (32, 32, 3)\n",
            "Label - Label Id: 9 Name: truck\n"
          ],
          "name": "stdout"
        },
        {
          "output_type": "display_data",
          "data": {
            "image/png": "[encoded data removed]",
            "text/plain": [
              "<Figure size 432x288 with 1 Axes>"
            ]
          },
          "metadata": {
            "tags": [],
            "needs_background": "light"
          }
        }
      ]
    },
    {
      "cell_type": "code",
      "metadata": {
        "id": "Nxh_7JBc7Qy-"
      },
      "source": [
        "(x_train, y_train), (x_test, y_test) = cifar10.load_data()"
      ],
      "execution_count": 30,
      "outputs": []
    },
    {
      "cell_type": "code",
      "metadata": {
        "colab": {
          "base_uri": "https://localhost:8080/"
        },
        "id": "EZCog0HzYGKB",
        "outputId": "9f019aeb-83f4-4449-88c6-fa6b4952ae7f"
      },
      "source": [
        "cifar10.load_data()"
      ],
      "execution_count": 19,
      "outputs": [
        {
          "output_type": "execute_result",
          "data": {
            "text/plain": [
              "((array([[[[ 59,  62,  63],\n",
              "           [ 43,  46,  45],\n",
              "           [ 50,  48,  43],\n",
              "           ...,\n",
              "           [158, 132, 108],\n",
              "           [152, 125, 102],\n",
              "           [148, 124, 103]],\n",
              "  \n",
              "          [[ 16,  20,  20],\n",
              "           [  0,   0,   0],\n",
              "           [ 18,   8,   0],\n",
              "           ...,\n",
              "           [123,  88,  55],\n",
              "           [119,  83,  50],\n",
              "           [122,  87,  57]],\n",
              "  \n",
              "          [[ 25,  24,  21],\n",
              "           [ 16,   7,   0],\n",
              "           [ 49,  27,   8],\n",
              "           ...,\n",
              "           [118,  84,  50],\n",
              "           [120,  84,  50],\n",
              "           [109,  73,  42]],\n",
              "  \n",
              "          ...,\n",
              "  \n",
              "          [[208, 170,  96],\n",
              "           [201, 153,  34],\n",
              "           [198, 161,  26],\n",
              "           ...,\n",
              "           [160, 133,  70],\n",
              "           [ 56,  31,   7],\n",
              "           [ 53,  34,  20]],\n",
              "  \n",
              "          [[180, 139,  96],\n",
              "           [173, 123,  42],\n",
              "           [186, 144,  30],\n",
              "           ...,\n",
              "           [184, 148,  94],\n",
              "           [ 97,  62,  34],\n",
              "           [ 83,  53,  34]],\n",
              "  \n",
              "          [[177, 144, 116],\n",
              "           [168, 129,  94],\n",
              "           [179, 142,  87],\n",
              "           ...,\n",
              "           [216, 184, 140],\n",
              "           [151, 118,  84],\n",
              "           [123,  92,  72]]],\n",
              "  \n",
              "  \n",
              "         [[[154, 177, 187],\n",
              "           [126, 137, 136],\n",
              "           [105, 104,  95],\n",
              "           ...,\n",
              "           [ 91,  95,  71],\n",
              "           [ 87,  90,  71],\n",
              "           [ 79,  81,  70]],\n",
              "  \n",
              "          [[140, 160, 169],\n",
              "           [145, 153, 154],\n",
              "           [125, 125, 118],\n",
              "           ...,\n",
              "           [ 96,  99,  78],\n",
              "           [ 77,  80,  62],\n",
              "           [ 71,  73,  61]],\n",
              "  \n",
              "          [[140, 155, 164],\n",
              "           [139, 146, 149],\n",
              "           [115, 115, 112],\n",
              "           ...,\n",
              "           [ 79,  82,  64],\n",
              "           [ 68,  70,  55],\n",
              "           [ 67,  69,  55]],\n",
              "  \n",
              "          ...,\n",
              "  \n",
              "          [[175, 167, 166],\n",
              "           [156, 154, 160],\n",
              "           [154, 160, 170],\n",
              "           ...,\n",
              "           [ 42,  34,  36],\n",
              "           [ 61,  53,  57],\n",
              "           [ 93,  83,  91]],\n",
              "  \n",
              "          [[165, 154, 128],\n",
              "           [156, 152, 130],\n",
              "           [159, 161, 142],\n",
              "           ...,\n",
              "           [103,  93,  96],\n",
              "           [123, 114, 120],\n",
              "           [131, 121, 131]],\n",
              "  \n",
              "          [[163, 148, 120],\n",
              "           [158, 148, 122],\n",
              "           [163, 156, 133],\n",
              "           ...,\n",
              "           [143, 133, 139],\n",
              "           [143, 134, 142],\n",
              "           [143, 133, 144]]],\n",
              "  \n",
              "  \n",
              "         [[[255, 255, 255],\n",
              "           [253, 253, 253],\n",
              "           [253, 253, 253],\n",
              "           ...,\n",
              "           [253, 253, 253],\n",
              "           [253, 253, 253],\n",
              "           [253, 253, 253]],\n",
              "  \n",
              "          [[255, 255, 255],\n",
              "           [255, 255, 255],\n",
              "           [255, 255, 255],\n",
              "           ...,\n",
              "           [255, 255, 255],\n",
              "           [255, 255, 255],\n",
              "           [255, 255, 255]],\n",
              "  \n",
              "          [[255, 255, 255],\n",
              "           [254, 254, 254],\n",
              "           [254, 254, 254],\n",
              "           ...,\n",
              "           [254, 254, 254],\n",
              "           [254, 254, 254],\n",
              "           [254, 254, 254]],\n",
              "  \n",
              "          ...,\n",
              "  \n",
              "          [[113, 120, 112],\n",
              "           [111, 118, 111],\n",
              "           [105, 112, 106],\n",
              "           ...,\n",
              "           [ 72,  81,  80],\n",
              "           [ 72,  80,  79],\n",
              "           [ 72,  80,  79]],\n",
              "  \n",
              "          [[111, 118, 110],\n",
              "           [104, 111, 104],\n",
              "           [ 99, 106,  98],\n",
              "           ...,\n",
              "           [ 68,  75,  73],\n",
              "           [ 70,  76,  75],\n",
              "           [ 78,  84,  82]],\n",
              "  \n",
              "          [[106, 113, 105],\n",
              "           [ 99, 106,  98],\n",
              "           [ 95, 102,  94],\n",
              "           ...,\n",
              "           [ 78,  85,  83],\n",
              "           [ 79,  85,  83],\n",
              "           [ 80,  86,  84]]],\n",
              "  \n",
              "  \n",
              "         ...,\n",
              "  \n",
              "  \n",
              "         [[[ 35, 178, 235],\n",
              "           [ 40, 176, 239],\n",
              "           [ 42, 176, 241],\n",
              "           ...,\n",
              "           [ 99, 177, 219],\n",
              "           [ 79, 147, 197],\n",
              "           [ 89, 148, 189]],\n",
              "  \n",
              "          [[ 57, 182, 234],\n",
              "           [ 44, 184, 250],\n",
              "           [ 50, 183, 240],\n",
              "           ...,\n",
              "           [156, 182, 200],\n",
              "           [141, 177, 206],\n",
              "           [116, 149, 175]],\n",
              "  \n",
              "          [[ 98, 197, 237],\n",
              "           [ 64, 189, 252],\n",
              "           [ 69, 192, 245],\n",
              "           ...,\n",
              "           [188, 195, 206],\n",
              "           [119, 135, 147],\n",
              "           [ 61,  79,  90]],\n",
              "  \n",
              "          ...,\n",
              "  \n",
              "          [[ 73,  79,  77],\n",
              "           [ 53,  63,  68],\n",
              "           [ 54,  68,  80],\n",
              "           ...,\n",
              "           [ 17,  40,  64],\n",
              "           [ 21,  36,  51],\n",
              "           [ 33,  48,  49]],\n",
              "  \n",
              "          [[ 61,  68,  75],\n",
              "           [ 55,  70,  86],\n",
              "           [ 57,  79, 103],\n",
              "           ...,\n",
              "           [ 24,  48,  72],\n",
              "           [ 17,  35,  53],\n",
              "           [  7,  23,  32]],\n",
              "  \n",
              "          [[ 44,  56,  73],\n",
              "           [ 46,  66,  88],\n",
              "           [ 49,  77, 105],\n",
              "           ...,\n",
              "           [ 27,  52,  77],\n",
              "           [ 21,  43,  66],\n",
              "           [ 12,  31,  50]]],\n",
              "  \n",
              "  \n",
              "         [[[189, 211, 240],\n",
              "           [186, 208, 236],\n",
              "           [185, 207, 235],\n",
              "           ...,\n",
              "           [175, 195, 224],\n",
              "           [172, 194, 222],\n",
              "           [169, 194, 220]],\n",
              "  \n",
              "          [[194, 210, 239],\n",
              "           [191, 207, 236],\n",
              "           [190, 206, 235],\n",
              "           ...,\n",
              "           [173, 192, 220],\n",
              "           [171, 191, 218],\n",
              "           [167, 190, 216]],\n",
              "  \n",
              "          [[208, 219, 244],\n",
              "           [205, 216, 240],\n",
              "           [204, 215, 239],\n",
              "           ...,\n",
              "           [175, 191, 217],\n",
              "           [172, 190, 216],\n",
              "           [169, 191, 215]],\n",
              "  \n",
              "          ...,\n",
              "  \n",
              "          [[207, 199, 181],\n",
              "           [203, 195, 175],\n",
              "           [203, 196, 173],\n",
              "           ...,\n",
              "           [135, 132, 127],\n",
              "           [162, 158, 150],\n",
              "           [168, 163, 151]],\n",
              "  \n",
              "          [[198, 190, 170],\n",
              "           [189, 181, 159],\n",
              "           [180, 172, 147],\n",
              "           ...,\n",
              "           [178, 171, 160],\n",
              "           [175, 169, 156],\n",
              "           [175, 169, 154]],\n",
              "  \n",
              "          [[198, 189, 173],\n",
              "           [189, 181, 162],\n",
              "           [178, 170, 149],\n",
              "           ...,\n",
              "           [195, 184, 169],\n",
              "           [196, 189, 171],\n",
              "           [195, 190, 171]]],\n",
              "  \n",
              "  \n",
              "         [[[229, 229, 239],\n",
              "           [236, 237, 247],\n",
              "           [234, 236, 247],\n",
              "           ...,\n",
              "           [217, 219, 233],\n",
              "           [221, 223, 234],\n",
              "           [222, 223, 233]],\n",
              "  \n",
              "          [[222, 221, 229],\n",
              "           [239, 239, 249],\n",
              "           [233, 234, 246],\n",
              "           ...,\n",
              "           [223, 223, 236],\n",
              "           [227, 228, 238],\n",
              "           [210, 211, 220]],\n",
              "  \n",
              "          [[213, 206, 211],\n",
              "           [234, 232, 239],\n",
              "           [231, 233, 244],\n",
              "           ...,\n",
              "           [220, 220, 232],\n",
              "           [220, 219, 232],\n",
              "           [202, 203, 215]],\n",
              "  \n",
              "          ...,\n",
              "  \n",
              "          [[150, 143, 135],\n",
              "           [140, 135, 127],\n",
              "           [132, 127, 120],\n",
              "           ...,\n",
              "           [224, 222, 218],\n",
              "           [230, 228, 225],\n",
              "           [241, 241, 238]],\n",
              "  \n",
              "          [[137, 132, 126],\n",
              "           [130, 127, 120],\n",
              "           [125, 121, 115],\n",
              "           ...,\n",
              "           [181, 180, 178],\n",
              "           [202, 201, 198],\n",
              "           [212, 211, 207]],\n",
              "  \n",
              "          [[122, 119, 114],\n",
              "           [118, 116, 110],\n",
              "           [120, 116, 111],\n",
              "           ...,\n",
              "           [179, 177, 173],\n",
              "           [164, 164, 162],\n",
              "           [163, 163, 161]]]], dtype=uint8), array([[6],\n",
              "         [9],\n",
              "         [9],\n",
              "         ...,\n",
              "         [9],\n",
              "         [1],\n",
              "         [1]], dtype=uint8)), (array([[[[158, 112,  49],\n",
              "           [159, 111,  47],\n",
              "           [165, 116,  51],\n",
              "           ...,\n",
              "           [137,  95,  36],\n",
              "           [126,  91,  36],\n",
              "           [116,  85,  33]],\n",
              "  \n",
              "          [[152, 112,  51],\n",
              "           [151, 110,  40],\n",
              "           [159, 114,  45],\n",
              "           ...,\n",
              "           [136,  95,  31],\n",
              "           [125,  91,  32],\n",
              "           [119,  88,  34]],\n",
              "  \n",
              "          [[151, 110,  47],\n",
              "           [151, 109,  33],\n",
              "           [158, 111,  36],\n",
              "           ...,\n",
              "           [139,  98,  34],\n",
              "           [130,  95,  34],\n",
              "           [120,  89,  33]],\n",
              "  \n",
              "          ...,\n",
              "  \n",
              "          [[ 68, 124, 177],\n",
              "           [ 42, 100, 148],\n",
              "           [ 31,  88, 137],\n",
              "           ...,\n",
              "           [ 38,  97, 146],\n",
              "           [ 13,  64, 108],\n",
              "           [ 40,  85, 127]],\n",
              "  \n",
              "          [[ 61, 116, 168],\n",
              "           [ 49, 102, 148],\n",
              "           [ 35,  85, 132],\n",
              "           ...,\n",
              "           [ 26,  82, 130],\n",
              "           [ 29,  82, 126],\n",
              "           [ 20,  64, 107]],\n",
              "  \n",
              "          [[ 54, 107, 160],\n",
              "           [ 56, 105, 149],\n",
              "           [ 45,  89, 132],\n",
              "           ...,\n",
              "           [ 24,  77, 124],\n",
              "           [ 34,  84, 129],\n",
              "           [ 21,  67, 110]]],\n",
              "  \n",
              "  \n",
              "         [[[235, 235, 235],\n",
              "           [231, 231, 231],\n",
              "           [232, 232, 232],\n",
              "           ...,\n",
              "           [233, 233, 233],\n",
              "           [233, 233, 233],\n",
              "           [232, 232, 232]],\n",
              "  \n",
              "          [[238, 238, 238],\n",
              "           [235, 235, 235],\n",
              "           [235, 235, 235],\n",
              "           ...,\n",
              "           [236, 236, 236],\n",
              "           [236, 236, 236],\n",
              "           [235, 235, 235]],\n",
              "  \n",
              "          [[237, 237, 237],\n",
              "           [234, 234, 234],\n",
              "           [234, 234, 234],\n",
              "           ...,\n",
              "           [235, 235, 235],\n",
              "           [235, 235, 235],\n",
              "           [234, 234, 234]],\n",
              "  \n",
              "          ...,\n",
              "  \n",
              "          [[ 87,  99,  89],\n",
              "           [ 43,  51,  37],\n",
              "           [ 19,  23,  11],\n",
              "           ...,\n",
              "           [169, 184, 179],\n",
              "           [182, 197, 193],\n",
              "           [188, 202, 201]],\n",
              "  \n",
              "          [[ 82,  96,  82],\n",
              "           [ 46,  57,  36],\n",
              "           [ 36,  44,  22],\n",
              "           ...,\n",
              "           [174, 189, 183],\n",
              "           [185, 200, 196],\n",
              "           [187, 202, 200]],\n",
              "  \n",
              "          [[ 85, 101,  83],\n",
              "           [ 62,  75,  48],\n",
              "           [ 58,  67,  38],\n",
              "           ...,\n",
              "           [168, 183, 178],\n",
              "           [180, 195, 191],\n",
              "           [186, 200, 199]]],\n",
              "  \n",
              "  \n",
              "         [[[158, 190, 222],\n",
              "           [158, 187, 218],\n",
              "           [139, 166, 194],\n",
              "           ...,\n",
              "           [228, 231, 234],\n",
              "           [237, 239, 243],\n",
              "           [238, 241, 246]],\n",
              "  \n",
              "          [[170, 200, 229],\n",
              "           [172, 199, 226],\n",
              "           [151, 176, 201],\n",
              "           ...,\n",
              "           [232, 232, 236],\n",
              "           [246, 246, 250],\n",
              "           [246, 247, 251]],\n",
              "  \n",
              "          [[174, 201, 225],\n",
              "           [176, 200, 222],\n",
              "           [157, 179, 199],\n",
              "           ...,\n",
              "           [230, 229, 232],\n",
              "           [250, 249, 251],\n",
              "           [245, 244, 247]],\n",
              "  \n",
              "          ...,\n",
              "  \n",
              "          [[ 31,  40,  45],\n",
              "           [ 30,  39,  44],\n",
              "           [ 26,  35,  40],\n",
              "           ...,\n",
              "           [ 37,  40,  46],\n",
              "           [  9,  13,  14],\n",
              "           [  4,   7,   5]],\n",
              "  \n",
              "          [[ 23,  34,  39],\n",
              "           [ 27,  38,  43],\n",
              "           [ 25,  36,  41],\n",
              "           ...,\n",
              "           [ 19,  20,  24],\n",
              "           [  4,   6,   3],\n",
              "           [  5,   7,   3]],\n",
              "  \n",
              "          [[ 28,  41,  47],\n",
              "           [ 30,  43,  50],\n",
              "           [ 32,  45,  52],\n",
              "           ...,\n",
              "           [  5,   6,   8],\n",
              "           [  4,   5,   3],\n",
              "           [  7,   8,   7]]],\n",
              "  \n",
              "  \n",
              "         ...,\n",
              "  \n",
              "  \n",
              "         [[[ 20,  15,  12],\n",
              "           [ 19,  14,  11],\n",
              "           [ 15,  14,  11],\n",
              "           ...,\n",
              "           [ 10,   9,   7],\n",
              "           [ 12,  11,   9],\n",
              "           [ 13,  12,  10]],\n",
              "  \n",
              "          [[ 21,  16,  13],\n",
              "           [ 20,  16,  13],\n",
              "           [ 18,  17,  12],\n",
              "           ...,\n",
              "           [ 10,   9,   7],\n",
              "           [ 10,   9,   7],\n",
              "           [ 12,  11,   9]],\n",
              "  \n",
              "          [[ 21,  16,  13],\n",
              "           [ 21,  17,  12],\n",
              "           [ 20,  18,  11],\n",
              "           ...,\n",
              "           [ 12,  11,   9],\n",
              "           [ 12,  11,   9],\n",
              "           [ 13,  12,  10]],\n",
              "  \n",
              "          ...,\n",
              "  \n",
              "          [[ 33,  25,  13],\n",
              "           [ 34,  26,  15],\n",
              "           [ 34,  26,  15],\n",
              "           ...,\n",
              "           [ 28,  25,  52],\n",
              "           [ 29,  25,  58],\n",
              "           [ 23,  20,  42]],\n",
              "  \n",
              "          [[ 33,  25,  14],\n",
              "           [ 34,  26,  15],\n",
              "           [ 34,  26,  15],\n",
              "           ...,\n",
              "           [ 27,  24,  52],\n",
              "           [ 27,  24,  56],\n",
              "           [ 25,  22,  47]],\n",
              "  \n",
              "          [[ 31,  23,  12],\n",
              "           [ 32,  24,  13],\n",
              "           [ 33,  25,  14],\n",
              "           ...,\n",
              "           [ 24,  23,  50],\n",
              "           [ 26,  23,  53],\n",
              "           [ 25,  20,  47]]],\n",
              "  \n",
              "  \n",
              "         [[[ 25,  40,  12],\n",
              "           [ 15,  36,   3],\n",
              "           [ 23,  41,  18],\n",
              "           ...,\n",
              "           [ 61,  82,  78],\n",
              "           [ 92, 113, 112],\n",
              "           [ 75,  89,  92]],\n",
              "  \n",
              "          [[ 12,  25,   6],\n",
              "           [ 20,  37,   7],\n",
              "           [ 24,  36,  15],\n",
              "           ...,\n",
              "           [115, 134, 138],\n",
              "           [149, 168, 177],\n",
              "           [104, 117, 131]],\n",
              "  \n",
              "          [[ 12,  25,  11],\n",
              "           [ 15,  29,   6],\n",
              "           [ 34,  40,  24],\n",
              "           ...,\n",
              "           [154, 172, 182],\n",
              "           [157, 175, 192],\n",
              "           [116, 129, 151]],\n",
              "  \n",
              "          ...,\n",
              "  \n",
              "          [[100, 129,  81],\n",
              "           [103, 132,  84],\n",
              "           [104, 134,  86],\n",
              "           ...,\n",
              "           [ 97, 128,  84],\n",
              "           [ 98, 126,  84],\n",
              "           [ 91, 121,  79]],\n",
              "  \n",
              "          [[103, 132,  83],\n",
              "           [104, 131,  83],\n",
              "           [107, 135,  87],\n",
              "           ...,\n",
              "           [101, 132,  87],\n",
              "           [ 99, 127,  84],\n",
              "           [ 92, 121,  79]],\n",
              "  \n",
              "          [[ 95, 126,  78],\n",
              "           [ 95, 123,  76],\n",
              "           [101, 128,  81],\n",
              "           ...,\n",
              "           [ 93, 124,  80],\n",
              "           [ 95, 123,  81],\n",
              "           [ 92, 120,  80]]],\n",
              "  \n",
              "  \n",
              "         [[[ 73,  78,  75],\n",
              "           [ 98, 103, 113],\n",
              "           [ 99, 106, 114],\n",
              "           ...,\n",
              "           [135, 150, 152],\n",
              "           [135, 149, 154],\n",
              "           [203, 215, 223]],\n",
              "  \n",
              "          [[ 69,  73,  70],\n",
              "           [ 84,  89,  97],\n",
              "           [ 68,  75,  81],\n",
              "           ...,\n",
              "           [ 85,  95,  89],\n",
              "           [ 71,  82,  80],\n",
              "           [120, 133, 135]],\n",
              "  \n",
              "          [[ 69,  73,  70],\n",
              "           [ 90,  95, 100],\n",
              "           [ 62,  71,  74],\n",
              "           ...,\n",
              "           [ 74,  81,  70],\n",
              "           [ 53,  62,  54],\n",
              "           [ 62,  74,  69]],\n",
              "  \n",
              "          ...,\n",
              "  \n",
              "          [[123, 128,  96],\n",
              "           [132, 132, 102],\n",
              "           [129, 128, 100],\n",
              "           ...,\n",
              "           [108, 107,  88],\n",
              "           [ 62,  60,  55],\n",
              "           [ 27,  27,  28]],\n",
              "  \n",
              "          [[115, 121,  91],\n",
              "           [123, 124,  95],\n",
              "           [129, 126,  99],\n",
              "           ...,\n",
              "           [115, 116,  94],\n",
              "           [ 66,  65,  59],\n",
              "           [ 27,  27,  27]],\n",
              "  \n",
              "          [[116, 120,  90],\n",
              "           [121, 122,  94],\n",
              "           [129, 128, 101],\n",
              "           ...,\n",
              "           [116, 115,  94],\n",
              "           [ 68,  65,  58],\n",
              "           [ 27,  26,  26]]]], dtype=uint8), array([[3],\n",
              "         [8],\n",
              "         [8],\n",
              "         ...,\n",
              "         [5],\n",
              "         [1],\n",
              "         [7]], dtype=uint8)))"
            ]
          },
          "metadata": {
            "tags": []
          },
          "execution_count": 19
        }
      ]
    },
    {
      "cell_type": "code",
      "metadata": {
        "colab": {
          "base_uri": "https://localhost:8080/"
        },
        "id": "Mz7328hs83wd",
        "outputId": "beabadfc-54f4-4692-b214-ff752f9340c1"
      },
      "source": [
        "x_train.shape"
      ],
      "execution_count": 33,
      "outputs": [
        {
          "output_type": "execute_result",
          "data": {
            "text/plain": [
              "(50000, 32, 32, 3)"
            ]
          },
          "metadata": {
            "tags": []
          },
          "execution_count": 33
        }
      ]
    },
    {
      "cell_type": "code",
      "metadata": {
        "colab": {
          "base_uri": "https://localhost:8080/"
        },
        "id": "vpxO0cF49Aft",
        "outputId": "b739c271-a286-46e2-dfe6-17f8395e6fdc"
      },
      "source": [
        "y_train.shape"
      ],
      "execution_count": 32,
      "outputs": [
        {
          "output_type": "execute_result",
          "data": {
            "text/plain": [
              "(50000, 1)"
            ]
          },
          "metadata": {
            "tags": []
          },
          "execution_count": 32
        }
      ]
    },
    {
      "cell_type": "code",
      "metadata": {
        "colab": {
          "base_uri": "https://localhost:8080/"
        },
        "id": "K_fGLtx09Fby",
        "outputId": "7d58f032-a6b6-4b38-d0a0-0e812d1d5b06"
      },
      "source": [
        "y_train"
      ],
      "execution_count": null,
      "outputs": [
        {
          "output_type": "execute_result",
          "data": {
            "text/plain": [
              "array([[6],\n",
              "       [9],\n",
              "       [9],\n",
              "       ...,\n",
              "       [9],\n",
              "       [1],\n",
              "       [1]], dtype=uint8)"
            ]
          },
          "metadata": {
            "tags": []
          },
          "execution_count": 11
        }
      ]
    },
    {
      "cell_type": "code",
      "metadata": {
        "colab": {
          "base_uri": "https://localhost:8080/"
        },
        "id": "gBZ-4rA79Rug",
        "outputId": "16e76e43-b557-4265-832b-cd4659f0453b"
      },
      "source": [
        "x_test.shape"
      ],
      "execution_count": 11,
      "outputs": [
        {
          "output_type": "execute_result",
          "data": {
            "text/plain": [
              "(10000, 32, 32, 3)"
            ]
          },
          "metadata": {
            "tags": []
          },
          "execution_count": 11
        }
      ]
    },
    {
      "cell_type": "code",
      "metadata": {
        "colab": {
          "base_uri": "https://localhost:8080/"
        },
        "id": "DDbqeJEt9l9P",
        "outputId": "de10b87c-b795-4151-bf11-29037e2a1f40"
      },
      "source": [
        "y_test.shape"
      ],
      "execution_count": null,
      "outputs": [
        {
          "output_type": "execute_result",
          "data": {
            "text/plain": [
              "(10000, 1)"
            ]
          },
          "metadata": {
            "tags": []
          },
          "execution_count": 13
        }
      ]
    },
    {
      "cell_type": "code",
      "metadata": {
        "colab": {
          "base_uri": "https://localhost:8080/",
          "height": 283
        },
        "id": "ZcN2rCKE9osG",
        "outputId": "49320528-84f5-41a9-e7c9-5908f1e0dddc"
      },
      "source": [
        "plt.imshow(x_train[3])\r\n",
        "plt.show()\r\n",
        "print('Label:',y_train[3])"
      ],
      "execution_count": null,
      "outputs": [
        {
          "output_type": "display_data",
          "data": {
            "image/png": "[encoded data removed]",
            "text/plain": [
              "<Figure size 432x288 with 1 Axes>"
            ]
          },
          "metadata": {
            "tags": [],
            "needs_background": "light"
          }
        },
        {
          "output_type": "stream",
          "text": [
            "Label: [4]\n"
          ],
          "name": "stdout"
        }
      ]
    },
    {
      "cell_type": "code",
      "metadata": {
        "id": "EwPHynGFD7PW"
      },
      "source": [
        ""
      ],
      "execution_count": null,
      "outputs": []
    },
    {
      "cell_type": "code",
      "metadata": {
        "colab": {
          "base_uri": "https://localhost:8080/",
          "height": 1000
        },
        "id": "3vqHWZ16BJgG",
        "outputId": "c128a014-144e-431a-878a-13a376be4970"
      },
      "source": [
        "for i in range(0,10):\r\n",
        "    plt.imshow(x_train[i])    # show first number in the dataset\r\n",
        "    plt.show()\r\n",
        "    print('Label: ', y_train[i])"
      ],
      "execution_count": null,
      "outputs": [
        {
          "output_type": "display_data",
          "data": {
            "image/png": "[encoded data removed]",
            "text/plain": [
              "<Figure size 432x288 with 1 Axes>"
            ]
          },
          "metadata": {
            "tags": [],
            "needs_background": "light"
          }
        },
        {
          "output_type": "stream",
          "text": [
            "Label:  [6]\n"
          ],
          "name": "stdout"
        },
        {
          "output_type": "display_data",
          "data": {
            "image/png": "[encoded data removed]",
            "text/plain": [
              "<Figure size 432x288 with 1 Axes>"
            ]
          },
          "metadata": {
            "tags": [],
            "needs_background": "light"
          }
        },
        {
          "output_type": "stream",
          "text": [
            "Label:  [4]\n"
          ],
          "name": "stdout"
        },
        {
          "output_type": "display_data",
          "data": {
            "image/png": "[encoded data removed]",
            "text/plain": [
              "<Figure size 432x288 with 1 Axes>"
            ]
          },
          "metadata": {
            "tags": [],
            "needs_background": "light"
          }
        },
        {
          "output_type": "stream",
          "text": [
            "Label:  [4]\n"
          ],
          "name": "stdout"
        },
        {
          "output_type": "display_data",
          "data": {
            "image/png": "[encoded data removed]",
            "text/plain": [
              "<Figure size 432x288 with 1 Axes>"
            ]
          },
          "metadata": {
            "tags": [],
            "needs_background": "light"
          }
        },
        {
          "output_type": "stream",
          "text": [
            "Label:  [0]\n"
          ],
          "name": "stdout"
        },
        {
          "output_type": "display_data",
          "data": {
            "image/png": "[encoded data removed]",
            "text/plain": [
              "<Figure size 432x288 with 1 Axes>"
            ]
          },
          "metadata": {
            "tags": [],
            "needs_background": "light"
          }
        },
        {
          "output_type": "stream",
          "text": [
            "Label:  [7]\n"
          ],
          "name": "stdout"
        },
        {
          "output_type": "display_data",
          "data": {
            "image/png": "[encoded data removed]",
            "text/plain": [
              "<Figure size 432x288 with 1 Axes>"
            ]
          },
          "metadata": {
            "tags": [],
            "needs_background": "light"
          }
        },
        {
          "output_type": "stream",
          "text": [
            "Label:  [1]\n"
          ],
          "name": "stdout"
        },
        {
          "output_type": "display_data",
          "data": {
            "image/png": "[encoded data removed]",
            "text/plain": [
              "<Figure size 432x288 with 1 Axes>"
            ]
          },
          "metadata": {
            "tags": [],
            "needs_background": "light"
          }
        },
        {
          "output_type": "stream",
          "text": [
            "Label:  [2]\n"
          ],
          "name": "stdout"
        },
        {
          "output_type": "display_data",
          "data": {
            "image/png": "[encoded data removed]",
            "text/plain": [
              "<Figure size 432x288 with 1 Axes>"
            ]
          },
          "metadata": {
            "tags": [],
            "needs_background": "light"
          }
        },
        {
          "output_type": "stream",
          "text": [
            "Label:  [1]\n"
          ],
          "name": "stdout"
        },
        {
          "output_type": "display_data",
          "data": {
            "image/png": "[encoded data removed]",
            "text/plain": [
              "<Figure size 432x288 with 1 Axes>"
            ]
          },
          "metadata": {
            "tags": [],
            "needs_background": "light"
          }
        },
        {
          "output_type": "stream",
          "text": [
            "Label:  [0]\n"
          ],
          "name": "stdout"
        },
        {
          "output_type": "display_data",
          "data": {
            "image/png": "[encoded data removed]",
            "text/plain": [
              "<Figure size 432x288 with 1 Axes>"
            ]
          },
          "metadata": {
            "tags": [],
            "needs_background": "light"
          }
        },
        {
          "output_type": "stream",
          "text": [
            "Label:  [1]\n"
          ],
          "name": "stdout"
        }
      ]
    },
    {
      "cell_type": "code",
      "metadata": {
        "id": "wq4LGNCe_ipp"
      },
      "source": [
        "X_train = x_train.reshape((x_train.shape[0],-1))\r\n",
        "X_test = x_test.reshape((x_test.shape[0],-1))"
      ],
      "execution_count": null,
      "outputs": []
    },
    {
      "cell_type": "code",
      "metadata": {
        "colab": {
          "base_uri": "https://localhost:8080/",
          "height": 283
        },
        "id": "wqbYnn6umru8",
        "outputId": "c7893053-4961-4d88-da68-3a67b9b684e6"
      },
      "source": [
        "plt.imshow(x_train[0])"
      ],
      "execution_count": null,
      "outputs": [
        {
          "output_type": "execute_result",
          "data": {
            "text/plain": [
              "<matplotlib.image.AxesImage at 0x7fc345a77050>"
            ]
          },
          "metadata": {
            "tags": []
          },
          "execution_count": 109
        },
        {
          "output_type": "display_data",
          "data": {
            "image/png": "[encoded data removed]",
            "text/plain": [
              "<Figure size 432x288 with 1 Axes>"
            ]
          },
          "metadata": {
            "tags": [],
            "needs_background": "light"
          }
        }
      ]
    },
    {
      "cell_type": "code",
      "metadata": {
        "colab": {
          "base_uri": "https://localhost:8080/"
        },
        "id": "QXKNMJWfAKe3",
        "outputId": "87c89057-ff3c-48f4-fb01-31375152cf92"
      },
      "source": [
        "X_train.shape"
      ],
      "execution_count": null,
      "outputs": [
        {
          "output_type": "execute_result",
          "data": {
            "text/plain": [
              "(50000, 3072)"
            ]
          },
          "metadata": {
            "tags": []
          },
          "execution_count": 16
        }
      ]
    },
    {
      "cell_type": "code",
      "metadata": {
        "id": "6BbnkpowAn3L"
      },
      "source": [
        "# use only 40% of training data to expedite the training process\r\n",
        "X_train, _ , y_train, _ = train_test_split(X_train, y_train, test_size = 0.60, random_state = 7)"
      ],
      "execution_count": null,
      "outputs": []
    },
    {
      "cell_type": "code",
      "metadata": {
        "id": "UQ6SECNbAu2J"
      },
      "source": [
        "# converting y data into categorical (one-hot encoding)\r\n",
        "y_train = to_categorical(y_train)\r\n",
        "y_test = to_categorical(y_test)"
      ],
      "execution_count": 12,
      "outputs": []
    },
    {
      "cell_type": "code",
      "metadata": {
        "colab": {
          "base_uri": "https://localhost:8080/"
        },
        "id": "t9j6w89TGL04",
        "outputId": "b41e4eb9-e029-4b4b-f863-0ff226b2a664"
      },
      "source": [
        "print(X_train.shape, X_test.shape, y_train.shape, y_test.shape)"
      ],
      "execution_count": null,
      "outputs": [
        {
          "output_type": "stream",
          "text": [
            "(20000, 3072) (10000, 3072) (20000, 10) (10000, 10)\n"
          ],
          "name": "stdout"
        }
      ]
    },
    {
      "cell_type": "markdown",
      "metadata": {
        "id": "FpV2Tj3nGczh"
      },
      "source": [
        "## Basic MLP model\r\n",
        "Naive MLP model without any alterations"
      ]
    },
    {
      "cell_type": "code",
      "metadata": {
        "id": "shbZw8KGGVJ7"
      },
      "source": [
        "from keras.models import Sequential\r\n",
        "from keras.layers import Activation, Dense\r\n",
        "from keras import optimizers"
      ],
      "execution_count": null,
      "outputs": []
    },
    {
      "cell_type": "code",
      "metadata": {
        "id": "j6kVgLU6GogV"
      },
      "source": [
        "model = Sequential()"
      ],
      "execution_count": null,
      "outputs": []
    },
    {
      "cell_type": "code",
      "metadata": {
        "id": "rueIwmhQGz3c"
      },
      "source": [
        "model.add(Dense(50,input_shape = (3072, )))\r\n",
        "model.add(Activation('sigmoid'))\r\n",
        "model.add(Dense(50))\r\n",
        "model.add(Activation('sigmoid'))\r\n",
        "model.add(Dense(50))\r\n",
        "model.add(Activation('sigmoid'))\r\n",
        "model.add(Dense(50))\r\n",
        "model.add(Activation('sigmoid'))\r\n",
        "model.add(Dense(10))\r\n",
        "model.add(Activation('softmax'))"
      ],
      "execution_count": null,
      "outputs": []
    },
    {
      "cell_type": "code",
      "metadata": {
        "id": "gORrFB76H5S8"
      },
      "source": [
        "sgd = optimizers.SGD(lr = 0.001)\r\n",
        "model.compile(optimizer = sgd, loss = 'categorical_crossentropy', metrics = ['accuracy'])"
      ],
      "execution_count": null,
      "outputs": []
    },
    {
      "cell_type": "code",
      "metadata": {
        "colab": {
          "base_uri": "https://localhost:8080/"
        },
        "id": "U2g4bra9IAp-",
        "outputId": "351e18a4-dad1-4d25-e8b4-99f052440345"
      },
      "source": [
        "history = model.fit(X_train, y_train, validation_split = 0.3, epochs = 100, verbose = 1)"
      ],
      "execution_count": null,
      "outputs": [
        {
          "output_type": "stream",
          "text": [
            "Epoch 1/100\n",
            "438/438 [==============================] - 2s 3ms/step - loss: 2.3026 - accuracy: 0.1037 - val_loss: 2.3027 - val_accuracy: 0.1008\n",
            "Epoch 2/100\n",
            "438/438 [==============================] - 1s 3ms/step - loss: 2.3026 - accuracy: 0.1027 - val_loss: 2.3027 - val_accuracy: 0.1017\n",
            "Epoch 3/100\n",
            "438/438 [==============================] - 2s 3ms/step - loss: 2.3026 - accuracy: 0.1015 - val_loss: 2.3027 - val_accuracy: 0.1017\n",
            "Epoch 4/100\n",
            "438/438 [==============================] - 2s 3ms/step - loss: 2.3026 - accuracy: 0.1000 - val_loss: 2.3028 - val_accuracy: 0.1008\n",
            "Epoch 5/100\n",
            "438/438 [==============================] - 2s 3ms/step - loss: 2.3026 - accuracy: 0.1018 - val_loss: 2.3028 - val_accuracy: 0.1008\n",
            "Epoch 6/100\n",
            "438/438 [==============================] - 1s 3ms/step - loss: 2.3026 - accuracy: 0.1009 - val_loss: 2.3028 - val_accuracy: 0.1017\n",
            "Epoch 7/100\n",
            "438/438 [==============================] - 2s 3ms/step - loss: 2.3026 - accuracy: 0.1021 - val_loss: 2.3027 - val_accuracy: 0.1008\n",
            "Epoch 8/100\n",
            "438/438 [==============================] - 2s 3ms/step - loss: 2.3026 - accuracy: 0.1014 - val_loss: 2.3027 - val_accuracy: 0.1017\n",
            "Epoch 9/100\n",
            "438/438 [==============================] - 2s 3ms/step - loss: 2.3026 - accuracy: 0.1014 - val_loss: 2.3027 - val_accuracy: 0.1017\n",
            "Epoch 10/100\n",
            "438/438 [==============================] - 2s 4ms/step - loss: 2.3026 - accuracy: 0.0991 - val_loss: 2.3028 - val_accuracy: 0.1008\n",
            "Epoch 11/100\n",
            "438/438 [==============================] - 2s 3ms/step - loss: 2.3026 - accuracy: 0.0987 - val_loss: 2.3028 - val_accuracy: 0.1008\n",
            "Epoch 12/100\n",
            "438/438 [==============================] - 2s 4ms/step - loss: 2.3026 - accuracy: 0.0996 - val_loss: 2.3028 - val_accuracy: 0.1017\n",
            "Epoch 13/100\n",
            "438/438 [==============================] - 2s 3ms/step - loss: 2.3026 - accuracy: 0.1009 - val_loss: 2.3028 - val_accuracy: 0.1008\n",
            "Epoch 14/100\n",
            "438/438 [==============================] - 2s 3ms/step - loss: 2.3026 - accuracy: 0.0994 - val_loss: 2.3027 - val_accuracy: 0.1017\n",
            "Epoch 15/100\n",
            "438/438 [==============================] - 1s 3ms/step - loss: 2.3026 - accuracy: 0.1020 - val_loss: 2.3027 - val_accuracy: 0.1017\n",
            "Epoch 16/100\n",
            "438/438 [==============================] - 1s 3ms/step - loss: 2.3026 - accuracy: 0.1007 - val_loss: 2.3027 - val_accuracy: 0.1008\n",
            "Epoch 17/100\n",
            "438/438 [==============================] - 2s 3ms/step - loss: 2.3026 - accuracy: 0.1008 - val_loss: 2.3027 - val_accuracy: 0.1008\n",
            "Epoch 18/100\n",
            "438/438 [==============================] - 2s 3ms/step - loss: 2.3026 - accuracy: 0.0990 - val_loss: 2.3027 - val_accuracy: 0.1008\n",
            "Epoch 19/100\n",
            "438/438 [==============================] - 1s 3ms/step - loss: 2.3026 - accuracy: 0.0986 - val_loss: 2.3028 - val_accuracy: 0.1008\n",
            "Epoch 20/100\n",
            "438/438 [==============================] - 2s 3ms/step - loss: 2.3026 - accuracy: 0.0999 - val_loss: 2.3027 - val_accuracy: 0.1008\n",
            "Epoch 21/100\n",
            "438/438 [==============================] - 2s 3ms/step - loss: 2.3026 - accuracy: 0.0999 - val_loss: 2.3027 - val_accuracy: 0.1008\n",
            "Epoch 22/100\n",
            "438/438 [==============================] - 2s 3ms/step - loss: 2.3026 - accuracy: 0.1022 - val_loss: 2.3028 - val_accuracy: 0.1008\n",
            "Epoch 23/100\n",
            "438/438 [==============================] - 2s 4ms/step - loss: 2.3026 - accuracy: 0.1026 - val_loss: 2.3027 - val_accuracy: 0.1017\n",
            "Epoch 24/100\n",
            "438/438 [==============================] - 2s 3ms/step - loss: 2.3026 - accuracy: 0.1015 - val_loss: 2.3028 - val_accuracy: 0.1017\n",
            "Epoch 25/100\n",
            "438/438 [==============================] - 2s 4ms/step - loss: 2.3026 - accuracy: 0.1004 - val_loss: 2.3027 - val_accuracy: 0.1017\n",
            "Epoch 26/100\n",
            "438/438 [==============================] - 1s 3ms/step - loss: 2.3026 - accuracy: 0.0978 - val_loss: 2.3028 - val_accuracy: 0.1017\n",
            "Epoch 27/100\n",
            "438/438 [==============================] - 1s 3ms/step - loss: 2.3026 - accuracy: 0.1011 - val_loss: 2.3028 - val_accuracy: 0.1017\n",
            "Epoch 28/100\n",
            "438/438 [==============================] - 2s 3ms/step - loss: 2.3026 - accuracy: 0.1002 - val_loss: 2.3028 - val_accuracy: 0.1017\n",
            "Epoch 29/100\n",
            "438/438 [==============================] - 1s 3ms/step - loss: 2.3026 - accuracy: 0.1008 - val_loss: 2.3027 - val_accuracy: 0.1017\n",
            "Epoch 30/100\n",
            "438/438 [==============================] - 2s 3ms/step - loss: 2.3026 - accuracy: 0.1037 - val_loss: 2.3027 - val_accuracy: 0.1008\n",
            "Epoch 31/100\n",
            "438/438 [==============================] - 2s 4ms/step - loss: 2.3026 - accuracy: 0.1011 - val_loss: 2.3027 - val_accuracy: 0.1008\n",
            "Epoch 32/100\n",
            "438/438 [==============================] - 2s 4ms/step - loss: 2.3026 - accuracy: 0.1002 - val_loss: 2.3027 - val_accuracy: 0.1008\n",
            "Epoch 33/100\n",
            "438/438 [==============================] - 2s 3ms/step - loss: 2.3026 - accuracy: 0.1015 - val_loss: 2.3027 - val_accuracy: 0.1008\n",
            "Epoch 34/100\n",
            "438/438 [==============================] - 2s 3ms/step - loss: 2.3026 - accuracy: 0.1021 - val_loss: 2.3027 - val_accuracy: 0.1017\n",
            "Epoch 35/100\n",
            "438/438 [==============================] - 2s 3ms/step - loss: 2.3026 - accuracy: 0.0992 - val_loss: 2.3028 - val_accuracy: 0.1017\n",
            "Epoch 36/100\n",
            "438/438 [==============================] - 1s 3ms/step - loss: 2.3026 - accuracy: 0.0986 - val_loss: 2.3028 - val_accuracy: 0.1008\n",
            "Epoch 37/100\n",
            "438/438 [==============================] - 2s 3ms/step - loss: 2.3026 - accuracy: 0.1039 - val_loss: 2.3027 - val_accuracy: 0.1017\n",
            "Epoch 38/100\n",
            "438/438 [==============================] - 2s 3ms/step - loss: 2.3026 - accuracy: 0.1004 - val_loss: 2.3027 - val_accuracy: 0.1017\n",
            "Epoch 39/100\n",
            "438/438 [==============================] - 2s 3ms/step - loss: 2.3026 - accuracy: 0.1022 - val_loss: 2.3028 - val_accuracy: 0.1017\n",
            "Epoch 40/100\n",
            "438/438 [==============================] - 1s 3ms/step - loss: 2.3026 - accuracy: 0.0995 - val_loss: 2.3028 - val_accuracy: 0.1017\n",
            "Epoch 41/100\n",
            "438/438 [==============================] - 1s 3ms/step - loss: 2.3026 - accuracy: 0.1031 - val_loss: 2.3028 - val_accuracy: 0.1008\n",
            "Epoch 42/100\n",
            "438/438 [==============================] - 2s 3ms/step - loss: 2.3026 - accuracy: 0.1008 - val_loss: 2.3028 - val_accuracy: 0.1017\n",
            "Epoch 43/100\n",
            "438/438 [==============================] - 1s 3ms/step - loss: 2.3026 - accuracy: 0.0991 - val_loss: 2.3028 - val_accuracy: 0.1017\n",
            "Epoch 44/100\n",
            "438/438 [==============================] - 2s 4ms/step - loss: 2.3026 - accuracy: 0.0978 - val_loss: 2.3028 - val_accuracy: 0.1017\n",
            "Epoch 45/100\n",
            "438/438 [==============================] - 2s 3ms/step - loss: 2.3026 - accuracy: 0.1016 - val_loss: 2.3028 - val_accuracy: 0.1017\n",
            "Epoch 46/100\n",
            "438/438 [==============================] - 2s 3ms/step - loss: 2.3026 - accuracy: 0.1017 - val_loss: 2.3028 - val_accuracy: 0.1017\n",
            "Epoch 47/100\n",
            "438/438 [==============================] - 1s 3ms/step - loss: 2.3026 - accuracy: 0.1009 - val_loss: 2.3028 - val_accuracy: 0.1008\n",
            "Epoch 48/100\n",
            "438/438 [==============================] - 1s 3ms/step - loss: 2.3026 - accuracy: 0.1006 - val_loss: 2.3028 - val_accuracy: 0.1008\n",
            "Epoch 49/100\n",
            "438/438 [==============================] - 2s 3ms/step - loss: 2.3026 - accuracy: 0.0997 - val_loss: 2.3028 - val_accuracy: 0.1008\n",
            "Epoch 50/100\n",
            "438/438 [==============================] - 2s 3ms/step - loss: 2.3026 - accuracy: 0.0964 - val_loss: 2.3027 - val_accuracy: 0.1017\n",
            "Epoch 51/100\n",
            "438/438 [==============================] - 2s 4ms/step - loss: 2.3026 - accuracy: 0.1020 - val_loss: 2.3028 - val_accuracy: 0.1017\n",
            "Epoch 52/100\n",
            "438/438 [==============================] - 2s 3ms/step - loss: 2.3026 - accuracy: 0.1016 - val_loss: 2.3027 - val_accuracy: 0.1017\n",
            "Epoch 53/100\n",
            "438/438 [==============================] - 2s 3ms/step - loss: 2.3026 - accuracy: 0.0989 - val_loss: 2.3028 - val_accuracy: 0.1017\n",
            "Epoch 54/100\n",
            "438/438 [==============================] - 2s 4ms/step - loss: 2.3026 - accuracy: 0.0996 - val_loss: 2.3028 - val_accuracy: 0.1017\n",
            "Epoch 55/100\n",
            "438/438 [==============================] - 1s 3ms/step - loss: 2.3026 - accuracy: 0.1023 - val_loss: 2.3028 - val_accuracy: 0.1017\n",
            "Epoch 56/100\n",
            "438/438 [==============================] - 1s 3ms/step - loss: 2.3026 - accuracy: 0.0979 - val_loss: 2.3028 - val_accuracy: 0.1017\n",
            "Epoch 57/100\n",
            "438/438 [==============================] - 1s 3ms/step - loss: 2.3026 - accuracy: 0.0984 - val_loss: 2.3028 - val_accuracy: 0.1017\n",
            "Epoch 58/100\n",
            "438/438 [==============================] - 2s 4ms/step - loss: 2.3026 - accuracy: 0.0995 - val_loss: 2.3029 - val_accuracy: 0.1008\n",
            "Epoch 59/100\n",
            "438/438 [==============================] - 1s 3ms/step - loss: 2.3026 - accuracy: 0.0969 - val_loss: 2.3028 - val_accuracy: 0.1017\n",
            "Epoch 60/100\n",
            "438/438 [==============================] - 2s 4ms/step - loss: 2.3026 - accuracy: 0.1011 - val_loss: 2.3028 - val_accuracy: 0.1008\n",
            "Epoch 61/100\n",
            "438/438 [==============================] - 2s 3ms/step - loss: 2.3026 - accuracy: 0.1007 - val_loss: 2.3028 - val_accuracy: 0.1008\n",
            "Epoch 62/100\n",
            "438/438 [==============================] - 2s 3ms/step - loss: 2.3026 - accuracy: 0.1017 - val_loss: 2.3028 - val_accuracy: 0.1008\n",
            "Epoch 63/100\n",
            "438/438 [==============================] - 2s 3ms/step - loss: 2.3026 - accuracy: 0.0969 - val_loss: 2.3028 - val_accuracy: 0.1008\n",
            "Epoch 64/100\n",
            "438/438 [==============================] - 2s 4ms/step - loss: 2.3026 - accuracy: 0.0991 - val_loss: 2.3028 - val_accuracy: 0.1017\n",
            "Epoch 65/100\n",
            "438/438 [==============================] - 2s 3ms/step - loss: 2.3026 - accuracy: 0.1017 - val_loss: 2.3028 - val_accuracy: 0.1017\n",
            "Epoch 66/100\n",
            "438/438 [==============================] - 2s 3ms/step - loss: 2.3026 - accuracy: 0.0986 - val_loss: 2.3028 - val_accuracy: 0.1017\n",
            "Epoch 67/100\n",
            "438/438 [==============================] - 2s 3ms/step - loss: 2.3026 - accuracy: 0.1022 - val_loss: 2.3028 - val_accuracy: 0.1008\n",
            "Epoch 68/100\n",
            "438/438 [==============================] - 1s 3ms/step - loss: 2.3026 - accuracy: 0.0999 - val_loss: 2.3028 - val_accuracy: 0.1008\n",
            "Epoch 69/100\n",
            "438/438 [==============================] - 2s 3ms/step - loss: 2.3026 - accuracy: 0.1011 - val_loss: 2.3028 - val_accuracy: 0.1008\n",
            "Epoch 70/100\n",
            "438/438 [==============================] - 2s 3ms/step - loss: 2.3026 - accuracy: 0.1006 - val_loss: 2.3028 - val_accuracy: 0.1008\n",
            "Epoch 71/100\n",
            "438/438 [==============================] - 2s 3ms/step - loss: 2.3026 - accuracy: 0.1008 - val_loss: 2.3028 - val_accuracy: 0.1008\n",
            "Epoch 72/100\n",
            "438/438 [==============================] - 2s 4ms/step - loss: 2.3026 - accuracy: 0.1004 - val_loss: 2.3028 - val_accuracy: 0.1008\n",
            "Epoch 73/100\n",
            "438/438 [==============================] - 2s 4ms/step - loss: 2.3026 - accuracy: 0.1022 - val_loss: 2.3028 - val_accuracy: 0.1008\n",
            "Epoch 74/100\n",
            "438/438 [==============================] - 2s 4ms/step - loss: 2.3026 - accuracy: 0.0996 - val_loss: 2.3028 - val_accuracy: 0.1008\n",
            "Epoch 75/100\n",
            "438/438 [==============================] - 2s 3ms/step - loss: 2.3026 - accuracy: 0.0982 - val_loss: 2.3028 - val_accuracy: 0.1008\n",
            "Epoch 76/100\n",
            "438/438 [==============================] - 2s 3ms/step - loss: 2.3026 - accuracy: 0.1017 - val_loss: 2.3028 - val_accuracy: 0.1008\n",
            "Epoch 77/100\n",
            "438/438 [==============================] - 1s 3ms/step - loss: 2.3026 - accuracy: 0.1027 - val_loss: 2.3028 - val_accuracy: 0.1008\n",
            "Epoch 78/100\n",
            "438/438 [==============================] - 2s 4ms/step - loss: 2.3026 - accuracy: 0.1005 - val_loss: 2.3028 - val_accuracy: 0.1008\n",
            "Epoch 79/100\n",
            "438/438 [==============================] - 2s 3ms/step - loss: 2.3026 - accuracy: 0.1001 - val_loss: 2.3027 - val_accuracy: 0.1008\n",
            "Epoch 80/100\n",
            "438/438 [==============================] - 2s 4ms/step - loss: 2.3026 - accuracy: 0.1018 - val_loss: 2.3028 - val_accuracy: 0.1008\n",
            "Epoch 81/100\n",
            "438/438 [==============================] - 2s 3ms/step - loss: 2.3026 - accuracy: 0.1009 - val_loss: 2.3028 - val_accuracy: 0.1017\n",
            "Epoch 82/100\n",
            "438/438 [==============================] - 1s 3ms/step - loss: 2.3026 - accuracy: 0.1018 - val_loss: 2.3028 - val_accuracy: 0.1008\n",
            "Epoch 83/100\n",
            "438/438 [==============================] - 2s 4ms/step - loss: 2.3026 - accuracy: 0.1019 - val_loss: 2.3028 - val_accuracy: 0.1017\n",
            "Epoch 84/100\n",
            "438/438 [==============================] - 1s 3ms/step - loss: 2.3026 - accuracy: 0.0965 - val_loss: 2.3027 - val_accuracy: 0.1008\n",
            "Epoch 85/100\n",
            "438/438 [==============================] - 2s 3ms/step - loss: 2.3026 - accuracy: 0.0994 - val_loss: 2.3027 - val_accuracy: 0.1008\n",
            "Epoch 86/100\n",
            "438/438 [==============================] - 1s 3ms/step - loss: 2.3026 - accuracy: 0.1016 - val_loss: 2.3028 - val_accuracy: 0.1008\n",
            "Epoch 87/100\n",
            "438/438 [==============================] - 2s 4ms/step - loss: 2.3026 - accuracy: 0.1011 - val_loss: 2.3028 - val_accuracy: 0.1008\n",
            "Epoch 88/100\n",
            "438/438 [==============================] - 1s 3ms/step - loss: 2.3026 - accuracy: 0.1008 - val_loss: 2.3028 - val_accuracy: 0.1008\n",
            "Epoch 89/100\n",
            "438/438 [==============================] - 2s 4ms/step - loss: 2.3026 - accuracy: 0.1025 - val_loss: 2.3028 - val_accuracy: 0.1017\n",
            "Epoch 90/100\n",
            "438/438 [==============================] - 2s 4ms/step - loss: 2.3026 - accuracy: 0.1012 - val_loss: 2.3028 - val_accuracy: 0.1008\n",
            "Epoch 91/100\n",
            "438/438 [==============================] - 2s 3ms/step - loss: 2.3026 - accuracy: 0.1017 - val_loss: 2.3027 - val_accuracy: 0.1008\n",
            "Epoch 92/100\n",
            "438/438 [==============================] - 2s 4ms/step - loss: 2.3026 - accuracy: 0.1031 - val_loss: 2.3028 - val_accuracy: 0.1008\n",
            "Epoch 93/100\n",
            "438/438 [==============================] - 2s 3ms/step - loss: 2.3026 - accuracy: 0.1019 - val_loss: 2.3027 - val_accuracy: 0.1017\n",
            "Epoch 94/100\n",
            "438/438 [==============================] - 2s 4ms/step - loss: 2.3026 - accuracy: 0.0995 - val_loss: 2.3028 - val_accuracy: 0.1008\n",
            "Epoch 95/100\n",
            "438/438 [==============================] - 1s 3ms/step - loss: 2.3026 - accuracy: 0.0970 - val_loss: 2.3028 - val_accuracy: 0.1008\n",
            "Epoch 96/100\n",
            "438/438 [==============================] - 2s 3ms/step - loss: 2.3026 - accuracy: 0.1019 - val_loss: 2.3028 - val_accuracy: 0.1017\n",
            "Epoch 97/100\n",
            "438/438 [==============================] - 2s 3ms/step - loss: 2.3026 - accuracy: 0.1000 - val_loss: 2.3028 - val_accuracy: 0.1008\n",
            "Epoch 98/100\n",
            "438/438 [==============================] - 2s 3ms/step - loss: 2.3026 - accuracy: 0.0999 - val_loss: 2.3028 - val_accuracy: 0.1017\n",
            "Epoch 99/100\n",
            "438/438 [==============================] - 2s 4ms/step - loss: 2.3026 - accuracy: 0.0992 - val_loss: 2.3028 - val_accuracy: 0.1008\n",
            "Epoch 100/100\n",
            "438/438 [==============================] - 2s 3ms/step - loss: 2.3026 - accuracy: 0.0992 - val_loss: 2.3027 - val_accuracy: 0.1008\n"
          ],
          "name": "stdout"
        }
      ]
    },
    {
      "cell_type": "code",
      "metadata": {
        "colab": {
          "base_uri": "https://localhost:8080/",
          "height": 265
        },
        "id": "4zOAcanLTNn8",
        "outputId": "dbead9ad-f827-4bca-c991-882bb1161ddf"
      },
      "source": [
        "plt.plot(history.history['accuracy'])\r\n",
        "plt.plot(history.history['val_accuracy'])\r\n",
        "plt.legend(['training', 'validation'], loc = 'upper left')\r\n",
        "plt.show()"
      ],
      "execution_count": null,
      "outputs": [
        {
          "output_type": "display_data",
          "data": {
            "image/png": "[encoded data removed]",
            "text/plain": [
              "<Figure size 432x288 with 1 Axes>"
            ]
          },
          "metadata": {
            "tags": [],
            "needs_background": "light"
          }
        }
      ]
    },
    {
      "cell_type": "code",
      "metadata": {
        "colab": {
          "base_uri": "https://localhost:8080/"
        },
        "id": "KQsTfQB8WavF",
        "outputId": "3903a8a8-f141-4ea3-fa98-658e8aaee58e"
      },
      "source": [
        "results = model.evaluate(X_test, y_test)"
      ],
      "execution_count": null,
      "outputs": [
        {
          "output_type": "stream",
          "text": [
            "313/313 [==============================] - 1s 2ms/step - loss: 2.3028 - accuracy: 0.1000\n"
          ],
          "name": "stdout"
        }
      ]
    },
    {
      "cell_type": "code",
      "metadata": {
        "colab": {
          "base_uri": "https://localhost:8080/"
        },
        "id": "mQAIC8uKWq02",
        "outputId": "96b46d4d-46a3-49c3-d84b-de88e1399fe9"
      },
      "source": [
        "print('Test accuracy: ', results[1])"
      ],
      "execution_count": null,
      "outputs": [
        {
          "output_type": "stream",
          "text": [
            "Test accuracy:  0.10000000149011612\n"
          ],
          "name": "stdout"
        }
      ]
    },
    {
      "cell_type": "markdown",
      "metadata": {
        "id": "F__5gwKbW4yl"
      },
      "source": [
        "# 1. Weight Initialization\r\n",
        "\r\n",
        "\r\n",
        "*   Changing weight initialization scheme can significantly improve training of \r\n",
        "    the model by preventing vanishing gradient problem up to some degree\r\n",
        "*   He normal or Xavier normal initialization schemes are SOTA at the moment\r\n",
        "*   Doc: https://keras.io/initializers/\r\n",
        "\r\n"
      ]
    },
    {
      "cell_type": "code",
      "metadata": {
        "id": "PVqqEr1bW0bO"
      },
      "source": [
        "model = Sequential()"
      ],
      "execution_count": null,
      "outputs": []
    },
    {
      "cell_type": "code",
      "metadata": {
        "id": "F5h6OsJ4ZAeT"
      },
      "source": [
        "    model.add(Dense(50, input_shape = (3072, ), kernel_initializer='he_normal'))     # use he_normal initializer\r\n",
        "    model.add(Activation('sigmoid'))    \r\n",
        "    model.add(Dense(50, kernel_initializer='he_normal'))                            # use he_normal initializer\r\n",
        "    model.add(Activation('sigmoid'))    \r\n",
        "    model.add(Dense(50, kernel_initializer='he_normal'))                            # use he_normal initializer\r\n",
        "    model.add(Activation('sigmoid'))    \r\n",
        "    model.add(Dense(50, kernel_initializer='he_normal'))                            # use he_normal initializer\r\n",
        "    model.add(Activation('sigmoid'))    \r\n",
        "    model.add(Dense(10, kernel_initializer='he_normal'))                            # use he_normal initializer\r\n",
        "    model.add(Activation('softmax'))"
      ],
      "execution_count": null,
      "outputs": []
    },
    {
      "cell_type": "code",
      "metadata": {
        "id": "hcWFUhq6ZV-J"
      },
      "source": [
        "sgd = optimizers.SGD(lr = 0.001)\r\n",
        "model.compile(optimizer = sgd, loss = 'categorical_crossentropy', metrics = ['accuracy'])"
      ],
      "execution_count": null,
      "outputs": []
    },
    {
      "cell_type": "code",
      "metadata": {
        "colab": {
          "base_uri": "https://localhost:8080/"
        },
        "id": "w8l1alQydV_S",
        "outputId": "2be9e32f-7ddc-4c11-9f34-784bab08de36"
      },
      "source": [
        "history = model.fit(X_train, y_train, batch_size = 400,validation_split = 0.3, epochs = 100, verbose = 1)"
      ],
      "execution_count": null,
      "outputs": [
        {
          "output_type": "stream",
          "text": [
            "Epoch 1/100\n",
            "35/35 [==============================] - 1s 23ms/step - loss: 2.3974 - accuracy: 0.0932 - val_loss: 2.3830 - val_accuracy: 0.1030\n",
            "Epoch 2/100\n",
            "35/35 [==============================] - 1s 19ms/step - loss: 2.3771 - accuracy: 0.0973 - val_loss: 2.3749 - val_accuracy: 0.1037\n",
            "Epoch 3/100\n",
            "35/35 [==============================] - 1s 18ms/step - loss: 2.3753 - accuracy: 0.0984 - val_loss: 2.3676 - val_accuracy: 0.1023\n",
            "Epoch 4/100\n",
            "35/35 [==============================] - 1s 18ms/step - loss: 2.3615 - accuracy: 0.1029 - val_loss: 2.3611 - val_accuracy: 0.1032\n",
            "Epoch 5/100\n",
            "35/35 [==============================] - 1s 20ms/step - loss: 2.3554 - accuracy: 0.1029 - val_loss: 2.3552 - val_accuracy: 0.1038\n",
            "Epoch 6/100\n",
            "35/35 [==============================] - 1s 19ms/step - loss: 2.3531 - accuracy: 0.1033 - val_loss: 2.3499 - val_accuracy: 0.1052\n",
            "Epoch 7/100\n",
            "35/35 [==============================] - 1s 19ms/step - loss: 2.3521 - accuracy: 0.1008 - val_loss: 2.3450 - val_accuracy: 0.1013\n",
            "Epoch 8/100\n",
            "35/35 [==============================] - 1s 20ms/step - loss: 2.3463 - accuracy: 0.1059 - val_loss: 2.3406 - val_accuracy: 0.0985\n",
            "Epoch 9/100\n",
            "35/35 [==============================] - 1s 19ms/step - loss: 2.3404 - accuracy: 0.0969 - val_loss: 2.3366 - val_accuracy: 0.0980\n",
            "Epoch 10/100\n",
            "35/35 [==============================] - 1s 18ms/step - loss: 2.3371 - accuracy: 0.0951 - val_loss: 2.3330 - val_accuracy: 0.0973\n",
            "Epoch 11/100\n",
            "35/35 [==============================] - 1s 17ms/step - loss: 2.3332 - accuracy: 0.0989 - val_loss: 2.3297 - val_accuracy: 0.0958\n",
            "Epoch 12/100\n",
            "35/35 [==============================] - 1s 17ms/step - loss: 2.3313 - accuracy: 0.0979 - val_loss: 2.3267 - val_accuracy: 0.0972\n",
            "Epoch 13/100\n",
            "35/35 [==============================] - 1s 18ms/step - loss: 2.3263 - accuracy: 0.1001 - val_loss: 2.3240 - val_accuracy: 0.0973\n",
            "Epoch 14/100\n",
            "35/35 [==============================] - 1s 20ms/step - loss: 2.3237 - accuracy: 0.1001 - val_loss: 2.3215 - val_accuracy: 0.0958\n",
            "Epoch 15/100\n",
            "35/35 [==============================] - 1s 18ms/step - loss: 2.3212 - accuracy: 0.0991 - val_loss: 2.3193 - val_accuracy: 0.0985\n",
            "Epoch 16/100\n",
            "35/35 [==============================] - 1s 17ms/step - loss: 2.3189 - accuracy: 0.1032 - val_loss: 2.3174 - val_accuracy: 0.1000\n",
            "Epoch 17/100\n",
            "35/35 [==============================] - 1s 17ms/step - loss: 2.3151 - accuracy: 0.1036 - val_loss: 2.3156 - val_accuracy: 0.1015\n",
            "Epoch 18/100\n",
            "35/35 [==============================] - 1s 17ms/step - loss: 2.3133 - accuracy: 0.1010 - val_loss: 2.3139 - val_accuracy: 0.0997\n",
            "Epoch 19/100\n",
            "35/35 [==============================] - 1s 17ms/step - loss: 2.3124 - accuracy: 0.1010 - val_loss: 2.3123 - val_accuracy: 0.0997\n",
            "Epoch 20/100\n",
            "35/35 [==============================] - 1s 18ms/step - loss: 2.3121 - accuracy: 0.0956 - val_loss: 2.3110 - val_accuracy: 0.0998\n",
            "Epoch 21/100\n",
            "35/35 [==============================] - 1s 20ms/step - loss: 2.3117 - accuracy: 0.0976 - val_loss: 2.3097 - val_accuracy: 0.0993\n",
            "Epoch 22/100\n",
            "35/35 [==============================] - 1s 17ms/step - loss: 2.3073 - accuracy: 0.1049 - val_loss: 2.3085 - val_accuracy: 0.0997\n",
            "Epoch 23/100\n",
            "35/35 [==============================] - 1s 17ms/step - loss: 2.3084 - accuracy: 0.0995 - val_loss: 2.3074 - val_accuracy: 0.1012\n",
            "Epoch 24/100\n",
            "35/35 [==============================] - 1s 17ms/step - loss: 2.3059 - accuracy: 0.1027 - val_loss: 2.3064 - val_accuracy: 0.1005\n",
            "Epoch 25/100\n",
            "35/35 [==============================] - 1s 17ms/step - loss: 2.3059 - accuracy: 0.1067 - val_loss: 2.3055 - val_accuracy: 0.1013\n",
            "Epoch 26/100\n",
            "35/35 [==============================] - 1s 17ms/step - loss: 2.3034 - accuracy: 0.1056 - val_loss: 2.3047 - val_accuracy: 0.0993\n",
            "Epoch 27/100\n",
            "35/35 [==============================] - 1s 18ms/step - loss: 2.3035 - accuracy: 0.1084 - val_loss: 2.3040 - val_accuracy: 0.1005\n",
            "Epoch 28/100\n",
            "35/35 [==============================] - 1s 17ms/step - loss: 2.3038 - accuracy: 0.1061 - val_loss: 2.3033 - val_accuracy: 0.1015\n",
            "Epoch 29/100\n",
            "35/35 [==============================] - 1s 17ms/step - loss: 2.3015 - accuracy: 0.1076 - val_loss: 2.3028 - val_accuracy: 0.1030\n",
            "Epoch 30/100\n",
            "35/35 [==============================] - 1s 18ms/step - loss: 2.3010 - accuracy: 0.1061 - val_loss: 2.3022 - val_accuracy: 0.1053\n",
            "Epoch 31/100\n",
            "35/35 [==============================] - 1s 17ms/step - loss: 2.3004 - accuracy: 0.1138 - val_loss: 2.3017 - val_accuracy: 0.1085\n",
            "Epoch 32/100\n",
            "35/35 [==============================] - 1s 17ms/step - loss: 2.2996 - accuracy: 0.1134 - val_loss: 2.3013 - val_accuracy: 0.1083\n",
            "Epoch 33/100\n",
            "35/35 [==============================] - 1s 17ms/step - loss: 2.3006 - accuracy: 0.1092 - val_loss: 2.3009 - val_accuracy: 0.1127\n",
            "Epoch 34/100\n",
            "35/35 [==============================] - 1s 17ms/step - loss: 2.2998 - accuracy: 0.1131 - val_loss: 2.3005 - val_accuracy: 0.1127\n",
            "Epoch 35/100\n",
            "35/35 [==============================] - 1s 17ms/step - loss: 2.3001 - accuracy: 0.1130 - val_loss: 2.3002 - val_accuracy: 0.1142\n",
            "Epoch 36/100\n",
            "35/35 [==============================] - 1s 17ms/step - loss: 2.2991 - accuracy: 0.1183 - val_loss: 2.2999 - val_accuracy: 0.1155\n",
            "Epoch 37/100\n",
            "35/35 [==============================] - 1s 17ms/step - loss: 2.2985 - accuracy: 0.1160 - val_loss: 2.2996 - val_accuracy: 0.1177\n",
            "Epoch 38/100\n",
            "35/35 [==============================] - 1s 17ms/step - loss: 2.2982 - accuracy: 0.1172 - val_loss: 2.2993 - val_accuracy: 0.1180\n",
            "Epoch 39/100\n",
            "35/35 [==============================] - 1s 17ms/step - loss: 2.2984 - accuracy: 0.1193 - val_loss: 2.2991 - val_accuracy: 0.1200\n",
            "Epoch 40/100\n",
            "35/35 [==============================] - 1s 17ms/step - loss: 2.2978 - accuracy: 0.1174 - val_loss: 2.2988 - val_accuracy: 0.1183\n",
            "Epoch 41/100\n",
            "35/35 [==============================] - 1s 17ms/step - loss: 2.2971 - accuracy: 0.1167 - val_loss: 2.2986 - val_accuracy: 0.1172\n",
            "Epoch 42/100\n",
            "35/35 [==============================] - 1s 17ms/step - loss: 2.2968 - accuracy: 0.1224 - val_loss: 2.2984 - val_accuracy: 0.1188\n",
            "Epoch 43/100\n",
            "35/35 [==============================] - 1s 18ms/step - loss: 2.2978 - accuracy: 0.1157 - val_loss: 2.2982 - val_accuracy: 0.1170\n",
            "Epoch 44/100\n",
            "35/35 [==============================] - 1s 17ms/step - loss: 2.2966 - accuracy: 0.1197 - val_loss: 2.2981 - val_accuracy: 0.1177\n",
            "Epoch 45/100\n",
            "35/35 [==============================] - 1s 17ms/step - loss: 2.2966 - accuracy: 0.1217 - val_loss: 2.2979 - val_accuracy: 0.1168\n",
            "Epoch 46/100\n",
            "35/35 [==============================] - 1s 17ms/step - loss: 2.2973 - accuracy: 0.1190 - val_loss: 2.2978 - val_accuracy: 0.1170\n",
            "Epoch 47/100\n",
            "35/35 [==============================] - 1s 17ms/step - loss: 2.2964 - accuracy: 0.1230 - val_loss: 2.2976 - val_accuracy: 0.1168\n",
            "Epoch 48/100\n",
            "35/35 [==============================] - 1s 17ms/step - loss: 2.2964 - accuracy: 0.1172 - val_loss: 2.2975 - val_accuracy: 0.1172\n",
            "Epoch 49/100\n",
            "35/35 [==============================] - 1s 17ms/step - loss: 2.2961 - accuracy: 0.1197 - val_loss: 2.2974 - val_accuracy: 0.1190\n",
            "Epoch 50/100\n",
            "35/35 [==============================] - 1s 17ms/step - loss: 2.2960 - accuracy: 0.1258 - val_loss: 2.2972 - val_accuracy: 0.1195\n",
            "Epoch 51/100\n",
            "35/35 [==============================] - 1s 17ms/step - loss: 2.2958 - accuracy: 0.1210 - val_loss: 2.2971 - val_accuracy: 0.1218\n",
            "Epoch 52/100\n",
            "35/35 [==============================] - 1s 18ms/step - loss: 2.2960 - accuracy: 0.1220 - val_loss: 2.2970 - val_accuracy: 0.1232\n",
            "Epoch 53/100\n",
            "35/35 [==============================] - 1s 20ms/step - loss: 2.2958 - accuracy: 0.1261 - val_loss: 2.2969 - val_accuracy: 0.1247\n",
            "Epoch 54/100\n",
            "35/35 [==============================] - 1s 18ms/step - loss: 2.2957 - accuracy: 0.1285 - val_loss: 2.2967 - val_accuracy: 0.1260\n",
            "Epoch 55/100\n",
            "35/35 [==============================] - 1s 18ms/step - loss: 2.2955 - accuracy: 0.1312 - val_loss: 2.2966 - val_accuracy: 0.1273\n",
            "Epoch 56/100\n",
            "35/35 [==============================] - 1s 17ms/step - loss: 2.2954 - accuracy: 0.1324 - val_loss: 2.2965 - val_accuracy: 0.1288\n",
            "Epoch 57/100\n",
            "35/35 [==============================] - 1s 19ms/step - loss: 2.2951 - accuracy: 0.1321 - val_loss: 2.2964 - val_accuracy: 0.1313\n",
            "Epoch 58/100\n",
            "35/35 [==============================] - 1s 19ms/step - loss: 2.2952 - accuracy: 0.1326 - val_loss: 2.2964 - val_accuracy: 0.1330\n",
            "Epoch 59/100\n",
            "35/35 [==============================] - 1s 18ms/step - loss: 2.2951 - accuracy: 0.1329 - val_loss: 2.2963 - val_accuracy: 0.1322\n",
            "Epoch 60/100\n",
            "35/35 [==============================] - 1s 19ms/step - loss: 2.2955 - accuracy: 0.1359 - val_loss: 2.2962 - val_accuracy: 0.1335\n",
            "Epoch 61/100\n",
            "35/35 [==============================] - 1s 20ms/step - loss: 2.2950 - accuracy: 0.1361 - val_loss: 2.2961 - val_accuracy: 0.1350\n",
            "Epoch 62/100\n",
            "35/35 [==============================] - 1s 17ms/step - loss: 2.2952 - accuracy: 0.1378 - val_loss: 2.2960 - val_accuracy: 0.1350\n",
            "Epoch 63/100\n",
            "35/35 [==============================] - 1s 18ms/step - loss: 2.2949 - accuracy: 0.1391 - val_loss: 2.2959 - val_accuracy: 0.1372\n",
            "Epoch 64/100\n",
            "35/35 [==============================] - 1s 20ms/step - loss: 2.2947 - accuracy: 0.1393 - val_loss: 2.2958 - val_accuracy: 0.1382\n",
            "Epoch 65/100\n",
            "35/35 [==============================] - 1s 20ms/step - loss: 2.2950 - accuracy: 0.1424 - val_loss: 2.2958 - val_accuracy: 0.1392\n",
            "Epoch 66/100\n",
            "35/35 [==============================] - 1s 19ms/step - loss: 2.2942 - accuracy: 0.1493 - val_loss: 2.2957 - val_accuracy: 0.1385\n",
            "Epoch 67/100\n",
            "35/35 [==============================] - 1s 17ms/step - loss: 2.2944 - accuracy: 0.1504 - val_loss: 2.2956 - val_accuracy: 0.1388\n",
            "Epoch 68/100\n",
            "35/35 [==============================] - 1s 17ms/step - loss: 2.2943 - accuracy: 0.1474 - val_loss: 2.2955 - val_accuracy: 0.1388\n",
            "Epoch 69/100\n",
            "35/35 [==============================] - 1s 17ms/step - loss: 2.2944 - accuracy: 0.1446 - val_loss: 2.2954 - val_accuracy: 0.1400\n",
            "Epoch 70/100\n",
            "35/35 [==============================] - 1s 17ms/step - loss: 2.2940 - accuracy: 0.1574 - val_loss: 2.2953 - val_accuracy: 0.1398\n",
            "Epoch 71/100\n",
            "35/35 [==============================] - 1s 18ms/step - loss: 2.2942 - accuracy: 0.1445 - val_loss: 2.2952 - val_accuracy: 0.1422\n",
            "Epoch 72/100\n",
            "35/35 [==============================] - 1s 17ms/step - loss: 2.2941 - accuracy: 0.1500 - val_loss: 2.2952 - val_accuracy: 0.1415\n",
            "Epoch 73/100\n",
            "35/35 [==============================] - 1s 18ms/step - loss: 2.2939 - accuracy: 0.1464 - val_loss: 2.2951 - val_accuracy: 0.1437\n",
            "Epoch 74/100\n",
            "35/35 [==============================] - 1s 17ms/step - loss: 2.2939 - accuracy: 0.1551 - val_loss: 2.2950 - val_accuracy: 0.1437\n",
            "Epoch 75/100\n",
            "35/35 [==============================] - 1s 17ms/step - loss: 2.2934 - accuracy: 0.1553 - val_loss: 2.2949 - val_accuracy: 0.1432\n",
            "Epoch 76/100\n",
            "35/35 [==============================] - 1s 17ms/step - loss: 2.2940 - accuracy: 0.1523 - val_loss: 2.2948 - val_accuracy: 0.1448\n",
            "Epoch 77/100\n",
            "35/35 [==============================] - 1s 17ms/step - loss: 2.2936 - accuracy: 0.1548 - val_loss: 2.2948 - val_accuracy: 0.1453\n",
            "Epoch 78/100\n",
            "35/35 [==============================] - 1s 19ms/step - loss: 2.2932 - accuracy: 0.1558 - val_loss: 2.2947 - val_accuracy: 0.1465\n",
            "Epoch 79/100\n",
            "35/35 [==============================] - 1s 19ms/step - loss: 2.2940 - accuracy: 0.1541 - val_loss: 2.2946 - val_accuracy: 0.1468\n",
            "Epoch 80/100\n",
            "35/35 [==============================] - 1s 17ms/step - loss: 2.2934 - accuracy: 0.1596 - val_loss: 2.2945 - val_accuracy: 0.1465\n",
            "Epoch 81/100\n",
            "35/35 [==============================] - 1s 18ms/step - loss: 2.2934 - accuracy: 0.1581 - val_loss: 2.2945 - val_accuracy: 0.1485\n",
            "Epoch 82/100\n",
            "35/35 [==============================] - 1s 17ms/step - loss: 2.2931 - accuracy: 0.1612 - val_loss: 2.2944 - val_accuracy: 0.1492\n",
            "Epoch 83/100\n",
            "35/35 [==============================] - 1s 19ms/step - loss: 2.2931 - accuracy: 0.1612 - val_loss: 2.2943 - val_accuracy: 0.1490\n",
            "Epoch 84/100\n",
            "35/35 [==============================] - 1s 19ms/step - loss: 2.2933 - accuracy: 0.1548 - val_loss: 2.2943 - val_accuracy: 0.1502\n",
            "Epoch 85/100\n",
            "35/35 [==============================] - 1s 19ms/step - loss: 2.2932 - accuracy: 0.1616 - val_loss: 2.2942 - val_accuracy: 0.1492\n",
            "Epoch 86/100\n",
            "35/35 [==============================] - 1s 20ms/step - loss: 2.2931 - accuracy: 0.1586 - val_loss: 2.2942 - val_accuracy: 0.1508\n",
            "Epoch 87/100\n",
            "35/35 [==============================] - 1s 19ms/step - loss: 2.2930 - accuracy: 0.1590 - val_loss: 2.2941 - val_accuracy: 0.1520\n",
            "Epoch 88/100\n",
            "35/35 [==============================] - 1s 18ms/step - loss: 2.2931 - accuracy: 0.1600 - val_loss: 2.2940 - val_accuracy: 0.1518\n",
            "Epoch 89/100\n",
            "35/35 [==============================] - 1s 19ms/step - loss: 2.2930 - accuracy: 0.1613 - val_loss: 2.2940 - val_accuracy: 0.1520\n",
            "Epoch 90/100\n",
            "35/35 [==============================] - 1s 19ms/step - loss: 2.2927 - accuracy: 0.1668 - val_loss: 2.2939 - val_accuracy: 0.1527\n",
            "Epoch 91/100\n",
            "35/35 [==============================] - 1s 19ms/step - loss: 2.2922 - accuracy: 0.1673 - val_loss: 2.2938 - val_accuracy: 0.1533\n",
            "Epoch 92/100\n",
            "35/35 [==============================] - 1s 19ms/step - loss: 2.2928 - accuracy: 0.1609 - val_loss: 2.2938 - val_accuracy: 0.1547\n",
            "Epoch 93/100\n",
            "35/35 [==============================] - 1s 19ms/step - loss: 2.2922 - accuracy: 0.1687 - val_loss: 2.2937 - val_accuracy: 0.1543\n",
            "Epoch 94/100\n",
            "35/35 [==============================] - 1s 19ms/step - loss: 2.2925 - accuracy: 0.1628 - val_loss: 2.2937 - val_accuracy: 0.1548\n",
            "Epoch 95/100\n",
            "35/35 [==============================] - 1s 19ms/step - loss: 2.2923 - accuracy: 0.1652 - val_loss: 2.2936 - val_accuracy: 0.1562\n",
            "Epoch 96/100\n",
            "35/35 [==============================] - 1s 17ms/step - loss: 2.2920 - accuracy: 0.1660 - val_loss: 2.2936 - val_accuracy: 0.1562\n",
            "Epoch 97/100\n",
            "35/35 [==============================] - 1s 17ms/step - loss: 2.2917 - accuracy: 0.1704 - val_loss: 2.2935 - val_accuracy: 0.1557\n",
            "Epoch 98/100\n",
            "35/35 [==============================] - 1s 17ms/step - loss: 2.2924 - accuracy: 0.1607 - val_loss: 2.2934 - val_accuracy: 0.1583\n",
            "Epoch 99/100\n",
            "35/35 [==============================] - 1s 20ms/step - loss: 2.2919 - accuracy: 0.1662 - val_loss: 2.2933 - val_accuracy: 0.1570\n",
            "Epoch 100/100\n",
            "35/35 [==============================] - 1s 20ms/step - loss: 2.2921 - accuracy: 0.1657 - val_loss: 2.2933 - val_accuracy: 0.1583\n"
          ],
          "name": "stdout"
        }
      ]
    },
    {
      "cell_type": "code",
      "metadata": {
        "colab": {
          "base_uri": "https://localhost:8080/",
          "height": 268
        },
        "id": "F61gpVe1d8sW",
        "outputId": "f6f8bcff-a228-48f0-9554-581730bf4529"
      },
      "source": [
        "plt.plot(history.history['accuracy'])\r\n",
        "plt.plot(history.history['val_accuracy'])\r\n",
        "plt.legend(['training', 'validation'], loc = 'upper left')\r\n",
        "plt.show()"
      ],
      "execution_count": null,
      "outputs": [
        {
          "output_type": "display_data",
          "data": {
            "image/png": "[encoded data removed]",
            "text/plain": [
              "<Figure size 432x288 with 1 Axes>"
            ]
          },
          "metadata": {
            "tags": [],
            "needs_background": "light"
          }
        }
      ]
    },
    {
      "cell_type": "code",
      "metadata": {
        "colab": {
          "base_uri": "https://localhost:8080/"
        },
        "id": "7Ax89UdWgUaJ",
        "outputId": "215d4fec-26df-43fd-cd9c-077b45288815"
      },
      "source": [
        "results = model.evaluate(X_test, y_test)"
      ],
      "execution_count": null,
      "outputs": [
        {
          "output_type": "stream",
          "text": [
            "313/313 [==============================] - 1s 2ms/step - loss: 2.2933 - accuracy: 0.1582\n"
          ],
          "name": "stdout"
        }
      ]
    },
    {
      "cell_type": "code",
      "metadata": {
        "colab": {
          "base_uri": "https://localhost:8080/"
        },
        "id": "ZCBa7qf4gfYM",
        "outputId": "c663ad22-c0de-4cc7-bb43-54fc70eb4fef"
      },
      "source": [
        "print('Test accuracy: ', results[1])"
      ],
      "execution_count": null,
      "outputs": [
        {
          "output_type": "stream",
          "text": [
            "Test accuracy:  0.1581999957561493\n"
          ],
          "name": "stdout"
        }
      ]
    },
    {
      "cell_type": "markdown",
      "metadata": {
        "id": "UCDL43uI2Clg"
      },
      "source": [
        "# 2. Nonlinearity (Activation function)\r\n",
        "\r\n",
        "*   Sigmoid functions suffer from gradient vanishing problem, making training \r\n",
        "    slower\r\n",
        "*   There are many choices apart from sigmoid and tanh; try many of them!  \r\n",
        "\r\n",
        "      1.  'relu' (rectified linear unit) is one of the most popular ones\r\n",
        "      2.  'selu' (scaled exponential linear unit) is one of the most recent ones\r\n",
        "\r\n",
        "*   Doc: https://keras.io/activations/\r\n",
        "\r\n",
        "\r\n"
      ]
    },
    {
      "cell_type": "code",
      "metadata": {
        "id": "b3bG9gf01k9x"
      },
      "source": [
        "model = Sequential()"
      ],
      "execution_count": null,
      "outputs": []
    },
    {
      "cell_type": "code",
      "metadata": {
        "id": "-a0U58fl4U3W"
      },
      "source": [
        "model.add(Dense(50, input_shape = (3072, ), kernel_initializer='he_normal'))\r\n",
        "model.add(Activation('relu'))    # use relu\r\n",
        "model.add(Dense(50, kernel_initializer='he_normal'))\r\n",
        "model.add(Activation('relu'))    # use relu\r\n",
        "model.add(Dense(50, kernel_initializer='he_normal'))\r\n",
        "model.add(Activation('relu'))    # use relu\r\n",
        "model.add(Dense(50, kernel_initializer='he_normal'))\r\n",
        "model.add(Activation('relu'))    # use relu\r\n",
        "model.add(Dense(10, kernel_initializer='he_normal'))\r\n",
        "model.add(Activation('softmax'))"
      ],
      "execution_count": null,
      "outputs": []
    },
    {
      "cell_type": "code",
      "metadata": {
        "id": "JolFEERB5f5_"
      },
      "source": [
        "sgd = optimizers.SGD(lr = 0.001)\r\n",
        "model.compile(optimizer = sgd, loss = 'categorical_crossentropy', metrics = ['accuracy'])"
      ],
      "execution_count": null,
      "outputs": []
    },
    {
      "cell_type": "code",
      "metadata": {
        "colab": {
          "base_uri": "https://localhost:8080/"
        },
        "id": "q2Rjaxng6VxI",
        "outputId": "e34a0d32-b955-430d-c52d-c6b1b0e7d520"
      },
      "source": [
        "history = model.fit(X_train, y_train, validation_split = 0.3, epochs = 100, verbose = 1)"
      ],
      "execution_count": null,
      "outputs": [
        {
          "output_type": "stream",
          "text": [
            "Epoch 1/100\n",
            "438/438 [==============================] - 2s 4ms/step - loss: 38995859373116.6094 - accuracy: 0.1065 - val_loss: 2.3026 - val_accuracy: 0.1005\n",
            "Epoch 2/100\n",
            "438/438 [==============================] - 2s 4ms/step - loss: 2.3025 - accuracy: 0.1034 - val_loss: 2.3026 - val_accuracy: 0.1008\n",
            "Epoch 3/100\n",
            "438/438 [==============================] - 2s 4ms/step - loss: 2.3025 - accuracy: 0.0999 - val_loss: 2.3026 - val_accuracy: 0.1008\n",
            "Epoch 4/100\n",
            "438/438 [==============================] - 2s 4ms/step - loss: 2.3025 - accuracy: 0.1052 - val_loss: 2.3026 - val_accuracy: 0.1008\n",
            "Epoch 5/100\n",
            "438/438 [==============================] - 2s 4ms/step - loss: 2.3026 - accuracy: 0.0982 - val_loss: 2.3026 - val_accuracy: 0.1008\n",
            "Epoch 6/100\n",
            "438/438 [==============================] - 2s 4ms/step - loss: 2.3025 - accuracy: 0.1017 - val_loss: 2.3026 - val_accuracy: 0.1008\n",
            "Epoch 7/100\n",
            "438/438 [==============================] - 2s 4ms/step - loss: 2.3025 - accuracy: 0.1092 - val_loss: 2.3026 - val_accuracy: 0.1008\n",
            "Epoch 8/100\n",
            "438/438 [==============================] - 2s 4ms/step - loss: 2.3025 - accuracy: 0.0994 - val_loss: 2.3026 - val_accuracy: 0.1008\n",
            "Epoch 9/100\n",
            "438/438 [==============================] - 2s 4ms/step - loss: 2.3025 - accuracy: 0.0992 - val_loss: 2.3026 - val_accuracy: 0.1008\n",
            "Epoch 10/100\n",
            "438/438 [==============================] - 2s 4ms/step - loss: 2.3024 - accuracy: 0.1023 - val_loss: 2.3026 - val_accuracy: 0.1008\n",
            "Epoch 11/100\n",
            "438/438 [==============================] - 2s 4ms/step - loss: 2.3025 - accuracy: 0.0947 - val_loss: 2.3026 - val_accuracy: 0.1008\n",
            "Epoch 12/100\n",
            "438/438 [==============================] - 1s 3ms/step - loss: 2.3024 - accuracy: 0.1013 - val_loss: 2.3026 - val_accuracy: 0.1008\n",
            "Epoch 13/100\n",
            "438/438 [==============================] - 2s 3ms/step - loss: 2.3024 - accuracy: 0.0989 - val_loss: 2.3026 - val_accuracy: 0.1008\n",
            "Epoch 14/100\n",
            "438/438 [==============================] - 2s 4ms/step - loss: 2.3025 - accuracy: 0.1036 - val_loss: 2.3026 - val_accuracy: 0.1008\n",
            "Epoch 15/100\n",
            "438/438 [==============================] - 2s 3ms/step - loss: 2.3024 - accuracy: 0.1043 - val_loss: 2.3026 - val_accuracy: 0.1008\n",
            "Epoch 16/100\n",
            "438/438 [==============================] - 2s 3ms/step - loss: 2.3025 - accuracy: 0.1073 - val_loss: 2.3026 - val_accuracy: 0.1008\n",
            "Epoch 17/100\n",
            "438/438 [==============================] - 2s 4ms/step - loss: 2.3024 - accuracy: 0.1044 - val_loss: 2.3026 - val_accuracy: 0.1008\n",
            "Epoch 18/100\n",
            "438/438 [==============================] - 2s 4ms/step - loss: 2.3024 - accuracy: 0.1045 - val_loss: 2.3026 - val_accuracy: 0.1008\n",
            "Epoch 19/100\n",
            "438/438 [==============================] - 2s 4ms/step - loss: 2.3023 - accuracy: 0.1045 - val_loss: 2.3026 - val_accuracy: 0.1008\n",
            "Epoch 20/100\n",
            "438/438 [==============================] - 2s 4ms/step - loss: 2.3023 - accuracy: 0.1027 - val_loss: 2.3026 - val_accuracy: 0.1008\n",
            "Epoch 21/100\n",
            "438/438 [==============================] - 2s 4ms/step - loss: 2.3024 - accuracy: 0.1002 - val_loss: 2.3026 - val_accuracy: 0.1008\n",
            "Epoch 22/100\n",
            "438/438 [==============================] - 1s 3ms/step - loss: 2.3023 - accuracy: 0.1060 - val_loss: 2.3026 - val_accuracy: 0.1008\n",
            "Epoch 23/100\n",
            "438/438 [==============================] - 1s 3ms/step - loss: 2.3023 - accuracy: 0.1053 - val_loss: 2.3027 - val_accuracy: 0.1008\n",
            "Epoch 24/100\n",
            "438/438 [==============================] - 2s 4ms/step - loss: 2.3026 - accuracy: 0.0959 - val_loss: 2.3027 - val_accuracy: 0.1008\n",
            "Epoch 25/100\n",
            "438/438 [==============================] - 2s 4ms/step - loss: 2.3024 - accuracy: 0.1025 - val_loss: 2.3027 - val_accuracy: 0.1008\n",
            "Epoch 26/100\n",
            "438/438 [==============================] - 2s 4ms/step - loss: 2.3024 - accuracy: 0.1058 - val_loss: 2.3027 - val_accuracy: 0.1008\n",
            "Epoch 27/100\n",
            "438/438 [==============================] - 2s 4ms/step - loss: 2.3024 - accuracy: 0.1054 - val_loss: 2.3027 - val_accuracy: 0.1008\n",
            "Epoch 28/100\n",
            "438/438 [==============================] - 2s 4ms/step - loss: 2.3023 - accuracy: 0.1021 - val_loss: 2.3027 - val_accuracy: 0.1008\n",
            "Epoch 29/100\n",
            "438/438 [==============================] - 2s 4ms/step - loss: 2.3025 - accuracy: 0.1015 - val_loss: 2.3027 - val_accuracy: 0.1008\n",
            "Epoch 30/100\n",
            "438/438 [==============================] - 2s 4ms/step - loss: 2.3022 - accuracy: 0.1028 - val_loss: 2.3027 - val_accuracy: 0.1008\n",
            "Epoch 31/100\n",
            "438/438 [==============================] - 2s 4ms/step - loss: 2.3026 - accuracy: 0.1029 - val_loss: 2.3027 - val_accuracy: 0.1008\n",
            "Epoch 32/100\n",
            "438/438 [==============================] - 2s 4ms/step - loss: 2.3024 - accuracy: 0.1039 - val_loss: 2.3027 - val_accuracy: 0.1008\n",
            "Epoch 33/100\n",
            "438/438 [==============================] - 2s 3ms/step - loss: 2.3026 - accuracy: 0.0998 - val_loss: 2.3027 - val_accuracy: 0.1008\n",
            "Epoch 34/100\n",
            "438/438 [==============================] - 2s 4ms/step - loss: 2.3023 - accuracy: 0.0994 - val_loss: 2.3027 - val_accuracy: 0.1008\n",
            "Epoch 35/100\n",
            "438/438 [==============================] - 2s 4ms/step - loss: 2.3023 - accuracy: 0.1036 - val_loss: 2.3027 - val_accuracy: 0.1008\n",
            "Epoch 36/100\n",
            "438/438 [==============================] - 2s 4ms/step - loss: 2.3022 - accuracy: 0.1070 - val_loss: 2.3027 - val_accuracy: 0.1008\n",
            "Epoch 37/100\n",
            "438/438 [==============================] - 2s 3ms/step - loss: 2.3026 - accuracy: 0.1019 - val_loss: 2.3027 - val_accuracy: 0.1008\n",
            "Epoch 38/100\n",
            "438/438 [==============================] - 2s 3ms/step - loss: 2.3023 - accuracy: 0.1010 - val_loss: 2.3027 - val_accuracy: 0.1008\n",
            "Epoch 39/100\n",
            "438/438 [==============================] - 1s 3ms/step - loss: 2.3025 - accuracy: 0.1042 - val_loss: 2.3027 - val_accuracy: 0.1008\n",
            "Epoch 40/100\n",
            "438/438 [==============================] - 2s 4ms/step - loss: 2.3026 - accuracy: 0.0995 - val_loss: 2.3027 - val_accuracy: 0.1008\n",
            "Epoch 41/100\n",
            "438/438 [==============================] - 2s 4ms/step - loss: 2.3028 - accuracy: 0.0986 - val_loss: 2.3027 - val_accuracy: 0.1008\n",
            "Epoch 42/100\n",
            "438/438 [==============================] - 2s 4ms/step - loss: 2.3024 - accuracy: 0.1057 - val_loss: 2.3027 - val_accuracy: 0.1008\n",
            "Epoch 43/100\n",
            "438/438 [==============================] - 2s 4ms/step - loss: 2.3023 - accuracy: 0.1022 - val_loss: 2.3027 - val_accuracy: 0.1008\n",
            "Epoch 44/100\n",
            "438/438 [==============================] - 2s 4ms/step - loss: 2.3025 - accuracy: 0.1015 - val_loss: 2.3027 - val_accuracy: 0.1008\n",
            "Epoch 45/100\n",
            "438/438 [==============================] - 2s 3ms/step - loss: 2.3024 - accuracy: 0.1074 - val_loss: 2.3027 - val_accuracy: 0.1008\n",
            "Epoch 46/100\n",
            "438/438 [==============================] - 2s 3ms/step - loss: 2.3021 - accuracy: 0.1067 - val_loss: 2.3027 - val_accuracy: 0.1008\n",
            "Epoch 47/100\n",
            "438/438 [==============================] - 2s 4ms/step - loss: 2.3025 - accuracy: 0.1018 - val_loss: 2.3027 - val_accuracy: 0.1008\n",
            "Epoch 48/100\n",
            "438/438 [==============================] - 2s 4ms/step - loss: 2.3028 - accuracy: 0.0971 - val_loss: 2.3027 - val_accuracy: 0.1008\n",
            "Epoch 49/100\n",
            "438/438 [==============================] - 2s 3ms/step - loss: 2.3024 - accuracy: 0.1049 - val_loss: 2.3027 - val_accuracy: 0.1008\n",
            "Epoch 50/100\n",
            "438/438 [==============================] - 1s 3ms/step - loss: 2.3028 - accuracy: 0.0931 - val_loss: 2.3027 - val_accuracy: 0.1008\n",
            "Epoch 51/100\n",
            "438/438 [==============================] - 2s 3ms/step - loss: 2.3025 - accuracy: 0.1029 - val_loss: 2.3027 - val_accuracy: 0.1008\n",
            "Epoch 52/100\n",
            "438/438 [==============================] - 2s 4ms/step - loss: 2.3024 - accuracy: 0.1056 - val_loss: 2.3027 - val_accuracy: 0.1008\n",
            "Epoch 53/100\n",
            "438/438 [==============================] - 1s 3ms/step - loss: 2.3022 - accuracy: 0.1049 - val_loss: 2.3027 - val_accuracy: 0.1008\n",
            "Epoch 54/100\n",
            "438/438 [==============================] - 2s 4ms/step - loss: 2.3025 - accuracy: 0.1058 - val_loss: 2.3027 - val_accuracy: 0.1008\n",
            "Epoch 55/100\n",
            "438/438 [==============================] - 2s 4ms/step - loss: 2.3023 - accuracy: 0.1092 - val_loss: 2.3027 - val_accuracy: 0.1008\n",
            "Epoch 56/100\n",
            "438/438 [==============================] - 1s 3ms/step - loss: 2.3023 - accuracy: 0.1049 - val_loss: 2.3027 - val_accuracy: 0.1008\n",
            "Epoch 57/100\n",
            "438/438 [==============================] - 2s 3ms/step - loss: 2.3023 - accuracy: 0.1037 - val_loss: 2.3027 - val_accuracy: 0.1008\n",
            "Epoch 58/100\n",
            "438/438 [==============================] - 2s 4ms/step - loss: 2.3024 - accuracy: 0.1061 - val_loss: 2.3027 - val_accuracy: 0.1008\n",
            "Epoch 59/100\n",
            "438/438 [==============================] - 2s 4ms/step - loss: 2.3026 - accuracy: 0.0955 - val_loss: 2.3027 - val_accuracy: 0.1008\n",
            "Epoch 60/100\n",
            "438/438 [==============================] - 2s 3ms/step - loss: 2.3023 - accuracy: 0.1025 - val_loss: 2.3027 - val_accuracy: 0.1008\n",
            "Epoch 61/100\n",
            "438/438 [==============================] - 2s 4ms/step - loss: 2.3021 - accuracy: 0.1048 - val_loss: 2.3027 - val_accuracy: 0.1008\n",
            "Epoch 62/100\n",
            "438/438 [==============================] - 1s 3ms/step - loss: 2.3022 - accuracy: 0.1007 - val_loss: 2.3027 - val_accuracy: 0.1008\n",
            "Epoch 63/100\n",
            "438/438 [==============================] - 2s 4ms/step - loss: 2.3024 - accuracy: 0.1036 - val_loss: 2.3027 - val_accuracy: 0.1008\n",
            "Epoch 64/100\n",
            "438/438 [==============================] - 2s 4ms/step - loss: 2.3022 - accuracy: 0.1036 - val_loss: 2.3027 - val_accuracy: 0.1008\n",
            "Epoch 65/100\n",
            "438/438 [==============================] - 2s 3ms/step - loss: 2.3020 - accuracy: 0.1034 - val_loss: 2.3027 - val_accuracy: 0.1008\n",
            "Epoch 66/100\n",
            "438/438 [==============================] - 2s 4ms/step - loss: 2.3021 - accuracy: 0.1086 - val_loss: 2.3027 - val_accuracy: 0.1008\n",
            "Epoch 67/100\n",
            "438/438 [==============================] - 2s 3ms/step - loss: 2.3026 - accuracy: 0.1009 - val_loss: 2.3027 - val_accuracy: 0.1008\n",
            "Epoch 68/100\n",
            "438/438 [==============================] - 2s 4ms/step - loss: 2.3023 - accuracy: 0.1033 - val_loss: 2.3027 - val_accuracy: 0.1008\n",
            "Epoch 69/100\n",
            "438/438 [==============================] - 2s 3ms/step - loss: 2.3024 - accuracy: 0.1024 - val_loss: 2.3027 - val_accuracy: 0.1008\n",
            "Epoch 70/100\n",
            "438/438 [==============================] - 2s 3ms/step - loss: 2.3023 - accuracy: 0.1041 - val_loss: 2.3027 - val_accuracy: 0.1008\n",
            "Epoch 71/100\n",
            "438/438 [==============================] - 2s 4ms/step - loss: 2.3027 - accuracy: 0.1006 - val_loss: 2.3027 - val_accuracy: 0.1008\n",
            "Epoch 72/100\n",
            "438/438 [==============================] - 2s 4ms/step - loss: 2.3025 - accuracy: 0.1053 - val_loss: 2.3028 - val_accuracy: 0.1008\n",
            "Epoch 73/100\n",
            "438/438 [==============================] - 2s 4ms/step - loss: 2.3024 - accuracy: 0.1028 - val_loss: 2.3028 - val_accuracy: 0.1008\n",
            "Epoch 74/100\n",
            "438/438 [==============================] - 2s 4ms/step - loss: 2.3023 - accuracy: 0.1030 - val_loss: 2.3028 - val_accuracy: 0.1008\n",
            "Epoch 75/100\n",
            "438/438 [==============================] - 1s 3ms/step - loss: 2.3021 - accuracy: 0.1039 - val_loss: 2.3028 - val_accuracy: 0.1008\n",
            "Epoch 76/100\n",
            "438/438 [==============================] - 1s 3ms/step - loss: 2.3021 - accuracy: 0.1035 - val_loss: 2.3028 - val_accuracy: 0.1008\n",
            "Epoch 77/100\n",
            "438/438 [==============================] - 2s 3ms/step - loss: 2.3024 - accuracy: 0.1045 - val_loss: 2.3028 - val_accuracy: 0.1008\n",
            "Epoch 78/100\n",
            "438/438 [==============================] - 2s 3ms/step - loss: 2.3024 - accuracy: 0.1001 - val_loss: 2.3028 - val_accuracy: 0.1008\n",
            "Epoch 79/100\n",
            "438/438 [==============================] - 2s 4ms/step - loss: 2.3025 - accuracy: 0.0993 - val_loss: 2.3028 - val_accuracy: 0.1008\n",
            "Epoch 80/100\n",
            "438/438 [==============================] - 2s 4ms/step - loss: 2.3025 - accuracy: 0.0989 - val_loss: 2.3028 - val_accuracy: 0.1008\n",
            "Epoch 81/100\n",
            "438/438 [==============================] - 2s 3ms/step - loss: 2.3024 - accuracy: 0.1007 - val_loss: 2.3028 - val_accuracy: 0.1008\n",
            "Epoch 82/100\n",
            "438/438 [==============================] - 2s 4ms/step - loss: 2.3024 - accuracy: 0.1013 - val_loss: 2.3028 - val_accuracy: 0.1008\n",
            "Epoch 83/100\n",
            "438/438 [==============================] - 2s 4ms/step - loss: 2.3026 - accuracy: 0.1058 - val_loss: 2.3028 - val_accuracy: 0.1008\n",
            "Epoch 84/100\n",
            "438/438 [==============================] - 2s 4ms/step - loss: 2.3022 - accuracy: 0.1050 - val_loss: 2.3028 - val_accuracy: 0.1008\n",
            "Epoch 85/100\n",
            "438/438 [==============================] - 2s 4ms/step - loss: 2.3021 - accuracy: 0.1012 - val_loss: 2.3028 - val_accuracy: 0.1008\n",
            "Epoch 86/100\n",
            "438/438 [==============================] - 2s 3ms/step - loss: 2.3025 - accuracy: 0.1014 - val_loss: 2.3028 - val_accuracy: 0.1008\n",
            "Epoch 87/100\n",
            "438/438 [==============================] - 2s 4ms/step - loss: 2.3022 - accuracy: 0.1008 - val_loss: 2.3028 - val_accuracy: 0.1008\n",
            "Epoch 88/100\n",
            "438/438 [==============================] - 2s 4ms/step - loss: 2.3022 - accuracy: 0.1026 - val_loss: 2.3028 - val_accuracy: 0.1008\n",
            "Epoch 89/100\n",
            "438/438 [==============================] - 1s 3ms/step - loss: 2.3021 - accuracy: 0.1027 - val_loss: 2.3028 - val_accuracy: 0.1008\n",
            "Epoch 90/100\n",
            "438/438 [==============================] - 2s 4ms/step - loss: 2.3024 - accuracy: 0.1006 - val_loss: 2.3028 - val_accuracy: 0.1008\n",
            "Epoch 91/100\n",
            "438/438 [==============================] - 2s 4ms/step - loss: 2.3024 - accuracy: 0.1012 - val_loss: 2.3028 - val_accuracy: 0.1008\n",
            "Epoch 92/100\n",
            "438/438 [==============================] - 2s 4ms/step - loss: 2.3021 - accuracy: 0.1006 - val_loss: 2.3028 - val_accuracy: 0.1008\n",
            "Epoch 93/100\n",
            "438/438 [==============================] - 2s 3ms/step - loss: 2.3024 - accuracy: 0.1023 - val_loss: 2.3028 - val_accuracy: 0.1008\n",
            "Epoch 94/100\n",
            "438/438 [==============================] - 2s 4ms/step - loss: 2.3021 - accuracy: 0.1080 - val_loss: 2.3028 - val_accuracy: 0.1008\n",
            "Epoch 95/100\n",
            "438/438 [==============================] - 2s 4ms/step - loss: 2.3024 - accuracy: 0.1052 - val_loss: 2.3028 - val_accuracy: 0.1008\n",
            "Epoch 96/100\n",
            "438/438 [==============================] - 2s 4ms/step - loss: 2.3022 - accuracy: 0.1065 - val_loss: 2.3028 - val_accuracy: 0.1008\n",
            "Epoch 97/100\n",
            "438/438 [==============================] - 2s 4ms/step - loss: 2.3026 - accuracy: 0.1015 - val_loss: 2.3028 - val_accuracy: 0.1008\n",
            "Epoch 98/100\n",
            "438/438 [==============================] - 2s 4ms/step - loss: 2.3026 - accuracy: 0.0989 - val_loss: 2.3028 - val_accuracy: 0.1008\n",
            "Epoch 99/100\n",
            "438/438 [==============================] - 1s 3ms/step - loss: 2.3025 - accuracy: 0.0992 - val_loss: 2.3028 - val_accuracy: 0.1008\n",
            "Epoch 100/100\n",
            "438/438 [==============================] - 2s 4ms/step - loss: 2.3022 - accuracy: 0.0980 - val_loss: 2.3028 - val_accuracy: 0.1008\n"
          ],
          "name": "stdout"
        }
      ]
    },
    {
      "cell_type": "code",
      "metadata": {
        "colab": {
          "base_uri": "https://localhost:8080/",
          "height": 265
        },
        "id": "VorzKb3o_CPw",
        "outputId": "9cebec71-78ff-47bd-bef6-60de77482074"
      },
      "source": [
        "plt.plot(history.history['accuracy'])\r\n",
        "plt.plot(history.history['val_accuracy'])\r\n",
        "plt.legend(['training', 'validation'], loc = 'upper left')\r\n",
        "plt.show()"
      ],
      "execution_count": null,
      "outputs": [
        {
          "output_type": "display_data",
          "data": {
            "image/png": "[encoded data removed]",
            "text/plain": [
              "<Figure size 432x288 with 1 Axes>"
            ]
          },
          "metadata": {
            "tags": [],
            "needs_background": "light"
          }
        }
      ]
    },
    {
      "cell_type": "code",
      "metadata": {
        "colab": {
          "base_uri": "https://localhost:8080/"
        },
        "id": "EKMkxzAt_N1g",
        "outputId": "b36561e9-e3b5-47a8-bac2-ce8f372fec45"
      },
      "source": [
        "results = model.evaluate(X_test, y_test)"
      ],
      "execution_count": null,
      "outputs": [
        {
          "output_type": "stream",
          "text": [
            "313/313 [==============================] - 1s 2ms/step - loss: 2.3028 - accuracy: 0.1000\n"
          ],
          "name": "stdout"
        }
      ]
    },
    {
      "cell_type": "code",
      "metadata": {
        "colab": {
          "base_uri": "https://localhost:8080/"
        },
        "id": "tQ5-RI0Q_bt5",
        "outputId": "d05b3499-a670-406b-a4ba-2888d43c03b9"
      },
      "source": [
        "print('Test Accuracy', results[1])"
      ],
      "execution_count": null,
      "outputs": [
        {
          "output_type": "stream",
          "text": [
            "Test Accuracy 0.10000000149011612\n"
          ],
          "name": "stdout"
        }
      ]
    },
    {
      "cell_type": "markdown",
      "metadata": {
        "id": "RHbrU7XO_sCu"
      },
      "source": [
        "# 3. Optimizers\r\n",
        "\r\n",
        "  *   Many variants of SGD are proposed and employed nowadays\r\n",
        "  *   One of the most popular ones are Adam (Adaptive Moment Estimation)\r\n",
        "  *   Doc: https://keras.io/optimizers/\r\n",
        "\r\n",
        "\r\n",
        "\r\n"
      ]
    },
    {
      "cell_type": "code",
      "metadata": {
        "id": "zlbp5rxDAFUJ"
      },
      "source": [
        "model = Sequential()"
      ],
      "execution_count": null,
      "outputs": []
    },
    {
      "cell_type": "code",
      "metadata": {
        "id": "w9NV_2GrAL7W"
      },
      "source": [
        "model.add(Dense(50, input_shape = (3072, )))\r\n",
        "model.add(Activation('elu'))    \r\n",
        "model.add(Dense(50))\r\n",
        "model.add(Activation('elu'))  \r\n",
        "model.add(Dense(50))\r\n",
        "model.add(Activation('elu'))    \r\n",
        "model.add(Dense(50))\r\n",
        "model.add(Activation('elu'))    \r\n",
        "model.add(Dense(10))\r\n",
        "model.add(Activation('softmax'))"
      ],
      "execution_count": null,
      "outputs": []
    },
    {
      "cell_type": "code",
      "metadata": {
        "id": "YWkROyuxAXu3"
      },
      "source": [
        "adam = optimizers.Adam(lr = 0.001)                     # use Adam optimizer\r\n",
        "model.compile(optimizer = adam, loss = 'categorical_crossentropy', metrics = ['accuracy'])"
      ],
      "execution_count": null,
      "outputs": []
    },
    {
      "cell_type": "code",
      "metadata": {
        "colab": {
          "base_uri": "https://localhost:8080/"
        },
        "id": "G3GArar9AbA9",
        "outputId": "8c09f214-c7f5-48d4-a9d1-b8756e517424"
      },
      "source": [
        "history = model.fit(X_train, y_train, validation_split = 0.3, epochs = 100, verbose = 1)"
      ],
      "execution_count": null,
      "outputs": [
        {
          "output_type": "stream",
          "text": [
            "Epoch 1/100\n",
            "438/438 [==============================] - 3s 5ms/step - loss: 17.3251 - accuracy: 0.1550 - val_loss: 2.6257 - val_accuracy: 0.1937\n",
            "Epoch 2/100\n",
            "438/438 [==============================] - 2s 4ms/step - loss: 2.3605 - accuracy: 0.1961 - val_loss: 2.0501 - val_accuracy: 0.2338\n",
            "Epoch 3/100\n",
            "438/438 [==============================] - 2s 4ms/step - loss: 2.2298 - accuracy: 0.2398 - val_loss: 2.2124 - val_accuracy: 0.1760\n",
            "Epoch 4/100\n",
            "438/438 [==============================] - 2s 4ms/step - loss: 2.2136 - accuracy: 0.2115 - val_loss: 2.0500 - val_accuracy: 0.2315\n",
            "Epoch 5/100\n",
            "438/438 [==============================] - 2s 4ms/step - loss: 2.1171 - accuracy: 0.2310 - val_loss: 2.1013 - val_accuracy: 0.2522\n",
            "Epoch 6/100\n",
            "438/438 [==============================] - 2s 4ms/step - loss: 2.1303 - accuracy: 0.2263 - val_loss: 2.2368 - val_accuracy: 0.1588\n",
            "Epoch 7/100\n",
            "438/438 [==============================] - 2s 4ms/step - loss: 2.1671 - accuracy: 0.1787 - val_loss: 2.1122 - val_accuracy: 0.1830\n",
            "Epoch 8/100\n",
            "438/438 [==============================] - 2s 4ms/step - loss: 2.1119 - accuracy: 0.1786 - val_loss: 2.1279 - val_accuracy: 0.1798\n",
            "Epoch 9/100\n",
            "438/438 [==============================] - 2s 4ms/step - loss: 2.1424 - accuracy: 0.1699 - val_loss: 2.1588 - val_accuracy: 0.1652\n",
            "Epoch 10/100\n",
            "438/438 [==============================] - 2s 4ms/step - loss: 2.0950 - accuracy: 0.1870 - val_loss: 2.3938 - val_accuracy: 0.1562\n",
            "Epoch 11/100\n",
            "438/438 [==============================] - 2s 4ms/step - loss: 2.1214 - accuracy: 0.1791 - val_loss: 2.4335 - val_accuracy: 0.1460\n",
            "Epoch 12/100\n",
            "438/438 [==============================] - 2s 4ms/step - loss: 2.1602 - accuracy: 0.1744 - val_loss: 2.0748 - val_accuracy: 0.1912\n",
            "Epoch 13/100\n",
            "438/438 [==============================] - 2s 4ms/step - loss: 2.0873 - accuracy: 0.1868 - val_loss: 2.0654 - val_accuracy: 0.1808\n",
            "Epoch 14/100\n",
            "438/438 [==============================] - 2s 4ms/step - loss: 2.0823 - accuracy: 0.1796 - val_loss: 2.0575 - val_accuracy: 0.1928\n",
            "Epoch 15/100\n",
            "438/438 [==============================] - 2s 4ms/step - loss: 2.1000 - accuracy: 0.1830 - val_loss: 2.0606 - val_accuracy: 0.1885\n",
            "Epoch 16/100\n",
            "438/438 [==============================] - 2s 4ms/step - loss: 2.0951 - accuracy: 0.1754 - val_loss: 2.0994 - val_accuracy: 0.1812\n",
            "Epoch 17/100\n",
            "438/438 [==============================] - 2s 4ms/step - loss: 2.0563 - accuracy: 0.1910 - val_loss: 2.0838 - val_accuracy: 0.1900\n",
            "Epoch 18/100\n",
            "438/438 [==============================] - 2s 4ms/step - loss: 2.0471 - accuracy: 0.1931 - val_loss: 2.0553 - val_accuracy: 0.1898\n",
            "Epoch 19/100\n",
            "438/438 [==============================] - 2s 4ms/step - loss: 2.0461 - accuracy: 0.1986 - val_loss: 2.0919 - val_accuracy: 0.1722\n",
            "Epoch 20/100\n",
            "438/438 [==============================] - 2s 4ms/step - loss: 2.0592 - accuracy: 0.1904 - val_loss: 2.0562 - val_accuracy: 0.1785\n",
            "Epoch 21/100\n",
            "438/438 [==============================] - 2s 4ms/step - loss: 2.0611 - accuracy: 0.1856 - val_loss: 2.0660 - val_accuracy: 0.1802\n",
            "Epoch 22/100\n",
            "438/438 [==============================] - 2s 4ms/step - loss: 2.0530 - accuracy: 0.1904 - val_loss: 2.0488 - val_accuracy: 0.1763\n",
            "Epoch 23/100\n",
            "438/438 [==============================] - 2s 4ms/step - loss: 2.0596 - accuracy: 0.1956 - val_loss: 2.0650 - val_accuracy: 0.1870\n",
            "Epoch 24/100\n",
            "438/438 [==============================] - 2s 4ms/step - loss: 2.0713 - accuracy: 0.1865 - val_loss: 2.0513 - val_accuracy: 0.2040\n",
            "Epoch 25/100\n",
            "438/438 [==============================] - 2s 4ms/step - loss: 2.0439 - accuracy: 0.1981 - val_loss: 2.0634 - val_accuracy: 0.2053\n",
            "Epoch 26/100\n",
            "438/438 [==============================] - 2s 4ms/step - loss: 2.0544 - accuracy: 0.1872 - val_loss: 2.0692 - val_accuracy: 0.1730\n",
            "Epoch 27/100\n",
            "438/438 [==============================] - 2s 4ms/step - loss: 2.0368 - accuracy: 0.1938 - val_loss: 2.0465 - val_accuracy: 0.1898\n",
            "Epoch 28/100\n",
            "438/438 [==============================] - 2s 4ms/step - loss: 2.0490 - accuracy: 0.1878 - val_loss: 2.0514 - val_accuracy: 0.1952\n",
            "Epoch 29/100\n",
            "438/438 [==============================] - 2s 4ms/step - loss: 2.0574 - accuracy: 0.1895 - val_loss: 2.0648 - val_accuracy: 0.1908\n",
            "Epoch 30/100\n",
            "438/438 [==============================] - 2s 4ms/step - loss: 2.0370 - accuracy: 0.1973 - val_loss: 2.0458 - val_accuracy: 0.1992\n",
            "Epoch 31/100\n",
            "438/438 [==============================] - 2s 4ms/step - loss: 2.0431 - accuracy: 0.1927 - val_loss: 2.0441 - val_accuracy: 0.1878\n",
            "Epoch 32/100\n",
            "438/438 [==============================] - 2s 4ms/step - loss: 2.0279 - accuracy: 0.2025 - val_loss: 2.0881 - val_accuracy: 0.1960\n",
            "Epoch 33/100\n",
            "438/438 [==============================] - 2s 5ms/step - loss: 2.0392 - accuracy: 0.2038 - val_loss: 2.0550 - val_accuracy: 0.1942\n",
            "Epoch 34/100\n",
            "438/438 [==============================] - 2s 4ms/step - loss: 2.0390 - accuracy: 0.2057 - val_loss: 2.0377 - val_accuracy: 0.2082\n",
            "Epoch 35/100\n",
            "438/438 [==============================] - 2s 4ms/step - loss: 2.0413 - accuracy: 0.2055 - val_loss: 2.0390 - val_accuracy: 0.1990\n",
            "Epoch 36/100\n",
            "438/438 [==============================] - 2s 4ms/step - loss: 2.0171 - accuracy: 0.2068 - val_loss: 2.0513 - val_accuracy: 0.1983\n",
            "Epoch 37/100\n",
            "438/438 [==============================] - 2s 4ms/step - loss: 2.0595 - accuracy: 0.1938 - val_loss: 2.0441 - val_accuracy: 0.1937\n",
            "Epoch 38/100\n",
            "438/438 [==============================] - 2s 4ms/step - loss: 2.0350 - accuracy: 0.2001 - val_loss: 2.0408 - val_accuracy: 0.2085\n",
            "Epoch 39/100\n",
            "438/438 [==============================] - 2s 4ms/step - loss: 2.0457 - accuracy: 0.2017 - val_loss: 2.0418 - val_accuracy: 0.1953\n",
            "Epoch 40/100\n",
            "438/438 [==============================] - 2s 4ms/step - loss: 2.0363 - accuracy: 0.1995 - val_loss: 2.0420 - val_accuracy: 0.2082\n",
            "Epoch 41/100\n",
            "438/438 [==============================] - 2s 4ms/step - loss: 2.0328 - accuracy: 0.1960 - val_loss: 2.0801 - val_accuracy: 0.1702\n",
            "Epoch 42/100\n",
            "438/438 [==============================] - 2s 4ms/step - loss: 2.0397 - accuracy: 0.1913 - val_loss: 2.0501 - val_accuracy: 0.1683\n",
            "Epoch 43/100\n",
            "438/438 [==============================] - 2s 4ms/step - loss: 2.0354 - accuracy: 0.2000 - val_loss: 2.0403 - val_accuracy: 0.1957\n",
            "Epoch 44/100\n",
            "438/438 [==============================] - 2s 4ms/step - loss: 2.0317 - accuracy: 0.2017 - val_loss: 2.0858 - val_accuracy: 0.1773\n",
            "Epoch 45/100\n",
            "438/438 [==============================] - 2s 4ms/step - loss: 2.0293 - accuracy: 0.2016 - val_loss: 2.0395 - val_accuracy: 0.2067\n",
            "Epoch 46/100\n",
            "438/438 [==============================] - 2s 4ms/step - loss: 2.0282 - accuracy: 0.2069 - val_loss: 2.1368 - val_accuracy: 0.1642\n",
            "Epoch 47/100\n",
            "438/438 [==============================] - 2s 4ms/step - loss: 2.0545 - accuracy: 0.1993 - val_loss: 2.0440 - val_accuracy: 0.1843\n",
            "Epoch 48/100\n",
            "438/438 [==============================] - 2s 4ms/step - loss: 2.0215 - accuracy: 0.2018 - val_loss: 2.0740 - val_accuracy: 0.1882\n",
            "Epoch 49/100\n",
            "438/438 [==============================] - 2s 4ms/step - loss: 2.0222 - accuracy: 0.1965 - val_loss: 2.0344 - val_accuracy: 0.2018\n",
            "Epoch 50/100\n",
            "438/438 [==============================] - 2s 4ms/step - loss: 2.0282 - accuracy: 0.2001 - val_loss: 2.0443 - val_accuracy: 0.1962\n",
            "Epoch 51/100\n",
            "438/438 [==============================] - 2s 4ms/step - loss: 2.0231 - accuracy: 0.2057 - val_loss: 2.0396 - val_accuracy: 0.2058\n",
            "Epoch 52/100\n",
            "438/438 [==============================] - 2s 4ms/step - loss: 2.0339 - accuracy: 0.1988 - val_loss: 2.0589 - val_accuracy: 0.1877\n",
            "Epoch 53/100\n",
            "438/438 [==============================] - 2s 4ms/step - loss: 2.0831 - accuracy: 0.1870 - val_loss: 2.0585 - val_accuracy: 0.1922\n",
            "Epoch 54/100\n",
            "438/438 [==============================] - 2s 4ms/step - loss: 2.0275 - accuracy: 0.2022 - val_loss: 2.0903 - val_accuracy: 0.1738\n",
            "Epoch 55/100\n",
            "438/438 [==============================] - 2s 4ms/step - loss: 2.0436 - accuracy: 0.1893 - val_loss: 2.5489 - val_accuracy: 0.1392\n",
            "Epoch 56/100\n",
            "438/438 [==============================] - 2s 4ms/step - loss: 2.1046 - accuracy: 0.1851 - val_loss: 2.0575 - val_accuracy: 0.1917\n",
            "Epoch 57/100\n",
            "438/438 [==============================] - 2s 4ms/step - loss: 2.0334 - accuracy: 0.1896 - val_loss: 2.0535 - val_accuracy: 0.1880\n",
            "Epoch 58/100\n",
            "438/438 [==============================] - 2s 4ms/step - loss: 2.0306 - accuracy: 0.1969 - val_loss: 2.0492 - val_accuracy: 0.2037\n",
            "Epoch 59/100\n",
            "438/438 [==============================] - 2s 4ms/step - loss: 2.0330 - accuracy: 0.1955 - val_loss: 2.0637 - val_accuracy: 0.1733\n",
            "Epoch 60/100\n",
            "438/438 [==============================] - 2s 4ms/step - loss: 2.2500 - accuracy: 0.1811 - val_loss: 2.1628 - val_accuracy: 0.1723\n",
            "Epoch 61/100\n",
            "438/438 [==============================] - 2s 4ms/step - loss: 2.1660 - accuracy: 0.1656 - val_loss: 2.1690 - val_accuracy: 0.1642\n",
            "Epoch 62/100\n",
            "438/438 [==============================] - 2s 4ms/step - loss: 2.1567 - accuracy: 0.1770 - val_loss: 2.1577 - val_accuracy: 0.1628\n",
            "Epoch 63/100\n",
            "438/438 [==============================] - 2s 4ms/step - loss: 2.1596 - accuracy: 0.1752 - val_loss: 2.1496 - val_accuracy: 0.1773\n",
            "Epoch 64/100\n",
            "438/438 [==============================] - 2s 4ms/step - loss: 2.1455 - accuracy: 0.1799 - val_loss: 2.1509 - val_accuracy: 0.1827\n",
            "Epoch 65/100\n",
            "438/438 [==============================] - 2s 4ms/step - loss: 2.1422 - accuracy: 0.1782 - val_loss: 2.1497 - val_accuracy: 0.1683\n",
            "Epoch 66/100\n",
            "438/438 [==============================] - 2s 4ms/step - loss: 2.1456 - accuracy: 0.1833 - val_loss: 2.1382 - val_accuracy: 0.1827\n",
            "Epoch 67/100\n",
            "438/438 [==============================] - 2s 4ms/step - loss: 2.1322 - accuracy: 0.1779 - val_loss: 2.1210 - val_accuracy: 0.1823\n",
            "Epoch 68/100\n",
            "438/438 [==============================] - 2s 4ms/step - loss: 2.1202 - accuracy: 0.1851 - val_loss: 2.1116 - val_accuracy: 0.1825\n",
            "Epoch 69/100\n",
            "438/438 [==============================] - 2s 4ms/step - loss: 2.0982 - accuracy: 0.1907 - val_loss: 2.0868 - val_accuracy: 0.1807\n",
            "Epoch 70/100\n",
            "438/438 [==============================] - 2s 4ms/step - loss: 2.0840 - accuracy: 0.1896 - val_loss: 2.0598 - val_accuracy: 0.1923\n",
            "Epoch 71/100\n",
            "438/438 [==============================] - 2s 4ms/step - loss: 2.0572 - accuracy: 0.1938 - val_loss: 2.0588 - val_accuracy: 0.1883\n",
            "Epoch 72/100\n",
            "438/438 [==============================] - 2s 4ms/step - loss: 2.0380 - accuracy: 0.1945 - val_loss: 2.0403 - val_accuracy: 0.2047\n",
            "Epoch 73/100\n",
            "438/438 [==============================] - 2s 4ms/step - loss: 2.0297 - accuracy: 0.1995 - val_loss: 2.0470 - val_accuracy: 0.1843\n",
            "Epoch 74/100\n",
            "438/438 [==============================] - 2s 5ms/step - loss: 2.0145 - accuracy: 0.2025 - val_loss: 2.0389 - val_accuracy: 0.1985\n",
            "Epoch 75/100\n",
            "438/438 [==============================] - 2s 4ms/step - loss: 2.0295 - accuracy: 0.1979 - val_loss: 2.0384 - val_accuracy: 0.1998\n",
            "Epoch 76/100\n",
            "438/438 [==============================] - 2s 4ms/step - loss: 2.0288 - accuracy: 0.2002 - val_loss: 2.0351 - val_accuracy: 0.2048\n",
            "Epoch 77/100\n",
            "438/438 [==============================] - 2s 4ms/step - loss: 2.0523 - accuracy: 0.1960 - val_loss: 2.1606 - val_accuracy: 0.1548\n",
            "Epoch 78/100\n",
            "438/438 [==============================] - 2s 5ms/step - loss: 2.1147 - accuracy: 0.1850 - val_loss: 2.0771 - val_accuracy: 0.1903\n",
            "Epoch 79/100\n",
            "438/438 [==============================] - 2s 5ms/step - loss: 2.0656 - accuracy: 0.1986 - val_loss: 2.0486 - val_accuracy: 0.1835\n",
            "Epoch 80/100\n",
            "438/438 [==============================] - 2s 4ms/step - loss: 2.0288 - accuracy: 0.1931 - val_loss: 2.0467 - val_accuracy: 0.2003\n",
            "Epoch 81/100\n",
            "438/438 [==============================] - 2s 5ms/step - loss: 2.0362 - accuracy: 0.2013 - val_loss: 2.0375 - val_accuracy: 0.1928\n",
            "Epoch 82/100\n",
            "438/438 [==============================] - 2s 4ms/step - loss: 2.0093 - accuracy: 0.2113 - val_loss: 2.0515 - val_accuracy: 0.1972\n",
            "Epoch 83/100\n",
            "438/438 [==============================] - 2s 5ms/step - loss: 2.0295 - accuracy: 0.2011 - val_loss: 2.0369 - val_accuracy: 0.1972\n",
            "Epoch 84/100\n",
            "438/438 [==============================] - 2s 4ms/step - loss: 2.0222 - accuracy: 0.2069 - val_loss: 2.0512 - val_accuracy: 0.1963\n",
            "Epoch 85/100\n",
            "438/438 [==============================] - 2s 4ms/step - loss: 2.0204 - accuracy: 0.2080 - val_loss: 2.0398 - val_accuracy: 0.1930\n",
            "Epoch 86/100\n",
            "438/438 [==============================] - 2s 4ms/step - loss: 2.0381 - accuracy: 0.1961 - val_loss: 2.0431 - val_accuracy: 0.1865\n",
            "Epoch 87/100\n",
            "438/438 [==============================] - 2s 4ms/step - loss: 2.0290 - accuracy: 0.2040 - val_loss: 2.0470 - val_accuracy: 0.2028\n",
            "Epoch 88/100\n",
            "438/438 [==============================] - 2s 4ms/step - loss: 2.1715 - accuracy: 0.1573 - val_loss: 2.3013 - val_accuracy: 0.1028\n",
            "Epoch 89/100\n",
            "438/438 [==============================] - 2s 4ms/step - loss: 2.2776 - accuracy: 0.1139 - val_loss: 2.0766 - val_accuracy: 0.1748\n",
            "Epoch 90/100\n",
            "438/438 [==============================] - 2s 4ms/step - loss: 2.1361 - accuracy: 0.1626 - val_loss: 2.1102 - val_accuracy: 0.1707\n",
            "Epoch 91/100\n",
            "438/438 [==============================] - 2s 4ms/step - loss: 2.1551 - accuracy: 0.1596 - val_loss: 2.0473 - val_accuracy: 0.2030\n",
            "Epoch 92/100\n",
            "438/438 [==============================] - 2s 4ms/step - loss: 2.0328 - accuracy: 0.1882 - val_loss: 2.0524 - val_accuracy: 0.1952\n",
            "Epoch 93/100\n",
            "438/438 [==============================] - 2s 5ms/step - loss: 2.0409 - accuracy: 0.1934 - val_loss: 2.0559 - val_accuracy: 0.1943\n",
            "Epoch 94/100\n",
            "438/438 [==============================] - 2s 4ms/step - loss: 2.0366 - accuracy: 0.1966 - val_loss: 2.0451 - val_accuracy: 0.1983\n",
            "Epoch 95/100\n",
            "438/438 [==============================] - 2s 4ms/step - loss: 2.0453 - accuracy: 0.1902 - val_loss: 2.0682 - val_accuracy: 0.1948\n",
            "Epoch 96/100\n",
            "438/438 [==============================] - 2s 4ms/step - loss: 2.0341 - accuracy: 0.2032 - val_loss: 2.0458 - val_accuracy: 0.1812\n",
            "Epoch 97/100\n",
            "438/438 [==============================] - 2s 4ms/step - loss: 2.0298 - accuracy: 0.1989 - val_loss: 2.0435 - val_accuracy: 0.1833\n",
            "Epoch 98/100\n",
            "438/438 [==============================] - 2s 4ms/step - loss: 2.0328 - accuracy: 0.1931 - val_loss: 2.0478 - val_accuracy: 0.1905\n",
            "Epoch 99/100\n",
            "438/438 [==============================] - 2s 4ms/step - loss: 2.0174 - accuracy: 0.2078 - val_loss: 2.0386 - val_accuracy: 0.1943\n",
            "Epoch 100/100\n",
            "438/438 [==============================] - 2s 5ms/step - loss: 2.0261 - accuracy: 0.1956 - val_loss: 2.0416 - val_accuracy: 0.1993\n"
          ],
          "name": "stdout"
        }
      ]
    },
    {
      "cell_type": "code",
      "metadata": {
        "colab": {
          "base_uri": "https://localhost:8080/",
          "height": 265
        },
        "id": "FP-rHcguBfD7",
        "outputId": "7c04c812-e1ce-46cd-cab3-f5e96c4110ff"
      },
      "source": [
        "plt.plot(history.history['accuracy'])\r\n",
        "plt.plot(history.history['val_accuracy'])\r\n",
        "plt.legend(['training', 'validation'], loc = 'upper left')\r\n",
        "plt.show()"
      ],
      "execution_count": null,
      "outputs": [
        {
          "output_type": "display_data",
          "data": {
            "image/png": "[encoded data removed]",
            "text/plain": [
              "<Figure size 432x288 with 1 Axes>"
            ]
          },
          "metadata": {
            "tags": [],
            "needs_background": "light"
          }
        }
      ]
    },
    {
      "cell_type": "code",
      "metadata": {
        "colab": {
          "base_uri": "https://localhost:8080/"
        },
        "id": "EB8KtWMlBpXl",
        "outputId": "d3740ae4-11dd-4fb7-98c2-95033c7489aa"
      },
      "source": [
        "results = model.evaluate(X_test, y_test)"
      ],
      "execution_count": null,
      "outputs": [
        {
          "output_type": "stream",
          "text": [
            "313/313 [==============================] - 1s 2ms/step - loss: 2.0398 - accuracy: 0.2000\n"
          ],
          "name": "stdout"
        }
      ]
    },
    {
      "cell_type": "code",
      "metadata": {
        "colab": {
          "base_uri": "https://localhost:8080/"
        },
        "id": "pxBufhIaBtn5",
        "outputId": "bbc42177-8be0-473d-bb30-6be57fdad2f4"
      },
      "source": [
        "print('Test accuracy: ', results[1])"
      ],
      "execution_count": null,
      "outputs": [
        {
          "output_type": "stream",
          "text": [
            "Test accuracy:  0.20000000298023224\n"
          ],
          "name": "stdout"
        }
      ]
    },
    {
      "cell_type": "markdown",
      "metadata": {
        "id": "S_J52m2ZB0T4"
      },
      "source": [
        "# 4. Batch Normalization"
      ]
    },
    {
      "cell_type": "code",
      "metadata": {
        "id": "6bdkwsshB2Uy"
      },
      "source": [
        "from keras.layers import BatchNormalization"
      ],
      "execution_count": null,
      "outputs": []
    },
    {
      "cell_type": "code",
      "metadata": {
        "id": "v0EM8LLYB6Qi"
      },
      "source": [
        "model = Sequential()"
      ],
      "execution_count": null,
      "outputs": []
    },
    {
      "cell_type": "code",
      "metadata": {
        "id": "KgFezdvPJ0yu"
      },
      "source": [
        "model.add(Dense(50, input_shape = (3072, )))\r\n",
        "model.add(BatchNormalization())                    # Add Batchnorm layer before Activation\r\n",
        "model.add(Activation('selu'))    \r\n",
        "model.add(Dense(50))\r\n",
        "model.add(BatchNormalization())                    # Add Batchnorm layer before Activation\r\n",
        "model.add(Activation('selu'))    \r\n",
        "model.add(Dense(50))\r\n",
        "model.add(BatchNormalization())                    # Add Batchnorm layer before Activation\r\n",
        "model.add(Activation('selu'))    \r\n",
        "model.add(Dense(50))\r\n",
        "model.add(BatchNormalization())                    # Add Batchnorm layer before Activation\r\n",
        "model.add(Activation('selu'))    \r\n",
        "model.add(Dense(10))\r\n",
        "model.add(Activation('softmax'))"
      ],
      "execution_count": null,
      "outputs": []
    },
    {
      "cell_type": "code",
      "metadata": {
        "id": "vjvJAnSzKNdo"
      },
      "source": [
        "adam = optimizers.Adam(lr = 0.001)\r\n",
        "model.compile(optimizer = adam, loss = 'categorical_crossentropy', metrics = ['accuracy'])"
      ],
      "execution_count": null,
      "outputs": []
    },
    {
      "cell_type": "code",
      "metadata": {
        "colab": {
          "base_uri": "https://localhost:8080/"
        },
        "id": "AVSzVNywKfDJ",
        "outputId": "2ed1ca35-4330-4a39-8e29-65a7f3043278"
      },
      "source": [
        "history = model.fit(X_train, y_train, validation_split = 0.3, epochs = 100, verbose = 1)"
      ],
      "execution_count": null,
      "outputs": [
        {
          "output_type": "stream",
          "text": [
            "Epoch 1/100\n",
            "438/438 [==============================] - 4s 6ms/step - loss: 2.0131 - accuracy: 0.2885 - val_loss: 1.8566 - val_accuracy: 0.3410\n",
            "Epoch 2/100\n",
            "438/438 [==============================] - 2s 5ms/step - loss: 1.7252 - accuracy: 0.3879 - val_loss: 1.9868 - val_accuracy: 0.3328\n",
            "Epoch 3/100\n",
            "438/438 [==============================] - 2s 5ms/step - loss: 1.6458 - accuracy: 0.4184 - val_loss: 1.9070 - val_accuracy: 0.3348\n",
            "Epoch 4/100\n",
            "438/438 [==============================] - 2s 5ms/step - loss: 1.5798 - accuracy: 0.4462 - val_loss: 1.7658 - val_accuracy: 0.3708\n",
            "Epoch 5/100\n",
            "438/438 [==============================] - 2s 5ms/step - loss: 1.5159 - accuracy: 0.4636 - val_loss: 1.7778 - val_accuracy: 0.3798\n",
            "Epoch 6/100\n",
            "438/438 [==============================] - 2s 5ms/step - loss: 1.4836 - accuracy: 0.4808 - val_loss: 1.9090 - val_accuracy: 0.3418\n",
            "Epoch 7/100\n",
            "438/438 [==============================] - 2s 5ms/step - loss: 1.4383 - accuracy: 0.5025 - val_loss: 1.7584 - val_accuracy: 0.4123\n",
            "Epoch 8/100\n",
            "438/438 [==============================] - 2s 5ms/step - loss: 1.3953 - accuracy: 0.5088 - val_loss: 1.7743 - val_accuracy: 0.3828\n",
            "Epoch 9/100\n",
            "438/438 [==============================] - 2s 5ms/step - loss: 1.3663 - accuracy: 0.5154 - val_loss: 1.7226 - val_accuracy: 0.4202\n",
            "Epoch 10/100\n",
            "438/438 [==============================] - 2s 5ms/step - loss: 1.3368 - accuracy: 0.5256 - val_loss: 1.7742 - val_accuracy: 0.4095\n",
            "Epoch 11/100\n",
            "438/438 [==============================] - 3s 6ms/step - loss: 1.3174 - accuracy: 0.5326 - val_loss: 1.7774 - val_accuracy: 0.4205\n",
            "Epoch 12/100\n",
            "438/438 [==============================] - 2s 6ms/step - loss: 1.2991 - accuracy: 0.5398 - val_loss: 1.9555 - val_accuracy: 0.3517\n",
            "Epoch 13/100\n",
            "438/438 [==============================] - 2s 5ms/step - loss: 1.2559 - accuracy: 0.5603 - val_loss: 1.7338 - val_accuracy: 0.4163\n",
            "Epoch 14/100\n",
            "438/438 [==============================] - 2s 5ms/step - loss: 1.2315 - accuracy: 0.5626 - val_loss: 1.9664 - val_accuracy: 0.3768\n",
            "Epoch 15/100\n",
            "438/438 [==============================] - 2s 5ms/step - loss: 1.2058 - accuracy: 0.5765 - val_loss: 1.9183 - val_accuracy: 0.3670\n",
            "Epoch 16/100\n",
            "438/438 [==============================] - 2s 5ms/step - loss: 1.1892 - accuracy: 0.5766 - val_loss: 1.9439 - val_accuracy: 0.3692\n",
            "Epoch 17/100\n",
            "438/438 [==============================] - 2s 5ms/step - loss: 1.1712 - accuracy: 0.5851 - val_loss: 1.8327 - val_accuracy: 0.4127\n",
            "Epoch 18/100\n",
            "438/438 [==============================] - 2s 5ms/step - loss: 1.1341 - accuracy: 0.5991 - val_loss: 1.9894 - val_accuracy: 0.3735\n",
            "Epoch 19/100\n",
            "438/438 [==============================] - 2s 5ms/step - loss: 1.1172 - accuracy: 0.6026 - val_loss: 1.9273 - val_accuracy: 0.3823\n",
            "Epoch 20/100\n",
            "438/438 [==============================] - 2s 6ms/step - loss: 1.1028 - accuracy: 0.6034 - val_loss: 1.8798 - val_accuracy: 0.3948\n",
            "Epoch 21/100\n",
            "438/438 [==============================] - 2s 6ms/step - loss: 1.0832 - accuracy: 0.6173 - val_loss: 1.8969 - val_accuracy: 0.3952\n",
            "Epoch 22/100\n",
            "438/438 [==============================] - 2s 5ms/step - loss: 1.0498 - accuracy: 0.6270 - val_loss: 1.8667 - val_accuracy: 0.4028\n",
            "Epoch 23/100\n",
            "438/438 [==============================] - 3s 6ms/step - loss: 1.0451 - accuracy: 0.6335 - val_loss: 1.9818 - val_accuracy: 0.3873\n",
            "Epoch 24/100\n",
            "438/438 [==============================] - 2s 5ms/step - loss: 1.0335 - accuracy: 0.6313 - val_loss: 1.8637 - val_accuracy: 0.4172\n",
            "Epoch 25/100\n",
            "438/438 [==============================] - 2s 5ms/step - loss: 1.0180 - accuracy: 0.6430 - val_loss: 2.0548 - val_accuracy: 0.3853\n",
            "Epoch 26/100\n",
            "438/438 [==============================] - 2s 6ms/step - loss: 0.9810 - accuracy: 0.6496 - val_loss: 2.3411 - val_accuracy: 0.3432\n",
            "Epoch 27/100\n",
            "438/438 [==============================] - 2s 5ms/step - loss: 0.9876 - accuracy: 0.6502 - val_loss: 1.8369 - val_accuracy: 0.4297\n",
            "Epoch 28/100\n",
            "438/438 [==============================] - 2s 5ms/step - loss: 0.9652 - accuracy: 0.6574 - val_loss: 2.1402 - val_accuracy: 0.3773\n",
            "Epoch 29/100\n",
            "438/438 [==============================] - 2s 5ms/step - loss: 0.9465 - accuracy: 0.6590 - val_loss: 2.0263 - val_accuracy: 0.3917\n",
            "Epoch 30/100\n",
            "438/438 [==============================] - 2s 6ms/step - loss: 0.9402 - accuracy: 0.6678 - val_loss: 1.9039 - val_accuracy: 0.4278\n",
            "Epoch 31/100\n",
            "438/438 [==============================] - 2s 5ms/step - loss: 0.9154 - accuracy: 0.6816 - val_loss: 2.1666 - val_accuracy: 0.3988\n",
            "Epoch 32/100\n",
            "438/438 [==============================] - 2s 5ms/step - loss: 0.9144 - accuracy: 0.6761 - val_loss: 2.0723 - val_accuracy: 0.3935\n",
            "Epoch 33/100\n",
            "438/438 [==============================] - 2s 6ms/step - loss: 0.8872 - accuracy: 0.6799 - val_loss: 2.1099 - val_accuracy: 0.3892\n",
            "Epoch 34/100\n",
            "438/438 [==============================] - 2s 6ms/step - loss: 0.8733 - accuracy: 0.6894 - val_loss: 2.1994 - val_accuracy: 0.3810\n",
            "Epoch 35/100\n",
            "438/438 [==============================] - 3s 6ms/step - loss: 0.8651 - accuracy: 0.6919 - val_loss: 2.4352 - val_accuracy: 0.3617\n",
            "Epoch 36/100\n",
            "438/438 [==============================] - 2s 6ms/step - loss: 0.8621 - accuracy: 0.6878 - val_loss: 2.2820 - val_accuracy: 0.3872\n",
            "Epoch 37/100\n",
            "438/438 [==============================] - 3s 6ms/step - loss: 0.8415 - accuracy: 0.6993 - val_loss: 2.0908 - val_accuracy: 0.4017\n",
            "Epoch 38/100\n",
            "438/438 [==============================] - 3s 6ms/step - loss: 0.8338 - accuracy: 0.7020 - val_loss: 2.0940 - val_accuracy: 0.4058\n",
            "Epoch 39/100\n",
            "438/438 [==============================] - 2s 5ms/step - loss: 0.7985 - accuracy: 0.7202 - val_loss: 2.1946 - val_accuracy: 0.3927\n",
            "Epoch 40/100\n",
            "438/438 [==============================] - 2s 5ms/step - loss: 0.7983 - accuracy: 0.7121 - val_loss: 2.0706 - val_accuracy: 0.4180\n",
            "Epoch 41/100\n",
            "438/438 [==============================] - 2s 6ms/step - loss: 0.8103 - accuracy: 0.7137 - val_loss: 2.6501 - val_accuracy: 0.3390\n",
            "Epoch 42/100\n",
            "438/438 [==============================] - 3s 6ms/step - loss: 0.7783 - accuracy: 0.7202 - val_loss: 2.3894 - val_accuracy: 0.3715\n",
            "Epoch 43/100\n",
            "438/438 [==============================] - 2s 6ms/step - loss: 0.7928 - accuracy: 0.7152 - val_loss: 2.3530 - val_accuracy: 0.3810\n",
            "Epoch 44/100\n",
            "438/438 [==============================] - 3s 6ms/step - loss: 0.7580 - accuracy: 0.7325 - val_loss: 2.1501 - val_accuracy: 0.4025\n",
            "Epoch 45/100\n",
            "438/438 [==============================] - 2s 6ms/step - loss: 0.7545 - accuracy: 0.7305 - val_loss: 2.3780 - val_accuracy: 0.3743\n",
            "Epoch 46/100\n",
            "438/438 [==============================] - 2s 5ms/step - loss: 0.7375 - accuracy: 0.7345 - val_loss: 2.4034 - val_accuracy: 0.3678\n",
            "Epoch 47/100\n",
            "438/438 [==============================] - 2s 6ms/step - loss: 0.7385 - accuracy: 0.7386 - val_loss: 2.5620 - val_accuracy: 0.3603\n",
            "Epoch 48/100\n",
            "438/438 [==============================] - 3s 6ms/step - loss: 0.7326 - accuracy: 0.7425 - val_loss: 2.4272 - val_accuracy: 0.3840\n",
            "Epoch 49/100\n",
            "438/438 [==============================] - 2s 6ms/step - loss: 0.7403 - accuracy: 0.7340 - val_loss: 2.3935 - val_accuracy: 0.4023\n",
            "Epoch 50/100\n",
            "438/438 [==============================] - 2s 5ms/step - loss: 0.7110 - accuracy: 0.7449 - val_loss: 2.2968 - val_accuracy: 0.4027\n",
            "Epoch 51/100\n",
            "438/438 [==============================] - 2s 6ms/step - loss: 0.6863 - accuracy: 0.7584 - val_loss: 2.4726 - val_accuracy: 0.3777\n",
            "Epoch 52/100\n",
            "438/438 [==============================] - 2s 5ms/step - loss: 0.6919 - accuracy: 0.7536 - val_loss: 2.4878 - val_accuracy: 0.3795\n",
            "Epoch 53/100\n",
            "438/438 [==============================] - 2s 6ms/step - loss: 0.7027 - accuracy: 0.7510 - val_loss: 2.7056 - val_accuracy: 0.3750\n",
            "Epoch 54/100\n",
            "438/438 [==============================] - 2s 5ms/step - loss: 0.6856 - accuracy: 0.7586 - val_loss: 2.4460 - val_accuracy: 0.3647\n",
            "Epoch 55/100\n",
            "438/438 [==============================] - 2s 5ms/step - loss: 0.6815 - accuracy: 0.7579 - val_loss: 2.5297 - val_accuracy: 0.3827\n",
            "Epoch 56/100\n",
            "438/438 [==============================] - 2s 5ms/step - loss: 0.6652 - accuracy: 0.7664 - val_loss: 2.4181 - val_accuracy: 0.3972\n",
            "Epoch 57/100\n",
            "438/438 [==============================] - 2s 6ms/step - loss: 0.6686 - accuracy: 0.7623 - val_loss: 2.4724 - val_accuracy: 0.3905\n",
            "Epoch 58/100\n",
            "438/438 [==============================] - 2s 6ms/step - loss: 0.6387 - accuracy: 0.7738 - val_loss: 2.3825 - val_accuracy: 0.4015\n",
            "Epoch 59/100\n",
            "438/438 [==============================] - 3s 6ms/step - loss: 0.6431 - accuracy: 0.7698 - val_loss: 2.5782 - val_accuracy: 0.3815\n",
            "Epoch 60/100\n",
            "438/438 [==============================] - 3s 6ms/step - loss: 0.6313 - accuracy: 0.7768 - val_loss: 2.4171 - val_accuracy: 0.4012\n",
            "Epoch 61/100\n",
            "438/438 [==============================] - 2s 6ms/step - loss: 0.6501 - accuracy: 0.7742 - val_loss: 3.0360 - val_accuracy: 0.3518\n",
            "Epoch 62/100\n",
            "438/438 [==============================] - 2s 5ms/step - loss: 0.6317 - accuracy: 0.7706 - val_loss: 2.6945 - val_accuracy: 0.3915\n",
            "Epoch 63/100\n",
            "438/438 [==============================] - 2s 6ms/step - loss: 0.6141 - accuracy: 0.7771 - val_loss: 2.6150 - val_accuracy: 0.3928\n",
            "Epoch 64/100\n",
            "438/438 [==============================] - 2s 6ms/step - loss: 0.6368 - accuracy: 0.7743 - val_loss: 2.7106 - val_accuracy: 0.3705\n",
            "Epoch 65/100\n",
            "438/438 [==============================] - 2s 6ms/step - loss: 0.5934 - accuracy: 0.7913 - val_loss: 2.5496 - val_accuracy: 0.3762\n",
            "Epoch 66/100\n",
            "438/438 [==============================] - 3s 6ms/step - loss: 0.6027 - accuracy: 0.7871 - val_loss: 2.5714 - val_accuracy: 0.4010\n",
            "Epoch 67/100\n",
            "438/438 [==============================] - 2s 5ms/step - loss: 0.5844 - accuracy: 0.7895 - val_loss: 2.7725 - val_accuracy: 0.3628\n",
            "Epoch 68/100\n",
            "438/438 [==============================] - 2s 6ms/step - loss: 0.5824 - accuracy: 0.7956 - val_loss: 2.5172 - val_accuracy: 0.4028\n",
            "Epoch 69/100\n",
            "438/438 [==============================] - 2s 6ms/step - loss: 0.6087 - accuracy: 0.7820 - val_loss: 2.8072 - val_accuracy: 0.3617\n",
            "Epoch 70/100\n",
            "438/438 [==============================] - 2s 6ms/step - loss: 0.5877 - accuracy: 0.7903 - val_loss: 2.8624 - val_accuracy: 0.3685\n",
            "Epoch 71/100\n",
            "438/438 [==============================] - 2s 5ms/step - loss: 0.5772 - accuracy: 0.7896 - val_loss: 2.5023 - val_accuracy: 0.4045\n",
            "Epoch 72/100\n",
            "438/438 [==============================] - 2s 6ms/step - loss: 0.5693 - accuracy: 0.7972 - val_loss: 3.0919 - val_accuracy: 0.3785\n",
            "Epoch 73/100\n",
            "438/438 [==============================] - 2s 5ms/step - loss: 0.5453 - accuracy: 0.8037 - val_loss: 2.6586 - val_accuracy: 0.3932\n",
            "Epoch 74/100\n",
            "438/438 [==============================] - 2s 6ms/step - loss: 0.5495 - accuracy: 0.8043 - val_loss: 2.9025 - val_accuracy: 0.3578\n",
            "Epoch 75/100\n",
            "438/438 [==============================] - 2s 6ms/step - loss: 0.5376 - accuracy: 0.8094 - val_loss: 2.6551 - val_accuracy: 0.3845\n",
            "Epoch 76/100\n",
            "438/438 [==============================] - 3s 6ms/step - loss: 0.5427 - accuracy: 0.8065 - val_loss: 2.8308 - val_accuracy: 0.3803\n",
            "Epoch 77/100\n",
            "438/438 [==============================] - 2s 6ms/step - loss: 0.5290 - accuracy: 0.8118 - val_loss: 2.8201 - val_accuracy: 0.3630\n",
            "Epoch 78/100\n",
            "438/438 [==============================] - 2s 5ms/step - loss: 0.5431 - accuracy: 0.8116 - val_loss: 2.7905 - val_accuracy: 0.3853\n",
            "Epoch 79/100\n",
            "438/438 [==============================] - 2s 6ms/step - loss: 0.5367 - accuracy: 0.8042 - val_loss: 3.0342 - val_accuracy: 0.3610\n",
            "Epoch 80/100\n",
            "438/438 [==============================] - 2s 5ms/step - loss: 0.5240 - accuracy: 0.8117 - val_loss: 2.8632 - val_accuracy: 0.3832\n",
            "Epoch 81/100\n",
            "438/438 [==============================] - 2s 5ms/step - loss: 0.5272 - accuracy: 0.8122 - val_loss: 2.9070 - val_accuracy: 0.3863\n",
            "Epoch 82/100\n",
            "438/438 [==============================] - 2s 5ms/step - loss: 0.5232 - accuracy: 0.8091 - val_loss: 3.2140 - val_accuracy: 0.3573\n",
            "Epoch 83/100\n",
            "438/438 [==============================] - 2s 5ms/step - loss: 0.5047 - accuracy: 0.8237 - val_loss: 3.0257 - val_accuracy: 0.3603\n",
            "Epoch 84/100\n",
            "438/438 [==============================] - 2s 5ms/step - loss: 0.5127 - accuracy: 0.8143 - val_loss: 3.1910 - val_accuracy: 0.3643\n",
            "Epoch 85/100\n",
            "438/438 [==============================] - 2s 6ms/step - loss: 0.5030 - accuracy: 0.8189 - val_loss: 2.8710 - val_accuracy: 0.3870\n",
            "Epoch 86/100\n",
            "438/438 [==============================] - 2s 5ms/step - loss: 0.5167 - accuracy: 0.8175 - val_loss: 3.1540 - val_accuracy: 0.3810\n",
            "Epoch 87/100\n",
            "438/438 [==============================] - 2s 5ms/step - loss: 0.4866 - accuracy: 0.8311 - val_loss: 2.9842 - val_accuracy: 0.3752\n",
            "Epoch 88/100\n",
            "438/438 [==============================] - 2s 5ms/step - loss: 0.4894 - accuracy: 0.8269 - val_loss: 2.7070 - val_accuracy: 0.4002\n",
            "Epoch 89/100\n",
            "438/438 [==============================] - 2s 5ms/step - loss: 0.4847 - accuracy: 0.8301 - val_loss: 2.7764 - val_accuracy: 0.3943\n",
            "Epoch 90/100\n",
            "438/438 [==============================] - 2s 5ms/step - loss: 0.4838 - accuracy: 0.8246 - val_loss: 3.1775 - val_accuracy: 0.3772\n",
            "Epoch 91/100\n",
            "438/438 [==============================] - 2s 5ms/step - loss: 0.4749 - accuracy: 0.8282 - val_loss: 2.8829 - val_accuracy: 0.3772\n",
            "Epoch 92/100\n",
            "438/438 [==============================] - 2s 6ms/step - loss: 0.4755 - accuracy: 0.8308 - val_loss: 2.8733 - val_accuracy: 0.4025\n",
            "Epoch 93/100\n",
            "438/438 [==============================] - 2s 5ms/step - loss: 0.4581 - accuracy: 0.8368 - val_loss: 3.2741 - val_accuracy: 0.3478\n",
            "Epoch 94/100\n",
            "438/438 [==============================] - 2s 5ms/step - loss: 0.4726 - accuracy: 0.8338 - val_loss: 2.9156 - val_accuracy: 0.3900\n",
            "Epoch 95/100\n",
            "438/438 [==============================] - 2s 5ms/step - loss: 0.4693 - accuracy: 0.8350 - val_loss: 3.1942 - val_accuracy: 0.3563\n",
            "Epoch 96/100\n",
            "438/438 [==============================] - 2s 5ms/step - loss: 0.4582 - accuracy: 0.8385 - val_loss: 3.0966 - val_accuracy: 0.3800\n",
            "Epoch 97/100\n",
            "438/438 [==============================] - 2s 5ms/step - loss: 0.4549 - accuracy: 0.8382 - val_loss: 3.1441 - val_accuracy: 0.3962\n",
            "Epoch 98/100\n",
            "438/438 [==============================] - 2s 5ms/step - loss: 0.4604 - accuracy: 0.8316 - val_loss: 2.8962 - val_accuracy: 0.3948\n",
            "Epoch 99/100\n",
            "438/438 [==============================] - 2s 5ms/step - loss: 0.4548 - accuracy: 0.8384 - val_loss: 2.7955 - val_accuracy: 0.4032\n",
            "Epoch 100/100\n",
            "438/438 [==============================] - 2s 5ms/step - loss: 0.4471 - accuracy: 0.8409 - val_loss: 3.2211 - val_accuracy: 0.3713\n"
          ],
          "name": "stdout"
        }
      ]
    },
    {
      "cell_type": "code",
      "metadata": {
        "colab": {
          "base_uri": "https://localhost:8080/",
          "height": 265
        },
        "id": "1AWKKF1zLgVq",
        "outputId": "0b9f9d43-658e-4654-a0f6-d33262e4f774"
      },
      "source": [
        "plt.plot(history.history['accuracy'])\r\n",
        "plt.plot(history.history['val_accuracy'])\r\n",
        "plt.legend(['training', 'validation'], loc = 'upper left')\r\n",
        "plt.show()"
      ],
      "execution_count": null,
      "outputs": [
        {
          "output_type": "display_data",
          "data": {
            "image/png": "[encoded data removed]",
            "text/plain": [
              "<Figure size 432x288 with 1 Axes>"
            ]
          },
          "metadata": {
            "tags": [],
            "needs_background": "light"
          }
        }
      ]
    },
    {
      "cell_type": "code",
      "metadata": {
        "colab": {
          "base_uri": "https://localhost:8080/"
        },
        "id": "4I_akljqLw6z",
        "outputId": "627087b1-84d9-460c-b101-32c09726a660"
      },
      "source": [
        "results = model.evaluate(X_test, y_test)"
      ],
      "execution_count": null,
      "outputs": [
        {
          "output_type": "stream",
          "text": [
            "313/313 [==============================] - 1s 2ms/step - loss: 3.1263 - accuracy: 0.3785\n"
          ],
          "name": "stdout"
        }
      ]
    },
    {
      "cell_type": "code",
      "metadata": {
        "colab": {
          "base_uri": "https://localhost:8080/"
        },
        "id": "hzBSuoCNL0lY",
        "outputId": "f0b003de-48c4-4230-f7bf-4f54772f09d0"
      },
      "source": [
        "print('Accuracy', results[1])"
      ],
      "execution_count": null,
      "outputs": [
        {
          "output_type": "stream",
          "text": [
            "Accuracy 0.3785000145435333\n"
          ],
          "name": "stdout"
        }
      ]
    },
    {
      "cell_type": "markdown",
      "metadata": {
        "id": "rIvaK6odMSgP"
      },
      "source": [
        "# 5. Dropout (Regularization)"
      ]
    },
    {
      "cell_type": "code",
      "metadata": {
        "id": "RwyFxEAZMAp_"
      },
      "source": [
        "from keras.layers import Dropout"
      ],
      "execution_count": null,
      "outputs": []
    },
    {
      "cell_type": "code",
      "metadata": {
        "id": "F_sOWrd-Mbfi"
      },
      "source": [
        "model = Sequential()"
      ],
      "execution_count": null,
      "outputs": []
    },
    {
      "cell_type": "code",
      "metadata": {
        "id": "FOWmc4ZrMgx4"
      },
      "source": [
        "model.add(Dense(50, input_shape = (3072, )))\r\n",
        "model.add(Activation('selu'))    \r\n",
        "model.add(Dropout(0.2))                        # Dropout layer after Activation\r\n",
        "model.add(Dense(50))\r\n",
        "model.add(Activation('selu'))\r\n",
        "model.add(Dropout(0.2))                        # Dropout layer after Activation\r\n",
        "model.add(Dense(50))\r\n",
        "model.add(Activation('selu'))    \r\n",
        "model.add(Dropout(0.2))                        # Dropout layer after Activation\r\n",
        "model.add(Dense(50))\r\n",
        "model.add(Activation('selu'))    \r\n",
        "model.add(Dropout(0.2))                         # Dropout layer after Activation\r\n",
        "model.add(Dense(10))\r\n",
        "model.add(Activation('softmax'))"
      ],
      "execution_count": null,
      "outputs": []
    },
    {
      "cell_type": "code",
      "metadata": {
        "id": "iuTFB2pSQo2k"
      },
      "source": [
        "adam = optimizers.Adam(lr = 0.001)\r\n",
        "model.compile(optimizer = adam, loss = 'categorical_crossentropy', metrics = ['accuracy'])"
      ],
      "execution_count": null,
      "outputs": []
    },
    {
      "cell_type": "code",
      "metadata": {
        "colab": {
          "base_uri": "https://localhost:8080/"
        },
        "id": "7zTiRA9NQuX2",
        "outputId": "edefd53a-9de0-4c88-dc91-dc4628c21cba"
      },
      "source": [
        "history = model.fit(X_train, y_train, validation_split = 0.3, epochs = 100, verbose = 1)"
      ],
      "execution_count": null,
      "outputs": [
        {
          "output_type": "stream",
          "text": [
            "Epoch 1/100\n",
            "438/438 [==============================] - 3s 6ms/step - loss: 2.4114 - accuracy: 0.0955 - val_loss: 2.3073 - val_accuracy: 0.0988\n",
            "Epoch 2/100\n",
            "438/438 [==============================] - 2s 5ms/step - loss: 2.3221 - accuracy: 0.0975 - val_loss: 2.3049 - val_accuracy: 0.1017\n",
            "Epoch 3/100\n",
            "438/438 [==============================] - 2s 5ms/step - loss: 2.3103 - accuracy: 0.1009 - val_loss: 2.3046 - val_accuracy: 0.1008\n",
            "Epoch 4/100\n",
            "438/438 [==============================] - 2s 5ms/step - loss: 2.3076 - accuracy: 0.0975 - val_loss: 2.3036 - val_accuracy: 0.1017\n",
            "Epoch 5/100\n",
            "438/438 [==============================] - 2s 5ms/step - loss: 2.3059 - accuracy: 0.0959 - val_loss: 2.3032 - val_accuracy: 0.1008\n",
            "Epoch 6/100\n",
            "438/438 [==============================] - 2s 5ms/step - loss: 2.3051 - accuracy: 0.0997 - val_loss: 2.3025 - val_accuracy: 0.1027\n",
            "Epoch 7/100\n",
            "438/438 [==============================] - 2s 5ms/step - loss: 2.3045 - accuracy: 0.1018 - val_loss: 2.3032 - val_accuracy: 0.1005\n",
            "Epoch 8/100\n",
            "438/438 [==============================] - 2s 5ms/step - loss: 2.3053 - accuracy: 0.0977 - val_loss: 2.3039 - val_accuracy: 0.1017\n",
            "Epoch 9/100\n",
            "438/438 [==============================] - 2s 5ms/step - loss: 2.3040 - accuracy: 0.1055 - val_loss: 2.3034 - val_accuracy: 0.1027\n",
            "Epoch 10/100\n",
            "438/438 [==============================] - 2s 5ms/step - loss: 2.3044 - accuracy: 0.0958 - val_loss: 2.3034 - val_accuracy: 0.1017\n",
            "Epoch 11/100\n",
            "438/438 [==============================] - 2s 5ms/step - loss: 2.3049 - accuracy: 0.0973 - val_loss: 2.3036 - val_accuracy: 0.0988\n",
            "Epoch 12/100\n",
            "438/438 [==============================] - 2s 5ms/step - loss: 2.3028 - accuracy: 0.1106 - val_loss: 2.3032 - val_accuracy: 0.1017\n",
            "Epoch 13/100\n",
            "438/438 [==============================] - 2s 5ms/step - loss: 2.3030 - accuracy: 0.1072 - val_loss: 2.3036 - val_accuracy: 0.1032\n",
            "Epoch 14/100\n",
            "438/438 [==============================] - 2s 5ms/step - loss: 2.3048 - accuracy: 0.0943 - val_loss: 2.3042 - val_accuracy: 0.1032\n",
            "Epoch 15/100\n",
            "438/438 [==============================] - 2s 5ms/step - loss: 2.3044 - accuracy: 0.0994 - val_loss: 2.3040 - val_accuracy: 0.1005\n",
            "Epoch 16/100\n",
            "438/438 [==============================] - 2s 5ms/step - loss: 2.3039 - accuracy: 0.1036 - val_loss: 2.3040 - val_accuracy: 0.0952\n",
            "Epoch 17/100\n",
            "438/438 [==============================] - 2s 5ms/step - loss: 2.3031 - accuracy: 0.1059 - val_loss: 2.3034 - val_accuracy: 0.0988\n",
            "Epoch 18/100\n",
            "438/438 [==============================] - 2s 5ms/step - loss: 2.3035 - accuracy: 0.1039 - val_loss: 2.3030 - val_accuracy: 0.1032\n",
            "Epoch 19/100\n",
            "438/438 [==============================] - 2s 5ms/step - loss: 2.3039 - accuracy: 0.1035 - val_loss: 2.3030 - val_accuracy: 0.1005\n",
            "Epoch 20/100\n",
            "438/438 [==============================] - 2s 5ms/step - loss: 2.3034 - accuracy: 0.0982 - val_loss: 2.3029 - val_accuracy: 0.1017\n",
            "Epoch 21/100\n",
            "438/438 [==============================] - 2s 5ms/step - loss: 2.3032 - accuracy: 0.1037 - val_loss: 2.3029 - val_accuracy: 0.1017\n",
            "Epoch 22/100\n",
            "438/438 [==============================] - 2s 5ms/step - loss: 2.3034 - accuracy: 0.0995 - val_loss: 2.3032 - val_accuracy: 0.1008\n",
            "Epoch 23/100\n",
            "438/438 [==============================] - 2s 5ms/step - loss: 2.3035 - accuracy: 0.0950 - val_loss: 2.3028 - val_accuracy: 0.1017\n",
            "Epoch 24/100\n",
            "438/438 [==============================] - 2s 5ms/step - loss: 2.3044 - accuracy: 0.1014 - val_loss: 2.3032 - val_accuracy: 0.1017\n",
            "Epoch 25/100\n",
            "438/438 [==============================] - 2s 5ms/step - loss: 2.3041 - accuracy: 0.1058 - val_loss: 2.3034 - val_accuracy: 0.1017\n",
            "Epoch 26/100\n",
            "438/438 [==============================] - 2s 5ms/step - loss: 2.3043 - accuracy: 0.0997 - val_loss: 2.3040 - val_accuracy: 0.1005\n",
            "Epoch 27/100\n",
            "438/438 [==============================] - 2s 5ms/step - loss: 2.3050 - accuracy: 0.0972 - val_loss: 2.3031 - val_accuracy: 0.1008\n",
            "Epoch 28/100\n",
            "438/438 [==============================] - 2s 6ms/step - loss: 2.3044 - accuracy: 0.1019 - val_loss: 2.3032 - val_accuracy: 0.0952\n",
            "Epoch 29/100\n",
            "438/438 [==============================] - 2s 5ms/step - loss: 2.3037 - accuracy: 0.0991 - val_loss: 2.3029 - val_accuracy: 0.1027\n",
            "Epoch 30/100\n",
            "438/438 [==============================] - 2s 5ms/step - loss: 2.3035 - accuracy: 0.1014 - val_loss: 2.3032 - val_accuracy: 0.1008\n",
            "Epoch 31/100\n",
            "438/438 [==============================] - 2s 5ms/step - loss: 2.3036 - accuracy: 0.0986 - val_loss: 2.3028 - val_accuracy: 0.1017\n",
            "Epoch 32/100\n",
            "438/438 [==============================] - 2s 5ms/step - loss: 2.3029 - accuracy: 0.1015 - val_loss: 2.3032 - val_accuracy: 0.1017\n",
            "Epoch 33/100\n",
            "438/438 [==============================] - 2s 5ms/step - loss: 2.3035 - accuracy: 0.1023 - val_loss: 2.3030 - val_accuracy: 0.1008\n",
            "Epoch 34/100\n",
            "438/438 [==============================] - 2s 5ms/step - loss: 2.3034 - accuracy: 0.1018 - val_loss: 2.3029 - val_accuracy: 0.1008\n",
            "Epoch 35/100\n",
            "438/438 [==============================] - 2s 5ms/step - loss: 2.3036 - accuracy: 0.1028 - val_loss: 2.3033 - val_accuracy: 0.1032\n",
            "Epoch 36/100\n",
            "438/438 [==============================] - 2s 6ms/step - loss: 2.3030 - accuracy: 0.0965 - val_loss: 2.3027 - val_accuracy: 0.1008\n",
            "Epoch 37/100\n",
            "438/438 [==============================] - 2s 5ms/step - loss: 2.3031 - accuracy: 0.0955 - val_loss: 2.3042 - val_accuracy: 0.0972\n",
            "Epoch 38/100\n",
            "438/438 [==============================] - 2s 5ms/step - loss: 2.3035 - accuracy: 0.1007 - val_loss: 2.3027 - val_accuracy: 0.1008\n",
            "Epoch 39/100\n",
            "438/438 [==============================] - 2s 5ms/step - loss: 2.3028 - accuracy: 0.1006 - val_loss: 2.3028 - val_accuracy: 0.1027\n",
            "Epoch 40/100\n",
            "438/438 [==============================] - 2s 6ms/step - loss: 2.3029 - accuracy: 0.0979 - val_loss: 2.3031 - val_accuracy: 0.1032\n",
            "Epoch 41/100\n",
            "438/438 [==============================] - 2s 5ms/step - loss: 2.3032 - accuracy: 0.0991 - val_loss: 2.3028 - val_accuracy: 0.1008\n",
            "Epoch 42/100\n",
            "438/438 [==============================] - 2s 5ms/step - loss: 2.3027 - accuracy: 0.0971 - val_loss: 2.3030 - val_accuracy: 0.1008\n",
            "Epoch 43/100\n",
            "438/438 [==============================] - 2s 5ms/step - loss: 2.3029 - accuracy: 0.1051 - val_loss: 2.3026 - val_accuracy: 0.1017\n",
            "Epoch 44/100\n",
            "438/438 [==============================] - 2s 5ms/step - loss: 2.3035 - accuracy: 0.0967 - val_loss: 2.3030 - val_accuracy: 0.1005\n",
            "Epoch 45/100\n",
            "438/438 [==============================] - 2s 5ms/step - loss: 2.3032 - accuracy: 0.0932 - val_loss: 2.3026 - val_accuracy: 0.1017\n",
            "Epoch 46/100\n",
            "438/438 [==============================] - 2s 5ms/step - loss: 2.3028 - accuracy: 0.0961 - val_loss: 2.3029 - val_accuracy: 0.1032\n",
            "Epoch 47/100\n",
            "438/438 [==============================] - 2s 5ms/step - loss: 2.3031 - accuracy: 0.0986 - val_loss: 2.3027 - val_accuracy: 0.1017\n",
            "Epoch 48/100\n",
            "438/438 [==============================] - 2s 5ms/step - loss: 2.3031 - accuracy: 0.0966 - val_loss: 2.3030 - val_accuracy: 0.1020\n",
            "Epoch 49/100\n",
            "438/438 [==============================] - 2s 5ms/step - loss: 2.3032 - accuracy: 0.1043 - val_loss: 2.3027 - val_accuracy: 0.1032\n",
            "Epoch 50/100\n",
            "438/438 [==============================] - 2s 5ms/step - loss: 2.3030 - accuracy: 0.1009 - val_loss: 2.3029 - val_accuracy: 0.1008\n",
            "Epoch 51/100\n",
            "438/438 [==============================] - 3s 6ms/step - loss: 2.3028 - accuracy: 0.1036 - val_loss: 2.3028 - val_accuracy: 0.0952\n",
            "Epoch 52/100\n",
            "438/438 [==============================] - 2s 6ms/step - loss: 2.3032 - accuracy: 0.1005 - val_loss: 2.3034 - val_accuracy: 0.1017\n",
            "Epoch 53/100\n",
            "438/438 [==============================] - 2s 5ms/step - loss: 2.3030 - accuracy: 0.0987 - val_loss: 2.3027 - val_accuracy: 0.1032\n",
            "Epoch 54/100\n",
            "438/438 [==============================] - 2s 5ms/step - loss: 2.3026 - accuracy: 0.1029 - val_loss: 2.3028 - val_accuracy: 0.1017\n",
            "Epoch 55/100\n",
            "438/438 [==============================] - 2s 5ms/step - loss: 2.3030 - accuracy: 0.1038 - val_loss: 2.3029 - val_accuracy: 0.1008\n",
            "Epoch 56/100\n",
            "438/438 [==============================] - 2s 5ms/step - loss: 2.3025 - accuracy: 0.1022 - val_loss: 2.3032 - val_accuracy: 0.0972\n",
            "Epoch 57/100\n",
            "438/438 [==============================] - 2s 5ms/step - loss: 2.3030 - accuracy: 0.1010 - val_loss: 2.3029 - val_accuracy: 0.1008\n",
            "Epoch 58/100\n",
            "438/438 [==============================] - 2s 5ms/step - loss: 2.3027 - accuracy: 0.0963 - val_loss: 2.3027 - val_accuracy: 0.1008\n",
            "Epoch 59/100\n",
            "438/438 [==============================] - 2s 5ms/step - loss: 2.3027 - accuracy: 0.0993 - val_loss: 2.3028 - val_accuracy: 0.1008\n",
            "Epoch 60/100\n",
            "438/438 [==============================] - 2s 5ms/step - loss: 2.3029 - accuracy: 0.0977 - val_loss: 2.3026 - val_accuracy: 0.1008\n",
            "Epoch 61/100\n",
            "438/438 [==============================] - 2s 6ms/step - loss: 2.3027 - accuracy: 0.1037 - val_loss: 2.3042 - val_accuracy: 0.0952\n",
            "Epoch 62/100\n",
            "438/438 [==============================] - 2s 6ms/step - loss: 2.3025 - accuracy: 0.1062 - val_loss: 2.3029 - val_accuracy: 0.1032\n",
            "Epoch 63/100\n",
            "438/438 [==============================] - 2s 5ms/step - loss: 2.3033 - accuracy: 0.1021 - val_loss: 2.3028 - val_accuracy: 0.1008\n",
            "Epoch 64/100\n",
            "438/438 [==============================] - 2s 5ms/step - loss: 2.3028 - accuracy: 0.1029 - val_loss: 2.3029 - val_accuracy: 0.1008\n",
            "Epoch 65/100\n",
            "438/438 [==============================] - 2s 5ms/step - loss: 2.3029 - accuracy: 0.0975 - val_loss: 2.3027 - val_accuracy: 0.1008\n",
            "Epoch 66/100\n",
            "438/438 [==============================] - 2s 6ms/step - loss: 2.3027 - accuracy: 0.1089 - val_loss: 2.3026 - val_accuracy: 0.1032\n",
            "Epoch 67/100\n",
            "438/438 [==============================] - 2s 6ms/step - loss: 2.3025 - accuracy: 0.1040 - val_loss: 2.3028 - val_accuracy: 0.1017\n",
            "Epoch 68/100\n",
            "438/438 [==============================] - 2s 5ms/step - loss: 2.3027 - accuracy: 0.1015 - val_loss: 2.3030 - val_accuracy: 0.1017\n",
            "Epoch 69/100\n",
            "438/438 [==============================] - 2s 5ms/step - loss: 2.3019 - accuracy: 0.1058 - val_loss: 2.3027 - val_accuracy: 0.1017\n",
            "Epoch 70/100\n",
            "438/438 [==============================] - 2s 5ms/step - loss: 2.3029 - accuracy: 0.1022 - val_loss: 2.3028 - val_accuracy: 0.0952\n",
            "Epoch 71/100\n",
            "438/438 [==============================] - 2s 5ms/step - loss: 2.3033 - accuracy: 0.1011 - val_loss: 2.3033 - val_accuracy: 0.1017\n",
            "Epoch 72/100\n",
            "438/438 [==============================] - 2s 6ms/step - loss: 2.3031 - accuracy: 0.1020 - val_loss: 2.3031 - val_accuracy: 0.1008\n",
            "Epoch 73/100\n",
            "438/438 [==============================] - 2s 5ms/step - loss: 2.3024 - accuracy: 0.1015 - val_loss: 2.3027 - val_accuracy: 0.1008\n",
            "Epoch 74/100\n",
            "438/438 [==============================] - 2s 5ms/step - loss: 2.3028 - accuracy: 0.1016 - val_loss: 2.3027 - val_accuracy: 0.1017\n",
            "Epoch 75/100\n",
            "438/438 [==============================] - 2s 5ms/step - loss: 2.3024 - accuracy: 0.1087 - val_loss: 2.3027 - val_accuracy: 0.1008\n",
            "Epoch 76/100\n",
            "438/438 [==============================] - 2s 5ms/step - loss: 2.3029 - accuracy: 0.1008 - val_loss: 2.3030 - val_accuracy: 0.1017\n",
            "Epoch 77/100\n",
            "438/438 [==============================] - 2s 5ms/step - loss: 2.3030 - accuracy: 0.0980 - val_loss: 2.3060 - val_accuracy: 0.1017\n",
            "Epoch 78/100\n",
            "438/438 [==============================] - 2s 5ms/step - loss: 2.3035 - accuracy: 0.0994 - val_loss: 2.3028 - val_accuracy: 0.1017\n",
            "Epoch 79/100\n",
            "438/438 [==============================] - 2s 5ms/step - loss: 2.3029 - accuracy: 0.1000 - val_loss: 2.3032 - val_accuracy: 0.1017\n",
            "Epoch 80/100\n",
            "438/438 [==============================] - 2s 5ms/step - loss: 2.3028 - accuracy: 0.1032 - val_loss: 2.3028 - val_accuracy: 0.1008\n",
            "Epoch 81/100\n",
            "438/438 [==============================] - 2s 5ms/step - loss: 2.3030 - accuracy: 0.0973 - val_loss: 2.3029 - val_accuracy: 0.1017\n",
            "Epoch 82/100\n",
            "438/438 [==============================] - 2s 5ms/step - loss: 2.3028 - accuracy: 0.1002 - val_loss: 2.3028 - val_accuracy: 0.1032\n",
            "Epoch 83/100\n",
            "438/438 [==============================] - 2s 5ms/step - loss: 2.3031 - accuracy: 0.0988 - val_loss: 2.3029 - val_accuracy: 0.1017\n",
            "Epoch 84/100\n",
            "438/438 [==============================] - 2s 6ms/step - loss: 2.3030 - accuracy: 0.1070 - val_loss: 2.3028 - val_accuracy: 0.1017\n",
            "Epoch 85/100\n",
            "438/438 [==============================] - 3s 6ms/step - loss: 2.3026 - accuracy: 0.0985 - val_loss: 2.3028 - val_accuracy: 0.1008\n",
            "Epoch 86/100\n",
            "438/438 [==============================] - 2s 6ms/step - loss: 2.3026 - accuracy: 0.1027 - val_loss: 2.3030 - val_accuracy: 0.1017\n",
            "Epoch 87/100\n",
            "438/438 [==============================] - 2s 5ms/step - loss: 2.3026 - accuracy: 0.1012 - val_loss: 2.3029 - val_accuracy: 0.1008\n",
            "Epoch 88/100\n",
            "438/438 [==============================] - 2s 5ms/step - loss: 2.3026 - accuracy: 0.1045 - val_loss: 2.3028 - val_accuracy: 0.1032\n",
            "Epoch 89/100\n",
            "438/438 [==============================] - 2s 5ms/step - loss: 2.3028 - accuracy: 0.1035 - val_loss: 2.3027 - val_accuracy: 0.1017\n",
            "Epoch 90/100\n",
            "438/438 [==============================] - 2s 5ms/step - loss: 2.3029 - accuracy: 0.1017 - val_loss: 2.3030 - val_accuracy: 0.1020\n",
            "Epoch 91/100\n",
            "438/438 [==============================] - 2s 5ms/step - loss: 2.3031 - accuracy: 0.0996 - val_loss: 2.3027 - val_accuracy: 0.1017\n",
            "Epoch 92/100\n",
            "438/438 [==============================] - 2s 5ms/step - loss: 2.3031 - accuracy: 0.1007 - val_loss: 2.3027 - val_accuracy: 0.1017\n",
            "Epoch 93/100\n",
            "438/438 [==============================] - 2s 5ms/step - loss: 2.3025 - accuracy: 0.1035 - val_loss: 2.3029 - val_accuracy: 0.1005\n",
            "Epoch 94/100\n",
            "438/438 [==============================] - 2s 5ms/step - loss: 2.3027 - accuracy: 0.0979 - val_loss: 2.3027 - val_accuracy: 0.1017\n",
            "Epoch 95/100\n",
            "438/438 [==============================] - 2s 5ms/step - loss: 2.3026 - accuracy: 0.1063 - val_loss: 2.3027 - val_accuracy: 0.1032\n",
            "Epoch 96/100\n",
            "438/438 [==============================] - 3s 6ms/step - loss: 2.3029 - accuracy: 0.0996 - val_loss: 2.3033 - val_accuracy: 0.1008\n",
            "Epoch 97/100\n",
            "438/438 [==============================] - 2s 5ms/step - loss: 2.3029 - accuracy: 0.1017 - val_loss: 2.3032 - val_accuracy: 0.0988\n",
            "Epoch 98/100\n",
            "438/438 [==============================] - 2s 5ms/step - loss: 2.3031 - accuracy: 0.0982 - val_loss: 2.3034 - val_accuracy: 0.1032\n",
            "Epoch 99/100\n",
            "438/438 [==============================] - 3s 6ms/step - loss: 2.3025 - accuracy: 0.1052 - val_loss: 2.3028 - val_accuracy: 0.1017\n",
            "Epoch 100/100\n",
            "438/438 [==============================] - 2s 5ms/step - loss: 2.3028 - accuracy: 0.1022 - val_loss: 2.3028 - val_accuracy: 0.0952\n"
          ],
          "name": "stdout"
        }
      ]
    },
    {
      "cell_type": "code",
      "metadata": {
        "colab": {
          "base_uri": "https://localhost:8080/",
          "height": 265
        },
        "id": "_VXHS1RaRtbs",
        "outputId": "39ca7f3c-81a6-4bde-c886-23940a1c3379"
      },
      "source": [
        "plt.plot(history.history['accuracy'])\r\n",
        "plt.plot(history.history['val_accuracy'])\r\n",
        "plt.legend(['training','validation'], loc = 'upper left')\r\n",
        "plt.show()"
      ],
      "execution_count": null,
      "outputs": [
        {
          "output_type": "display_data",
          "data": {
            "image/png": "[encoded data removed]",
            "text/plain": [
              "<Figure size 432x288 with 1 Axes>"
            ]
          },
          "metadata": {
            "tags": [],
            "needs_background": "light"
          }
        }
      ]
    },
    {
      "cell_type": "code",
      "metadata": {
        "colab": {
          "base_uri": "https://localhost:8080/"
        },
        "id": "QTHpD_1GbW21",
        "outputId": "d84a5783-3855-4e90-e81a-de88ee707a68"
      },
      "source": [
        "results = model.evaluate(X_test, y_test)"
      ],
      "execution_count": null,
      "outputs": [
        {
          "output_type": "stream",
          "text": [
            "313/313 [==============================] - 1s 2ms/step - loss: 2.3028 - accuracy: 0.1000\n"
          ],
          "name": "stdout"
        }
      ]
    },
    {
      "cell_type": "code",
      "metadata": {
        "colab": {
          "base_uri": "https://localhost:8080/"
        },
        "id": "HMFfHnjzdVKl",
        "outputId": "6bac8492-b477-467b-c2ff-1ad9408e0aff"
      },
      "source": [
        "print('Test accuracy: ', results[1])"
      ],
      "execution_count": null,
      "outputs": [
        {
          "output_type": "stream",
          "text": [
            "Test accuracy:  0.10000000149011612\n"
          ],
          "name": "stdout"
        }
      ]
    },
    {
      "cell_type": "markdown",
      "metadata": {
        "id": "p2Lk1FL_dd1l"
      },
      "source": [
        "# 6. Model Ensemble"
      ]
    },
    {
      "cell_type": "code",
      "metadata": {
        "id": "Tnt6Uwqhdcyy"
      },
      "source": [
        "import numpy as np\r\n",
        "\r\n",
        "from keras.wrappers.scikit_learn import KerasClassifier\r\n",
        "from sklearn.ensemble import VotingClassifier\r\n",
        "from sklearn.metrics import accuracy_score"
      ],
      "execution_count": null,
      "outputs": []
    },
    {
      "cell_type": "code",
      "metadata": {
        "id": "dKKlJEtGdthz"
      },
      "source": [
        "y_train = np.argmax(y_train, axis = 1)\r\n",
        "y_test = np.argmax(y_test, axis = 1)"
      ],
      "execution_count": null,
      "outputs": []
    },
    {
      "cell_type": "code",
      "metadata": {
        "id": "bTnUIl7KfH92"
      },
      "source": [
        "def mlp_model():\r\n",
        "    model = Sequential()\r\n",
        "    \r\n",
        "    model.add(Dense(50, input_shape = (3072, )))\r\n",
        "    model.add(Activation('selu'))    \r\n",
        "    model.add(Dense(50))\r\n",
        "    model.add(Activation('selu'))    \r\n",
        "    model.add(Dense(50))\r\n",
        "    model.add(Activation('selu'))    \r\n",
        "    model.add(Dense(50))\r\n",
        "    model.add(Activation('selu'))    \r\n",
        "    model.add(Dense(10))\r\n",
        "    model.add(Activation('softmax'))\r\n",
        "    \r\n",
        "    adam = optimizers.Adam(lr = 0.001)\r\n",
        "    model.compile(optimizer = adam, loss = 'categorical_crossentropy', metrics = ['accuracy'])\r\n",
        "    \r\n",
        "    return model"
      ],
      "execution_count": null,
      "outputs": []
    },
    {
      "cell_type": "code",
      "metadata": {
        "id": "QA3SzX1YfclM"
      },
      "source": [
        "model1 = KerasClassifier(build_fn = mlp_model, epochs = 30, verbose = 0)\r\n",
        "model2 = KerasClassifier(build_fn = mlp_model, epochs = 10, verbose = 0)\r\n",
        "model3 = KerasClassifier(build_fn = mlp_model, epochs = 20, verbose = 0)"
      ],
      "execution_count": null,
      "outputs": []
    },
    {
      "cell_type": "code",
      "metadata": {
        "id": "LobUbovBh7MR"
      },
      "source": [
        "model1._estimator_type = \"classifier\"\r\n",
        "model2._estimator_type = \"classifier\"\r\n",
        "model3._estimator_type = \"classifier\""
      ],
      "execution_count": null,
      "outputs": []
    },
    {
      "cell_type": "code",
      "metadata": {
        "id": "L9zMA4jJf1A-"
      },
      "source": [
        "ensemble_clf = VotingClassifier(estimators = [('model1', model1), ('model2', model2), ('model3', model3)], voting = 'soft')"
      ],
      "execution_count": null,
      "outputs": []
    },
    {
      "cell_type": "code",
      "metadata": {
        "colab": {
          "base_uri": "https://localhost:8080/"
        },
        "id": "6egBTIlEgAfS",
        "outputId": "8936efb5-2a6e-4f1e-b9c7-14cd1e3021fd"
      },
      "source": [
        "ensemble_clf.fit(X_train, y_train)"
      ],
      "execution_count": null,
      "outputs": [
        {
          "output_type": "execute_result",
          "data": {
            "text/plain": [
              "VotingClassifier(estimators=[('model1',\n",
              "                              <tensorflow.python.keras.wrappers.scikit_learn.KerasClassifier object at 0x7fc3466d16d0>),\n",
              "                             ('model2',\n",
              "                              <tensorflow.python.keras.wrappers.scikit_learn.KerasClassifier object at 0x7fc3466d1810>),\n",
              "                             ('model3',\n",
              "                              <tensorflow.python.keras.wrappers.scikit_learn.KerasClassifier object at 0x7fc3466d1f10>)],\n",
              "                 flatten_transform=True, n_jobs=None, voting='soft',\n",
              "                 weights=None)"
            ]
          },
          "metadata": {
            "tags": []
          },
          "execution_count": 104
        }
      ]
    },
    {
      "cell_type": "code",
      "metadata": {
        "colab": {
          "base_uri": "https://localhost:8080/"
        },
        "id": "_1kWoQjLjFZz",
        "outputId": "3ffe4300-0f4f-442d-b6d8-adece6e585e3"
      },
      "source": [
        "y_pred = ensemble_clf.predict(X_test)"
      ],
      "execution_count": null,
      "outputs": [
        {
          "output_type": "stream",
          "text": [
            "/usr/local/lib/python3.7/dist-packages/tensorflow/python/keras/engine/sequential.py:425: UserWarning: `model.predict_proba()` is deprecated and will be removed after 2021-01-01. Please use `model.predict()` instead.\n",
            "  warnings.warn('`model.predict_proba()` is deprecated and '\n"
          ],
          "name": "stderr"
        }
      ]
    },
    {
      "cell_type": "code",
      "metadata": {
        "colab": {
          "base_uri": "https://localhost:8080/"
        },
        "id": "CxhyIxHSjJ2l",
        "outputId": "da552b8e-222f-4ca2-a1cb-477e86ff64ca"
      },
      "source": [
        "print('Test accuracy:', accuracy_score(y_pred, y_test))"
      ],
      "execution_count": null,
      "outputs": [
        {
          "output_type": "stream",
          "text": [
            "Test accuracy: 0.1916\n"
          ],
          "name": "stdout"
        }
      ]
    },
    {
      "cell_type": "markdown",
      "metadata": {
        "id": "uQqEF0zujoyI"
      },
      "source": [
        "# Converting Train Image to GreyScale i.e Black and White Image"
      ]
    },
    {
      "cell_type": "code",
      "metadata": {
        "id": "uYg_n7kYjr1-"
      },
      "source": [
        "from tqdm import tqdm"
      ],
      "execution_count": 2,
      "outputs": []
    },
    {
      "cell_type": "code",
      "metadata": {
        "colab": {
          "base_uri": "https://localhost:8080/"
        },
        "id": "buvmX-ZfnOQe",
        "outputId": "7d01c84e-8baf-44ec-b077-22d4838c2c88"
      },
      "source": [
        "x_train.shape[0]"
      ],
      "execution_count": 12,
      "outputs": [
        {
          "output_type": "execute_result",
          "data": {
            "text/plain": [
              "50000"
            ]
          },
          "metadata": {
            "tags": []
          },
          "execution_count": 12
        }
      ]
    },
    {
      "cell_type": "code",
      "metadata": {
        "colab": {
          "base_uri": "https://localhost:8080/"
        },
        "id": "FLA2Cd8Gncwb",
        "outputId": "49bc4b64-4e15-4dbc-fd5b-8fe3a79ca771"
      },
      "source": [
        "x_train[0]"
      ],
      "execution_count": 13,
      "outputs": [
        {
          "output_type": "execute_result",
          "data": {
            "text/plain": [
              "array([[[ 59,  62,  63],\n",
              "        [ 43,  46,  45],\n",
              "        [ 50,  48,  43],\n",
              "        ...,\n",
              "        [158, 132, 108],\n",
              "        [152, 125, 102],\n",
              "        [148, 124, 103]],\n",
              "\n",
              "       [[ 16,  20,  20],\n",
              "        [  0,   0,   0],\n",
              "        [ 18,   8,   0],\n",
              "        ...,\n",
              "        [123,  88,  55],\n",
              "        [119,  83,  50],\n",
              "        [122,  87,  57]],\n",
              "\n",
              "       [[ 25,  24,  21],\n",
              "        [ 16,   7,   0],\n",
              "        [ 49,  27,   8],\n",
              "        ...,\n",
              "        [118,  84,  50],\n",
              "        [120,  84,  50],\n",
              "        [109,  73,  42]],\n",
              "\n",
              "       ...,\n",
              "\n",
              "       [[208, 170,  96],\n",
              "        [201, 153,  34],\n",
              "        [198, 161,  26],\n",
              "        ...,\n",
              "        [160, 133,  70],\n",
              "        [ 56,  31,   7],\n",
              "        [ 53,  34,  20]],\n",
              "\n",
              "       [[180, 139,  96],\n",
              "        [173, 123,  42],\n",
              "        [186, 144,  30],\n",
              "        ...,\n",
              "        [184, 148,  94],\n",
              "        [ 97,  62,  34],\n",
              "        [ 83,  53,  34]],\n",
              "\n",
              "       [[177, 144, 116],\n",
              "        [168, 129,  94],\n",
              "        [179, 142,  87],\n",
              "        ...,\n",
              "        [216, 184, 140],\n",
              "        [151, 118,  84],\n",
              "        [123,  92,  72]]], dtype=uint8)"
            ]
          },
          "metadata": {
            "tags": []
          },
          "execution_count": 13
        }
      ]
    },
    {
      "cell_type": "code",
      "metadata": {
        "colab": {
          "base_uri": "https://localhost:8080/"
        },
        "id": "4crCwxgcq99D",
        "outputId": "4ac9a2a4-93f6-462d-e63d-434b2b4e845f"
      },
      "source": [
        "x_train[0].astype('str')"
      ],
      "execution_count": null,
      "outputs": [
        {
          "output_type": "execute_result",
          "data": {
            "text/plain": [
              "array([[['59', '62', '63'],\n",
              "        ['43', '46', '45'],\n",
              "        ['50', '48', '43'],\n",
              "        ...,\n",
              "        ['158', '132', '108'],\n",
              "        ['152', '125', '102'],\n",
              "        ['148', '124', '103']],\n",
              "\n",
              "       [['16', '20', '20'],\n",
              "        ['0', '0', '0'],\n",
              "        ['18', '8', '0'],\n",
              "        ...,\n",
              "        ['123', '88', '55'],\n",
              "        ['119', '83', '50'],\n",
              "        ['122', '87', '57']],\n",
              "\n",
              "       [['25', '24', '21'],\n",
              "        ['16', '7', '0'],\n",
              "        ['49', '27', '8'],\n",
              "        ...,\n",
              "        ['118', '84', '50'],\n",
              "        ['120', '84', '50'],\n",
              "        ['109', '73', '42']],\n",
              "\n",
              "       ...,\n",
              "\n",
              "       [['208', '170', '96'],\n",
              "        ['201', '153', '34'],\n",
              "        ['198', '161', '26'],\n",
              "        ...,\n",
              "        ['160', '133', '70'],\n",
              "        ['56', '31', '7'],\n",
              "        ['53', '34', '20']],\n",
              "\n",
              "       [['180', '139', '96'],\n",
              "        ['173', '123', '42'],\n",
              "        ['186', '144', '30'],\n",
              "        ...,\n",
              "        ['184', '148', '94'],\n",
              "        ['97', '62', '34'],\n",
              "        ['83', '53', '34']],\n",
              "\n",
              "       [['177', '144', '116'],\n",
              "        ['168', '129', '94'],\n",
              "        ['179', '142', '87'],\n",
              "        ...,\n",
              "        ['216', '184', '140'],\n",
              "        ['151', '118', '84'],\n",
              "        ['123', '92', '72']]], dtype='<U3')"
            ]
          },
          "metadata": {
            "tags": []
          },
          "execution_count": 117
        }
      ]
    },
    {
      "cell_type": "code",
      "metadata": {
        "colab": {
          "base_uri": "https://localhost:8080/"
        },
        "id": "gTelNfRpY_9w",
        "outputId": "ce75fa78-9787-4c01-c68a-42a2fb2d9227"
      },
      "source": [
        "x_train.shape"
      ],
      "execution_count": 20,
      "outputs": [
        {
          "output_type": "execute_result",
          "data": {
            "text/plain": [
              "(50000, 32, 32, 3)"
            ]
          },
          "metadata": {
            "tags": []
          },
          "execution_count": 20
        }
      ]
    },
    {
      "cell_type": "code",
      "metadata": {
        "colab": {
          "base_uri": "https://localhost:8080/"
        },
        "id": "EmZYMYMzZFxK",
        "outputId": "982a5569-ec2c-4c67-b970-154fcc2d6d72"
      },
      "source": [
        "x_train.shape[1],x_train.shape[2],x_train.shape[3]"
      ],
      "execution_count": 24,
      "outputs": [
        {
          "output_type": "execute_result",
          "data": {
            "text/plain": [
              "(32, 32, 3)"
            ]
          },
          "metadata": {
            "tags": []
          },
          "execution_count": 24
        }
      ]
    },
    {
      "cell_type": "code",
      "metadata": {
        "colab": {
          "base_uri": "https://localhost:8080/"
        },
        "id": "Djf-odUJcdgc",
        "outputId": "0e3a3e8d-21f5-444f-a1eb-9bccf794bb19"
      },
      "source": [
        "tqdm(range(x_train.shape[0]))"
      ],
      "execution_count": 26,
      "outputs": [
        {
          "output_type": "stream",
          "text": [
            "\r  0%|          | 0/50000 [00:00<?, ?it/s]"
          ],
          "name": "stderr"
        },
        {
          "output_type": "execute_result",
          "data": {
            "text/plain": [
              "  0%|          | 0/50000 [00:00<?, ?it/s]"
            ]
          },
          "metadata": {
            "tags": []
          },
          "execution_count": 26
        }
      ]
    },
    {
      "cell_type": "code",
      "metadata": {
        "colab": {
          "base_uri": "https://localhost:8080/"
        },
        "id": "_LqflGsqc0mA",
        "outputId": "acb9cf80-afdd-4724-9ac8-ca4772fd5e7a"
      },
      "source": [
        "x_train[1]"
      ],
      "execution_count": 27,
      "outputs": [
        {
          "output_type": "execute_result",
          "data": {
            "text/plain": [
              "array([[[154, 177, 187],\n",
              "        [126, 137, 136],\n",
              "        [105, 104,  95],\n",
              "        ...,\n",
              "        [ 91,  95,  71],\n",
              "        [ 87,  90,  71],\n",
              "        [ 79,  81,  70]],\n",
              "\n",
              "       [[140, 160, 169],\n",
              "        [145, 153, 154],\n",
              "        [125, 125, 118],\n",
              "        ...,\n",
              "        [ 96,  99,  78],\n",
              "        [ 77,  80,  62],\n",
              "        [ 71,  73,  61]],\n",
              "\n",
              "       [[140, 155, 164],\n",
              "        [139, 146, 149],\n",
              "        [115, 115, 112],\n",
              "        ...,\n",
              "        [ 79,  82,  64],\n",
              "        [ 68,  70,  55],\n",
              "        [ 67,  69,  55]],\n",
              "\n",
              "       ...,\n",
              "\n",
              "       [[175, 167, 166],\n",
              "        [156, 154, 160],\n",
              "        [154, 160, 170],\n",
              "        ...,\n",
              "        [ 42,  34,  36],\n",
              "        [ 61,  53,  57],\n",
              "        [ 93,  83,  91]],\n",
              "\n",
              "       [[165, 154, 128],\n",
              "        [156, 152, 130],\n",
              "        [159, 161, 142],\n",
              "        ...,\n",
              "        [103,  93,  96],\n",
              "        [123, 114, 120],\n",
              "        [131, 121, 131]],\n",
              "\n",
              "       [[163, 148, 120],\n",
              "        [158, 148, 122],\n",
              "        [163, 156, 133],\n",
              "        ...,\n",
              "        [143, 133, 139],\n",
              "        [143, 134, 142],\n",
              "        [143, 133, 144]]], dtype=uint8)"
            ]
          },
          "metadata": {
            "tags": []
          },
          "execution_count": 27
        }
      ]
    },
    {
      "cell_type": "code",
      "metadata": {
        "colab": {
          "base_uri": "https://localhost:8080/",
          "height": 246
        },
        "id": "Z3kXvV2vj8S3",
        "outputId": "b1e29098-0687-42c8-d6e6-94b0673be7aa"
      },
      "source": [
        "path = 'cifar-10-batches-py'\r\n",
        "train_image=[]\r\n",
        "train_file=[]\r\n",
        "for i in tqdm(range(x_train.shape[0])): \r\n",
        "    img = image.load_img('CIFAR-10 Dataset'+ x_train[i].astype('str')+'.png', target_size=(32,32,1), grayscale=True)\r\n",
        "    img = image.img_to_array(img)\r\n",
        "    img = img/255\r\n",
        "    train_image.append(img)\r\n",
        "X1=np.array(train_image)"
      ],
      "execution_count": 16,
      "outputs": [
        {
          "output_type": "stream",
          "text": [
            "  0%|          | 0/50000 [00:00<?, ?it/s]\n"
          ],
          "name": "stderr"
        },
        {
          "output_type": "error",
          "ename": "UFuncTypeError",
          "evalue": "ignored",
          "traceback": [
            "\u001b[0;31m---------------------------------------------------------------------------\u001b[0m",
            "\u001b[0;31mUFuncTypeError\u001b[0m                            Traceback (most recent call last)",
            "\u001b[0;32m<ipython-input-16-b04e81bb7a2e>\u001b[0m in \u001b[0;36m<module>\u001b[0;34m()\u001b[0m\n\u001b[1;32m      3\u001b[0m \u001b[0mtrain_file\u001b[0m\u001b[0;34m=\u001b[0m\u001b[0;34m[\u001b[0m\u001b[0;34m]\u001b[0m\u001b[0;34m\u001b[0m\u001b[0;34m\u001b[0m\u001b[0m\n\u001b[1;32m      4\u001b[0m \u001b[0;32mfor\u001b[0m \u001b[0mi\u001b[0m \u001b[0;32min\u001b[0m \u001b[0mtqdm\u001b[0m\u001b[0;34m(\u001b[0m\u001b[0mrange\u001b[0m\u001b[0;34m(\u001b[0m\u001b[0mx_train\u001b[0m\u001b[0;34m.\u001b[0m\u001b[0mshape\u001b[0m\u001b[0;34m[\u001b[0m\u001b[0;36m0\u001b[0m\u001b[0;34m]\u001b[0m\u001b[0;34m)\u001b[0m\u001b[0;34m)\u001b[0m\u001b[0;34m:\u001b[0m\u001b[0;34m\u001b[0m\u001b[0;34m\u001b[0m\u001b[0m\n\u001b[0;32m----> 5\u001b[0;31m     \u001b[0mimg\u001b[0m \u001b[0;34m=\u001b[0m \u001b[0mimage\u001b[0m\u001b[0;34m.\u001b[0m\u001b[0mload_img\u001b[0m\u001b[0;34m(\u001b[0m\u001b[0;34m'CIFAR-10 Dataset'\u001b[0m\u001b[0;34m+\u001b[0m \u001b[0mx_train\u001b[0m\u001b[0;34m[\u001b[0m\u001b[0mi\u001b[0m\u001b[0;34m]\u001b[0m\u001b[0;34m.\u001b[0m\u001b[0mastype\u001b[0m\u001b[0;34m(\u001b[0m\u001b[0;34m'str'\u001b[0m\u001b[0;34m)\u001b[0m\u001b[0;34m+\u001b[0m\u001b[0;34m'.png'\u001b[0m\u001b[0;34m,\u001b[0m \u001b[0mtarget_size\u001b[0m\u001b[0;34m=\u001b[0m\u001b[0;34m(\u001b[0m\u001b[0;36m32\u001b[0m\u001b[0;34m,\u001b[0m\u001b[0;36m32\u001b[0m\u001b[0;34m,\u001b[0m\u001b[0;36m1\u001b[0m\u001b[0;34m)\u001b[0m\u001b[0;34m,\u001b[0m \u001b[0mgrayscale\u001b[0m\u001b[0;34m=\u001b[0m\u001b[0;32mTrue\u001b[0m\u001b[0;34m)\u001b[0m\u001b[0;34m\u001b[0m\u001b[0;34m\u001b[0m\u001b[0m\n\u001b[0m\u001b[1;32m      6\u001b[0m     \u001b[0mimg\u001b[0m \u001b[0;34m=\u001b[0m \u001b[0mimage\u001b[0m\u001b[0;34m.\u001b[0m\u001b[0mimg_to_array\u001b[0m\u001b[0;34m(\u001b[0m\u001b[0mimg\u001b[0m\u001b[0;34m)\u001b[0m\u001b[0;34m\u001b[0m\u001b[0;34m\u001b[0m\u001b[0m\n\u001b[1;32m      7\u001b[0m     \u001b[0mimg\u001b[0m \u001b[0;34m=\u001b[0m \u001b[0mimg\u001b[0m\u001b[0;34m/\u001b[0m\u001b[0;36m255\u001b[0m\u001b[0;34m\u001b[0m\u001b[0;34m\u001b[0m\u001b[0m\n",
            "\u001b[0;31mUFuncTypeError\u001b[0m: ufunc 'add' did not contain a loop with signature matching types (dtype('<U16'), dtype('<U16')) -> dtype('<U16')"
          ]
        }
      ]
    },
    {
      "cell_type": "code",
      "metadata": {
        "colab": {
          "base_uri": "https://localhost:8080/"
        },
        "id": "PqJw40lIaRom",
        "outputId": "611d69dd-a7b2-4a0a-a4db-f487506dd248"
      },
      "source": [
        "train_image=[]\r\n",
        "for i in tqdm(range(x_train.shape[0])):\r\n",
        "  img = tf.image.rgb_to_grayscale(x_train[i])\r\n",
        "  img = image.img_to_array(img)\r\n",
        "  img = img/255\r\n",
        "  train_image.append(img)\r\n",
        "X_train_image = np.array(train_image)"
      ],
      "execution_count": 34,
      "outputs": [
        {
          "output_type": "stream",
          "text": [
            "100%|██████████| 50000/50000 [00:58<00:00, 847.98it/s]\n"
          ],
          "name": "stderr"
        }
      ]
    },
    {
      "cell_type": "code",
      "metadata": {
        "colab": {
          "base_uri": "https://localhost:8080/"
        },
        "id": "MSEWo8SBdv4Y",
        "outputId": "3e1f65a6-e31a-439a-a2ff-a437cac98c70"
      },
      "source": [
        "np.array(train_image).shape"
      ],
      "execution_count": 23,
      "outputs": [
        {
          "output_type": "execute_result",
          "data": {
            "text/plain": [
              "(50000, 32, 32, 1)"
            ]
          },
          "metadata": {
            "tags": []
          },
          "execution_count": 23
        }
      ]
    },
    {
      "cell_type": "code",
      "metadata": {
        "colab": {
          "base_uri": "https://localhost:8080/"
        },
        "id": "Ye_TBOHRd8ha",
        "outputId": "cc5b3380-2492-4c34-fae7-758e3d66cd62"
      },
      "source": [
        "X_train_image.shape"
      ],
      "execution_count": 61,
      "outputs": [
        {
          "output_type": "execute_result",
          "data": {
            "text/plain": [
              "(50000, 32, 32, 1)"
            ]
          },
          "metadata": {
            "tags": []
          },
          "execution_count": 61
        }
      ]
    },
    {
      "cell_type": "code",
      "metadata": {
        "colab": {
          "base_uri": "https://localhost:8080/"
        },
        "id": "e68dY0lFfhKG",
        "outputId": "d1e58a14-9259-4a9d-a7aa-1b2a51b8a580"
      },
      "source": [
        "X_train.shape"
      ],
      "execution_count": 41,
      "outputs": [
        {
          "output_type": "execute_result",
          "data": {
            "text/plain": [
              "(40000, 32, 32, 3)"
            ]
          },
          "metadata": {
            "tags": []
          },
          "execution_count": 41
        }
      ]
    },
    {
      "cell_type": "code",
      "metadata": {
        "colab": {
          "base_uri": "https://localhost:8080/"
        },
        "id": "AAl7Ou_tjGrO",
        "outputId": "e6f82953-5b2c-4f61-e236-ccaee27fca12"
      },
      "source": [
        "len(X_train[30].shape)"
      ],
      "execution_count": 47,
      "outputs": [
        {
          "output_type": "execute_result",
          "data": {
            "text/plain": [
              "3"
            ]
          },
          "metadata": {
            "tags": []
          },
          "execution_count": 47
        }
      ]
    },
    {
      "cell_type": "code",
      "metadata": {
        "colab": {
          "base_uri": "https://localhost:8080/"
        },
        "id": "nOwWiWYIkU5h",
        "outputId": "065331e7-3c48-48b4-878e-d0baff482cb6"
      },
      "source": [
        "X_train[30].shape[2]"
      ],
      "execution_count": 50,
      "outputs": [
        {
          "output_type": "execute_result",
          "data": {
            "text/plain": [
              "3"
            ]
          },
          "metadata": {
            "tags": []
          },
          "execution_count": 50
        }
      ]
    },
    {
      "cell_type": "code",
      "metadata": {
        "id": "NcbDst6ijU_X"
      },
      "source": [
        "a = X_train_image[30].resize(X_train_image[30].shape[0],X_train_image[30].shape[1])"
      ],
      "execution_count": 59,
      "outputs": []
    },
    {
      "cell_type": "code",
      "metadata": {
        "colab": {
          "base_uri": "https://localhost:8080/"
        },
        "id": "tRmbFJA-lT4B",
        "outputId": "de1b9c7f-08f1-4b5a-8bb0-906d0a7d2948"
      },
      "source": [
        "print(a)"
      ],
      "execution_count": 60,
      "outputs": [
        {
          "output_type": "stream",
          "text": [
            "None\n"
          ],
          "name": "stdout"
        }
      ]
    },
    {
      "cell_type": "code",
      "metadata": {
        "colab": {
          "base_uri": "https://localhost:8080/",
          "height": 589
        },
        "id": "Gw3aPMTjfKxs",
        "outputId": "77261f1c-781b-474e-eba0-da8ab5293d2a"
      },
      "source": [
        "#a = np.array(X_train_image[30])\r\n",
        "a = np.expand_dims(a,axis = 0)\r\n",
        "plt.imshow(a)"
      ],
      "execution_count": 54,
      "outputs": [
        {
          "output_type": "error",
          "ename": "TypeError",
          "evalue": "ignored",
          "traceback": [
            "\u001b[0;31m---------------------------------------------------------------------------\u001b[0m",
            "\u001b[0;31mTypeError\u001b[0m                                 Traceback (most recent call last)",
            "\u001b[0;32m<ipython-input-54-66f45bea4f2c>\u001b[0m in \u001b[0;36m<module>\u001b[0;34m()\u001b[0m\n\u001b[1;32m      1\u001b[0m \u001b[0;31m#a = np.array(X_train_image[30])\u001b[0m\u001b[0;34m\u001b[0m\u001b[0;34m\u001b[0m\u001b[0;34m\u001b[0m\u001b[0m\n\u001b[1;32m      2\u001b[0m \u001b[0ma\u001b[0m \u001b[0;34m=\u001b[0m \u001b[0mnp\u001b[0m\u001b[0;34m.\u001b[0m\u001b[0mexpand_dims\u001b[0m\u001b[0;34m(\u001b[0m\u001b[0ma\u001b[0m\u001b[0;34m,\u001b[0m\u001b[0maxis\u001b[0m \u001b[0;34m=\u001b[0m \u001b[0;36m0\u001b[0m\u001b[0;34m)\u001b[0m\u001b[0;34m\u001b[0m\u001b[0;34m\u001b[0m\u001b[0m\n\u001b[0;32m----> 3\u001b[0;31m \u001b[0mplt\u001b[0m\u001b[0;34m.\u001b[0m\u001b[0mimshow\u001b[0m\u001b[0;34m(\u001b[0m\u001b[0ma\u001b[0m\u001b[0;34m)\u001b[0m\u001b[0;34m\u001b[0m\u001b[0;34m\u001b[0m\u001b[0m\n\u001b[0m",
            "\u001b[0;32m/usr/local/lib/python3.7/dist-packages/matplotlib/pyplot.py\u001b[0m in \u001b[0;36mimshow\u001b[0;34m(X, cmap, norm, aspect, interpolation, alpha, vmin, vmax, origin, extent, shape, filternorm, filterrad, imlim, resample, url, data, **kwargs)\u001b[0m\n\u001b[1;32m   2649\u001b[0m         \u001b[0mfilternorm\u001b[0m\u001b[0;34m=\u001b[0m\u001b[0mfilternorm\u001b[0m\u001b[0;34m,\u001b[0m \u001b[0mfilterrad\u001b[0m\u001b[0;34m=\u001b[0m\u001b[0mfilterrad\u001b[0m\u001b[0;34m,\u001b[0m \u001b[0mimlim\u001b[0m\u001b[0;34m=\u001b[0m\u001b[0mimlim\u001b[0m\u001b[0;34m,\u001b[0m\u001b[0;34m\u001b[0m\u001b[0;34m\u001b[0m\u001b[0m\n\u001b[1;32m   2650\u001b[0m         resample=resample, url=url, **({\"data\": data} if data is not\n\u001b[0;32m-> 2651\u001b[0;31m         None else {}), **kwargs)\n\u001b[0m\u001b[1;32m   2652\u001b[0m     \u001b[0msci\u001b[0m\u001b[0;34m(\u001b[0m\u001b[0m__ret\u001b[0m\u001b[0;34m)\u001b[0m\u001b[0;34m\u001b[0m\u001b[0;34m\u001b[0m\u001b[0m\n\u001b[1;32m   2653\u001b[0m     \u001b[0;32mreturn\u001b[0m \u001b[0m__ret\u001b[0m\u001b[0;34m\u001b[0m\u001b[0;34m\u001b[0m\u001b[0m\n",
            "\u001b[0;32m/usr/local/lib/python3.7/dist-packages/matplotlib/__init__.py\u001b[0m in \u001b[0;36minner\u001b[0;34m(ax, data, *args, **kwargs)\u001b[0m\n\u001b[1;32m   1563\u001b[0m     \u001b[0;32mdef\u001b[0m \u001b[0minner\u001b[0m\u001b[0;34m(\u001b[0m\u001b[0max\u001b[0m\u001b[0;34m,\u001b[0m \u001b[0;34m*\u001b[0m\u001b[0margs\u001b[0m\u001b[0;34m,\u001b[0m \u001b[0mdata\u001b[0m\u001b[0;34m=\u001b[0m\u001b[0;32mNone\u001b[0m\u001b[0;34m,\u001b[0m \u001b[0;34m**\u001b[0m\u001b[0mkwargs\u001b[0m\u001b[0;34m)\u001b[0m\u001b[0;34m:\u001b[0m\u001b[0;34m\u001b[0m\u001b[0;34m\u001b[0m\u001b[0m\n\u001b[1;32m   1564\u001b[0m         \u001b[0;32mif\u001b[0m \u001b[0mdata\u001b[0m \u001b[0;32mis\u001b[0m \u001b[0;32mNone\u001b[0m\u001b[0;34m:\u001b[0m\u001b[0;34m\u001b[0m\u001b[0;34m\u001b[0m\u001b[0m\n\u001b[0;32m-> 1565\u001b[0;31m             \u001b[0;32mreturn\u001b[0m \u001b[0mfunc\u001b[0m\u001b[0;34m(\u001b[0m\u001b[0max\u001b[0m\u001b[0;34m,\u001b[0m \u001b[0;34m*\u001b[0m\u001b[0mmap\u001b[0m\u001b[0;34m(\u001b[0m\u001b[0msanitize_sequence\u001b[0m\u001b[0;34m,\u001b[0m \u001b[0margs\u001b[0m\u001b[0;34m)\u001b[0m\u001b[0;34m,\u001b[0m \u001b[0;34m**\u001b[0m\u001b[0mkwargs\u001b[0m\u001b[0;34m)\u001b[0m\u001b[0;34m\u001b[0m\u001b[0;34m\u001b[0m\u001b[0m\n\u001b[0m\u001b[1;32m   1566\u001b[0m \u001b[0;34m\u001b[0m\u001b[0m\n\u001b[1;32m   1567\u001b[0m         \u001b[0mbound\u001b[0m \u001b[0;34m=\u001b[0m \u001b[0mnew_sig\u001b[0m\u001b[0;34m.\u001b[0m\u001b[0mbind\u001b[0m\u001b[0;34m(\u001b[0m\u001b[0max\u001b[0m\u001b[0;34m,\u001b[0m \u001b[0;34m*\u001b[0m\u001b[0margs\u001b[0m\u001b[0;34m,\u001b[0m \u001b[0;34m**\u001b[0m\u001b[0mkwargs\u001b[0m\u001b[0;34m)\u001b[0m\u001b[0;34m\u001b[0m\u001b[0;34m\u001b[0m\u001b[0m\n",
            "\u001b[0;32m/usr/local/lib/python3.7/dist-packages/matplotlib/cbook/deprecation.py\u001b[0m in \u001b[0;36mwrapper\u001b[0;34m(*args, **kwargs)\u001b[0m\n\u001b[1;32m    356\u001b[0m                 \u001b[0;34mf\"%(removal)s.  If any parameter follows {name!r}, they \"\u001b[0m\u001b[0;34m\u001b[0m\u001b[0;34m\u001b[0m\u001b[0m\n\u001b[1;32m    357\u001b[0m                 f\"should be pass as keyword, not positionally.\")\n\u001b[0;32m--> 358\u001b[0;31m         \u001b[0;32mreturn\u001b[0m \u001b[0mfunc\u001b[0m\u001b[0;34m(\u001b[0m\u001b[0;34m*\u001b[0m\u001b[0margs\u001b[0m\u001b[0;34m,\u001b[0m \u001b[0;34m**\u001b[0m\u001b[0mkwargs\u001b[0m\u001b[0;34m)\u001b[0m\u001b[0;34m\u001b[0m\u001b[0;34m\u001b[0m\u001b[0m\n\u001b[0m\u001b[1;32m    359\u001b[0m \u001b[0;34m\u001b[0m\u001b[0m\n\u001b[1;32m    360\u001b[0m     \u001b[0;32mreturn\u001b[0m \u001b[0mwrapper\u001b[0m\u001b[0;34m\u001b[0m\u001b[0;34m\u001b[0m\u001b[0m\n",
            "\u001b[0;32m/usr/local/lib/python3.7/dist-packages/matplotlib/cbook/deprecation.py\u001b[0m in \u001b[0;36mwrapper\u001b[0;34m(*args, **kwargs)\u001b[0m\n\u001b[1;32m    356\u001b[0m                 \u001b[0;34mf\"%(removal)s.  If any parameter follows {name!r}, they \"\u001b[0m\u001b[0;34m\u001b[0m\u001b[0;34m\u001b[0m\u001b[0m\n\u001b[1;32m    357\u001b[0m                 f\"should be pass as keyword, not positionally.\")\n\u001b[0;32m--> 358\u001b[0;31m         \u001b[0;32mreturn\u001b[0m \u001b[0mfunc\u001b[0m\u001b[0;34m(\u001b[0m\u001b[0;34m*\u001b[0m\u001b[0margs\u001b[0m\u001b[0;34m,\u001b[0m \u001b[0;34m**\u001b[0m\u001b[0mkwargs\u001b[0m\u001b[0;34m)\u001b[0m\u001b[0;34m\u001b[0m\u001b[0;34m\u001b[0m\u001b[0m\n\u001b[0m\u001b[1;32m    359\u001b[0m \u001b[0;34m\u001b[0m\u001b[0m\n\u001b[1;32m    360\u001b[0m     \u001b[0;32mreturn\u001b[0m \u001b[0mwrapper\u001b[0m\u001b[0;34m\u001b[0m\u001b[0;34m\u001b[0m\u001b[0m\n",
            "\u001b[0;32m/usr/local/lib/python3.7/dist-packages/matplotlib/axes/_axes.py\u001b[0m in \u001b[0;36mimshow\u001b[0;34m(self, X, cmap, norm, aspect, interpolation, alpha, vmin, vmax, origin, extent, shape, filternorm, filterrad, imlim, resample, url, **kwargs)\u001b[0m\n\u001b[1;32m   5624\u001b[0m                               resample=resample, **kwargs)\n\u001b[1;32m   5625\u001b[0m \u001b[0;34m\u001b[0m\u001b[0m\n\u001b[0;32m-> 5626\u001b[0;31m         \u001b[0mim\u001b[0m\u001b[0;34m.\u001b[0m\u001b[0mset_data\u001b[0m\u001b[0;34m(\u001b[0m\u001b[0mX\u001b[0m\u001b[0;34m)\u001b[0m\u001b[0;34m\u001b[0m\u001b[0;34m\u001b[0m\u001b[0m\n\u001b[0m\u001b[1;32m   5627\u001b[0m         \u001b[0mim\u001b[0m\u001b[0;34m.\u001b[0m\u001b[0mset_alpha\u001b[0m\u001b[0;34m(\u001b[0m\u001b[0malpha\u001b[0m\u001b[0;34m)\u001b[0m\u001b[0;34m\u001b[0m\u001b[0;34m\u001b[0m\u001b[0m\n\u001b[1;32m   5628\u001b[0m         \u001b[0;32mif\u001b[0m \u001b[0mim\u001b[0m\u001b[0;34m.\u001b[0m\u001b[0mget_clip_path\u001b[0m\u001b[0;34m(\u001b[0m\u001b[0;34m)\u001b[0m \u001b[0;32mis\u001b[0m \u001b[0;32mNone\u001b[0m\u001b[0;34m:\u001b[0m\u001b[0;34m\u001b[0m\u001b[0;34m\u001b[0m\u001b[0m\n",
            "\u001b[0;32m/usr/local/lib/python3.7/dist-packages/matplotlib/image.py\u001b[0m in \u001b[0;36mset_data\u001b[0;34m(self, A)\u001b[0m\n\u001b[1;32m    692\u001b[0m                 not np.can_cast(self._A.dtype, float, \"same_kind\")):\n\u001b[1;32m    693\u001b[0m             raise TypeError(\"Image data of dtype {} cannot be converted to \"\n\u001b[0;32m--> 694\u001b[0;31m                             \"float\".format(self._A.dtype))\n\u001b[0m\u001b[1;32m    695\u001b[0m \u001b[0;34m\u001b[0m\u001b[0m\n\u001b[1;32m    696\u001b[0m         if not (self._A.ndim == 2\n",
            "\u001b[0;31mTypeError\u001b[0m: Image data of dtype object cannot be converted to float"
          ]
        },
        {
          "output_type": "display_data",
          "data": {
            "image/png": "[encoded data removed]",
            "text/plain": [
              "<Figure size 432x288 with 1 Axes>"
            ]
          },
          "metadata": {
            "tags": [],
            "needs_background": "light"
          }
        }
      ]
    },
    {
      "cell_type": "code",
      "metadata": {
        "colab": {
          "base_uri": "https://localhost:8080/"
        },
        "id": "B9gu-A8EeEs5",
        "outputId": "2218c782-cdd8-4c89-c398-2e92a60b4aa1"
      },
      "source": [
        "y_train.shape"
      ],
      "execution_count": 62,
      "outputs": [
        {
          "output_type": "execute_result",
          "data": {
            "text/plain": [
              "(50000, 1)"
            ]
          },
          "metadata": {
            "tags": []
          },
          "execution_count": 62
        }
      ]
    },
    {
      "cell_type": "code",
      "metadata": {
        "colab": {
          "base_uri": "https://localhost:8080/"
        },
        "id": "jGbROjfWlnfi",
        "outputId": "0b4a790c-7e2e-43d0-c8d2-6b655170ad2c"
      },
      "source": [
        "to_categorical(y_train).shape"
      ],
      "execution_count": 64,
      "outputs": [
        {
          "output_type": "execute_result",
          "data": {
            "text/plain": [
              "(50000, 10)"
            ]
          },
          "metadata": {
            "tags": []
          },
          "execution_count": 64
        }
      ]
    },
    {
      "cell_type": "code",
      "metadata": {
        "id": "Xn2QZeApeiIS"
      },
      "source": [
        "y_train_gs = to_categorical(y_train)"
      ],
      "execution_count": 65,
      "outputs": []
    },
    {
      "cell_type": "code",
      "metadata": {
        "colab": {
          "base_uri": "https://localhost:8080/"
        },
        "id": "w-r-ci1zen_H",
        "outputId": "d425470e-cc26-4bb5-f32e-03eb50d68cea"
      },
      "source": [
        "y_train_gs.shape"
      ],
      "execution_count": 66,
      "outputs": [
        {
          "output_type": "execute_result",
          "data": {
            "text/plain": [
              "(50000, 10)"
            ]
          },
          "metadata": {
            "tags": []
          },
          "execution_count": 66
        }
      ]
    },
    {
      "cell_type": "code",
      "metadata": {
        "id": "CHQgO85HsmrI"
      },
      "source": [
        "X_train_gs = x_train_gs.reshape((x_train_gs.shape[0],-1))\r\n",
        "X_test_gs = x_test_gs.reshape((x_test_gs.shape[0],-1))"
      ],
      "execution_count": 42,
      "outputs": []
    },
    {
      "cell_type": "code",
      "metadata": {
        "colab": {
          "base_uri": "https://localhost:8080/"
        },
        "id": "QnRUa1khs3CI",
        "outputId": "32e65ba1-8df1-4fa3-8388-fa71283bd6f4"
      },
      "source": [
        "X_train_gs.shape"
      ],
      "execution_count": 43,
      "outputs": [
        {
          "output_type": "execute_result",
          "data": {
            "text/plain": [
              "(40000, 1024)"
            ]
          },
          "metadata": {
            "tags": []
          },
          "execution_count": 43
        }
      ]
    },
    {
      "cell_type": "code",
      "metadata": {
        "colab": {
          "base_uri": "https://localhost:8080/"
        },
        "id": "15vRL2Ecs6xx",
        "outputId": "368237bb-5edc-43ab-8921-ec91b348de39"
      },
      "source": [
        "X_test_gs.shape"
      ],
      "execution_count": 45,
      "outputs": [
        {
          "output_type": "execute_result",
          "data": {
            "text/plain": [
              "(10000, 1024)"
            ]
          },
          "metadata": {
            "tags": []
          },
          "execution_count": 45
        }
      ]
    },
    {
      "cell_type": "markdown",
      "metadata": {
        "id": "NhKvJdZzrDmz"
      },
      "source": [
        "# Basic MLP model For Greyscale Image"
      ]
    },
    {
      "cell_type": "code",
      "metadata": {
        "id": "y0kLgrVoq7my"
      },
      "source": [
        "from keras.models import Sequential\r\n",
        "from keras.layers import Activation, Dense\r\n",
        "from keras import optimizers"
      ],
      "execution_count": 57,
      "outputs": []
    },
    {
      "cell_type": "code",
      "metadata": {
        "id": "kkBsV3nGrQMh"
      },
      "source": [
        "model = Sequential()"
      ],
      "execution_count": 58,
      "outputs": []
    },
    {
      "cell_type": "code",
      "metadata": {
        "id": "HbkclPyCra-g"
      },
      "source": [
        "model.add(Dense(50,input_shape = (1024, )))\r\n",
        "model.add(Activation('sigmoid'))\r\n",
        "model.add(Dense(50))\r\n",
        "model.add(Activation('sigmoid'))\r\n",
        "model.add(Dense(50))\r\n",
        "model.add(Activation('sigmoid'))\r\n",
        "model.add(Dense(50))\r\n",
        "model.add(Activation('sigmoid'))\r\n",
        "model.add(Dense(10))\r\n",
        "model.add(Activation('softmax'))"
      ],
      "execution_count": 59,
      "outputs": []
    },
    {
      "cell_type": "code",
      "metadata": {
        "id": "ys3yFhZgrtd2"
      },
      "source": [
        "sgd = optimizers.SGD(lr = 0.001)\r\n",
        "model.compile(optimizer = sgd, loss = 'categorical_crossentropy', metrics = ['accuracy'])"
      ],
      "execution_count": 60,
      "outputs": []
    },
    {
      "cell_type": "code",
      "metadata": {
        "colab": {
          "base_uri": "https://localhost:8080/"
        },
        "id": "_m30k0FIr2ig",
        "outputId": "880fc635-4124-4613-be93-566ceece22bb"
      },
      "source": [
        "history = model.fit(X_train_gs, y_train_gs, validation_split = 0.3, epochs = 100, verbose = 1)"
      ],
      "execution_count": 61,
      "outputs": [
        {
          "output_type": "stream",
          "text": [
            "Epoch 1/100\n",
            "875/875 [==============================] - 2s 2ms/step - loss: 2.4627 - accuracy: 0.0995 - val_loss: 2.3229 - val_accuracy: 0.1023\n",
            "Epoch 2/100\n",
            "875/875 [==============================] - 2s 2ms/step - loss: 2.3163 - accuracy: 0.0972 - val_loss: 2.3036 - val_accuracy: 0.1020\n",
            "Epoch 3/100\n",
            "875/875 [==============================] - 2s 2ms/step - loss: 2.3036 - accuracy: 0.1040 - val_loss: 2.3027 - val_accuracy: 0.0975\n",
            "Epoch 4/100\n",
            "875/875 [==============================] - 2s 2ms/step - loss: 2.3026 - accuracy: 0.0976 - val_loss: 2.3027 - val_accuracy: 0.1051\n",
            "Epoch 5/100\n",
            "875/875 [==============================] - 2s 2ms/step - loss: 2.3026 - accuracy: 0.0995 - val_loss: 2.3030 - val_accuracy: 0.0962\n",
            "Epoch 6/100\n",
            "875/875 [==============================] - 2s 2ms/step - loss: 2.3024 - accuracy: 0.1039 - val_loss: 2.3028 - val_accuracy: 0.1059\n",
            "Epoch 7/100\n",
            "875/875 [==============================] - 2s 2ms/step - loss: 2.3024 - accuracy: 0.1027 - val_loss: 2.3028 - val_accuracy: 0.0962\n",
            "Epoch 8/100\n",
            "875/875 [==============================] - 2s 2ms/step - loss: 2.3025 - accuracy: 0.1019 - val_loss: 2.3027 - val_accuracy: 0.0992\n",
            "Epoch 9/100\n",
            "875/875 [==============================] - 2s 2ms/step - loss: 2.3024 - accuracy: 0.1045 - val_loss: 2.3027 - val_accuracy: 0.0988\n",
            "Epoch 10/100\n",
            "875/875 [==============================] - 2s 2ms/step - loss: 2.3026 - accuracy: 0.1002 - val_loss: 2.3028 - val_accuracy: 0.1038\n",
            "Epoch 11/100\n",
            "875/875 [==============================] - 2s 2ms/step - loss: 2.3026 - accuracy: 0.1023 - val_loss: 2.3028 - val_accuracy: 0.0962\n",
            "Epoch 12/100\n",
            "875/875 [==============================] - 2s 2ms/step - loss: 2.3024 - accuracy: 0.1027 - val_loss: 2.3029 - val_accuracy: 0.0996\n",
            "Epoch 13/100\n",
            "875/875 [==============================] - 2s 2ms/step - loss: 2.3026 - accuracy: 0.1018 - val_loss: 2.3028 - val_accuracy: 0.0985\n",
            "Epoch 14/100\n",
            "875/875 [==============================] - 2s 2ms/step - loss: 2.3024 - accuracy: 0.1036 - val_loss: 2.3027 - val_accuracy: 0.0986\n",
            "Epoch 15/100\n",
            "875/875 [==============================] - 2s 2ms/step - loss: 2.3024 - accuracy: 0.1023 - val_loss: 2.3026 - val_accuracy: 0.0997\n",
            "Epoch 16/100\n",
            "875/875 [==============================] - 2s 2ms/step - loss: 2.3023 - accuracy: 0.1030 - val_loss: 2.3026 - val_accuracy: 0.1052\n",
            "Epoch 17/100\n",
            "875/875 [==============================] - 2s 2ms/step - loss: 2.3025 - accuracy: 0.1003 - val_loss: 2.3029 - val_accuracy: 0.0962\n",
            "Epoch 18/100\n",
            "875/875 [==============================] - 2s 2ms/step - loss: 2.3024 - accuracy: 0.1055 - val_loss: 2.3027 - val_accuracy: 0.0985\n",
            "Epoch 19/100\n",
            "875/875 [==============================] - 2s 2ms/step - loss: 2.3024 - accuracy: 0.1028 - val_loss: 2.3026 - val_accuracy: 0.0962\n",
            "Epoch 20/100\n",
            "875/875 [==============================] - 2s 2ms/step - loss: 2.3024 - accuracy: 0.1007 - val_loss: 2.3027 - val_accuracy: 0.0962\n",
            "Epoch 21/100\n",
            "875/875 [==============================] - 2s 2ms/step - loss: 2.3025 - accuracy: 0.1033 - val_loss: 2.3027 - val_accuracy: 0.0985\n",
            "Epoch 22/100\n",
            "875/875 [==============================] - 2s 2ms/step - loss: 2.3025 - accuracy: 0.1004 - val_loss: 2.3028 - val_accuracy: 0.0962\n",
            "Epoch 23/100\n",
            "875/875 [==============================] - 2s 2ms/step - loss: 2.3024 - accuracy: 0.1033 - val_loss: 2.3028 - val_accuracy: 0.1098\n",
            "Epoch 24/100\n",
            "875/875 [==============================] - 2s 2ms/step - loss: 2.3024 - accuracy: 0.1017 - val_loss: 2.3027 - val_accuracy: 0.1002\n",
            "Epoch 25/100\n",
            "875/875 [==============================] - 2s 2ms/step - loss: 2.3025 - accuracy: 0.1022 - val_loss: 2.3029 - val_accuracy: 0.0962\n",
            "Epoch 26/100\n",
            "875/875 [==============================] - 2s 2ms/step - loss: 2.3027 - accuracy: 0.1003 - val_loss: 2.3029 - val_accuracy: 0.0962\n",
            "Epoch 27/100\n",
            "875/875 [==============================] - 2s 2ms/step - loss: 2.3025 - accuracy: 0.1018 - val_loss: 2.3028 - val_accuracy: 0.0985\n",
            "Epoch 28/100\n",
            "875/875 [==============================] - 2s 2ms/step - loss: 2.3021 - accuracy: 0.1049 - val_loss: 2.3026 - val_accuracy: 0.0962\n",
            "Epoch 29/100\n",
            "875/875 [==============================] - 2s 2ms/step - loss: 2.3024 - accuracy: 0.1027 - val_loss: 2.3027 - val_accuracy: 0.1107\n",
            "Epoch 30/100\n",
            "875/875 [==============================] - 2s 2ms/step - loss: 2.3025 - accuracy: 0.1020 - val_loss: 2.3027 - val_accuracy: 0.1032\n",
            "Epoch 31/100\n",
            "875/875 [==============================] - 2s 2ms/step - loss: 2.3023 - accuracy: 0.1040 - val_loss: 2.3027 - val_accuracy: 0.1052\n",
            "Epoch 32/100\n",
            "875/875 [==============================] - 2s 2ms/step - loss: 2.3020 - accuracy: 0.1066 - val_loss: 2.3025 - val_accuracy: 0.1105\n",
            "Epoch 33/100\n",
            "875/875 [==============================] - 2s 2ms/step - loss: 2.3025 - accuracy: 0.1022 - val_loss: 2.3026 - val_accuracy: 0.1051\n",
            "Epoch 34/100\n",
            "875/875 [==============================] - 2s 2ms/step - loss: 2.3022 - accuracy: 0.1079 - val_loss: 2.3026 - val_accuracy: 0.0983\n",
            "Epoch 35/100\n",
            "875/875 [==============================] - 2s 2ms/step - loss: 2.3024 - accuracy: 0.0995 - val_loss: 2.3026 - val_accuracy: 0.0962\n",
            "Epoch 36/100\n",
            "875/875 [==============================] - 2s 2ms/step - loss: 2.3024 - accuracy: 0.1025 - val_loss: 2.3026 - val_accuracy: 0.1011\n",
            "Epoch 37/100\n",
            "875/875 [==============================] - 2s 2ms/step - loss: 2.3025 - accuracy: 0.1036 - val_loss: 2.3026 - val_accuracy: 0.0966\n",
            "Epoch 38/100\n",
            "875/875 [==============================] - 2s 2ms/step - loss: 2.3023 - accuracy: 0.1042 - val_loss: 2.3026 - val_accuracy: 0.0962\n",
            "Epoch 39/100\n",
            "875/875 [==============================] - 2s 2ms/step - loss: 2.3023 - accuracy: 0.1038 - val_loss: 2.3027 - val_accuracy: 0.1020\n",
            "Epoch 40/100\n",
            "875/875 [==============================] - 2s 2ms/step - loss: 2.3023 - accuracy: 0.1041 - val_loss: 2.3027 - val_accuracy: 0.0962\n",
            "Epoch 41/100\n",
            "875/875 [==============================] - 2s 2ms/step - loss: 2.3022 - accuracy: 0.1056 - val_loss: 2.3026 - val_accuracy: 0.0985\n",
            "Epoch 42/100\n",
            "875/875 [==============================] - 2s 2ms/step - loss: 2.3023 - accuracy: 0.1050 - val_loss: 2.3027 - val_accuracy: 0.0983\n",
            "Epoch 43/100\n",
            "875/875 [==============================] - 2s 2ms/step - loss: 2.3022 - accuracy: 0.1051 - val_loss: 2.3025 - val_accuracy: 0.0985\n",
            "Epoch 44/100\n",
            "875/875 [==============================] - 2s 2ms/step - loss: 2.3024 - accuracy: 0.1012 - val_loss: 2.3026 - val_accuracy: 0.0962\n",
            "Epoch 45/100\n",
            "875/875 [==============================] - 2s 2ms/step - loss: 2.3021 - accuracy: 0.1054 - val_loss: 2.3026 - val_accuracy: 0.1091\n",
            "Epoch 46/100\n",
            "875/875 [==============================] - 2s 2ms/step - loss: 2.3024 - accuracy: 0.1056 - val_loss: 2.3027 - val_accuracy: 0.0962\n",
            "Epoch 47/100\n",
            "875/875 [==============================] - 2s 2ms/step - loss: 2.3022 - accuracy: 0.1025 - val_loss: 2.3025 - val_accuracy: 0.1008\n",
            "Epoch 48/100\n",
            "875/875 [==============================] - 2s 2ms/step - loss: 2.3024 - accuracy: 0.1038 - val_loss: 2.3026 - val_accuracy: 0.1032\n",
            "Epoch 49/100\n",
            "875/875 [==============================] - 2s 2ms/step - loss: 2.3024 - accuracy: 0.1032 - val_loss: 2.3028 - val_accuracy: 0.0965\n",
            "Epoch 50/100\n",
            "875/875 [==============================] - 2s 2ms/step - loss: 2.3021 - accuracy: 0.1075 - val_loss: 2.3025 - val_accuracy: 0.1081\n",
            "Epoch 51/100\n",
            "875/875 [==============================] - 2s 2ms/step - loss: 2.3022 - accuracy: 0.1047 - val_loss: 2.3026 - val_accuracy: 0.0962\n",
            "Epoch 52/100\n",
            "875/875 [==============================] - 2s 2ms/step - loss: 2.3023 - accuracy: 0.1042 - val_loss: 2.3025 - val_accuracy: 0.0982\n",
            "Epoch 53/100\n",
            "875/875 [==============================] - 2s 2ms/step - loss: 2.3023 - accuracy: 0.1037 - val_loss: 2.3026 - val_accuracy: 0.0962\n",
            "Epoch 54/100\n",
            "875/875 [==============================] - 2s 2ms/step - loss: 2.3022 - accuracy: 0.1037 - val_loss: 2.3026 - val_accuracy: 0.0965\n",
            "Epoch 55/100\n",
            "875/875 [==============================] - 2s 2ms/step - loss: 2.3020 - accuracy: 0.1078 - val_loss: 2.3025 - val_accuracy: 0.1004\n",
            "Epoch 56/100\n",
            "875/875 [==============================] - 2s 2ms/step - loss: 2.3024 - accuracy: 0.1046 - val_loss: 2.3026 - val_accuracy: 0.0962\n",
            "Epoch 57/100\n",
            "875/875 [==============================] - 2s 2ms/step - loss: 2.3021 - accuracy: 0.1049 - val_loss: 2.3025 - val_accuracy: 0.0962\n",
            "Epoch 58/100\n",
            "875/875 [==============================] - 2s 2ms/step - loss: 2.3023 - accuracy: 0.1056 - val_loss: 2.3026 - val_accuracy: 0.0962\n",
            "Epoch 59/100\n",
            "875/875 [==============================] - 2s 2ms/step - loss: 2.3022 - accuracy: 0.1031 - val_loss: 2.3025 - val_accuracy: 0.1171\n",
            "Epoch 60/100\n",
            "875/875 [==============================] - 2s 2ms/step - loss: 2.3024 - accuracy: 0.1036 - val_loss: 2.3026 - val_accuracy: 0.0998\n",
            "Epoch 61/100\n",
            "875/875 [==============================] - 2s 2ms/step - loss: 2.3021 - accuracy: 0.1054 - val_loss: 2.3025 - val_accuracy: 0.1144\n",
            "Epoch 62/100\n",
            "875/875 [==============================] - 2s 2ms/step - loss: 2.3023 - accuracy: 0.1062 - val_loss: 2.3026 - val_accuracy: 0.1027\n",
            "Epoch 63/100\n",
            "875/875 [==============================] - 2s 2ms/step - loss: 2.3022 - accuracy: 0.1054 - val_loss: 2.3024 - val_accuracy: 0.0962\n",
            "Epoch 64/100\n",
            "875/875 [==============================] - 2s 2ms/step - loss: 2.3023 - accuracy: 0.1041 - val_loss: 2.3024 - val_accuracy: 0.0962\n",
            "Epoch 65/100\n",
            "875/875 [==============================] - 2s 2ms/step - loss: 2.3022 - accuracy: 0.1033 - val_loss: 2.3025 - val_accuracy: 0.0962\n",
            "Epoch 66/100\n",
            "875/875 [==============================] - 2s 2ms/step - loss: 2.3023 - accuracy: 0.1034 - val_loss: 2.3025 - val_accuracy: 0.0962\n",
            "Epoch 67/100\n",
            "875/875 [==============================] - 2s 2ms/step - loss: 2.3021 - accuracy: 0.1038 - val_loss: 2.3025 - val_accuracy: 0.0998\n",
            "Epoch 68/100\n",
            "875/875 [==============================] - 2s 2ms/step - loss: 2.3022 - accuracy: 0.1053 - val_loss: 2.3025 - val_accuracy: 0.1080\n",
            "Epoch 69/100\n",
            "875/875 [==============================] - 2s 2ms/step - loss: 2.3022 - accuracy: 0.1060 - val_loss: 2.3025 - val_accuracy: 0.0985\n",
            "Epoch 70/100\n",
            "875/875 [==============================] - 2s 2ms/step - loss: 2.3023 - accuracy: 0.1036 - val_loss: 2.3025 - val_accuracy: 0.0985\n",
            "Epoch 71/100\n",
            "875/875 [==============================] - 2s 2ms/step - loss: 2.3021 - accuracy: 0.1026 - val_loss: 2.3025 - val_accuracy: 0.1052\n",
            "Epoch 72/100\n",
            "875/875 [==============================] - 2s 2ms/step - loss: 2.3021 - accuracy: 0.1079 - val_loss: 2.3024 - val_accuracy: 0.1018\n",
            "Epoch 73/100\n",
            "875/875 [==============================] - 2s 2ms/step - loss: 2.3021 - accuracy: 0.1059 - val_loss: 2.3023 - val_accuracy: 0.0985\n",
            "Epoch 74/100\n",
            "875/875 [==============================] - 2s 2ms/step - loss: 2.3022 - accuracy: 0.1066 - val_loss: 2.3025 - val_accuracy: 0.1045\n",
            "Epoch 75/100\n",
            "875/875 [==============================] - 2s 2ms/step - loss: 2.3022 - accuracy: 0.1041 - val_loss: 2.3025 - val_accuracy: 0.1049\n",
            "Epoch 76/100\n",
            "875/875 [==============================] - 2s 2ms/step - loss: 2.3023 - accuracy: 0.1028 - val_loss: 2.3025 - val_accuracy: 0.0986\n",
            "Epoch 77/100\n",
            "875/875 [==============================] - 2s 2ms/step - loss: 2.3021 - accuracy: 0.1066 - val_loss: 2.3024 - val_accuracy: 0.0985\n",
            "Epoch 78/100\n",
            "875/875 [==============================] - 2s 2ms/step - loss: 2.3022 - accuracy: 0.1042 - val_loss: 2.3024 - val_accuracy: 0.1032\n",
            "Epoch 79/100\n",
            "875/875 [==============================] - 2s 2ms/step - loss: 2.3020 - accuracy: 0.1054 - val_loss: 2.3023 - val_accuracy: 0.0985\n",
            "Epoch 80/100\n",
            "875/875 [==============================] - 2s 2ms/step - loss: 2.3022 - accuracy: 0.1031 - val_loss: 2.3024 - val_accuracy: 0.0985\n",
            "Epoch 81/100\n",
            "875/875 [==============================] - 2s 2ms/step - loss: 2.3019 - accuracy: 0.1065 - val_loss: 2.3024 - val_accuracy: 0.1031\n",
            "Epoch 82/100\n",
            "875/875 [==============================] - 2s 2ms/step - loss: 2.3022 - accuracy: 0.1034 - val_loss: 2.3024 - val_accuracy: 0.0985\n",
            "Epoch 83/100\n",
            "875/875 [==============================] - 2s 2ms/step - loss: 2.3021 - accuracy: 0.1029 - val_loss: 2.3024 - val_accuracy: 0.1166\n",
            "Epoch 84/100\n",
            "875/875 [==============================] - 2s 2ms/step - loss: 2.3019 - accuracy: 0.1088 - val_loss: 2.3024 - val_accuracy: 0.0962\n",
            "Epoch 85/100\n",
            "875/875 [==============================] - 2s 2ms/step - loss: 2.3021 - accuracy: 0.1061 - val_loss: 2.3025 - val_accuracy: 0.0962\n",
            "Epoch 86/100\n",
            "875/875 [==============================] - 2s 2ms/step - loss: 2.3021 - accuracy: 0.1061 - val_loss: 2.3024 - val_accuracy: 0.0962\n",
            "Epoch 87/100\n",
            "875/875 [==============================] - 2s 2ms/step - loss: 2.3021 - accuracy: 0.1069 - val_loss: 2.3024 - val_accuracy: 0.0976\n",
            "Epoch 88/100\n",
            "875/875 [==============================] - 2s 2ms/step - loss: 2.3019 - accuracy: 0.1081 - val_loss: 2.3024 - val_accuracy: 0.1052\n",
            "Epoch 89/100\n",
            "875/875 [==============================] - 2s 2ms/step - loss: 2.3022 - accuracy: 0.1046 - val_loss: 2.3024 - val_accuracy: 0.0985\n",
            "Epoch 90/100\n",
            "875/875 [==============================] - 2s 2ms/step - loss: 2.3019 - accuracy: 0.1081 - val_loss: 2.3023 - val_accuracy: 0.1062\n",
            "Epoch 91/100\n",
            "875/875 [==============================] - 2s 2ms/step - loss: 2.3020 - accuracy: 0.1079 - val_loss: 2.3024 - val_accuracy: 0.0962\n",
            "Epoch 92/100\n",
            "875/875 [==============================] - 2s 2ms/step - loss: 2.3020 - accuracy: 0.1059 - val_loss: 2.3024 - val_accuracy: 0.0962\n",
            "Epoch 93/100\n",
            "875/875 [==============================] - 2s 2ms/step - loss: 2.3021 - accuracy: 0.1053 - val_loss: 2.3023 - val_accuracy: 0.0979\n",
            "Epoch 94/100\n",
            "875/875 [==============================] - 2s 2ms/step - loss: 2.3019 - accuracy: 0.1083 - val_loss: 2.3022 - val_accuracy: 0.1187\n",
            "Epoch 95/100\n",
            "875/875 [==============================] - 2s 2ms/step - loss: 2.3020 - accuracy: 0.1054 - val_loss: 2.3023 - val_accuracy: 0.0985\n",
            "Epoch 96/100\n",
            "875/875 [==============================] - 2s 2ms/step - loss: 2.3021 - accuracy: 0.1047 - val_loss: 2.3024 - val_accuracy: 0.1040\n",
            "Epoch 97/100\n",
            "875/875 [==============================] - 2s 2ms/step - loss: 2.3021 - accuracy: 0.1073 - val_loss: 2.3023 - val_accuracy: 0.0962\n",
            "Epoch 98/100\n",
            "875/875 [==============================] - 2s 2ms/step - loss: 2.3020 - accuracy: 0.1045 - val_loss: 2.3023 - val_accuracy: 0.1141\n",
            "Epoch 99/100\n",
            "875/875 [==============================] - 2s 2ms/step - loss: 2.3019 - accuracy: 0.1071 - val_loss: 2.3022 - val_accuracy: 0.1064\n",
            "Epoch 100/100\n",
            "875/875 [==============================] - 2s 2ms/step - loss: 2.3020 - accuracy: 0.1055 - val_loss: 2.3023 - val_accuracy: 0.0988\n"
          ],
          "name": "stdout"
        }
      ]
    },
    {
      "cell_type": "code",
      "metadata": {
        "colab": {
          "base_uri": "https://localhost:8080/",
          "height": 265
        },
        "id": "zX8LYHPCyYdi",
        "outputId": "07f4e6bd-7cdd-4ee3-99e0-eafda39c6b7c"
      },
      "source": [
        "plt.plot(history.history['accuracy'])\r\n",
        "plt.plot(history.history['val_accuracy'])\r\n",
        "plt.legend(['training', 'validation'], loc = 'upper left')\r\n",
        "plt.show()"
      ],
      "execution_count": 62,
      "outputs": [
        {
          "output_type": "display_data",
          "data": {
            "image/png": "[encoded data removed]",
            "text/plain": [
              "<Figure size 432x288 with 1 Axes>"
            ]
          },
          "metadata": {
            "tags": [],
            "needs_background": "light"
          }
        }
      ]
    },
    {
      "cell_type": "code",
      "metadata": {
        "colab": {
          "base_uri": "https://localhost:8080/"
        },
        "id": "xFCrbZys0xA2",
        "outputId": "dec1b0ae-235d-4b1e-9caa-d84555afdeff"
      },
      "source": [
        "results = model.evaluate(X_test_gs, y_test_gs)"
      ],
      "execution_count": 63,
      "outputs": [
        {
          "output_type": "stream",
          "text": [
            "313/313 [==============================] - 1s 2ms/step - loss: 2.3022 - accuracy: 0.0972\n"
          ],
          "name": "stdout"
        }
      ]
    },
    {
      "cell_type": "code",
      "metadata": {
        "colab": {
          "base_uri": "https://localhost:8080/"
        },
        "id": "nYjqW1RRJC1o",
        "outputId": "570838bb-37b0-4403-89ef-8881acc24c14"
      },
      "source": [
        "print('Test Accuracy',results[1])"
      ],
      "execution_count": 64,
      "outputs": [
        {
          "output_type": "stream",
          "text": [
            "Test Accuracy 0.09719999879598618\n"
          ],
          "name": "stdout"
        }
      ]
    },
    {
      "cell_type": "markdown",
      "metadata": {
        "id": "maNbcXNGzBB_"
      },
      "source": [
        "# 1. Weight Initialization for Greyscale Image"
      ]
    },
    {
      "cell_type": "code",
      "metadata": {
        "id": "pXfSeFqezGMa"
      },
      "source": [
        "model = Sequential()"
      ],
      "execution_count": 65,
      "outputs": []
    },
    {
      "cell_type": "code",
      "metadata": {
        "id": "49eLv4CRzMAX"
      },
      "source": [
        "model.add(Dense(50, input_shape = (1024, ), kernel_initializer='he_normal'))     # use he_normal initializer\r\n",
        "model.add(Activation('sigmoid'))    \r\n",
        "model.add(Dense(50, kernel_initializer='he_normal'))                            # use he_normal initializer\r\n",
        "model.add(Activation('sigmoid'))    \r\n",
        "model.add(Dense(50, kernel_initializer='he_normal'))                            # use he_normal initializer\r\n",
        "model.add(Activation('sigmoid'))    \r\n",
        "model.add(Dense(50, kernel_initializer='he_normal'))                            # use he_normal initializer\r\n",
        "model.add(Activation('sigmoid'))    \r\n",
        "model.add(Dense(10, kernel_initializer='he_normal'))                            # use he_normal initializer\r\n",
        "model.add(Activation('softmax'))"
      ],
      "execution_count": 66,
      "outputs": []
    },
    {
      "cell_type": "code",
      "metadata": {
        "id": "qI0cNCP4zhhF"
      },
      "source": [
        "sgd = optimizers.SGD(lr = 0.001)\r\n",
        "model.compile(optimizer = sgd, loss = 'categorical_crossentropy', metrics = ['accuracy'])"
      ],
      "execution_count": 67,
      "outputs": []
    },
    {
      "cell_type": "code",
      "metadata": {
        "colab": {
          "base_uri": "https://localhost:8080/"
        },
        "id": "nruMzFg0zxAD",
        "outputId": "6899a58c-c173-4ef3-b353-b5dbc2184a63"
      },
      "source": [
        "history = model.fit(X_train_gs, y_train_gs, batch_size = 400,validation_split = 0.3, epochs = 100, verbose = 1)"
      ],
      "execution_count": 68,
      "outputs": [
        {
          "output_type": "stream",
          "text": [
            "Epoch 1/100\n",
            "70/70 [==============================] - 1s 10ms/step - loss: 2.5499 - accuracy: 0.1014 - val_loss: 2.5112 - val_accuracy: 0.1021\n",
            "Epoch 2/100\n",
            "70/70 [==============================] - 0s 7ms/step - loss: 2.4999 - accuracy: 0.1020 - val_loss: 2.4704 - val_accuracy: 0.1021\n",
            "Epoch 3/100\n",
            "70/70 [==============================] - 0s 7ms/step - loss: 2.4586 - accuracy: 0.1010 - val_loss: 2.4390 - val_accuracy: 0.1021\n",
            "Epoch 4/100\n",
            "70/70 [==============================] - 0s 7ms/step - loss: 2.4364 - accuracy: 0.0970 - val_loss: 2.4144 - val_accuracy: 0.1021\n",
            "Epoch 5/100\n",
            "70/70 [==============================] - 0s 7ms/step - loss: 2.4098 - accuracy: 0.1002 - val_loss: 2.3948 - val_accuracy: 0.1021\n",
            "Epoch 6/100\n",
            "70/70 [==============================] - 0s 6ms/step - loss: 2.3896 - accuracy: 0.1010 - val_loss: 2.3791 - val_accuracy: 0.1021\n",
            "Epoch 7/100\n",
            "70/70 [==============================] - 0s 7ms/step - loss: 2.3788 - accuracy: 0.0992 - val_loss: 2.3663 - val_accuracy: 0.1021\n",
            "Epoch 8/100\n",
            "70/70 [==============================] - 0s 7ms/step - loss: 2.3640 - accuracy: 0.1001 - val_loss: 2.3558 - val_accuracy: 0.1021\n",
            "Epoch 9/100\n",
            "70/70 [==============================] - 0s 7ms/step - loss: 2.3540 - accuracy: 0.0990 - val_loss: 2.3471 - val_accuracy: 0.1021\n",
            "Epoch 10/100\n",
            "70/70 [==============================] - 0s 7ms/step - loss: 2.3469 - accuracy: 0.1004 - val_loss: 2.3399 - val_accuracy: 0.1021\n",
            "Epoch 11/100\n",
            "70/70 [==============================] - 0s 7ms/step - loss: 2.3365 - accuracy: 0.1034 - val_loss: 2.3339 - val_accuracy: 0.1021\n",
            "Epoch 12/100\n",
            "70/70 [==============================] - 0s 7ms/step - loss: 2.3342 - accuracy: 0.0985 - val_loss: 2.3289 - val_accuracy: 0.1021\n",
            "Epoch 13/100\n",
            "70/70 [==============================] - 0s 6ms/step - loss: 2.3280 - accuracy: 0.0988 - val_loss: 2.3247 - val_accuracy: 0.1021\n",
            "Epoch 14/100\n",
            "70/70 [==============================] - 0s 7ms/step - loss: 2.3240 - accuracy: 0.0980 - val_loss: 2.3212 - val_accuracy: 0.1021\n",
            "Epoch 15/100\n",
            "70/70 [==============================] - 0s 7ms/step - loss: 2.3217 - accuracy: 0.0986 - val_loss: 2.3183 - val_accuracy: 0.1021\n",
            "Epoch 16/100\n",
            "70/70 [==============================] - 0s 7ms/step - loss: 2.3189 - accuracy: 0.0991 - val_loss: 2.3158 - val_accuracy: 0.1021\n",
            "Epoch 17/100\n",
            "70/70 [==============================] - 0s 6ms/step - loss: 2.3158 - accuracy: 0.0995 - val_loss: 2.3138 - val_accuracy: 0.1021\n",
            "Epoch 18/100\n",
            "70/70 [==============================] - 0s 7ms/step - loss: 2.3126 - accuracy: 0.0999 - val_loss: 2.3120 - val_accuracy: 0.1021\n",
            "Epoch 19/100\n",
            "70/70 [==============================] - 0s 6ms/step - loss: 2.3113 - accuracy: 0.0966 - val_loss: 2.3106 - val_accuracy: 0.1021\n",
            "Epoch 20/100\n",
            "70/70 [==============================] - 0s 7ms/step - loss: 2.3100 - accuracy: 0.0972 - val_loss: 2.3093 - val_accuracy: 0.1021\n",
            "Epoch 21/100\n",
            "70/70 [==============================] - 0s 7ms/step - loss: 2.3089 - accuracy: 0.0985 - val_loss: 2.3083 - val_accuracy: 0.1021\n",
            "Epoch 22/100\n",
            "70/70 [==============================] - 0s 7ms/step - loss: 2.3074 - accuracy: 0.0998 - val_loss: 2.3075 - val_accuracy: 0.1021\n",
            "Epoch 23/100\n",
            "70/70 [==============================] - 0s 6ms/step - loss: 2.3072 - accuracy: 0.1002 - val_loss: 2.3067 - val_accuracy: 0.1020\n",
            "Epoch 24/100\n",
            "70/70 [==============================] - 0s 7ms/step - loss: 2.3064 - accuracy: 0.0998 - val_loss: 2.3061 - val_accuracy: 0.1020\n",
            "Epoch 25/100\n",
            "70/70 [==============================] - 0s 7ms/step - loss: 2.3060 - accuracy: 0.1010 - val_loss: 2.3056 - val_accuracy: 0.1020\n",
            "Epoch 26/100\n",
            "70/70 [==============================] - 0s 6ms/step - loss: 2.3053 - accuracy: 0.1005 - val_loss: 2.3052 - val_accuracy: 0.1020\n",
            "Epoch 27/100\n",
            "70/70 [==============================] - 0s 6ms/step - loss: 2.3047 - accuracy: 0.0992 - val_loss: 2.3049 - val_accuracy: 0.1021\n",
            "Epoch 28/100\n",
            "70/70 [==============================] - 0s 6ms/step - loss: 2.3049 - accuracy: 0.1023 - val_loss: 2.3046 - val_accuracy: 0.1020\n",
            "Epoch 29/100\n",
            "70/70 [==============================] - 0s 7ms/step - loss: 2.3043 - accuracy: 0.1008 - val_loss: 2.3043 - val_accuracy: 0.1018\n",
            "Epoch 30/100\n",
            "70/70 [==============================] - 0s 6ms/step - loss: 2.3039 - accuracy: 0.0974 - val_loss: 2.3041 - val_accuracy: 0.1013\n",
            "Epoch 31/100\n",
            "70/70 [==============================] - 0s 7ms/step - loss: 2.3036 - accuracy: 0.1004 - val_loss: 2.3040 - val_accuracy: 0.0987\n",
            "Epoch 32/100\n",
            "70/70 [==============================] - 0s 6ms/step - loss: 2.3036 - accuracy: 0.0947 - val_loss: 2.3038 - val_accuracy: 0.0927\n",
            "Epoch 33/100\n",
            "70/70 [==============================] - 0s 7ms/step - loss: 2.3037 - accuracy: 0.0826 - val_loss: 2.3037 - val_accuracy: 0.0881\n",
            "Epoch 34/100\n",
            "70/70 [==============================] - 0s 7ms/step - loss: 2.3037 - accuracy: 0.0828 - val_loss: 2.3036 - val_accuracy: 0.0817\n",
            "Epoch 35/100\n",
            "70/70 [==============================] - 0s 7ms/step - loss: 2.3031 - accuracy: 0.0863 - val_loss: 2.3036 - val_accuracy: 0.0804\n",
            "Epoch 36/100\n",
            "70/70 [==============================] - 0s 6ms/step - loss: 2.3032 - accuracy: 0.0866 - val_loss: 2.3035 - val_accuracy: 0.0817\n",
            "Epoch 37/100\n",
            "70/70 [==============================] - 0s 6ms/step - loss: 2.3029 - accuracy: 0.0879 - val_loss: 2.3034 - val_accuracy: 0.0847\n",
            "Epoch 38/100\n",
            "70/70 [==============================] - 0s 7ms/step - loss: 2.3030 - accuracy: 0.0943 - val_loss: 2.3034 - val_accuracy: 0.0863\n",
            "Epoch 39/100\n",
            "70/70 [==============================] - 0s 7ms/step - loss: 2.3029 - accuracy: 0.0920 - val_loss: 2.3034 - val_accuracy: 0.0878\n",
            "Epoch 40/100\n",
            "70/70 [==============================] - 0s 7ms/step - loss: 2.3028 - accuracy: 0.0939 - val_loss: 2.3033 - val_accuracy: 0.0892\n",
            "Epoch 41/100\n",
            "70/70 [==============================] - 0s 7ms/step - loss: 2.3026 - accuracy: 0.0985 - val_loss: 2.3033 - val_accuracy: 0.0902\n",
            "Epoch 42/100\n",
            "70/70 [==============================] - 0s 7ms/step - loss: 2.3028 - accuracy: 0.0941 - val_loss: 2.3033 - val_accuracy: 0.0894\n",
            "Epoch 43/100\n",
            "70/70 [==============================] - 0s 7ms/step - loss: 2.3028 - accuracy: 0.0999 - val_loss: 2.3033 - val_accuracy: 0.0882\n",
            "Epoch 44/100\n",
            "70/70 [==============================] - 0s 7ms/step - loss: 2.3027 - accuracy: 0.0965 - val_loss: 2.3033 - val_accuracy: 0.0882\n",
            "Epoch 45/100\n",
            "70/70 [==============================] - 0s 6ms/step - loss: 2.3028 - accuracy: 0.0922 - val_loss: 2.3033 - val_accuracy: 0.0876\n",
            "Epoch 46/100\n",
            "70/70 [==============================] - 0s 7ms/step - loss: 2.3030 - accuracy: 0.0935 - val_loss: 2.3032 - val_accuracy: 0.0878\n",
            "Epoch 47/100\n",
            "70/70 [==============================] - 1s 7ms/step - loss: 2.3028 - accuracy: 0.0919 - val_loss: 2.3032 - val_accuracy: 0.0862\n",
            "Epoch 48/100\n",
            "70/70 [==============================] - 0s 7ms/step - loss: 2.3029 - accuracy: 0.0905 - val_loss: 2.3032 - val_accuracy: 0.0857\n",
            "Epoch 49/100\n",
            "70/70 [==============================] - 0s 7ms/step - loss: 2.3030 - accuracy: 0.0876 - val_loss: 2.3032 - val_accuracy: 0.0852\n",
            "Epoch 50/100\n",
            "70/70 [==============================] - 0s 7ms/step - loss: 2.3029 - accuracy: 0.0873 - val_loss: 2.3032 - val_accuracy: 0.0834\n",
            "Epoch 51/100\n",
            "70/70 [==============================] - 0s 7ms/step - loss: 2.3030 - accuracy: 0.0836 - val_loss: 2.3032 - val_accuracy: 0.0836\n",
            "Epoch 52/100\n",
            "70/70 [==============================] - 0s 7ms/step - loss: 2.3029 - accuracy: 0.0857 - val_loss: 2.3032 - val_accuracy: 0.0839\n",
            "Epoch 53/100\n",
            "70/70 [==============================] - 0s 7ms/step - loss: 2.3028 - accuracy: 0.0852 - val_loss: 2.3032 - val_accuracy: 0.0822\n",
            "Epoch 54/100\n",
            "70/70 [==============================] - 0s 7ms/step - loss: 2.3029 - accuracy: 0.0867 - val_loss: 2.3032 - val_accuracy: 0.0838\n",
            "Epoch 55/100\n",
            "70/70 [==============================] - 0s 7ms/step - loss: 2.3030 - accuracy: 0.0815 - val_loss: 2.3032 - val_accuracy: 0.0833\n",
            "Epoch 56/100\n",
            "70/70 [==============================] - 0s 7ms/step - loss: 2.3027 - accuracy: 0.0851 - val_loss: 2.3032 - val_accuracy: 0.0825\n",
            "Epoch 57/100\n",
            "70/70 [==============================] - 0s 7ms/step - loss: 2.3027 - accuracy: 0.0877 - val_loss: 2.3032 - val_accuracy: 0.0821\n",
            "Epoch 58/100\n",
            "70/70 [==============================] - 0s 7ms/step - loss: 2.3028 - accuracy: 0.0852 - val_loss: 2.3032 - val_accuracy: 0.0819\n",
            "Epoch 59/100\n",
            "70/70 [==============================] - 1s 7ms/step - loss: 2.3028 - accuracy: 0.0868 - val_loss: 2.3032 - val_accuracy: 0.0820\n",
            "Epoch 60/100\n",
            "70/70 [==============================] - 0s 7ms/step - loss: 2.3028 - accuracy: 0.0860 - val_loss: 2.3032 - val_accuracy: 0.0809\n",
            "Epoch 61/100\n",
            "70/70 [==============================] - 0s 7ms/step - loss: 2.3029 - accuracy: 0.0848 - val_loss: 2.3032 - val_accuracy: 0.0811\n",
            "Epoch 62/100\n",
            "70/70 [==============================] - 0s 7ms/step - loss: 2.3028 - accuracy: 0.0851 - val_loss: 2.3032 - val_accuracy: 0.0817\n",
            "Epoch 63/100\n",
            "70/70 [==============================] - 0s 7ms/step - loss: 2.3028 - accuracy: 0.0868 - val_loss: 2.3032 - val_accuracy: 0.0817\n",
            "Epoch 64/100\n",
            "70/70 [==============================] - 0s 7ms/step - loss: 2.3028 - accuracy: 0.0883 - val_loss: 2.3032 - val_accuracy: 0.0827\n",
            "Epoch 65/100\n",
            "70/70 [==============================] - 0s 7ms/step - loss: 2.3028 - accuracy: 0.0893 - val_loss: 2.3032 - val_accuracy: 0.0829\n",
            "Epoch 66/100\n",
            "70/70 [==============================] - 0s 7ms/step - loss: 2.3028 - accuracy: 0.0887 - val_loss: 2.3032 - val_accuracy: 0.0821\n",
            "Epoch 67/100\n",
            "70/70 [==============================] - 0s 7ms/step - loss: 2.3028 - accuracy: 0.0875 - val_loss: 2.3032 - val_accuracy: 0.0828\n",
            "Epoch 68/100\n",
            "70/70 [==============================] - 0s 7ms/step - loss: 2.3029 - accuracy: 0.0860 - val_loss: 2.3032 - val_accuracy: 0.0827\n",
            "Epoch 69/100\n",
            "70/70 [==============================] - 1s 7ms/step - loss: 2.3028 - accuracy: 0.0859 - val_loss: 2.3032 - val_accuracy: 0.0833\n",
            "Epoch 70/100\n",
            "70/70 [==============================] - 0s 7ms/step - loss: 2.3027 - accuracy: 0.0880 - val_loss: 2.3032 - val_accuracy: 0.0836\n",
            "Epoch 71/100\n",
            "70/70 [==============================] - 0s 7ms/step - loss: 2.3028 - accuracy: 0.0900 - val_loss: 2.3032 - val_accuracy: 0.0834\n",
            "Epoch 72/100\n",
            "70/70 [==============================] - 0s 7ms/step - loss: 2.3028 - accuracy: 0.0860 - val_loss: 2.3032 - val_accuracy: 0.0832\n",
            "Epoch 73/100\n",
            "70/70 [==============================] - 1s 7ms/step - loss: 2.3029 - accuracy: 0.0858 - val_loss: 2.3032 - val_accuracy: 0.0834\n",
            "Epoch 74/100\n",
            "70/70 [==============================] - 0s 7ms/step - loss: 2.3029 - accuracy: 0.0891 - val_loss: 2.3032 - val_accuracy: 0.0830\n",
            "Epoch 75/100\n",
            "70/70 [==============================] - 0s 7ms/step - loss: 2.3028 - accuracy: 0.0844 - val_loss: 2.3032 - val_accuracy: 0.0833\n",
            "Epoch 76/100\n",
            "70/70 [==============================] - 0s 7ms/step - loss: 2.3027 - accuracy: 0.0901 - val_loss: 2.3032 - val_accuracy: 0.0835\n",
            "Epoch 77/100\n",
            "70/70 [==============================] - 0s 7ms/step - loss: 2.3027 - accuracy: 0.0897 - val_loss: 2.3032 - val_accuracy: 0.0833\n",
            "Epoch 78/100\n",
            "70/70 [==============================] - 0s 7ms/step - loss: 2.3027 - accuracy: 0.0861 - val_loss: 2.3032 - val_accuracy: 0.0838\n",
            "Epoch 79/100\n",
            "70/70 [==============================] - 0s 7ms/step - loss: 2.3028 - accuracy: 0.0872 - val_loss: 2.3032 - val_accuracy: 0.0838\n",
            "Epoch 80/100\n",
            "70/70 [==============================] - 1s 9ms/step - loss: 2.3028 - accuracy: 0.0913 - val_loss: 2.3032 - val_accuracy: 0.0834\n",
            "Epoch 81/100\n",
            "70/70 [==============================] - 0s 7ms/step - loss: 2.3028 - accuracy: 0.0859 - val_loss: 2.3032 - val_accuracy: 0.0836\n",
            "Epoch 82/100\n",
            "70/70 [==============================] - 1s 7ms/step - loss: 2.3029 - accuracy: 0.0829 - val_loss: 2.3032 - val_accuracy: 0.0836\n",
            "Epoch 83/100\n",
            "70/70 [==============================] - 0s 7ms/step - loss: 2.3028 - accuracy: 0.0843 - val_loss: 2.3032 - val_accuracy: 0.0839\n",
            "Epoch 84/100\n",
            "70/70 [==============================] - 0s 7ms/step - loss: 2.3028 - accuracy: 0.0851 - val_loss: 2.3032 - val_accuracy: 0.0838\n",
            "Epoch 85/100\n",
            "70/70 [==============================] - 0s 7ms/step - loss: 2.3027 - accuracy: 0.0883 - val_loss: 2.3032 - val_accuracy: 0.0842\n",
            "Epoch 86/100\n",
            "70/70 [==============================] - 0s 7ms/step - loss: 2.3028 - accuracy: 0.0886 - val_loss: 2.3032 - val_accuracy: 0.0839\n",
            "Epoch 87/100\n",
            "70/70 [==============================] - 0s 7ms/step - loss: 2.3027 - accuracy: 0.0850 - val_loss: 2.3031 - val_accuracy: 0.0840\n",
            "Epoch 88/100\n",
            "70/70 [==============================] - 0s 7ms/step - loss: 2.3026 - accuracy: 0.0909 - val_loss: 2.3031 - val_accuracy: 0.0838\n",
            "Epoch 89/100\n",
            "70/70 [==============================] - 0s 7ms/step - loss: 2.3027 - accuracy: 0.0894 - val_loss: 2.3031 - val_accuracy: 0.0843\n",
            "Epoch 90/100\n",
            "70/70 [==============================] - 0s 7ms/step - loss: 2.3027 - accuracy: 0.0921 - val_loss: 2.3031 - val_accuracy: 0.0839\n",
            "Epoch 91/100\n",
            "70/70 [==============================] - 0s 7ms/step - loss: 2.3027 - accuracy: 0.0874 - val_loss: 2.3031 - val_accuracy: 0.0842\n",
            "Epoch 92/100\n",
            "70/70 [==============================] - 0s 7ms/step - loss: 2.3026 - accuracy: 0.0883 - val_loss: 2.3031 - val_accuracy: 0.0846\n",
            "Epoch 93/100\n",
            "70/70 [==============================] - 0s 6ms/step - loss: 2.3027 - accuracy: 0.0900 - val_loss: 2.3031 - val_accuracy: 0.0846\n",
            "Epoch 94/100\n",
            "70/70 [==============================] - 0s 7ms/step - loss: 2.3029 - accuracy: 0.0828 - val_loss: 2.3031 - val_accuracy: 0.0847\n",
            "Epoch 95/100\n",
            "70/70 [==============================] - 0s 6ms/step - loss: 2.3028 - accuracy: 0.0883 - val_loss: 2.3031 - val_accuracy: 0.0847\n",
            "Epoch 96/100\n",
            "70/70 [==============================] - 0s 7ms/step - loss: 2.3027 - accuracy: 0.0893 - val_loss: 2.3031 - val_accuracy: 0.0854\n",
            "Epoch 97/100\n",
            "70/70 [==============================] - 0s 7ms/step - loss: 2.3026 - accuracy: 0.0934 - val_loss: 2.3031 - val_accuracy: 0.0848\n",
            "Epoch 98/100\n",
            "70/70 [==============================] - 0s 7ms/step - loss: 2.3028 - accuracy: 0.0864 - val_loss: 2.3031 - val_accuracy: 0.0847\n",
            "Epoch 99/100\n",
            "70/70 [==============================] - 0s 7ms/step - loss: 2.3027 - accuracy: 0.0897 - val_loss: 2.3031 - val_accuracy: 0.0847\n",
            "Epoch 100/100\n",
            "70/70 [==============================] - 0s 6ms/step - loss: 2.3027 - accuracy: 0.0879 - val_loss: 2.3031 - val_accuracy: 0.0847\n"
          ],
          "name": "stdout"
        }
      ]
    },
    {
      "cell_type": "code",
      "metadata": {
        "colab": {
          "base_uri": "https://localhost:8080/",
          "height": 265
        },
        "id": "Kt1RpkVb0Uym",
        "outputId": "ab023da1-d683-4fea-ed6e-a388ad519ff0"
      },
      "source": [
        "plt.plot(history.history['accuracy'])\r\n",
        "plt.plot(history.history['val_accuracy'])\r\n",
        "plt.legend(['training', 'validation'], loc = 'upper left')\r\n",
        "plt.show()"
      ],
      "execution_count": 69,
      "outputs": [
        {
          "output_type": "display_data",
          "data": {
            "image/png": "[encoded data removed]",
            "text/plain": [
              "<Figure size 432x288 with 1 Axes>"
            ]
          },
          "metadata": {
            "tags": [],
            "needs_background": "light"
          }
        }
      ]
    },
    {
      "cell_type": "code",
      "metadata": {
        "colab": {
          "base_uri": "https://localhost:8080/"
        },
        "id": "tR0flKE-MYgR",
        "outputId": "53489203-a41e-48de-b733-47c3326785f5"
      },
      "source": [
        "results = model.evaluate(X_test_gs, y_test_gs)"
      ],
      "execution_count": 70,
      "outputs": [
        {
          "output_type": "stream",
          "text": [
            "313/313 [==============================] - 1s 2ms/step - loss: 2.3031 - accuracy: 0.0870\n"
          ],
          "name": "stdout"
        }
      ]
    },
    {
      "cell_type": "code",
      "metadata": {
        "colab": {
          "base_uri": "https://localhost:8080/"
        },
        "id": "7LCSnhl5MYol",
        "outputId": "5748f6a3-ab63-4a87-f9e6-e94575e08bda"
      },
      "source": [
        "print('Test Accuracy',results[1])"
      ],
      "execution_count": 71,
      "outputs": [
        {
          "output_type": "stream",
          "text": [
            "Test Accuracy 0.08699999749660492\n"
          ],
          "name": "stdout"
        }
      ]
    },
    {
      "cell_type": "markdown",
      "metadata": {
        "id": "hqd0XobsynaF"
      },
      "source": [
        "## 2. Nonlinearity (Activation function) For GreyScale Image"
      ]
    },
    {
      "cell_type": "code",
      "metadata": {
        "id": "4BqxXqDxyrLj"
      },
      "source": [
        "model = Sequential()"
      ],
      "execution_count": 72,
      "outputs": []
    },
    {
      "cell_type": "code",
      "metadata": {
        "id": "8sXqp0VwyxkA"
      },
      "source": [
        "model.add(Dense(50, input_shape = (1024, ), kernel_initializer='he_normal'))\r\n",
        "model.add(Activation('relu'))    # use relu\r\n",
        "model.add(Dense(50, kernel_initializer='he_normal'))\r\n",
        "model.add(Activation('relu'))    # use relu\r\n",
        "model.add(Dense(50, kernel_initializer='he_normal'))\r\n",
        "model.add(Activation('relu'))    # use relu\r\n",
        "model.add(Dense(50, kernel_initializer='he_normal'))\r\n",
        "model.add(Activation('relu'))    # use relu\r\n",
        "model.add(Dense(10, kernel_initializer='he_normal'))\r\n",
        "model.add(Activation('softmax'))"
      ],
      "execution_count": 73,
      "outputs": []
    },
    {
      "cell_type": "code",
      "metadata": {
        "id": "FY4XsLnfM8-p"
      },
      "source": [
        "sgd = optimizers.SGD(lr = 0.001)\r\n",
        "model.compile(optimizer = sgd, loss = 'categorical_crossentropy', metrics = ['accuracy'])"
      ],
      "execution_count": 74,
      "outputs": []
    },
    {
      "cell_type": "code",
      "metadata": {
        "colab": {
          "base_uri": "https://localhost:8080/"
        },
        "id": "KJTcWZzyNLkO",
        "outputId": "eb379700-7bbb-4c1d-d8d4-d09e3265a1a7"
      },
      "source": [
        "history = model.fit(X_train_gs, y_train_gs, validation_split = 0.3, epochs = 100, verbose = 1)"
      ],
      "execution_count": 76,
      "outputs": [
        {
          "output_type": "stream",
          "text": [
            "Epoch 1/100\n",
            "875/875 [==============================] - 2s 2ms/step - loss: 2.3111 - accuracy: 0.1078 - val_loss: 2.2635 - val_accuracy: 0.1380\n",
            "Epoch 2/100\n",
            "875/875 [==============================] - 2s 2ms/step - loss: 2.2469 - accuracy: 0.1669 - val_loss: 2.2171 - val_accuracy: 0.1889\n",
            "Epoch 3/100\n",
            "875/875 [==============================] - 2s 2ms/step - loss: 2.2032 - accuracy: 0.1982 - val_loss: 2.1821 - val_accuracy: 0.2028\n",
            "Epoch 4/100\n",
            "875/875 [==============================] - 2s 2ms/step - loss: 2.1700 - accuracy: 0.2115 - val_loss: 2.1534 - val_accuracy: 0.2163\n",
            "Epoch 5/100\n",
            "875/875 [==============================] - 2s 2ms/step - loss: 2.1459 - accuracy: 0.2151 - val_loss: 2.1269 - val_accuracy: 0.2223\n",
            "Epoch 6/100\n",
            "875/875 [==============================] - 2s 2ms/step - loss: 2.1181 - accuracy: 0.2226 - val_loss: 2.1044 - val_accuracy: 0.2338\n",
            "Epoch 7/100\n",
            "875/875 [==============================] - 2s 2ms/step - loss: 2.0971 - accuracy: 0.2356 - val_loss: 2.0843 - val_accuracy: 0.2414\n",
            "Epoch 8/100\n",
            "875/875 [==============================] - 2s 2ms/step - loss: 2.0744 - accuracy: 0.2485 - val_loss: 2.0653 - val_accuracy: 0.2518\n",
            "Epoch 9/100\n",
            "875/875 [==============================] - 2s 2ms/step - loss: 2.0508 - accuracy: 0.2553 - val_loss: 2.0447 - val_accuracy: 0.2655\n",
            "Epoch 10/100\n",
            "875/875 [==============================] - 2s 2ms/step - loss: 2.0293 - accuracy: 0.2650 - val_loss: 2.0280 - val_accuracy: 0.2683\n",
            "Epoch 11/100\n",
            "875/875 [==============================] - 2s 2ms/step - loss: 2.0130 - accuracy: 0.2737 - val_loss: 2.0105 - val_accuracy: 0.2762\n",
            "Epoch 12/100\n",
            "875/875 [==============================] - 2s 2ms/step - loss: 1.9900 - accuracy: 0.2883 - val_loss: 1.9999 - val_accuracy: 0.2797\n",
            "Epoch 13/100\n",
            "875/875 [==============================] - 2s 2ms/step - loss: 1.9886 - accuracy: 0.2870 - val_loss: 1.9878 - val_accuracy: 0.2853\n",
            "Epoch 14/100\n",
            "875/875 [==============================] - 2s 2ms/step - loss: 1.9742 - accuracy: 0.2921 - val_loss: 1.9743 - val_accuracy: 0.2928\n",
            "Epoch 15/100\n",
            "875/875 [==============================] - 2s 2ms/step - loss: 1.9746 - accuracy: 0.2961 - val_loss: 1.9670 - val_accuracy: 0.2936\n",
            "Epoch 16/100\n",
            "875/875 [==============================] - 2s 2ms/step - loss: 1.9574 - accuracy: 0.2983 - val_loss: 1.9580 - val_accuracy: 0.2939\n",
            "Epoch 17/100\n",
            "875/875 [==============================] - 2s 2ms/step - loss: 1.9453 - accuracy: 0.3035 - val_loss: 1.9492 - val_accuracy: 0.2998\n",
            "Epoch 18/100\n",
            "875/875 [==============================] - 2s 2ms/step - loss: 1.9342 - accuracy: 0.3127 - val_loss: 1.9441 - val_accuracy: 0.2996\n",
            "Epoch 19/100\n",
            "875/875 [==============================] - 2s 2ms/step - loss: 1.9340 - accuracy: 0.3115 - val_loss: 1.9344 - val_accuracy: 0.3043\n",
            "Epoch 20/100\n",
            "875/875 [==============================] - 2s 2ms/step - loss: 1.9294 - accuracy: 0.3128 - val_loss: 1.9291 - val_accuracy: 0.3054\n",
            "Epoch 21/100\n",
            "875/875 [==============================] - 2s 2ms/step - loss: 1.9171 - accuracy: 0.3167 - val_loss: 1.9271 - val_accuracy: 0.3052\n",
            "Epoch 22/100\n",
            "875/875 [==============================] - 2s 2ms/step - loss: 1.9059 - accuracy: 0.3164 - val_loss: 1.9187 - val_accuracy: 0.3070\n",
            "Epoch 23/100\n",
            "875/875 [==============================] - 2s 2ms/step - loss: 1.8941 - accuracy: 0.3129 - val_loss: 1.9110 - val_accuracy: 0.3150\n",
            "Epoch 24/100\n",
            "875/875 [==============================] - 2s 2ms/step - loss: 1.8925 - accuracy: 0.3282 - val_loss: 1.9026 - val_accuracy: 0.3158\n",
            "Epoch 25/100\n",
            "875/875 [==============================] - 2s 2ms/step - loss: 1.8877 - accuracy: 0.3291 - val_loss: 1.8988 - val_accuracy: 0.3181\n",
            "Epoch 26/100\n",
            "875/875 [==============================] - 2s 2ms/step - loss: 1.8733 - accuracy: 0.3342 - val_loss: 1.8960 - val_accuracy: 0.3158\n",
            "Epoch 27/100\n",
            "875/875 [==============================] - 2s 2ms/step - loss: 1.8750 - accuracy: 0.3273 - val_loss: 1.8885 - val_accuracy: 0.3198\n",
            "Epoch 28/100\n",
            "875/875 [==============================] - 2s 2ms/step - loss: 1.8632 - accuracy: 0.3314 - val_loss: 1.8839 - val_accuracy: 0.3236\n",
            "Epoch 29/100\n",
            "875/875 [==============================] - 2s 2ms/step - loss: 1.8601 - accuracy: 0.3351 - val_loss: 1.8847 - val_accuracy: 0.3188\n",
            "Epoch 30/100\n",
            "875/875 [==============================] - 2s 2ms/step - loss: 1.8478 - accuracy: 0.3421 - val_loss: 1.8722 - val_accuracy: 0.3293\n",
            "Epoch 31/100\n",
            "875/875 [==============================] - 2s 2ms/step - loss: 1.8456 - accuracy: 0.3392 - val_loss: 1.8732 - val_accuracy: 0.3196\n",
            "Epoch 32/100\n",
            "875/875 [==============================] - 2s 2ms/step - loss: 1.8380 - accuracy: 0.3462 - val_loss: 1.8657 - val_accuracy: 0.3283\n",
            "Epoch 33/100\n",
            "875/875 [==============================] - 2s 2ms/step - loss: 1.8251 - accuracy: 0.3482 - val_loss: 1.8711 - val_accuracy: 0.3248\n",
            "Epoch 34/100\n",
            "875/875 [==============================] - 2s 2ms/step - loss: 1.8228 - accuracy: 0.3529 - val_loss: 1.8720 - val_accuracy: 0.3242\n",
            "Epoch 35/100\n",
            "875/875 [==============================] - 2s 2ms/step - loss: 1.8246 - accuracy: 0.3504 - val_loss: 1.8513 - val_accuracy: 0.3372\n",
            "Epoch 36/100\n",
            "875/875 [==============================] - 2s 2ms/step - loss: 1.8188 - accuracy: 0.3500 - val_loss: 1.8511 - val_accuracy: 0.3336\n",
            "Epoch 37/100\n",
            "875/875 [==============================] - 2s 2ms/step - loss: 1.8083 - accuracy: 0.3542 - val_loss: 1.8476 - val_accuracy: 0.3364\n",
            "Epoch 38/100\n",
            "875/875 [==============================] - 2s 2ms/step - loss: 1.8057 - accuracy: 0.3570 - val_loss: 1.8582 - val_accuracy: 0.3333\n",
            "Epoch 39/100\n",
            "875/875 [==============================] - 2s 2ms/step - loss: 1.8003 - accuracy: 0.3567 - val_loss: 1.8478 - val_accuracy: 0.3337\n",
            "Epoch 40/100\n",
            "875/875 [==============================] - 2s 2ms/step - loss: 1.8073 - accuracy: 0.3572 - val_loss: 1.8408 - val_accuracy: 0.3463\n",
            "Epoch 41/100\n",
            "875/875 [==============================] - 2s 2ms/step - loss: 1.7906 - accuracy: 0.3555 - val_loss: 1.8429 - val_accuracy: 0.3408\n",
            "Epoch 42/100\n",
            "875/875 [==============================] - 2s 2ms/step - loss: 1.7822 - accuracy: 0.3651 - val_loss: 1.8319 - val_accuracy: 0.3453\n",
            "Epoch 43/100\n",
            "875/875 [==============================] - 2s 2ms/step - loss: 1.7854 - accuracy: 0.3659 - val_loss: 1.8308 - val_accuracy: 0.3488\n",
            "Epoch 44/100\n",
            "875/875 [==============================] - 2s 2ms/step - loss: 1.7840 - accuracy: 0.3632 - val_loss: 1.8292 - val_accuracy: 0.3448\n",
            "Epoch 45/100\n",
            "875/875 [==============================] - 2s 2ms/step - loss: 1.7792 - accuracy: 0.3650 - val_loss: 1.8241 - val_accuracy: 0.3533\n",
            "Epoch 46/100\n",
            "875/875 [==============================] - 2s 2ms/step - loss: 1.7650 - accuracy: 0.3769 - val_loss: 1.8211 - val_accuracy: 0.3530\n",
            "Epoch 47/100\n",
            "875/875 [==============================] - 2s 2ms/step - loss: 1.7691 - accuracy: 0.3684 - val_loss: 1.8173 - val_accuracy: 0.3508\n",
            "Epoch 48/100\n",
            "875/875 [==============================] - 2s 2ms/step - loss: 1.7550 - accuracy: 0.3709 - val_loss: 1.8171 - val_accuracy: 0.3540\n",
            "Epoch 49/100\n",
            "875/875 [==============================] - 2s 2ms/step - loss: 1.7529 - accuracy: 0.3782 - val_loss: 1.8124 - val_accuracy: 0.3535\n",
            "Epoch 50/100\n",
            "875/875 [==============================] - 2s 2ms/step - loss: 1.7530 - accuracy: 0.3740 - val_loss: 1.8065 - val_accuracy: 0.3548\n",
            "Epoch 51/100\n",
            "875/875 [==============================] - 2s 2ms/step - loss: 1.7616 - accuracy: 0.3698 - val_loss: 1.8211 - val_accuracy: 0.3467\n",
            "Epoch 52/100\n",
            "875/875 [==============================] - 2s 2ms/step - loss: 1.7495 - accuracy: 0.3762 - val_loss: 1.8046 - val_accuracy: 0.3601\n",
            "Epoch 53/100\n",
            "875/875 [==============================] - 2s 2ms/step - loss: 1.7475 - accuracy: 0.3749 - val_loss: 1.8013 - val_accuracy: 0.3582\n",
            "Epoch 54/100\n",
            "875/875 [==============================] - 2s 2ms/step - loss: 1.7459 - accuracy: 0.3803 - val_loss: 1.8118 - val_accuracy: 0.3537\n",
            "Epoch 55/100\n",
            "875/875 [==============================] - 2s 2ms/step - loss: 1.7362 - accuracy: 0.3788 - val_loss: 1.8127 - val_accuracy: 0.3550\n",
            "Epoch 56/100\n",
            "875/875 [==============================] - 2s 2ms/step - loss: 1.7346 - accuracy: 0.3828 - val_loss: 1.8063 - val_accuracy: 0.3583\n",
            "Epoch 57/100\n",
            "875/875 [==============================] - 2s 2ms/step - loss: 1.7352 - accuracy: 0.3765 - val_loss: 1.7951 - val_accuracy: 0.3649\n",
            "Epoch 58/100\n",
            "875/875 [==============================] - 2s 2ms/step - loss: 1.7316 - accuracy: 0.3855 - val_loss: 1.8012 - val_accuracy: 0.3568\n",
            "Epoch 59/100\n",
            "875/875 [==============================] - 2s 2ms/step - loss: 1.7215 - accuracy: 0.3852 - val_loss: 1.7955 - val_accuracy: 0.3615\n",
            "Epoch 60/100\n",
            "875/875 [==============================] - 2s 2ms/step - loss: 1.7338 - accuracy: 0.3813 - val_loss: 1.7965 - val_accuracy: 0.3570\n",
            "Epoch 61/100\n",
            "875/875 [==============================] - 2s 2ms/step - loss: 1.7249 - accuracy: 0.3813 - val_loss: 1.8023 - val_accuracy: 0.3587\n",
            "Epoch 62/100\n",
            "875/875 [==============================] - 2s 2ms/step - loss: 1.7151 - accuracy: 0.3887 - val_loss: 1.7922 - val_accuracy: 0.3632\n",
            "Epoch 63/100\n",
            "875/875 [==============================] - 2s 2ms/step - loss: 1.7199 - accuracy: 0.3864 - val_loss: 1.7869 - val_accuracy: 0.3637\n",
            "Epoch 64/100\n",
            "875/875 [==============================] - 2s 2ms/step - loss: 1.7173 - accuracy: 0.3913 - val_loss: 1.7904 - val_accuracy: 0.3696\n",
            "Epoch 65/100\n",
            "875/875 [==============================] - 2s 2ms/step - loss: 1.7083 - accuracy: 0.3930 - val_loss: 1.7992 - val_accuracy: 0.3592\n",
            "Epoch 66/100\n",
            "875/875 [==============================] - 2s 2ms/step - loss: 1.7106 - accuracy: 0.3869 - val_loss: 1.7846 - val_accuracy: 0.3632\n",
            "Epoch 67/100\n",
            "875/875 [==============================] - 2s 2ms/step - loss: 1.7055 - accuracy: 0.3936 - val_loss: 1.7901 - val_accuracy: 0.3628\n",
            "Epoch 68/100\n",
            "875/875 [==============================] - 2s 2ms/step - loss: 1.7084 - accuracy: 0.3949 - val_loss: 1.7827 - val_accuracy: 0.3675\n",
            "Epoch 69/100\n",
            "875/875 [==============================] - 2s 2ms/step - loss: 1.7001 - accuracy: 0.3926 - val_loss: 1.7824 - val_accuracy: 0.3638\n",
            "Epoch 70/100\n",
            "875/875 [==============================] - 2s 2ms/step - loss: 1.6921 - accuracy: 0.3969 - val_loss: 1.7783 - val_accuracy: 0.3684\n",
            "Epoch 71/100\n",
            "875/875 [==============================] - 2s 2ms/step - loss: 1.6985 - accuracy: 0.3906 - val_loss: 1.7718 - val_accuracy: 0.3710\n",
            "Epoch 72/100\n",
            "875/875 [==============================] - 2s 2ms/step - loss: 1.6974 - accuracy: 0.3941 - val_loss: 1.7696 - val_accuracy: 0.3697\n",
            "Epoch 73/100\n",
            "875/875 [==============================] - 2s 2ms/step - loss: 1.6937 - accuracy: 0.3966 - val_loss: 1.7721 - val_accuracy: 0.3686\n",
            "Epoch 74/100\n",
            "875/875 [==============================] - 2s 2ms/step - loss: 1.6828 - accuracy: 0.4013 - val_loss: 1.7706 - val_accuracy: 0.3717\n",
            "Epoch 75/100\n",
            "875/875 [==============================] - 2s 2ms/step - loss: 1.6809 - accuracy: 0.3984 - val_loss: 1.7652 - val_accuracy: 0.3706\n",
            "Epoch 76/100\n",
            "875/875 [==============================] - 2s 2ms/step - loss: 1.6765 - accuracy: 0.3988 - val_loss: 1.7690 - val_accuracy: 0.3683\n",
            "Epoch 77/100\n",
            "875/875 [==============================] - 2s 2ms/step - loss: 1.6738 - accuracy: 0.4045 - val_loss: 1.7700 - val_accuracy: 0.3713\n",
            "Epoch 78/100\n",
            "875/875 [==============================] - 2s 2ms/step - loss: 1.6740 - accuracy: 0.3999 - val_loss: 1.7631 - val_accuracy: 0.3766\n",
            "Epoch 79/100\n",
            "875/875 [==============================] - 2s 2ms/step - loss: 1.6793 - accuracy: 0.4013 - val_loss: 1.7678 - val_accuracy: 0.3742\n",
            "Epoch 80/100\n",
            "875/875 [==============================] - 2s 2ms/step - loss: 1.6697 - accuracy: 0.4011 - val_loss: 1.7641 - val_accuracy: 0.3749\n",
            "Epoch 81/100\n",
            "875/875 [==============================] - 2s 2ms/step - loss: 1.6725 - accuracy: 0.4039 - val_loss: 1.7667 - val_accuracy: 0.3675\n",
            "Epoch 82/100\n",
            "875/875 [==============================] - 2s 2ms/step - loss: 1.6856 - accuracy: 0.3974 - val_loss: 1.7637 - val_accuracy: 0.3712\n",
            "Epoch 83/100\n",
            "875/875 [==============================] - 2s 2ms/step - loss: 1.6540 - accuracy: 0.4106 - val_loss: 1.7607 - val_accuracy: 0.3721\n",
            "Epoch 84/100\n",
            "875/875 [==============================] - 2s 2ms/step - loss: 1.6531 - accuracy: 0.4106 - val_loss: 1.7780 - val_accuracy: 0.3670\n",
            "Epoch 85/100\n",
            "875/875 [==============================] - 2s 2ms/step - loss: 1.6595 - accuracy: 0.4060 - val_loss: 1.7635 - val_accuracy: 0.3736\n",
            "Epoch 86/100\n",
            "875/875 [==============================] - 2s 2ms/step - loss: 1.6581 - accuracy: 0.4101 - val_loss: 1.7746 - val_accuracy: 0.3642\n",
            "Epoch 87/100\n",
            "875/875 [==============================] - 2s 2ms/step - loss: 1.6580 - accuracy: 0.4092 - val_loss: 1.7535 - val_accuracy: 0.3762\n",
            "Epoch 88/100\n",
            "875/875 [==============================] - 2s 2ms/step - loss: 1.6503 - accuracy: 0.4079 - val_loss: 1.7567 - val_accuracy: 0.3759\n",
            "Epoch 89/100\n",
            "875/875 [==============================] - 2s 2ms/step - loss: 1.6660 - accuracy: 0.4049 - val_loss: 1.7580 - val_accuracy: 0.3763\n",
            "Epoch 90/100\n",
            "875/875 [==============================] - 2s 2ms/step - loss: 1.6461 - accuracy: 0.4092 - val_loss: 1.7540 - val_accuracy: 0.3759\n",
            "Epoch 91/100\n",
            "875/875 [==============================] - 2s 2ms/step - loss: 1.6414 - accuracy: 0.4123 - val_loss: 1.7558 - val_accuracy: 0.3795\n",
            "Epoch 92/100\n",
            "875/875 [==============================] - 2s 2ms/step - loss: 1.6376 - accuracy: 0.4185 - val_loss: 1.7519 - val_accuracy: 0.3774\n",
            "Epoch 93/100\n",
            "875/875 [==============================] - 2s 2ms/step - loss: 1.6523 - accuracy: 0.4096 - val_loss: 1.7639 - val_accuracy: 0.3733\n",
            "Epoch 94/100\n",
            "875/875 [==============================] - 2s 2ms/step - loss: 1.6372 - accuracy: 0.4178 - val_loss: 1.7506 - val_accuracy: 0.3719\n",
            "Epoch 95/100\n",
            "875/875 [==============================] - 2s 2ms/step - loss: 1.6306 - accuracy: 0.4203 - val_loss: 1.7611 - val_accuracy: 0.3704\n",
            "Epoch 96/100\n",
            "875/875 [==============================] - 2s 2ms/step - loss: 1.6344 - accuracy: 0.4130 - val_loss: 1.7643 - val_accuracy: 0.3732\n",
            "Epoch 97/100\n",
            "875/875 [==============================] - 2s 2ms/step - loss: 1.6411 - accuracy: 0.4137 - val_loss: 1.7766 - val_accuracy: 0.3702\n",
            "Epoch 98/100\n",
            "875/875 [==============================] - 2s 2ms/step - loss: 1.6221 - accuracy: 0.4248 - val_loss: 1.7578 - val_accuracy: 0.3767\n",
            "Epoch 99/100\n",
            "875/875 [==============================] - 2s 2ms/step - loss: 1.6168 - accuracy: 0.4248 - val_loss: 1.7458 - val_accuracy: 0.3769\n",
            "Epoch 100/100\n",
            "875/875 [==============================] - 2s 2ms/step - loss: 1.6255 - accuracy: 0.4214 - val_loss: 1.7576 - val_accuracy: 0.3733\n"
          ],
          "name": "stdout"
        }
      ]
    },
    {
      "cell_type": "code",
      "metadata": {
        "colab": {
          "base_uri": "https://localhost:8080/",
          "height": 265
        },
        "id": "eLp61ALjOMUV",
        "outputId": "2c81af98-173d-4837-d59c-9f04c78abb2c"
      },
      "source": [
        "plt.plot(history.history['accuracy'])\r\n",
        "plt.plot(history.history['val_accuracy'])\r\n",
        "plt.legend(['training', 'validation'], loc = 'upper left')\r\n",
        "plt.show()"
      ],
      "execution_count": 77,
      "outputs": [
        {
          "output_type": "display_data",
          "data": {
            "image/png": "[encoded data removed]",
            "text/plain": [
              "<Figure size 432x288 with 1 Axes>"
            ]
          },
          "metadata": {
            "tags": [],
            "needs_background": "light"
          }
        }
      ]
    },
    {
      "cell_type": "code",
      "metadata": {
        "colab": {
          "base_uri": "https://localhost:8080/"
        },
        "id": "hqLHFwzoM-PJ",
        "outputId": "b38470dd-21fc-472f-f79a-88d94718eed3"
      },
      "source": [
        "results = model.evaluate(X_test_gs, y_test_gs)"
      ],
      "execution_count": 78,
      "outputs": [
        {
          "output_type": "stream",
          "text": [
            "313/313 [==============================] - 1s 1ms/step - loss: 1.7581 - accuracy: 0.3777\n"
          ],
          "name": "stdout"
        }
      ]
    },
    {
      "cell_type": "code",
      "metadata": {
        "colab": {
          "base_uri": "https://localhost:8080/"
        },
        "id": "-jPz-RMKy6Mf",
        "outputId": "58d7b410-5d58-4852-e6ac-92e906534663"
      },
      "source": [
        "print('Test Accuracy', results[1])"
      ],
      "execution_count": 79,
      "outputs": [
        {
          "output_type": "stream",
          "text": [
            "Test Accuracy 0.37770000100135803\n"
          ],
          "name": "stdout"
        }
      ]
    },
    {
      "cell_type": "markdown",
      "metadata": {
        "id": "8Etqd_d5OkqY"
      },
      "source": [
        "# 3. Optimizers For GreyScale Image"
      ]
    },
    {
      "cell_type": "code",
      "metadata": {
        "id": "RbZufFbdOp0p"
      },
      "source": [
        "model = Sequential()"
      ],
      "execution_count": 80,
      "outputs": []
    },
    {
      "cell_type": "code",
      "metadata": {
        "id": "x_Vnxit2OyQa"
      },
      "source": [
        "model.add(Dense(50, input_shape = (1024, )))\r\n",
        "model.add(Activation('elu'))    \r\n",
        "model.add(Dense(50))\r\n",
        "model.add(Activation('elu'))  \r\n",
        "model.add(Dense(50))\r\n",
        "model.add(Activation('elu'))    \r\n",
        "model.add(Dense(50))\r\n",
        "model.add(Activation('elu'))    \r\n",
        "model.add(Dense(10))\r\n",
        "model.add(Activation('softmax'))"
      ],
      "execution_count": 81,
      "outputs": []
    },
    {
      "cell_type": "code",
      "metadata": {
        "id": "dzkS5GzuRRVq"
      },
      "source": [
        "adam = optimizers.Adam(lr = 0.001)                     # use Adam optimizer\r\n",
        "model.compile(optimizer = adam, loss = 'categorical_crossentropy', metrics = ['accuracy'])"
      ],
      "execution_count": 82,
      "outputs": []
    },
    {
      "cell_type": "code",
      "metadata": {
        "colab": {
          "base_uri": "https://localhost:8080/"
        },
        "id": "Jae0_lKDRYg7",
        "outputId": "3e488a42-2623-4cb6-c97c-33114190fcbc"
      },
      "source": [
        "history = model.fit(X_train_gs, y_train_gs, validation_split = 0.3, epochs = 100, verbose = 1)"
      ],
      "execution_count": 83,
      "outputs": [
        {
          "output_type": "stream",
          "text": [
            "Epoch 1/100\n",
            "875/875 [==============================] - 3s 3ms/step - loss: 2.1350 - accuracy: 0.2146 - val_loss: 1.9270 - val_accuracy: 0.3048\n",
            "Epoch 2/100\n",
            "875/875 [==============================] - 2s 2ms/step - loss: 1.9226 - accuracy: 0.3065 - val_loss: 1.9427 - val_accuracy: 0.2996\n",
            "Epoch 3/100\n",
            "875/875 [==============================] - 2s 2ms/step - loss: 1.8702 - accuracy: 0.3282 - val_loss: 1.8548 - val_accuracy: 0.3327\n",
            "Epoch 4/100\n",
            "875/875 [==============================] - 2s 2ms/step - loss: 1.8150 - accuracy: 0.3510 - val_loss: 1.8420 - val_accuracy: 0.3362\n",
            "Epoch 5/100\n",
            "875/875 [==============================] - 2s 2ms/step - loss: 1.7785 - accuracy: 0.3636 - val_loss: 1.8218 - val_accuracy: 0.3523\n",
            "Epoch 6/100\n",
            "875/875 [==============================] - 2s 2ms/step - loss: 1.7534 - accuracy: 0.3674 - val_loss: 1.7784 - val_accuracy: 0.3635\n",
            "Epoch 7/100\n",
            "875/875 [==============================] - 2s 2ms/step - loss: 1.7375 - accuracy: 0.3773 - val_loss: 1.7589 - val_accuracy: 0.3723\n",
            "Epoch 8/100\n",
            "875/875 [==============================] - 2s 2ms/step - loss: 1.7123 - accuracy: 0.3854 - val_loss: 1.7482 - val_accuracy: 0.3803\n",
            "Epoch 9/100\n",
            "875/875 [==============================] - 2s 2ms/step - loss: 1.6900 - accuracy: 0.4036 - val_loss: 1.7490 - val_accuracy: 0.3754\n",
            "Epoch 10/100\n",
            "875/875 [==============================] - 2s 2ms/step - loss: 1.6690 - accuracy: 0.4024 - val_loss: 1.7326 - val_accuracy: 0.3843\n",
            "Epoch 11/100\n",
            "875/875 [==============================] - 2s 2ms/step - loss: 1.6597 - accuracy: 0.4076 - val_loss: 1.7331 - val_accuracy: 0.3787\n",
            "Epoch 12/100\n",
            "875/875 [==============================] - 2s 2ms/step - loss: 1.6348 - accuracy: 0.4192 - val_loss: 1.7471 - val_accuracy: 0.3794\n",
            "Epoch 13/100\n",
            "875/875 [==============================] - 2s 2ms/step - loss: 1.6322 - accuracy: 0.4168 - val_loss: 1.7274 - val_accuracy: 0.3831\n",
            "Epoch 14/100\n",
            "875/875 [==============================] - 2s 2ms/step - loss: 1.6043 - accuracy: 0.4265 - val_loss: 1.7210 - val_accuracy: 0.3892\n",
            "Epoch 15/100\n",
            "875/875 [==============================] - 2s 2ms/step - loss: 1.5913 - accuracy: 0.4312 - val_loss: 1.7196 - val_accuracy: 0.3975\n",
            "Epoch 16/100\n",
            "875/875 [==============================] - 2s 2ms/step - loss: 1.5688 - accuracy: 0.4394 - val_loss: 1.7378 - val_accuracy: 0.3817\n",
            "Epoch 17/100\n",
            "875/875 [==============================] - 2s 2ms/step - loss: 1.5623 - accuracy: 0.4421 - val_loss: 1.7472 - val_accuracy: 0.3913\n",
            "Epoch 18/100\n",
            "875/875 [==============================] - 2s 2ms/step - loss: 1.5672 - accuracy: 0.4408 - val_loss: 1.7233 - val_accuracy: 0.3911\n",
            "Epoch 19/100\n",
            "875/875 [==============================] - 2s 2ms/step - loss: 1.5464 - accuracy: 0.4464 - val_loss: 1.7565 - val_accuracy: 0.3747\n",
            "Epoch 20/100\n",
            "875/875 [==============================] - 2s 2ms/step - loss: 1.5296 - accuracy: 0.4538 - val_loss: 1.7060 - val_accuracy: 0.3983\n",
            "Epoch 21/100\n",
            "875/875 [==============================] - 2s 2ms/step - loss: 1.5089 - accuracy: 0.4617 - val_loss: 1.7252 - val_accuracy: 0.3933\n",
            "Epoch 22/100\n",
            "875/875 [==============================] - 2s 2ms/step - loss: 1.5105 - accuracy: 0.4662 - val_loss: 1.7176 - val_accuracy: 0.4003\n",
            "Epoch 23/100\n",
            "875/875 [==============================] - 2s 2ms/step - loss: 1.4841 - accuracy: 0.4702 - val_loss: 1.7281 - val_accuracy: 0.4042\n",
            "Epoch 24/100\n",
            "875/875 [==============================] - 2s 2ms/step - loss: 1.4692 - accuracy: 0.4797 - val_loss: 1.7171 - val_accuracy: 0.4078\n",
            "Epoch 25/100\n",
            "875/875 [==============================] - 2s 2ms/step - loss: 1.4796 - accuracy: 0.4749 - val_loss: 1.7181 - val_accuracy: 0.4029\n",
            "Epoch 26/100\n",
            "875/875 [==============================] - 2s 2ms/step - loss: 1.4564 - accuracy: 0.4825 - val_loss: 1.7379 - val_accuracy: 0.3979\n",
            "Epoch 27/100\n",
            "875/875 [==============================] - 2s 2ms/step - loss: 1.4586 - accuracy: 0.4768 - val_loss: 1.7572 - val_accuracy: 0.3844\n",
            "Epoch 28/100\n",
            "875/875 [==============================] - 2s 2ms/step - loss: 1.4471 - accuracy: 0.4871 - val_loss: 1.7577 - val_accuracy: 0.3924\n",
            "Epoch 29/100\n",
            "875/875 [==============================] - 2s 2ms/step - loss: 1.4311 - accuracy: 0.4925 - val_loss: 1.7519 - val_accuracy: 0.3977\n",
            "Epoch 30/100\n",
            "875/875 [==============================] - 2s 2ms/step - loss: 1.4131 - accuracy: 0.4959 - val_loss: 1.7446 - val_accuracy: 0.3989\n",
            "Epoch 31/100\n",
            "875/875 [==============================] - 2s 2ms/step - loss: 1.4077 - accuracy: 0.4969 - val_loss: 1.7584 - val_accuracy: 0.4015\n",
            "Epoch 32/100\n",
            "875/875 [==============================] - 2s 2ms/step - loss: 1.4059 - accuracy: 0.4998 - val_loss: 1.7959 - val_accuracy: 0.3874\n",
            "Epoch 33/100\n",
            "875/875 [==============================] - 2s 2ms/step - loss: 1.4010 - accuracy: 0.5023 - val_loss: 1.7846 - val_accuracy: 0.3941\n",
            "Epoch 34/100\n",
            "875/875 [==============================] - 2s 2ms/step - loss: 1.3822 - accuracy: 0.5088 - val_loss: 1.7944 - val_accuracy: 0.3859\n",
            "Epoch 35/100\n",
            "875/875 [==============================] - 2s 2ms/step - loss: 1.3847 - accuracy: 0.5090 - val_loss: 1.8242 - val_accuracy: 0.3874\n",
            "Epoch 36/100\n",
            "875/875 [==============================] - 2s 2ms/step - loss: 1.3822 - accuracy: 0.5063 - val_loss: 1.7804 - val_accuracy: 0.3963\n",
            "Epoch 37/100\n",
            "875/875 [==============================] - 2s 2ms/step - loss: 1.3442 - accuracy: 0.5250 - val_loss: 1.8196 - val_accuracy: 0.3885\n",
            "Epoch 38/100\n",
            "875/875 [==============================] - 2s 2ms/step - loss: 1.3526 - accuracy: 0.5216 - val_loss: 1.7914 - val_accuracy: 0.3920\n",
            "Epoch 39/100\n",
            "875/875 [==============================] - 2s 2ms/step - loss: 1.3352 - accuracy: 0.5259 - val_loss: 1.8252 - val_accuracy: 0.3852\n",
            "Epoch 40/100\n",
            "875/875 [==============================] - 2s 2ms/step - loss: 1.3366 - accuracy: 0.5206 - val_loss: 1.8128 - val_accuracy: 0.3973\n",
            "Epoch 41/100\n",
            "875/875 [==============================] - 2s 2ms/step - loss: 1.3177 - accuracy: 0.5287 - val_loss: 1.8359 - val_accuracy: 0.3890\n",
            "Epoch 42/100\n",
            "875/875 [==============================] - 2s 2ms/step - loss: 1.3204 - accuracy: 0.5312 - val_loss: 1.8086 - val_accuracy: 0.3955\n",
            "Epoch 43/100\n",
            "875/875 [==============================] - 2s 2ms/step - loss: 1.3042 - accuracy: 0.5376 - val_loss: 1.8390 - val_accuracy: 0.3858\n",
            "Epoch 44/100\n",
            "875/875 [==============================] - 2s 2ms/step - loss: 1.3092 - accuracy: 0.5351 - val_loss: 1.8118 - val_accuracy: 0.3941\n",
            "Epoch 45/100\n",
            "875/875 [==============================] - 2s 2ms/step - loss: 1.3007 - accuracy: 0.5384 - val_loss: 1.8415 - val_accuracy: 0.3921\n",
            "Epoch 46/100\n",
            "875/875 [==============================] - 2s 2ms/step - loss: 1.2930 - accuracy: 0.5351 - val_loss: 1.8352 - val_accuracy: 0.3893\n",
            "Epoch 47/100\n",
            "875/875 [==============================] - 2s 2ms/step - loss: 1.2894 - accuracy: 0.5427 - val_loss: 1.8839 - val_accuracy: 0.3825\n",
            "Epoch 48/100\n",
            "875/875 [==============================] - 2s 2ms/step - loss: 1.2739 - accuracy: 0.5464 - val_loss: 1.8587 - val_accuracy: 0.3797\n",
            "Epoch 49/100\n",
            "875/875 [==============================] - 2s 2ms/step - loss: 1.2783 - accuracy: 0.5458 - val_loss: 1.8830 - val_accuracy: 0.3916\n",
            "Epoch 50/100\n",
            "875/875 [==============================] - 2s 2ms/step - loss: 1.2745 - accuracy: 0.5478 - val_loss: 1.8865 - val_accuracy: 0.3968\n",
            "Epoch 51/100\n",
            "875/875 [==============================] - 2s 2ms/step - loss: 1.2549 - accuracy: 0.5539 - val_loss: 1.8980 - val_accuracy: 0.3868\n",
            "Epoch 52/100\n",
            "875/875 [==============================] - 2s 2ms/step - loss: 1.2475 - accuracy: 0.5570 - val_loss: 1.8990 - val_accuracy: 0.3915\n",
            "Epoch 53/100\n",
            "875/875 [==============================] - 2s 2ms/step - loss: 1.2390 - accuracy: 0.5585 - val_loss: 1.9056 - val_accuracy: 0.3856\n",
            "Epoch 54/100\n",
            "875/875 [==============================] - 2s 2ms/step - loss: 1.2417 - accuracy: 0.5618 - val_loss: 1.9394 - val_accuracy: 0.3853\n",
            "Epoch 55/100\n",
            "875/875 [==============================] - 2s 2ms/step - loss: 1.2364 - accuracy: 0.5621 - val_loss: 1.9030 - val_accuracy: 0.3906\n",
            "Epoch 56/100\n",
            "875/875 [==============================] - 2s 2ms/step - loss: 1.2299 - accuracy: 0.5626 - val_loss: 1.9353 - val_accuracy: 0.3896\n",
            "Epoch 57/100\n",
            "875/875 [==============================] - 2s 2ms/step - loss: 1.2198 - accuracy: 0.5727 - val_loss: 1.9334 - val_accuracy: 0.3884\n",
            "Epoch 58/100\n",
            "875/875 [==============================] - 2s 2ms/step - loss: 1.2145 - accuracy: 0.5669 - val_loss: 1.9423 - val_accuracy: 0.3828\n",
            "Epoch 59/100\n",
            "875/875 [==============================] - 2s 2ms/step - loss: 1.2225 - accuracy: 0.5663 - val_loss: 1.9752 - val_accuracy: 0.3830\n",
            "Epoch 60/100\n",
            "875/875 [==============================] - 2s 2ms/step - loss: 1.2147 - accuracy: 0.5700 - val_loss: 1.9564 - val_accuracy: 0.3902\n",
            "Epoch 61/100\n",
            "875/875 [==============================] - 2s 2ms/step - loss: 1.2079 - accuracy: 0.5687 - val_loss: 1.9790 - val_accuracy: 0.3797\n",
            "Epoch 62/100\n",
            "875/875 [==============================] - 2s 2ms/step - loss: 1.2000 - accuracy: 0.5711 - val_loss: 1.9814 - val_accuracy: 0.3847\n",
            "Epoch 63/100\n",
            "875/875 [==============================] - 2s 2ms/step - loss: 1.1821 - accuracy: 0.5775 - val_loss: 1.9789 - val_accuracy: 0.3766\n",
            "Epoch 64/100\n",
            "875/875 [==============================] - 2s 2ms/step - loss: 1.1921 - accuracy: 0.5730 - val_loss: 1.9847 - val_accuracy: 0.3837\n",
            "Epoch 65/100\n",
            "875/875 [==============================] - 2s 2ms/step - loss: 1.1846 - accuracy: 0.5787 - val_loss: 2.0122 - val_accuracy: 0.3819\n",
            "Epoch 66/100\n",
            "875/875 [==============================] - 2s 2ms/step - loss: 1.1708 - accuracy: 0.5856 - val_loss: 2.0299 - val_accuracy: 0.3848\n",
            "Epoch 67/100\n",
            "875/875 [==============================] - 2s 2ms/step - loss: 1.1605 - accuracy: 0.5883 - val_loss: 2.0443 - val_accuracy: 0.3823\n",
            "Epoch 68/100\n",
            "875/875 [==============================] - 2s 2ms/step - loss: 1.1654 - accuracy: 0.5862 - val_loss: 2.0407 - val_accuracy: 0.3837\n",
            "Epoch 69/100\n",
            "875/875 [==============================] - 2s 2ms/step - loss: 1.1621 - accuracy: 0.5886 - val_loss: 2.0087 - val_accuracy: 0.3789\n",
            "Epoch 70/100\n",
            "875/875 [==============================] - 2s 2ms/step - loss: 1.1546 - accuracy: 0.5899 - val_loss: 2.0647 - val_accuracy: 0.3772\n",
            "Epoch 71/100\n",
            "875/875 [==============================] - 2s 2ms/step - loss: 1.1549 - accuracy: 0.5914 - val_loss: 2.0803 - val_accuracy: 0.3757\n",
            "Epoch 72/100\n",
            "875/875 [==============================] - 2s 2ms/step - loss: 1.1503 - accuracy: 0.5945 - val_loss: 2.0487 - val_accuracy: 0.3830\n",
            "Epoch 73/100\n",
            "875/875 [==============================] - 2s 2ms/step - loss: 1.1411 - accuracy: 0.5928 - val_loss: 2.0482 - val_accuracy: 0.3781\n",
            "Epoch 74/100\n",
            "875/875 [==============================] - 2s 2ms/step - loss: 1.1567 - accuracy: 0.5909 - val_loss: 2.1034 - val_accuracy: 0.3646\n",
            "Epoch 75/100\n",
            "875/875 [==============================] - 2s 2ms/step - loss: 1.1452 - accuracy: 0.5929 - val_loss: 2.0525 - val_accuracy: 0.3823\n",
            "Epoch 76/100\n",
            "875/875 [==============================] - 2s 2ms/step - loss: 1.1264 - accuracy: 0.6020 - val_loss: 2.0936 - val_accuracy: 0.3765\n",
            "Epoch 77/100\n",
            "875/875 [==============================] - 2s 2ms/step - loss: 1.1302 - accuracy: 0.5985 - val_loss: 2.1608 - val_accuracy: 0.3757\n",
            "Epoch 78/100\n",
            "875/875 [==============================] - 2s 2ms/step - loss: 1.1225 - accuracy: 0.5959 - val_loss: 2.1149 - val_accuracy: 0.3790\n",
            "Epoch 79/100\n",
            "875/875 [==============================] - 2s 2ms/step - loss: 1.1206 - accuracy: 0.6011 - val_loss: 2.0903 - val_accuracy: 0.3792\n",
            "Epoch 80/100\n",
            "875/875 [==============================] - 2s 2ms/step - loss: 1.1128 - accuracy: 0.6054 - val_loss: 2.1269 - val_accuracy: 0.3767\n",
            "Epoch 81/100\n",
            "875/875 [==============================] - 2s 2ms/step - loss: 1.1286 - accuracy: 0.6005 - val_loss: 2.1546 - val_accuracy: 0.3699\n",
            "Epoch 82/100\n",
            "875/875 [==============================] - 2s 2ms/step - loss: 1.0983 - accuracy: 0.6112 - val_loss: 2.1156 - val_accuracy: 0.3810\n",
            "Epoch 83/100\n",
            "875/875 [==============================] - 2s 2ms/step - loss: 1.0944 - accuracy: 0.6079 - val_loss: 2.1613 - val_accuracy: 0.3767\n",
            "Epoch 84/100\n",
            "875/875 [==============================] - 2s 2ms/step - loss: 1.0951 - accuracy: 0.6117 - val_loss: 2.1759 - val_accuracy: 0.3697\n",
            "Epoch 85/100\n",
            "875/875 [==============================] - 2s 2ms/step - loss: 1.1104 - accuracy: 0.6062 - val_loss: 2.1826 - val_accuracy: 0.3792\n",
            "Epoch 86/100\n",
            "875/875 [==============================] - 2s 2ms/step - loss: 1.0920 - accuracy: 0.6083 - val_loss: 2.1901 - val_accuracy: 0.3797\n",
            "Epoch 87/100\n",
            "875/875 [==============================] - 2s 2ms/step - loss: 1.0681 - accuracy: 0.6191 - val_loss: 2.1846 - val_accuracy: 0.3706\n",
            "Epoch 88/100\n",
            "875/875 [==============================] - 2s 2ms/step - loss: 1.0768 - accuracy: 0.6180 - val_loss: 2.1923 - val_accuracy: 0.3694\n",
            "Epoch 89/100\n",
            "875/875 [==============================] - 2s 2ms/step - loss: 1.0749 - accuracy: 0.6144 - val_loss: 2.2031 - val_accuracy: 0.3713\n",
            "Epoch 90/100\n",
            "875/875 [==============================] - 2s 2ms/step - loss: 1.0817 - accuracy: 0.6200 - val_loss: 2.1947 - val_accuracy: 0.3736\n",
            "Epoch 91/100\n",
            "875/875 [==============================] - 2s 2ms/step - loss: 1.0643 - accuracy: 0.6223 - val_loss: 2.2435 - val_accuracy: 0.3711\n",
            "Epoch 92/100\n",
            "875/875 [==============================] - 2s 2ms/step - loss: 1.0587 - accuracy: 0.6248 - val_loss: 2.2635 - val_accuracy: 0.3738\n",
            "Epoch 93/100\n",
            "875/875 [==============================] - 2s 2ms/step - loss: 1.0667 - accuracy: 0.6161 - val_loss: 2.2522 - val_accuracy: 0.3720\n",
            "Epoch 94/100\n",
            "875/875 [==============================] - 2s 2ms/step - loss: 1.0620 - accuracy: 0.6199 - val_loss: 2.2551 - val_accuracy: 0.3721\n",
            "Epoch 95/100\n",
            "875/875 [==============================] - 2s 2ms/step - loss: 1.0489 - accuracy: 0.6254 - val_loss: 2.2759 - val_accuracy: 0.3738\n",
            "Epoch 96/100\n",
            "875/875 [==============================] - 2s 2ms/step - loss: 1.0536 - accuracy: 0.6261 - val_loss: 2.2666 - val_accuracy: 0.3667\n",
            "Epoch 97/100\n",
            "875/875 [==============================] - 2s 2ms/step - loss: 1.0591 - accuracy: 0.6246 - val_loss: 2.3045 - val_accuracy: 0.3738\n",
            "Epoch 98/100\n",
            "875/875 [==============================] - 2s 3ms/step - loss: 1.0502 - accuracy: 0.6250 - val_loss: 2.2775 - val_accuracy: 0.3711\n",
            "Epoch 99/100\n",
            "875/875 [==============================] - 2s 2ms/step - loss: 1.0529 - accuracy: 0.6270 - val_loss: 2.3005 - val_accuracy: 0.3752\n",
            "Epoch 100/100\n",
            "875/875 [==============================] - 2s 2ms/step - loss: 1.0444 - accuracy: 0.6262 - val_loss: 2.3113 - val_accuracy: 0.3663\n"
          ],
          "name": "stdout"
        }
      ]
    },
    {
      "cell_type": "code",
      "metadata": {
        "colab": {
          "base_uri": "https://localhost:8080/",
          "height": 265
        },
        "id": "BRtCD36GSSvT",
        "outputId": "69c473f7-d648-4d52-f782-ee60d6ec691d"
      },
      "source": [
        "plt.plot(history.history['accuracy'])\r\n",
        "plt.plot(history.history['val_accuracy'])\r\n",
        "plt.legend(['training', 'validation'], loc = 'upper left')\r\n",
        "plt.show()"
      ],
      "execution_count": 84,
      "outputs": [
        {
          "output_type": "display_data",
          "data": {
            "image/png": "[encoded data removed]",
            "text/plain": [
              "<Figure size 432x288 with 1 Axes>"
            ]
          },
          "metadata": {
            "tags": [],
            "needs_background": "light"
          }
        }
      ]
    },
    {
      "cell_type": "code",
      "metadata": {
        "colab": {
          "base_uri": "https://localhost:8080/"
        },
        "id": "Y429BRUNSdbM",
        "outputId": "51d6bc8b-6fbf-4f1c-c149-49a504350d15"
      },
      "source": [
        "results = model.evaluate(X_test_gs, y_test_gs)"
      ],
      "execution_count": 85,
      "outputs": [
        {
          "output_type": "stream",
          "text": [
            "313/313 [==============================] - 1s 2ms/step - loss: 2.2645 - accuracy: 0.3742\n"
          ],
          "name": "stdout"
        }
      ]
    },
    {
      "cell_type": "code",
      "metadata": {
        "colab": {
          "base_uri": "https://localhost:8080/"
        },
        "id": "y-9igSBUSnIn",
        "outputId": "103fe860-6385-4da9-f91a-e4f079f6fd10"
      },
      "source": [
        "print('Test Accuracy', results[1])"
      ],
      "execution_count": 86,
      "outputs": [
        {
          "output_type": "stream",
          "text": [
            "Test Accuracy 0.3741999864578247\n"
          ],
          "name": "stdout"
        }
      ]
    },
    {
      "cell_type": "markdown",
      "metadata": {
        "id": "xeuOJaNeSo5J"
      },
      "source": [
        "# 4. Batch Normalization For GreyScale Image"
      ]
    },
    {
      "cell_type": "code",
      "metadata": {
        "id": "UXAWLJMhSwqh"
      },
      "source": [
        "from keras.layers import BatchNormalization"
      ],
      "execution_count": 87,
      "outputs": []
    },
    {
      "cell_type": "code",
      "metadata": {
        "id": "UP2zAs1-TbZ-"
      },
      "source": [
        "model = Sequential()"
      ],
      "execution_count": 88,
      "outputs": []
    },
    {
      "cell_type": "code",
      "metadata": {
        "id": "9xZlcSJFTizT"
      },
      "source": [
        "model.add(Dense(50, input_shape = (1024, )))\r\n",
        "model.add(BatchNormalization())                    # Add Batchnorm layer before Activation\r\n",
        "model.add(Activation('selu'))    \r\n",
        "model.add(Dense(50))\r\n",
        "model.add(BatchNormalization())                    # Add Batchnorm layer before Activation\r\n",
        "model.add(Activation('selu'))    \r\n",
        "model.add(Dense(50))\r\n",
        "model.add(BatchNormalization())                    # Add Batchnorm layer before Activation\r\n",
        "model.add(Activation('selu'))    \r\n",
        "model.add(Dense(50))\r\n",
        "model.add(BatchNormalization())                    # Add Batchnorm layer before Activation\r\n",
        "model.add(Activation('selu'))    \r\n",
        "model.add(Dense(10))\r\n",
        "model.add(Activation('softmax'))"
      ],
      "execution_count": 91,
      "outputs": []
    },
    {
      "cell_type": "code",
      "metadata": {
        "id": "DAOym9-uTxGB"
      },
      "source": [
        "adam = optimizers.Adam(lr = 0.001)\r\n",
        "model.compile(optimizer = adam, loss = 'categorical_crossentropy', metrics = ['accuracy'])"
      ],
      "execution_count": 93,
      "outputs": []
    },
    {
      "cell_type": "code",
      "metadata": {
        "colab": {
          "base_uri": "https://localhost:8080/"
        },
        "id": "3ltbi9N_UA_w",
        "outputId": "f33318e6-c2d5-4561-dca5-7ebffc5bb613"
      },
      "source": [
        "history = model.fit(X_train_gs, y_train_gs, validation_split = 0.3, epochs = 100, verbose = 1)"
      ],
      "execution_count": 94,
      "outputs": [
        {
          "output_type": "stream",
          "text": [
            "Epoch 1/100\n",
            "875/875 [==============================] - 7s 5ms/step - loss: 2.2106 - accuracy: 0.2009 - val_loss: 2.0526 - val_accuracy: 0.2457\n",
            "Epoch 2/100\n",
            "875/875 [==============================] - 4s 5ms/step - loss: 2.0411 - accuracy: 0.2578 - val_loss: 2.1726 - val_accuracy: 0.2393\n",
            "Epoch 3/100\n",
            "875/875 [==============================] - 4s 5ms/step - loss: 2.0057 - accuracy: 0.2812 - val_loss: 2.0289 - val_accuracy: 0.2791\n",
            "Epoch 4/100\n",
            "875/875 [==============================] - 4s 5ms/step - loss: 1.9651 - accuracy: 0.2972 - val_loss: 2.0508 - val_accuracy: 0.2900\n",
            "Epoch 5/100\n",
            "875/875 [==============================] - 4s 5ms/step - loss: 1.9368 - accuracy: 0.3071 - val_loss: 1.9973 - val_accuracy: 0.2857\n",
            "Epoch 6/100\n",
            "875/875 [==============================] - 4s 5ms/step - loss: 1.9293 - accuracy: 0.3053 - val_loss: 1.9651 - val_accuracy: 0.2958\n",
            "Epoch 7/100\n",
            "875/875 [==============================] - 4s 5ms/step - loss: 1.9096 - accuracy: 0.3174 - val_loss: 1.9779 - val_accuracy: 0.2872\n",
            "Epoch 8/100\n",
            "875/875 [==============================] - 4s 5ms/step - loss: 1.8779 - accuracy: 0.3307 - val_loss: 1.9634 - val_accuracy: 0.3068\n",
            "Epoch 9/100\n",
            "875/875 [==============================] - 4s 5ms/step - loss: 1.8694 - accuracy: 0.3380 - val_loss: 1.9121 - val_accuracy: 0.3053\n",
            "Epoch 10/100\n",
            "875/875 [==============================] - 4s 5ms/step - loss: 1.8403 - accuracy: 0.3417 - val_loss: 1.8819 - val_accuracy: 0.3321\n",
            "Epoch 11/100\n",
            "875/875 [==============================] - 4s 5ms/step - loss: 1.8119 - accuracy: 0.3607 - val_loss: 1.8487 - val_accuracy: 0.3339\n",
            "Epoch 12/100\n",
            "875/875 [==============================] - 4s 5ms/step - loss: 1.7955 - accuracy: 0.3596 - val_loss: 1.8445 - val_accuracy: 0.3372\n",
            "Epoch 13/100\n",
            "875/875 [==============================] - 4s 5ms/step - loss: 1.7763 - accuracy: 0.3700 - val_loss: 1.9219 - val_accuracy: 0.3113\n",
            "Epoch 14/100\n",
            "875/875 [==============================] - 4s 5ms/step - loss: 1.7542 - accuracy: 0.3765 - val_loss: 1.8981 - val_accuracy: 0.3302\n",
            "Epoch 15/100\n",
            "875/875 [==============================] - 4s 5ms/step - loss: 1.7505 - accuracy: 0.3782 - val_loss: 1.9023 - val_accuracy: 0.3333\n",
            "Epoch 16/100\n",
            "875/875 [==============================] - 4s 5ms/step - loss: 1.7160 - accuracy: 0.3909 - val_loss: 1.8253 - val_accuracy: 0.3547\n",
            "Epoch 17/100\n",
            "875/875 [==============================] - 4s 5ms/step - loss: 1.7009 - accuracy: 0.3978 - val_loss: 1.8382 - val_accuracy: 0.3413\n",
            "Epoch 18/100\n",
            "875/875 [==============================] - 4s 5ms/step - loss: 1.7031 - accuracy: 0.3911 - val_loss: 1.8346 - val_accuracy: 0.3483\n",
            "Epoch 19/100\n",
            "875/875 [==============================] - 4s 5ms/step - loss: 1.6746 - accuracy: 0.4016 - val_loss: 1.8912 - val_accuracy: 0.3273\n",
            "Epoch 20/100\n",
            "875/875 [==============================] - 4s 5ms/step - loss: 1.6769 - accuracy: 0.3976 - val_loss: 1.8097 - val_accuracy: 0.3546\n",
            "Epoch 21/100\n",
            "875/875 [==============================] - 4s 5ms/step - loss: 1.6559 - accuracy: 0.4097 - val_loss: 1.8240 - val_accuracy: 0.3558\n",
            "Epoch 22/100\n",
            "875/875 [==============================] - 4s 5ms/step - loss: 1.6449 - accuracy: 0.4117 - val_loss: 1.8247 - val_accuracy: 0.3572\n",
            "Epoch 23/100\n",
            "875/875 [==============================] - 4s 5ms/step - loss: 1.6288 - accuracy: 0.4208 - val_loss: 1.7903 - val_accuracy: 0.3672\n",
            "Epoch 24/100\n",
            "875/875 [==============================] - 4s 5ms/step - loss: 1.6318 - accuracy: 0.4246 - val_loss: 1.8941 - val_accuracy: 0.3318\n",
            "Epoch 25/100\n",
            "875/875 [==============================] - 4s 5ms/step - loss: 1.6116 - accuracy: 0.4284 - val_loss: 1.9241 - val_accuracy: 0.3249\n",
            "Epoch 26/100\n",
            "875/875 [==============================] - 4s 5ms/step - loss: 1.6035 - accuracy: 0.4295 - val_loss: 1.8743 - val_accuracy: 0.3464\n",
            "Epoch 27/100\n",
            "875/875 [==============================] - 4s 5ms/step - loss: 1.5954 - accuracy: 0.4365 - val_loss: 1.8570 - val_accuracy: 0.3546\n",
            "Epoch 28/100\n",
            "875/875 [==============================] - 4s 5ms/step - loss: 1.5871 - accuracy: 0.4360 - val_loss: 1.8415 - val_accuracy: 0.3504\n",
            "Epoch 29/100\n",
            "875/875 [==============================] - 4s 5ms/step - loss: 1.5787 - accuracy: 0.4356 - val_loss: 1.7497 - val_accuracy: 0.3792\n",
            "Epoch 30/100\n",
            "875/875 [==============================] - 4s 5ms/step - loss: 1.5704 - accuracy: 0.4383 - val_loss: 1.8393 - val_accuracy: 0.3478\n",
            "Epoch 31/100\n",
            "875/875 [==============================] - 4s 5ms/step - loss: 1.5584 - accuracy: 0.4508 - val_loss: 1.8620 - val_accuracy: 0.3520\n",
            "Epoch 32/100\n",
            "875/875 [==============================] - 4s 5ms/step - loss: 1.5614 - accuracy: 0.4406 - val_loss: 1.8092 - val_accuracy: 0.3648\n",
            "Epoch 33/100\n",
            "875/875 [==============================] - 4s 5ms/step - loss: 1.5486 - accuracy: 0.4516 - val_loss: 1.8271 - val_accuracy: 0.3546\n",
            "Epoch 34/100\n",
            "875/875 [==============================] - 4s 5ms/step - loss: 1.5476 - accuracy: 0.4499 - val_loss: 1.8222 - val_accuracy: 0.3524\n",
            "Epoch 35/100\n",
            "875/875 [==============================] - 4s 5ms/step - loss: 1.5270 - accuracy: 0.4619 - val_loss: 1.8424 - val_accuracy: 0.3576\n",
            "Epoch 36/100\n",
            "875/875 [==============================] - 4s 5ms/step - loss: 1.5183 - accuracy: 0.4612 - val_loss: 1.7913 - val_accuracy: 0.3722\n",
            "Epoch 37/100\n",
            "875/875 [==============================] - 4s 5ms/step - loss: 1.5146 - accuracy: 0.4644 - val_loss: 1.8309 - val_accuracy: 0.3647\n",
            "Epoch 38/100\n",
            "875/875 [==============================] - 4s 5ms/step - loss: 1.5107 - accuracy: 0.4673 - val_loss: 1.8485 - val_accuracy: 0.3564\n",
            "Epoch 39/100\n",
            "875/875 [==============================] - 4s 5ms/step - loss: 1.5089 - accuracy: 0.4634 - val_loss: 1.9059 - val_accuracy: 0.3482\n",
            "Epoch 40/100\n",
            "875/875 [==============================] - 4s 5ms/step - loss: 1.4965 - accuracy: 0.4667 - val_loss: 1.8988 - val_accuracy: 0.3495\n",
            "Epoch 41/100\n",
            "875/875 [==============================] - 4s 5ms/step - loss: 1.4805 - accuracy: 0.4770 - val_loss: 1.8329 - val_accuracy: 0.3623\n",
            "Epoch 42/100\n",
            "875/875 [==============================] - 4s 5ms/step - loss: 1.4854 - accuracy: 0.4732 - val_loss: 1.8558 - val_accuracy: 0.3513\n",
            "Epoch 43/100\n",
            "875/875 [==============================] - 4s 5ms/step - loss: 1.4762 - accuracy: 0.4745 - val_loss: 1.9856 - val_accuracy: 0.3286\n",
            "Epoch 44/100\n",
            "875/875 [==============================] - 4s 5ms/step - loss: 1.4638 - accuracy: 0.4820 - val_loss: 1.8519 - val_accuracy: 0.3640\n",
            "Epoch 45/100\n",
            "875/875 [==============================] - 4s 5ms/step - loss: 1.4714 - accuracy: 0.4751 - val_loss: 1.8374 - val_accuracy: 0.3647\n",
            "Epoch 46/100\n",
            "875/875 [==============================] - 4s 5ms/step - loss: 1.4491 - accuracy: 0.4810 - val_loss: 1.8542 - val_accuracy: 0.3657\n",
            "Epoch 47/100\n",
            "875/875 [==============================] - 4s 5ms/step - loss: 1.4343 - accuracy: 0.4954 - val_loss: 2.0092 - val_accuracy: 0.3238\n",
            "Epoch 48/100\n",
            "875/875 [==============================] - 4s 5ms/step - loss: 1.4406 - accuracy: 0.4908 - val_loss: 1.8723 - val_accuracy: 0.3577\n",
            "Epoch 49/100\n",
            "875/875 [==============================] - 4s 5ms/step - loss: 1.4402 - accuracy: 0.4862 - val_loss: 1.8257 - val_accuracy: 0.3667\n",
            "Epoch 50/100\n",
            "875/875 [==============================] - 4s 5ms/step - loss: 1.4253 - accuracy: 0.4958 - val_loss: 1.8415 - val_accuracy: 0.3619\n",
            "Epoch 51/100\n",
            "875/875 [==============================] - 4s 5ms/step - loss: 1.4257 - accuracy: 0.4960 - val_loss: 1.7970 - val_accuracy: 0.3717\n",
            "Epoch 52/100\n",
            "875/875 [==============================] - 4s 5ms/step - loss: 1.4208 - accuracy: 0.4939 - val_loss: 1.8224 - val_accuracy: 0.3690\n",
            "Epoch 53/100\n",
            "875/875 [==============================] - 4s 5ms/step - loss: 1.4362 - accuracy: 0.4929 - val_loss: 1.8511 - val_accuracy: 0.3670\n",
            "Epoch 54/100\n",
            "875/875 [==============================] - 4s 5ms/step - loss: 1.4131 - accuracy: 0.4966 - val_loss: 1.8093 - val_accuracy: 0.3697\n",
            "Epoch 55/100\n",
            "875/875 [==============================] - 4s 5ms/step - loss: 1.3942 - accuracy: 0.5037 - val_loss: 1.8286 - val_accuracy: 0.3667\n",
            "Epoch 56/100\n",
            "875/875 [==============================] - 4s 5ms/step - loss: 1.4049 - accuracy: 0.5015 - val_loss: 1.8381 - val_accuracy: 0.3693\n",
            "Epoch 57/100\n",
            "875/875 [==============================] - 4s 5ms/step - loss: 1.3933 - accuracy: 0.5043 - val_loss: 1.9219 - val_accuracy: 0.3489\n",
            "Epoch 58/100\n",
            "875/875 [==============================] - 4s 5ms/step - loss: 1.3804 - accuracy: 0.5109 - val_loss: 1.8438 - val_accuracy: 0.3692\n",
            "Epoch 59/100\n",
            "875/875 [==============================] - 4s 5ms/step - loss: 1.3753 - accuracy: 0.5112 - val_loss: 1.8537 - val_accuracy: 0.3634\n",
            "Epoch 60/100\n",
            "875/875 [==============================] - 4s 5ms/step - loss: 1.3808 - accuracy: 0.5069 - val_loss: 1.9235 - val_accuracy: 0.3472\n",
            "Epoch 61/100\n",
            "875/875 [==============================] - 4s 5ms/step - loss: 1.3661 - accuracy: 0.5192 - val_loss: 1.8120 - val_accuracy: 0.3710\n",
            "Epoch 62/100\n",
            "875/875 [==============================] - 4s 5ms/step - loss: 1.3792 - accuracy: 0.5099 - val_loss: 2.0312 - val_accuracy: 0.3215\n",
            "Epoch 63/100\n",
            "875/875 [==============================] - 5s 5ms/step - loss: 1.3671 - accuracy: 0.5153 - val_loss: 1.9042 - val_accuracy: 0.3577\n",
            "Epoch 64/100\n",
            "875/875 [==============================] - 4s 5ms/step - loss: 1.3737 - accuracy: 0.5134 - val_loss: 2.1521 - val_accuracy: 0.3116\n",
            "Epoch 65/100\n",
            "875/875 [==============================] - 4s 5ms/step - loss: 1.3634 - accuracy: 0.5127 - val_loss: 1.8770 - val_accuracy: 0.3650\n",
            "Epoch 66/100\n",
            "875/875 [==============================] - 4s 5ms/step - loss: 1.3461 - accuracy: 0.5191 - val_loss: 1.8961 - val_accuracy: 0.3612\n",
            "Epoch 67/100\n",
            "875/875 [==============================] - 4s 5ms/step - loss: 1.3525 - accuracy: 0.5184 - val_loss: 1.8469 - val_accuracy: 0.3685\n",
            "Epoch 68/100\n",
            "875/875 [==============================] - 4s 5ms/step - loss: 1.3545 - accuracy: 0.5229 - val_loss: 2.2413 - val_accuracy: 0.3028\n",
            "Epoch 69/100\n",
            "875/875 [==============================] - 4s 5ms/step - loss: 1.3327 - accuracy: 0.5269 - val_loss: 1.8803 - val_accuracy: 0.3599\n",
            "Epoch 70/100\n",
            "875/875 [==============================] - 4s 5ms/step - loss: 1.3227 - accuracy: 0.5284 - val_loss: 1.8624 - val_accuracy: 0.3772\n",
            "Epoch 71/100\n",
            "875/875 [==============================] - 5s 5ms/step - loss: 1.3344 - accuracy: 0.5284 - val_loss: 2.0532 - val_accuracy: 0.3406\n",
            "Epoch 72/100\n",
            "875/875 [==============================] - 5s 5ms/step - loss: 1.3242 - accuracy: 0.5340 - val_loss: 1.9714 - val_accuracy: 0.3518\n",
            "Epoch 73/100\n",
            "875/875 [==============================] - 5s 5ms/step - loss: 1.3282 - accuracy: 0.5286 - val_loss: 1.9000 - val_accuracy: 0.3524\n",
            "Epoch 74/100\n",
            "875/875 [==============================] - 5s 5ms/step - loss: 1.3207 - accuracy: 0.5296 - val_loss: 1.8838 - val_accuracy: 0.3632\n",
            "Epoch 75/100\n",
            "875/875 [==============================] - 5s 5ms/step - loss: 1.3050 - accuracy: 0.5385 - val_loss: 1.8609 - val_accuracy: 0.3668\n",
            "Epoch 76/100\n",
            "875/875 [==============================] - 5s 5ms/step - loss: 1.3138 - accuracy: 0.5321 - val_loss: 1.8384 - val_accuracy: 0.3846\n",
            "Epoch 77/100\n",
            "875/875 [==============================] - 5s 5ms/step - loss: 1.3040 - accuracy: 0.5419 - val_loss: 1.9027 - val_accuracy: 0.3562\n",
            "Epoch 78/100\n",
            "875/875 [==============================] - 5s 5ms/step - loss: 1.2945 - accuracy: 0.5415 - val_loss: 1.8641 - val_accuracy: 0.3678\n",
            "Epoch 79/100\n",
            "875/875 [==============================] - 5s 5ms/step - loss: 1.2921 - accuracy: 0.5424 - val_loss: 1.8654 - val_accuracy: 0.3685\n",
            "Epoch 80/100\n",
            "875/875 [==============================] - 5s 5ms/step - loss: 1.3135 - accuracy: 0.5323 - val_loss: 1.8658 - val_accuracy: 0.3627\n",
            "Epoch 81/100\n",
            "875/875 [==============================] - 5s 5ms/step - loss: 1.2916 - accuracy: 0.5482 - val_loss: 1.8622 - val_accuracy: 0.3725\n",
            "Epoch 82/100\n",
            "875/875 [==============================] - 5s 5ms/step - loss: 1.2817 - accuracy: 0.5494 - val_loss: 2.0366 - val_accuracy: 0.3352\n",
            "Epoch 83/100\n",
            "875/875 [==============================] - 5s 5ms/step - loss: 1.2964 - accuracy: 0.5424 - val_loss: 1.9249 - val_accuracy: 0.3708\n",
            "Epoch 84/100\n",
            "875/875 [==============================] - 5s 5ms/step - loss: 1.2934 - accuracy: 0.5478 - val_loss: 2.0630 - val_accuracy: 0.3362\n",
            "Epoch 85/100\n",
            "875/875 [==============================] - 5s 5ms/step - loss: 1.2738 - accuracy: 0.5488 - val_loss: 1.9149 - val_accuracy: 0.3647\n",
            "Epoch 86/100\n",
            "875/875 [==============================] - 5s 5ms/step - loss: 1.2673 - accuracy: 0.5531 - val_loss: 2.0499 - val_accuracy: 0.3440\n",
            "Epoch 87/100\n",
            "875/875 [==============================] - 5s 5ms/step - loss: 1.2589 - accuracy: 0.5517 - val_loss: 1.9210 - val_accuracy: 0.3572\n",
            "Epoch 88/100\n",
            "875/875 [==============================] - 5s 5ms/step - loss: 1.2630 - accuracy: 0.5536 - val_loss: 1.9640 - val_accuracy: 0.3551\n",
            "Epoch 89/100\n",
            "875/875 [==============================] - 5s 5ms/step - loss: 1.2716 - accuracy: 0.5462 - val_loss: 1.8950 - val_accuracy: 0.3669\n",
            "Epoch 90/100\n",
            "875/875 [==============================] - 5s 5ms/step - loss: 1.2643 - accuracy: 0.5513 - val_loss: 1.8846 - val_accuracy: 0.3673\n",
            "Epoch 91/100\n",
            "875/875 [==============================] - 5s 5ms/step - loss: 1.2493 - accuracy: 0.5574 - val_loss: 1.9785 - val_accuracy: 0.3475\n",
            "Epoch 92/100\n",
            "875/875 [==============================] - 5s 5ms/step - loss: 1.2551 - accuracy: 0.5561 - val_loss: 1.8685 - val_accuracy: 0.3753\n",
            "Epoch 93/100\n",
            "875/875 [==============================] - 5s 5ms/step - loss: 1.2495 - accuracy: 0.5563 - val_loss: 2.1185 - val_accuracy: 0.3279\n",
            "Epoch 94/100\n",
            "875/875 [==============================] - 5s 5ms/step - loss: 1.2536 - accuracy: 0.5521 - val_loss: 1.9501 - val_accuracy: 0.3597\n",
            "Epoch 95/100\n",
            "875/875 [==============================] - 4s 5ms/step - loss: 1.2427 - accuracy: 0.5570 - val_loss: 1.9993 - val_accuracy: 0.3476\n",
            "Epoch 96/100\n",
            "875/875 [==============================] - 5s 5ms/step - loss: 1.2445 - accuracy: 0.5602 - val_loss: 1.8562 - val_accuracy: 0.3796\n",
            "Epoch 97/100\n",
            "875/875 [==============================] - 5s 5ms/step - loss: 1.2371 - accuracy: 0.5586 - val_loss: 1.9980 - val_accuracy: 0.3489\n",
            "Epoch 98/100\n",
            "875/875 [==============================] - 5s 5ms/step - loss: 1.2363 - accuracy: 0.5639 - val_loss: 2.0535 - val_accuracy: 0.3413\n",
            "Epoch 99/100\n",
            "875/875 [==============================] - 5s 5ms/step - loss: 1.2386 - accuracy: 0.5575 - val_loss: 1.9938 - val_accuracy: 0.3568\n",
            "Epoch 100/100\n",
            "875/875 [==============================] - 5s 5ms/step - loss: 1.2272 - accuracy: 0.5682 - val_loss: 2.1228 - val_accuracy: 0.3336\n"
          ],
          "name": "stdout"
        }
      ]
    },
    {
      "cell_type": "code",
      "metadata": {
        "colab": {
          "base_uri": "https://localhost:8080/",
          "height": 265
        },
        "id": "YuPlE2qpV7Y3",
        "outputId": "9034bbe4-f460-45c7-8044-d6c8b30bd8b2"
      },
      "source": [
        "plt.plot(history.history['accuracy'])\r\n",
        "plt.plot(history.history['val_accuracy'])\r\n",
        "plt.legend(['training', 'validation'], loc = 'upper left')\r\n",
        "plt.show()"
      ],
      "execution_count": 95,
      "outputs": [
        {
          "output_type": "display_data",
          "data": {
            "image/png": "[encoded data removed]",
            "text/plain": [
              "<Figure size 432x288 with 1 Axes>"
            ]
          },
          "metadata": {
            "tags": [],
            "needs_background": "light"
          }
        }
      ]
    },
    {
      "cell_type": "code",
      "metadata": {
        "colab": {
          "base_uri": "https://localhost:8080/"
        },
        "id": "l2CgvqPvWDDV",
        "outputId": "8529cf26-dcb0-464d-e6d7-ffa87dde5f49"
      },
      "source": [
        "results = model.evaluate(X_test_gs, y_test_gs)"
      ],
      "execution_count": 96,
      "outputs": [
        {
          "output_type": "stream",
          "text": [
            "313/313 [==============================] - 1s 2ms/step - loss: 2.1235 - accuracy: 0.3343\n"
          ],
          "name": "stdout"
        }
      ]
    },
    {
      "cell_type": "code",
      "metadata": {
        "colab": {
          "base_uri": "https://localhost:8080/"
        },
        "id": "15UCFNs6WDYs",
        "outputId": "99802aa1-a022-4c0e-d48f-6217cc68ac30"
      },
      "source": [
        "print('Test Accuracy', results[1])"
      ],
      "execution_count": 97,
      "outputs": [
        {
          "output_type": "stream",
          "text": [
            "Test Accuracy 0.3343000113964081\n"
          ],
          "name": "stdout"
        }
      ]
    },
    {
      "cell_type": "markdown",
      "metadata": {
        "id": "ZzQTtQLIWO8V"
      },
      "source": [
        "# 5. Dropout (Regularization) for Greyscale Image"
      ]
    },
    {
      "cell_type": "code",
      "metadata": {
        "id": "m7tlzRFIWcJf"
      },
      "source": [
        "from keras.layers import Dropout"
      ],
      "execution_count": 98,
      "outputs": []
    },
    {
      "cell_type": "code",
      "metadata": {
        "id": "IBcCKS9YZAvK"
      },
      "source": [
        "model = Sequential()"
      ],
      "execution_count": 99,
      "outputs": []
    },
    {
      "cell_type": "code",
      "metadata": {
        "id": "4dNfDsJKZBNw"
      },
      "source": [
        "model.add(Dense(50, input_shape = (1024, )))\r\n",
        "model.add(Activation('selu'))    \r\n",
        "model.add(Dropout(0.2))                        # Dropout layer after Activation\r\n",
        "model.add(Dense(50))\r\n",
        "model.add(Activation('selu'))\r\n",
        "model.add(Dropout(0.2))                        # Dropout layer after Activation\r\n",
        "model.add(Dense(50))\r\n",
        "model.add(Activation('selu'))    \r\n",
        "model.add(Dropout(0.2))                        # Dropout layer after Activation\r\n",
        "model.add(Dense(50))\r\n",
        "model.add(Activation('selu'))    \r\n",
        "model.add(Dropout(0.2))                         # Dropout layer after Activation\r\n",
        "model.add(Dense(10))\r\n",
        "model.add(Activation('softmax'))"
      ],
      "execution_count": 102,
      "outputs": []
    },
    {
      "cell_type": "code",
      "metadata": {
        "id": "nuhnGUXtZBQx"
      },
      "source": [
        "adam = optimizers.Adam(lr = 0.001)\r\n",
        "model.compile(optimizer = adam, loss = 'categorical_crossentropy', metrics = ['accuracy'])"
      ],
      "execution_count": 104,
      "outputs": []
    },
    {
      "cell_type": "code",
      "metadata": {
        "colab": {
          "base_uri": "https://localhost:8080/"
        },
        "id": "XuaJePY3ZBTu",
        "outputId": "19abea64-1ea6-48f9-b6d4-43c105e6af92"
      },
      "source": [
        "history = model.fit(X_train_gs, y_train_gs, validation_split = 0.3, epochs = 100, verbose = 1)"
      ],
      "execution_count": 105,
      "outputs": [
        {
          "output_type": "stream",
          "text": [
            "Epoch 1/100\n",
            "875/875 [==============================] - 4s 4ms/step - loss: 2.3253 - accuracy: 0.0974 - val_loss: 2.3059 - val_accuracy: 0.0996\n",
            "Epoch 2/100\n",
            "875/875 [==============================] - 3s 4ms/step - loss: 2.3080 - accuracy: 0.1003 - val_loss: 2.3027 - val_accuracy: 0.1013\n",
            "Epoch 3/100\n",
            "875/875 [==============================] - 3s 4ms/step - loss: 2.3057 - accuracy: 0.0963 - val_loss: 2.3060 - val_accuracy: 0.0962\n",
            "Epoch 4/100\n",
            "875/875 [==============================] - 3s 4ms/step - loss: 2.3045 - accuracy: 0.1076 - val_loss: 2.3031 - val_accuracy: 0.0985\n",
            "Epoch 5/100\n",
            "875/875 [==============================] - 3s 4ms/step - loss: 2.3047 - accuracy: 0.0973 - val_loss: 2.3033 - val_accuracy: 0.1037\n",
            "Epoch 6/100\n",
            "875/875 [==============================] - 3s 4ms/step - loss: 2.3050 - accuracy: 0.0973 - val_loss: 2.3038 - val_accuracy: 0.0985\n",
            "Epoch 7/100\n",
            "875/875 [==============================] - 3s 4ms/step - loss: 2.3044 - accuracy: 0.0988 - val_loss: 2.3042 - val_accuracy: 0.0962\n",
            "Epoch 8/100\n",
            "875/875 [==============================] - 3s 4ms/step - loss: 2.3045 - accuracy: 0.1018 - val_loss: 2.3036 - val_accuracy: 0.0988\n",
            "Epoch 9/100\n",
            "875/875 [==============================] - 3s 4ms/step - loss: 2.3042 - accuracy: 0.1014 - val_loss: 2.3045 - val_accuracy: 0.1021\n",
            "Epoch 10/100\n",
            "875/875 [==============================] - 3s 4ms/step - loss: 2.3042 - accuracy: 0.1000 - val_loss: 2.3033 - val_accuracy: 0.0985\n",
            "Epoch 11/100\n",
            "875/875 [==============================] - 3s 4ms/step - loss: 2.3032 - accuracy: 0.1007 - val_loss: 2.3053 - val_accuracy: 0.0962\n",
            "Epoch 12/100\n",
            "875/875 [==============================] - 3s 4ms/step - loss: 2.3038 - accuracy: 0.0959 - val_loss: 2.3031 - val_accuracy: 0.0985\n",
            "Epoch 13/100\n",
            "875/875 [==============================] - 3s 4ms/step - loss: 2.3034 - accuracy: 0.0983 - val_loss: 2.3035 - val_accuracy: 0.0996\n",
            "Epoch 14/100\n",
            "875/875 [==============================] - 3s 4ms/step - loss: 2.3034 - accuracy: 0.1012 - val_loss: 2.3033 - val_accuracy: 0.0975\n",
            "Epoch 15/100\n",
            "875/875 [==============================] - 3s 4ms/step - loss: 2.3033 - accuracy: 0.0979 - val_loss: 2.3030 - val_accuracy: 0.0962\n",
            "Epoch 16/100\n",
            "875/875 [==============================] - 3s 4ms/step - loss: 2.3035 - accuracy: 0.1018 - val_loss: 2.3031 - val_accuracy: 0.0962\n",
            "Epoch 17/100\n",
            "875/875 [==============================] - 3s 4ms/step - loss: 2.3035 - accuracy: 0.1002 - val_loss: 2.3032 - val_accuracy: 0.0962\n",
            "Epoch 18/100\n",
            "875/875 [==============================] - 3s 4ms/step - loss: 2.3030 - accuracy: 0.0993 - val_loss: 2.3037 - val_accuracy: 0.0962\n",
            "Epoch 19/100\n",
            "875/875 [==============================] - 3s 4ms/step - loss: 2.3033 - accuracy: 0.1028 - val_loss: 2.3031 - val_accuracy: 0.0962\n",
            "Epoch 20/100\n",
            "875/875 [==============================] - 3s 4ms/step - loss: 2.3033 - accuracy: 0.0984 - val_loss: 2.3033 - val_accuracy: 0.0985\n",
            "Epoch 21/100\n",
            "875/875 [==============================] - 3s 4ms/step - loss: 2.3030 - accuracy: 0.1022 - val_loss: 2.3041 - val_accuracy: 0.0962\n",
            "Epoch 22/100\n",
            "875/875 [==============================] - 3s 4ms/step - loss: 2.3035 - accuracy: 0.1023 - val_loss: 2.3031 - val_accuracy: 0.0985\n",
            "Epoch 23/100\n",
            "875/875 [==============================] - 3s 4ms/step - loss: 2.3030 - accuracy: 0.1054 - val_loss: 2.3035 - val_accuracy: 0.1013\n",
            "Epoch 24/100\n",
            "875/875 [==============================] - 3s 4ms/step - loss: 2.3030 - accuracy: 0.1034 - val_loss: 2.3039 - val_accuracy: 0.0962\n",
            "Epoch 25/100\n",
            "875/875 [==============================] - 3s 4ms/step - loss: 2.3033 - accuracy: 0.0999 - val_loss: 2.3039 - val_accuracy: 0.0985\n",
            "Epoch 26/100\n",
            "875/875 [==============================] - 3s 4ms/step - loss: 2.3033 - accuracy: 0.1011 - val_loss: 2.3033 - val_accuracy: 0.0985\n",
            "Epoch 27/100\n",
            "875/875 [==============================] - 3s 4ms/step - loss: 2.3033 - accuracy: 0.0995 - val_loss: 2.3029 - val_accuracy: 0.1013\n",
            "Epoch 28/100\n",
            "875/875 [==============================] - 3s 4ms/step - loss: 2.3027 - accuracy: 0.1030 - val_loss: 2.3029 - val_accuracy: 0.1037\n",
            "Epoch 29/100\n",
            "875/875 [==============================] - 3s 4ms/step - loss: 2.3033 - accuracy: 0.1010 - val_loss: 2.3035 - val_accuracy: 0.0985\n",
            "Epoch 30/100\n",
            "875/875 [==============================] - 3s 4ms/step - loss: 2.3030 - accuracy: 0.1026 - val_loss: 2.3035 - val_accuracy: 0.0999\n",
            "Epoch 31/100\n",
            "875/875 [==============================] - 3s 4ms/step - loss: 2.3033 - accuracy: 0.1008 - val_loss: 2.3028 - val_accuracy: 0.1013\n",
            "Epoch 32/100\n",
            "875/875 [==============================] - 3s 4ms/step - loss: 2.3032 - accuracy: 0.1004 - val_loss: 2.3040 - val_accuracy: 0.0962\n",
            "Epoch 33/100\n",
            "875/875 [==============================] - 3s 4ms/step - loss: 2.3033 - accuracy: 0.0974 - val_loss: 2.3030 - val_accuracy: 0.0985\n",
            "Epoch 34/100\n",
            "875/875 [==============================] - 3s 4ms/step - loss: 2.3029 - accuracy: 0.0995 - val_loss: 2.3032 - val_accuracy: 0.0996\n",
            "Epoch 35/100\n",
            "875/875 [==============================] - 3s 4ms/step - loss: 2.3030 - accuracy: 0.1012 - val_loss: 2.3034 - val_accuracy: 0.0999\n",
            "Epoch 36/100\n",
            "875/875 [==============================] - 3s 4ms/step - loss: 2.3030 - accuracy: 0.1009 - val_loss: 2.3032 - val_accuracy: 0.1013\n",
            "Epoch 37/100\n",
            "875/875 [==============================] - 3s 4ms/step - loss: 2.3029 - accuracy: 0.1028 - val_loss: 2.3031 - val_accuracy: 0.0985\n",
            "Epoch 38/100\n",
            "875/875 [==============================] - 3s 4ms/step - loss: 2.3031 - accuracy: 0.1004 - val_loss: 2.3028 - val_accuracy: 0.0985\n",
            "Epoch 39/100\n",
            "875/875 [==============================] - 3s 4ms/step - loss: 2.3030 - accuracy: 0.0996 - val_loss: 2.3035 - val_accuracy: 0.0962\n",
            "Epoch 40/100\n",
            "875/875 [==============================] - 3s 4ms/step - loss: 2.3029 - accuracy: 0.1001 - val_loss: 2.3030 - val_accuracy: 0.0985\n",
            "Epoch 41/100\n",
            "875/875 [==============================] - 3s 4ms/step - loss: 2.3028 - accuracy: 0.1051 - val_loss: 2.3036 - val_accuracy: 0.1037\n",
            "Epoch 42/100\n",
            "875/875 [==============================] - 3s 4ms/step - loss: 2.3030 - accuracy: 0.0995 - val_loss: 2.3028 - val_accuracy: 0.0985\n",
            "Epoch 43/100\n",
            "875/875 [==============================] - 3s 4ms/step - loss: 2.3028 - accuracy: 0.1039 - val_loss: 2.3029 - val_accuracy: 0.0962\n",
            "Epoch 44/100\n",
            "875/875 [==============================] - 3s 4ms/step - loss: 2.3028 - accuracy: 0.1045 - val_loss: 2.3030 - val_accuracy: 0.0962\n",
            "Epoch 45/100\n",
            "875/875 [==============================] - 3s 4ms/step - loss: 2.3030 - accuracy: 0.0974 - val_loss: 2.3030 - val_accuracy: 0.0985\n",
            "Epoch 46/100\n",
            "875/875 [==============================] - 3s 4ms/step - loss: 2.3032 - accuracy: 0.0973 - val_loss: 2.3030 - val_accuracy: 0.0962\n",
            "Epoch 47/100\n",
            "875/875 [==============================] - 3s 4ms/step - loss: 2.3029 - accuracy: 0.1050 - val_loss: 2.3028 - val_accuracy: 0.0975\n",
            "Epoch 48/100\n",
            "875/875 [==============================] - 3s 4ms/step - loss: 2.3029 - accuracy: 0.1015 - val_loss: 2.3030 - val_accuracy: 0.0962\n",
            "Epoch 49/100\n",
            "875/875 [==============================] - 3s 4ms/step - loss: 2.3029 - accuracy: 0.1032 - val_loss: 2.3035 - val_accuracy: 0.0985\n",
            "Epoch 50/100\n",
            "875/875 [==============================] - 3s 4ms/step - loss: 2.3029 - accuracy: 0.1005 - val_loss: 2.3028 - val_accuracy: 0.0985\n",
            "Epoch 51/100\n",
            "875/875 [==============================] - 3s 4ms/step - loss: 2.3029 - accuracy: 0.0991 - val_loss: 2.3030 - val_accuracy: 0.0962\n",
            "Epoch 52/100\n",
            "875/875 [==============================] - 3s 4ms/step - loss: 2.3029 - accuracy: 0.1010 - val_loss: 2.3052 - val_accuracy: 0.0975\n",
            "Epoch 53/100\n",
            "875/875 [==============================] - 3s 4ms/step - loss: 2.3036 - accuracy: 0.0995 - val_loss: 2.3031 - val_accuracy: 0.0975\n",
            "Epoch 54/100\n",
            "875/875 [==============================] - 3s 4ms/step - loss: 2.3030 - accuracy: 0.1010 - val_loss: 2.3028 - val_accuracy: 0.1013\n",
            "Epoch 55/100\n",
            "875/875 [==============================] - 3s 4ms/step - loss: 2.3027 - accuracy: 0.1019 - val_loss: 2.3030 - val_accuracy: 0.1021\n",
            "Epoch 56/100\n",
            "875/875 [==============================] - 3s 4ms/step - loss: 2.3029 - accuracy: 0.1006 - val_loss: 2.3035 - val_accuracy: 0.0985\n",
            "Epoch 57/100\n",
            "875/875 [==============================] - 3s 4ms/step - loss: 2.3028 - accuracy: 0.1016 - val_loss: 2.3062 - val_accuracy: 0.0996\n",
            "Epoch 58/100\n",
            "875/875 [==============================] - 3s 4ms/step - loss: 2.3032 - accuracy: 0.0976 - val_loss: 2.3030 - val_accuracy: 0.0985\n",
            "Epoch 59/100\n",
            "875/875 [==============================] - 3s 4ms/step - loss: 2.3028 - accuracy: 0.0978 - val_loss: 2.3031 - val_accuracy: 0.0985\n",
            "Epoch 60/100\n",
            "875/875 [==============================] - 3s 4ms/step - loss: 2.3026 - accuracy: 0.1005 - val_loss: 2.3029 - val_accuracy: 0.0985\n",
            "Epoch 61/100\n",
            "875/875 [==============================] - 3s 4ms/step - loss: 2.3032 - accuracy: 0.0974 - val_loss: 2.3037 - val_accuracy: 0.1013\n",
            "Epoch 62/100\n",
            "875/875 [==============================] - 3s 4ms/step - loss: 2.3031 - accuracy: 0.0980 - val_loss: 2.3028 - val_accuracy: 0.0985\n",
            "Epoch 63/100\n",
            "875/875 [==============================] - 3s 4ms/step - loss: 2.3030 - accuracy: 0.0995 - val_loss: 2.3034 - val_accuracy: 0.0962\n",
            "Epoch 64/100\n",
            "875/875 [==============================] - 3s 4ms/step - loss: 2.3029 - accuracy: 0.1007 - val_loss: 2.3034 - val_accuracy: 0.0996\n",
            "Epoch 65/100\n",
            "875/875 [==============================] - 3s 4ms/step - loss: 2.3030 - accuracy: 0.1017 - val_loss: 2.3032 - val_accuracy: 0.0975\n",
            "Epoch 66/100\n",
            "875/875 [==============================] - 3s 4ms/step - loss: 2.3030 - accuracy: 0.0978 - val_loss: 2.3027 - val_accuracy: 0.1013\n",
            "Epoch 67/100\n",
            "875/875 [==============================] - 3s 4ms/step - loss: 2.3031 - accuracy: 0.0978 - val_loss: 2.3032 - val_accuracy: 0.0988\n",
            "Epoch 68/100\n",
            "875/875 [==============================] - 3s 4ms/step - loss: 2.3029 - accuracy: 0.1048 - val_loss: 2.3029 - val_accuracy: 0.0975\n",
            "Epoch 69/100\n",
            "875/875 [==============================] - 3s 4ms/step - loss: 2.3028 - accuracy: 0.1006 - val_loss: 2.3029 - val_accuracy: 0.0985\n",
            "Epoch 70/100\n",
            "875/875 [==============================] - 3s 4ms/step - loss: 2.3030 - accuracy: 0.0968 - val_loss: 2.3036 - val_accuracy: 0.1021\n",
            "Epoch 71/100\n",
            "875/875 [==============================] - 3s 4ms/step - loss: 2.3031 - accuracy: 0.0999 - val_loss: 2.3030 - val_accuracy: 0.0985\n",
            "Epoch 72/100\n",
            "875/875 [==============================] - 3s 4ms/step - loss: 2.3029 - accuracy: 0.0993 - val_loss: 2.3032 - val_accuracy: 0.0962\n",
            "Epoch 73/100\n",
            "875/875 [==============================] - 3s 4ms/step - loss: 2.3029 - accuracy: 0.0999 - val_loss: 2.3042 - val_accuracy: 0.1023\n",
            "Epoch 74/100\n",
            "875/875 [==============================] - 3s 4ms/step - loss: 2.3032 - accuracy: 0.0995 - val_loss: 2.3029 - val_accuracy: 0.0962\n",
            "Epoch 75/100\n",
            "875/875 [==============================] - 3s 4ms/step - loss: 2.3030 - accuracy: 0.1007 - val_loss: 2.3035 - val_accuracy: 0.0962\n",
            "Epoch 76/100\n",
            "875/875 [==============================] - 3s 4ms/step - loss: 2.3031 - accuracy: 0.1005 - val_loss: 2.3029 - val_accuracy: 0.0962\n",
            "Epoch 77/100\n",
            "875/875 [==============================] - 3s 4ms/step - loss: 2.3028 - accuracy: 0.1054 - val_loss: 2.3033 - val_accuracy: 0.0975\n",
            "Epoch 78/100\n",
            "875/875 [==============================] - 3s 4ms/step - loss: 2.3026 - accuracy: 0.1038 - val_loss: 2.3032 - val_accuracy: 0.1037\n",
            "Epoch 79/100\n",
            "875/875 [==============================] - 3s 4ms/step - loss: 2.3030 - accuracy: 0.0988 - val_loss: 2.3032 - val_accuracy: 0.0962\n",
            "Epoch 80/100\n",
            "875/875 [==============================] - 3s 4ms/step - loss: 2.3029 - accuracy: 0.1030 - val_loss: 2.3026 - val_accuracy: 0.0962\n",
            "Epoch 81/100\n",
            "875/875 [==============================] - 3s 4ms/step - loss: 2.3030 - accuracy: 0.0979 - val_loss: 2.3031 - val_accuracy: 0.0985\n",
            "Epoch 82/100\n",
            "875/875 [==============================] - 3s 4ms/step - loss: 2.3029 - accuracy: 0.1018 - val_loss: 2.3028 - val_accuracy: 0.0985\n",
            "Epoch 83/100\n",
            "875/875 [==============================] - 3s 4ms/step - loss: 2.3028 - accuracy: 0.1043 - val_loss: 2.3028 - val_accuracy: 0.0985\n",
            "Epoch 84/100\n",
            "875/875 [==============================] - 3s 4ms/step - loss: 2.3030 - accuracy: 0.0983 - val_loss: 2.3030 - val_accuracy: 0.0985\n",
            "Epoch 85/100\n",
            "875/875 [==============================] - 3s 4ms/step - loss: 2.3027 - accuracy: 0.1001 - val_loss: 2.3029 - val_accuracy: 0.0962\n",
            "Epoch 86/100\n",
            "875/875 [==============================] - 3s 4ms/step - loss: 2.3027 - accuracy: 0.1036 - val_loss: 2.3060 - val_accuracy: 0.1023\n",
            "Epoch 87/100\n",
            "875/875 [==============================] - 3s 4ms/step - loss: 2.3034 - accuracy: 0.1007 - val_loss: 2.3031 - val_accuracy: 0.0985\n",
            "Epoch 88/100\n",
            "875/875 [==============================] - 3s 4ms/step - loss: 2.3030 - accuracy: 0.1020 - val_loss: 2.3029 - val_accuracy: 0.0985\n",
            "Epoch 89/100\n",
            "875/875 [==============================] - 3s 4ms/step - loss: 2.3030 - accuracy: 0.0968 - val_loss: 2.3030 - val_accuracy: 0.0985\n",
            "Epoch 90/100\n",
            "875/875 [==============================] - 3s 4ms/step - loss: 2.3029 - accuracy: 0.1009 - val_loss: 2.3032 - val_accuracy: 0.0985\n",
            "Epoch 91/100\n",
            "875/875 [==============================] - 3s 4ms/step - loss: 2.3030 - accuracy: 0.0999 - val_loss: 2.3035 - val_accuracy: 0.0962\n",
            "Epoch 92/100\n",
            "875/875 [==============================] - 3s 4ms/step - loss: 2.3030 - accuracy: 0.0992 - val_loss: 2.3048 - val_accuracy: 0.1037\n",
            "Epoch 93/100\n",
            "875/875 [==============================] - 3s 4ms/step - loss: 2.3032 - accuracy: 0.1029 - val_loss: 2.3032 - val_accuracy: 0.0985\n",
            "Epoch 94/100\n",
            "875/875 [==============================] - 3s 4ms/step - loss: 2.3029 - accuracy: 0.1014 - val_loss: 2.3030 - val_accuracy: 0.0999\n",
            "Epoch 95/100\n",
            "875/875 [==============================] - 3s 4ms/step - loss: 2.3030 - accuracy: 0.1016 - val_loss: 2.3033 - val_accuracy: 0.0985\n",
            "Epoch 96/100\n",
            "875/875 [==============================] - 3s 4ms/step - loss: 2.3027 - accuracy: 0.0990 - val_loss: 2.3035 - val_accuracy: 0.0962\n",
            "Epoch 97/100\n",
            "875/875 [==============================] - 3s 4ms/step - loss: 2.3029 - accuracy: 0.1006 - val_loss: 2.3029 - val_accuracy: 0.1013\n",
            "Epoch 98/100\n",
            "875/875 [==============================] - 3s 4ms/step - loss: 2.3029 - accuracy: 0.0986 - val_loss: 2.3028 - val_accuracy: 0.0996\n",
            "Epoch 99/100\n",
            "875/875 [==============================] - 3s 4ms/step - loss: 2.3028 - accuracy: 0.1039 - val_loss: 2.3033 - val_accuracy: 0.0962\n",
            "Epoch 100/100\n",
            "875/875 [==============================] - 3s 4ms/step - loss: 2.3029 - accuracy: 0.1010 - val_loss: 2.3030 - val_accuracy: 0.0962\n"
          ],
          "name": "stdout"
        }
      ]
    },
    {
      "cell_type": "code",
      "metadata": {
        "colab": {
          "base_uri": "https://localhost:8080/",
          "height": 265
        },
        "id": "o4D_vcRDZBWy",
        "outputId": "e54f13f9-ffe3-4d86-ad3d-fc7657897eea"
      },
      "source": [
        "plt.plot(history.history['accuracy'])\r\n",
        "plt.plot(history.history['val_accuracy'])\r\n",
        "plt.legend(['training', 'validation'], loc = 'upper left')\r\n",
        "plt.show()"
      ],
      "execution_count": 106,
      "outputs": [
        {
          "output_type": "display_data",
          "data": {
            "image/png": "[encoded data removed]",
            "text/plain": [
              "<Figure size 432x288 with 1 Axes>"
            ]
          },
          "metadata": {
            "tags": [],
            "needs_background": "light"
          }
        }
      ]
    },
    {
      "cell_type": "code",
      "metadata": {
        "colab": {
          "base_uri": "https://localhost:8080/"
        },
        "id": "ttmgISJUbSgX",
        "outputId": "36108e5c-0013-43f9-85e7-2b5ca203d511"
      },
      "source": [
        "results = model.evaluate(X_test_gs, y_test_gs)"
      ],
      "execution_count": 107,
      "outputs": [
        {
          "output_type": "stream",
          "text": [
            "313/313 [==============================] - 1s 2ms/step - loss: 2.3032 - accuracy: 0.0982\n"
          ],
          "name": "stdout"
        }
      ]
    },
    {
      "cell_type": "code",
      "metadata": {
        "colab": {
          "base_uri": "https://localhost:8080/"
        },
        "id": "PKJQyA2XbSjW",
        "outputId": "33549438-c16a-4441-ca06-fc70b4c21747"
      },
      "source": [
        "print('Test Accuracy', results[1])"
      ],
      "execution_count": 108,
      "outputs": [
        {
          "output_type": "stream",
          "text": [
            "Test Accuracy 0.0982000008225441\n"
          ],
          "name": "stdout"
        }
      ]
    },
    {
      "cell_type": "markdown",
      "metadata": {
        "id": "QtPgn3BkdV2Y"
      },
      "source": [
        "# 6. Model Ensemble for GreyScale Image"
      ]
    },
    {
      "cell_type": "code",
      "metadata": {
        "id": "PloMckZtbSmj"
      },
      "source": [
        "import numpy as np\r\n",
        "\r\n",
        "from keras.wrappers.scikit_learn import KerasClassifier\r\n",
        "from sklearn.ensemble import VotingClassifier\r\n",
        "from sklearn.metrics import accuracy_score"
      ],
      "execution_count": 110,
      "outputs": []
    },
    {
      "cell_type": "code",
      "metadata": {
        "colab": {
          "base_uri": "https://localhost:8080/"
        },
        "id": "K05xFz1keRAw",
        "outputId": "bdc43329-481b-4b8e-f42e-51968730d551"
      },
      "source": [
        "y_train_gs"
      ],
      "execution_count": 113,
      "outputs": [
        {
          "output_type": "execute_result",
          "data": {
            "text/plain": [
              "array([5, 8, 1, ..., 3, 2, 0])"
            ]
          },
          "metadata": {
            "tags": []
          },
          "execution_count": 113
        }
      ]
    },
    {
      "cell_type": "code",
      "metadata": {
        "colab": {
          "base_uri": "https://localhost:8080/"
        },
        "id": "68uNmDzdeXtJ",
        "outputId": "b08fee5b-7477-4887-ae27-4c6aa0394b5f"
      },
      "source": [
        "y_test_gs"
      ],
      "execution_count": 114,
      "outputs": [
        {
          "output_type": "execute_result",
          "data": {
            "text/plain": [
              "array([9, 3, 0, ..., 4, 6, 1])"
            ]
          },
          "metadata": {
            "tags": []
          },
          "execution_count": 114
        }
      ]
    },
    {
      "cell_type": "code",
      "metadata": {
        "id": "OfE1iuuSegUL"
      },
      "source": [
        "def mlp_model():\r\n",
        "    model = Sequential()\r\n",
        "    \r\n",
        "    model.add(Dense(50, input_shape = (1024, )))\r\n",
        "    model.add(Activation('selu'))    \r\n",
        "    model.add(Dense(50))\r\n",
        "    model.add(Activation('selu'))    \r\n",
        "    model.add(Dense(50))\r\n",
        "    model.add(Activation('selu'))    \r\n",
        "    model.add(Dense(50))\r\n",
        "    model.add(Activation('selu'))    \r\n",
        "    model.add(Dense(10))\r\n",
        "    model.add(Activation('softmax'))\r\n",
        "    \r\n",
        "    adam = optimizers.Adam(lr = 0.001)\r\n",
        "    model.compile(optimizer = adam, loss = 'categorical_crossentropy', metrics = ['accuracy'])\r\n",
        "    \r\n",
        "    return model"
      ],
      "execution_count": 116,
      "outputs": []
    },
    {
      "cell_type": "code",
      "metadata": {
        "id": "Rd1fH2kNetkK"
      },
      "source": [
        "model1 = KerasClassifier(build_fn = mlp_model, epochs = 30, verbose = 0)\r\n",
        "model2 = KerasClassifier(build_fn = mlp_model, epochs = 10, verbose = 0)\r\n",
        "model3 = KerasClassifier(build_fn = mlp_model, epochs = 20, verbose = 0)"
      ],
      "execution_count": 117,
      "outputs": []
    },
    {
      "cell_type": "code",
      "metadata": {
        "id": "aojIQ_-qezRd"
      },
      "source": [
        "model1._estimator_type = \"classifier\"\r\n",
        "model2._estimator_type = \"classifier\"\r\n",
        "model3._estimator_type = \"classifier\""
      ],
      "execution_count": 119,
      "outputs": []
    },
    {
      "cell_type": "code",
      "metadata": {
        "id": "N5Ti73Vee7sM"
      },
      "source": [
        "ensemble_clf = VotingClassifier(estimators = [('model1', model1), ('model2', model2), ('model3', model3)], voting = 'soft')"
      ],
      "execution_count": 120,
      "outputs": []
    },
    {
      "cell_type": "code",
      "metadata": {
        "colab": {
          "base_uri": "https://localhost:8080/"
        },
        "id": "g0qJcU8de9Wr",
        "outputId": "2e98a1d0-23b8-4330-e902-1bd0da68f2d7"
      },
      "source": [
        "ensemble_clf.fit(X_train_gs, y_train_gs)"
      ],
      "execution_count": 121,
      "outputs": [
        {
          "output_type": "execute_result",
          "data": {
            "text/plain": [
              "VotingClassifier(estimators=[('model1',\n",
              "                              <tensorflow.python.keras.wrappers.scikit_learn.KerasClassifier object at 0x7f4e45bb3e50>),\n",
              "                             ('model2',\n",
              "                              <tensorflow.python.keras.wrappers.scikit_learn.KerasClassifier object at 0x7f4e45bb3a50>),\n",
              "                             ('model3',\n",
              "                              <tensorflow.python.keras.wrappers.scikit_learn.KerasClassifier object at 0x7f4e45bb3910>)],\n",
              "                 flatten_transform=True, n_jobs=None, voting='soft',\n",
              "                 weights=None)"
            ]
          },
          "metadata": {
            "tags": []
          },
          "execution_count": 121
        }
      ]
    },
    {
      "cell_type": "code",
      "metadata": {
        "colab": {
          "base_uri": "https://localhost:8080/"
        },
        "id": "oBsyJu1Fi94V",
        "outputId": "48c8a739-f2f4-423c-df81-076e50d42f4e"
      },
      "source": [
        "y_pred_gs = ensemble_clf.predict(X_test_gs)"
      ],
      "execution_count": 122,
      "outputs": [
        {
          "output_type": "stream",
          "text": [
            "/usr/local/lib/python3.7/dist-packages/tensorflow/python/keras/engine/sequential.py:425: UserWarning: `model.predict_proba()` is deprecated and will be removed after 2021-01-01. Please use `model.predict()` instead.\n",
            "  warnings.warn('`model.predict_proba()` is deprecated and '\n"
          ],
          "name": "stderr"
        }
      ]
    },
    {
      "cell_type": "code",
      "metadata": {
        "colab": {
          "base_uri": "https://localhost:8080/"
        },
        "id": "Bkf0OOPTjNDx",
        "outputId": "94451b3c-d8f6-456c-da37-8be39c34f6bc"
      },
      "source": [
        "print('Test accuracy:', accuracy_score(y_pred_gs, y_test_gs))"
      ],
      "execution_count": 123,
      "outputs": [
        {
          "output_type": "stream",
          "text": [
            "Test accuracy: 0.4326\n"
          ],
          "name": "stdout"
        }
      ]
    },
    {
      "cell_type": "markdown",
      "metadata": {
        "id": "temabSQ883Zg"
      },
      "source": [
        "# CNN model for color and greyscale Images"
      ]
    },
    {
      "cell_type": "markdown",
      "metadata": {
        "id": "49GDB-wgnUCc"
      },
      "source": [
        "## Color Model CNN"
      ]
    },
    {
      "cell_type": "code",
      "metadata": {
        "id": "Ji-owIAr9JLv"
      },
      "source": [
        "model = Sequential()"
      ],
      "execution_count": 4,
      "outputs": []
    },
    {
      "cell_type": "code",
      "metadata": {
        "id": "C1GLk34c_hjM"
      },
      "source": [
        "model.add(Conv2D(32,kernel_size =(3,3),activation='relu',input_shape=(32,32,3)))\r\n",
        "model.add(Conv2D(64,(3,3),activation = 'relu'))\r\n",
        "model.add(MaxPooling2D(pool_size=(2,2)))\r\n",
        "model.add(Dropout(0.25))\r\n",
        "model.add(Flatten())\r\n",
        "model.add(Dense(128,activation='relu'))\r\n",
        "model.add(Dropout(0.5))\r\n",
        "model.add(Dense(10,activation='softmax'))"
      ],
      "execution_count": 5,
      "outputs": []
    },
    {
      "cell_type": "code",
      "metadata": {
        "id": "YeRIKEsD_lpo"
      },
      "source": [
        "model.compile(loss='categorical_crossentropy', optimizer = 'Adam',metrics=['accuracy'])"
      ],
      "execution_count": 7,
      "outputs": []
    },
    {
      "cell_type": "code",
      "metadata": {
        "colab": {
          "base_uri": "https://localhost:8080/"
        },
        "id": "Wgb_3-B__4-W",
        "outputId": "c3d5b2d1-8886-4015-efad-49f41863fc22"
      },
      "source": [
        "x_train.shape"
      ],
      "execution_count": 14,
      "outputs": [
        {
          "output_type": "execute_result",
          "data": {
            "text/plain": [
              "(50000, 32, 32, 3)"
            ]
          },
          "metadata": {
            "tags": []
          },
          "execution_count": 14
        }
      ]
    },
    {
      "cell_type": "code",
      "metadata": {
        "colab": {
          "base_uri": "https://localhost:8080/"
        },
        "id": "Bj-xGjy0BwjS",
        "outputId": "b32eed56-1e08-4ad7-e795-803ca12113ec"
      },
      "source": [
        "y_train.shape"
      ],
      "execution_count": 15,
      "outputs": [
        {
          "output_type": "execute_result",
          "data": {
            "text/plain": [
              "(50000, 10)"
            ]
          },
          "metadata": {
            "tags": []
          },
          "execution_count": 15
        }
      ]
    },
    {
      "cell_type": "code",
      "metadata": {
        "id": "k_AhuQm7B4iU"
      },
      "source": [
        "X_train,X_test,y_train,y_test = train_test_split(x_train,y_train,random_state = 42,test_size = 0.2)"
      ],
      "execution_count": 16,
      "outputs": []
    },
    {
      "cell_type": "code",
      "metadata": {
        "colab": {
          "base_uri": "https://localhost:8080/"
        },
        "id": "wCakyIUsCCYh",
        "outputId": "f9e1601b-0d52-4976-e329-4bc5d64b2cf8"
      },
      "source": [
        "X_train.shape"
      ],
      "execution_count": 17,
      "outputs": [
        {
          "output_type": "execute_result",
          "data": {
            "text/plain": [
              "(40000, 32, 32, 3)"
            ]
          },
          "metadata": {
            "tags": []
          },
          "execution_count": 17
        }
      ]
    },
    {
      "cell_type": "code",
      "metadata": {
        "colab": {
          "base_uri": "https://localhost:8080/"
        },
        "id": "QdXlcrg2CGc7",
        "outputId": "82811dc5-3b92-436f-bee7-ce1955c7cb01"
      },
      "source": [
        "X_test.shape"
      ],
      "execution_count": 18,
      "outputs": [
        {
          "output_type": "execute_result",
          "data": {
            "text/plain": [
              "(10000, 32, 32, 3)"
            ]
          },
          "metadata": {
            "tags": []
          },
          "execution_count": 18
        }
      ]
    },
    {
      "cell_type": "code",
      "metadata": {
        "colab": {
          "base_uri": "https://localhost:8080/"
        },
        "id": "OaZghX7UCKwi",
        "outputId": "f2e65e11-b70b-46cf-89eb-34f3f08da142"
      },
      "source": [
        "y_train.shape"
      ],
      "execution_count": 19,
      "outputs": [
        {
          "output_type": "execute_result",
          "data": {
            "text/plain": [
              "(40000, 10)"
            ]
          },
          "metadata": {
            "tags": []
          },
          "execution_count": 19
        }
      ]
    },
    {
      "cell_type": "code",
      "metadata": {
        "colab": {
          "base_uri": "https://localhost:8080/"
        },
        "id": "nyTwkYZICODA",
        "outputId": "bc72a7bf-f240-434c-e25f-4bc6da20c39a"
      },
      "source": [
        "y_test.shape"
      ],
      "execution_count": 20,
      "outputs": [
        {
          "output_type": "execute_result",
          "data": {
            "text/plain": [
              "(10000, 10)"
            ]
          },
          "metadata": {
            "tags": []
          },
          "execution_count": 20
        }
      ]
    },
    {
      "cell_type": "code",
      "metadata": {
        "colab": {
          "base_uri": "https://localhost:8080/"
        },
        "id": "CcpoA1-D_yXy",
        "outputId": "5a7df6b8-0c42-42e4-ed3c-38d3764b38cf"
      },
      "source": [
        "model.fit(X_train,y_train,epochs = 20,validation_data =(X_test, y_test))"
      ],
      "execution_count": 21,
      "outputs": [
        {
          "output_type": "stream",
          "text": [
            "Epoch 1/20\n",
            "1250/1250 [==============================] - 143s 114ms/step - loss: 7.0331 - accuracy: 0.1000 - val_loss: 2.3031 - val_accuracy: 0.0973\n",
            "Epoch 2/20\n",
            "1250/1250 [==============================] - 142s 114ms/step - loss: 2.3028 - accuracy: 0.0979 - val_loss: 2.3031 - val_accuracy: 0.0973\n",
            "Epoch 3/20\n",
            "1250/1250 [==============================] - 142s 114ms/step - loss: 2.3028 - accuracy: 0.0990 - val_loss: 2.3028 - val_accuracy: 0.0933\n",
            "Epoch 4/20\n",
            "1250/1250 [==============================] - 142s 114ms/step - loss: 2.3027 - accuracy: 0.0967 - val_loss: 2.3031 - val_accuracy: 0.0933\n",
            "Epoch 5/20\n",
            "1250/1250 [==============================] - 143s 114ms/step - loss: 2.3037 - accuracy: 0.1010 - val_loss: 2.3029 - val_accuracy: 0.0979\n",
            "Epoch 6/20\n",
            "1250/1250 [==============================] - 142s 114ms/step - loss: 2.3027 - accuracy: 0.1015 - val_loss: 2.3028 - val_accuracy: 0.0979\n",
            "Epoch 7/20\n",
            "1250/1250 [==============================] - 143s 114ms/step - loss: 2.3051 - accuracy: 0.0998 - val_loss: 2.3031 - val_accuracy: 0.0933\n",
            "Epoch 8/20\n",
            "1250/1250 [==============================] - 142s 114ms/step - loss: 2.3027 - accuracy: 0.1009 - val_loss: 2.3028 - val_accuracy: 0.0933\n",
            "Epoch 9/20\n",
            "1250/1250 [==============================] - 143s 114ms/step - loss: 2.3027 - accuracy: 0.1021 - val_loss: 2.3030 - val_accuracy: 0.0979\n",
            "Epoch 10/20\n",
            "1250/1250 [==============================] - 142s 114ms/step - loss: 2.3027 - accuracy: 0.1010 - val_loss: 2.3029 - val_accuracy: 0.0973\n",
            "Epoch 11/20\n",
            "1250/1250 [==============================] - 143s 114ms/step - loss: 2.3027 - accuracy: 0.0965 - val_loss: 2.3030 - val_accuracy: 0.0994\n",
            "Epoch 12/20\n",
            "1250/1250 [==============================] - 143s 114ms/step - loss: 2.3027 - accuracy: 0.1009 - val_loss: 2.3030 - val_accuracy: 0.0933\n",
            "Epoch 13/20\n",
            "1250/1250 [==============================] - 143s 114ms/step - loss: 2.3027 - accuracy: 0.0979 - val_loss: 2.3029 - val_accuracy: 0.1023\n",
            "Epoch 14/20\n",
            "1250/1250 [==============================] - 143s 114ms/step - loss: 2.3027 - accuracy: 0.0993 - val_loss: 2.3031 - val_accuracy: 0.0933\n",
            "Epoch 15/20\n",
            "1250/1250 [==============================] - 143s 114ms/step - loss: 2.3027 - accuracy: 0.1012 - val_loss: 2.3030 - val_accuracy: 0.0933\n",
            "Epoch 16/20\n",
            "1250/1250 [==============================] - 142s 114ms/step - loss: 2.3026 - accuracy: 0.1048 - val_loss: 2.3027 - val_accuracy: 0.0973\n",
            "Epoch 17/20\n",
            "1250/1250 [==============================] - 143s 114ms/step - loss: 2.3027 - accuracy: 0.1028 - val_loss: 2.3030 - val_accuracy: 0.0994\n",
            "Epoch 18/20\n",
            "1250/1250 [==============================] - 143s 114ms/step - loss: 2.3028 - accuracy: 0.0978 - val_loss: 2.3029 - val_accuracy: 0.0933\n",
            "Epoch 19/20\n",
            "1250/1250 [==============================] - 143s 114ms/step - loss: 2.3028 - accuracy: 0.0998 - val_loss: 2.3030 - val_accuracy: 0.0933\n",
            "Epoch 20/20\n",
            "1250/1250 [==============================] - 142s 114ms/step - loss: 2.3028 - accuracy: 0.1011 - val_loss: 2.3029 - val_accuracy: 0.0933\n"
          ],
          "name": "stdout"
        },
        {
          "output_type": "execute_result",
          "data": {
            "text/plain": [
              "<tensorflow.python.keras.callbacks.History at 0x7f5cb26b67d0>"
            ]
          },
          "metadata": {
            "tags": []
          },
          "execution_count": 21
        }
      ]
    },
    {
      "cell_type": "markdown",
      "metadata": {
        "id": "eFAeF4tfnb25"
      },
      "source": [
        "# GrayScale Model CNN with name model_1"
      ]
    },
    {
      "cell_type": "code",
      "metadata": {
        "id": "RcbnbfZrezx6"
      },
      "source": [
        "x_train_gs,x_test_gs,y_train_gs,y_test_gs = train_test_split(X_train_image,y_train_gs,random_state = 14,test_size = 0.2)"
      ],
      "execution_count": null,
      "outputs": []
    },
    {
      "cell_type": "code",
      "metadata": {
        "colab": {
          "base_uri": "https://localhost:8080/"
        },
        "id": "6lNnGq4vgtvB",
        "outputId": "f5deb82b-b6a9-4998-f08d-7515c8ca8492"
      },
      "source": [
        "x_train_gs.shape"
      ],
      "execution_count": null,
      "outputs": [
        {
          "output_type": "execute_result",
          "data": {
            "text/plain": [
              "(40000, 32, 32, 1)"
            ]
          },
          "metadata": {
            "tags": []
          },
          "execution_count": 68
        }
      ]
    },
    {
      "cell_type": "code",
      "metadata": {
        "colab": {
          "base_uri": "https://localhost:8080/"
        },
        "id": "oF01LC-Xgy8K",
        "outputId": "7c7bed68-60a6-4b56-d5c4-df1648d3f554"
      },
      "source": [
        "x_test_gs.shape"
      ],
      "execution_count": null,
      "outputs": [
        {
          "output_type": "execute_result",
          "data": {
            "text/plain": [
              "(10000, 32, 32, 1)"
            ]
          },
          "metadata": {
            "tags": []
          },
          "execution_count": 69
        }
      ]
    },
    {
      "cell_type": "code",
      "metadata": {
        "colab": {
          "base_uri": "https://localhost:8080/"
        },
        "id": "tC-wKI_SmPgp",
        "outputId": "2145062d-d548-4a0c-e5f0-fabbf4d9eb63"
      },
      "source": [
        "y_train_gs.shape"
      ],
      "execution_count": null,
      "outputs": [
        {
          "output_type": "execute_result",
          "data": {
            "text/plain": [
              "(40000, 10)"
            ]
          },
          "metadata": {
            "tags": []
          },
          "execution_count": 70
        }
      ]
    },
    {
      "cell_type": "code",
      "metadata": {
        "colab": {
          "base_uri": "https://localhost:8080/"
        },
        "id": "5HjyLaGEmTbE",
        "outputId": "648af7f0-7a2b-4601-8610-b821c675a3b6"
      },
      "source": [
        "y_test_gs.shape"
      ],
      "execution_count": null,
      "outputs": [
        {
          "output_type": "execute_result",
          "data": {
            "text/plain": [
              "(10000, 10)"
            ]
          },
          "metadata": {
            "tags": []
          },
          "execution_count": 71
        }
      ]
    },
    {
      "cell_type": "code",
      "metadata": {
        "id": "Q5VTbyopmjqc"
      },
      "source": [
        "model_1 = Sequential()\r\n",
        "model_1.add(Conv2D(32, kernel_size=(3, 3),activation='relu',input_shape=(32,32,1)))\r\n",
        "model_1.add(Conv2D(64, (3, 3), activation='relu'))\r\n",
        "model_1.add(MaxPooling2D(pool_size=(2, 2)))\r\n",
        "model_1.add(Dropout(0.25))\r\n",
        "model_1.add(Flatten())\r\n",
        "model_1.add(Dense(128, activation='relu'))\r\n",
        "model_1.add(Dropout(0.5))\r\n",
        "model_1.add(Dense(10, activation='softmax'))"
      ],
      "execution_count": 73,
      "outputs": []
    },
    {
      "cell_type": "code",
      "metadata": {
        "id": "95bLsrXbnOSD"
      },
      "source": [
        "model_1.compile(loss='categorical_crossentropy',optimizer='Adam',metrics=['accuracy'])"
      ],
      "execution_count": 74,
      "outputs": []
    },
    {
      "cell_type": "code",
      "metadata": {
        "colab": {
          "base_uri": "https://localhost:8080/"
        },
        "id": "n_y7CskBnqFb",
        "outputId": "daaf38c9-75af-4f08-e943-e1b93143b487"
      },
      "source": [
        "model_1.fit(x_train_gs, y_train_gs, epochs=10, validation_data=(x_test_gs, y_test_gs))"
      ],
      "execution_count": 75,
      "outputs": [
        {
          "output_type": "stream",
          "text": [
            "Epoch 1/10\n",
            "1250/1250 [==============================] - 139s 111ms/step - loss: 1.8997 - accuracy: 0.3056 - val_loss: 1.3253 - val_accuracy: 0.5447\n",
            "Epoch 2/10\n",
            "1250/1250 [==============================] - 138s 110ms/step - loss: 1.3653 - accuracy: 0.5194 - val_loss: 1.1770 - val_accuracy: 0.5968\n",
            "Epoch 3/10\n",
            "1250/1250 [==============================] - 138s 110ms/step - loss: 1.2126 - accuracy: 0.5746 - val_loss: 1.0944 - val_accuracy: 0.6213\n",
            "Epoch 4/10\n",
            "1250/1250 [==============================] - 138s 110ms/step - loss: 1.1340 - accuracy: 0.6058 - val_loss: 1.0719 - val_accuracy: 0.6286\n",
            "Epoch 5/10\n",
            "1250/1250 [==============================] - 138s 111ms/step - loss: 1.0668 - accuracy: 0.6239 - val_loss: 1.0333 - val_accuracy: 0.6389\n",
            "Epoch 6/10\n",
            "1250/1250 [==============================] - 138s 111ms/step - loss: 1.0122 - accuracy: 0.6453 - val_loss: 1.0711 - val_accuracy: 0.6336\n",
            "Epoch 7/10\n",
            "1250/1250 [==============================] - 138s 110ms/step - loss: 0.9554 - accuracy: 0.6650 - val_loss: 1.0464 - val_accuracy: 0.6440\n",
            "Epoch 8/10\n",
            "1250/1250 [==============================] - 138s 110ms/step - loss: 0.9272 - accuracy: 0.6747 - val_loss: 1.0075 - val_accuracy: 0.6550\n",
            "Epoch 9/10\n",
            "1250/1250 [==============================] - 138s 111ms/step - loss: 0.8647 - accuracy: 0.6948 - val_loss: 1.0178 - val_accuracy: 0.6548\n",
            "Epoch 10/10\n",
            "1250/1250 [==============================] - 138s 110ms/step - loss: 0.8312 - accuracy: 0.7023 - val_loss: 1.0318 - val_accuracy: 0.6552\n"
          ],
          "name": "stdout"
        },
        {
          "output_type": "execute_result",
          "data": {
            "text/plain": [
              "<tensorflow.python.keras.callbacks.History at 0x7f5caa072390>"
            ]
          },
          "metadata": {
            "tags": []
          },
          "execution_count": 75
        }
      ]
    }
  ]
}